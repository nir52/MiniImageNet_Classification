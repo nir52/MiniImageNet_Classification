{
 "cells": [
  {
   "cell_type": "code",
   "execution_count": 1,
   "metadata": {},
   "outputs": [],
   "source": [
    "import os\n",
    "import random\n",
    "import numpy as np\n",
    "import pandas as pd\n",
    "from tqdm import tqdm\n",
    "from datetime import datetime"
   ]
  },
  {
   "cell_type": "code",
   "execution_count": 2,
   "metadata": {},
   "outputs": [],
   "source": [
    "import torch\n",
    "import torch.nn as nn\n",
    "import torch.nn.functional as F\n",
    "from torch.utils.data import random_split, SubsetRandomSampler, DataLoader, Dataset, Subset\n",
    "from torchvision import datasets, transforms, models \n",
    "from torchvision.utils import make_grid\n",
    "from pytorch_lightning.callbacks.progress import TQDMProgressBar\n",
    "from pytorch_lightning.callbacks import ModelCheckpoint, EarlyStopping\n",
    "import pytorch_lightning as pl\n",
    "from pytorch_lightning.loggers import TensorBoardLogger"
   ]
  },
  {
   "cell_type": "code",
   "execution_count": 3,
   "metadata": {},
   "outputs": [],
   "source": [
    "from PIL import Image\n",
    "import matplotlib.pyplot as plt\n",
    "from sklearn.model_selection import train_test_split\n",
    "from sklearn.metrics import classification_report"
   ]
  },
  {
   "cell_type": "code",
   "execution_count": 4,
   "metadata": {},
   "outputs": [
    {
     "data": {
      "text/plain": [
       "'2.5.1'"
      ]
     },
     "execution_count": 4,
     "metadata": {},
     "output_type": "execute_result"
    }
   ],
   "source": [
    "torch.__version__"
   ]
  },
  {
   "cell_type": "code",
   "execution_count": 5,
   "metadata": {},
   "outputs": [
    {
     "data": {
      "text/plain": [
       "'2.5.1.post0'"
      ]
     },
     "execution_count": 5,
     "metadata": {},
     "output_type": "execute_result"
    }
   ],
   "source": [
    "pl.__version__"
   ]
  },
  {
   "cell_type": "code",
   "execution_count": 6,
   "metadata": {},
   "outputs": [],
   "source": [
    "# Setting dataset path\n",
    "path = \"E:\\\\mini_ImageNet\\\\archive\\\\\""
   ]
  },
  {
   "cell_type": "code",
   "execution_count": 7,
   "metadata": {},
   "outputs": [
    {
     "name": "stdout",
     "output_type": "stream",
     "text": [
      "Mean: [0.4764, 0.4491, 0.4001]\n",
      "Std: [0.2264, 0.2224, 0.2212]\n"
     ]
    }
   ],
   "source": [
    "#Using the previously calculated values (first notebook) of mean and std of the images in this dataset\n",
    "mean = [0.4764, 0.4491, 0.4001]\n",
    "std = [0.2264, 0.2224, 0.2212]\n",
    "\n",
    "print(\"Mean:\", mean)\n",
    "print(\"Std:\", std)"
   ]
  },
  {
   "cell_type": "code",
   "execution_count": null,
   "metadata": {},
   "outputs": [],
   "source": []
  },
  {
   "cell_type": "markdown",
   "metadata": {},
   "source": [
    "### Image Transforms"
   ]
  },
  {
   "cell_type": "code",
   "execution_count": 8,
   "metadata": {},
   "outputs": [],
   "source": [
    "transform=transforms.Compose([\n",
    "        transforms.Resize(224),             # resize shortest side to 224 pixels\n",
    "        transforms.CenterCrop(224),         # crop longest side to 224 pixels at center\n",
    "        transforms.ToTensor(),\n",
    "        transforms.Normalize(mean, std),\n",
    "    \n",
    "        transforms.RandomRotation(20),      # rotate +/- 20 degrees\n",
    "        transforms.RandomHorizontalFlip(p=0.25),  # flip 24% of images\n",
    "#         transforms.ColorJitter(brightness=0.2, contrast=0.2, saturation=0.2),  \n",
    "        transforms.RandomAffine(degrees=0, translate=(0.2, 0.2), scale=(0.8, 1.2)),\n",
    "        transforms.RandomApply([transforms.ColorJitter(brightness=0.2, contrast=0.2, \n",
    "                                                       saturation=0.2)], p=0.5), # jitters by +/- given value\n",
    "        transforms.RandomApply([transforms.GaussianBlur(kernel_size=3, sigma=(0.1, 0.7))], p=0.3)\n",
    "    ])\n",
    "#https://docs.pytorch.org/vision/main/transforms.html"
   ]
  },
  {
   "cell_type": "code",
   "execution_count": 9,
   "metadata": {},
   "outputs": [],
   "source": [
    "#Getting class names from the folder names of images\n",
    "class_names=sorted(os.listdir(path))\n",
    "class_names = ['_'.join(c.split('_')[:-1]) for c in class_names]"
   ]
  },
  {
   "cell_type": "markdown",
   "metadata": {},
   "source": [
    "### Data Module"
   ]
  },
  {
   "cell_type": "code",
   "execution_count": 10,
   "metadata": {},
   "outputs": [],
   "source": [
    "class DataModule(pl.LightningDataModule):\n",
    "    \n",
    "    def __init__(self, batch_size:int=32, num_workers:int=10, transform=transform):\n",
    "        super().__init__()\n",
    "        # self.root_dir = \"/kaggle/input/miniimagenet\"\n",
    "        self.root_dir = path\n",
    "        self.transform = transform\n",
    "        self.batch_size = batch_size\n",
    "        self.num_w = num_workers\n",
    "\n",
    "    def setup(self, stage=None):\n",
    "        dataset = datasets.ImageFolder(root=self.root_dir, transform=self.transform)\n",
    "        n_data = len(dataset)\n",
    "        n_train = int(0.7 * n_data)\n",
    "        n_valid = int(0.2 * n_data)\n",
    "        n_test = n_data - n_train - n_valid\n",
    "        \n",
    "        self.train_dataset, self.val_dataset, self.test_dataset = torch.utils.data.random_split(dataset, [n_train, n_valid, n_test])\n",
    "        \n",
    "    \n",
    "    def train_dataloader(self):\n",
    "        return DataLoader(self.train_dataset, batch_size=self.batch_size, shuffle=True, \n",
    "                  num_workers=self.num_w, persistent_workers=True)\n",
    "    \n",
    "    def val_dataloader(self):\n",
    "        return DataLoader(self.val_dataset, batch_size=self.batch_size, \n",
    "                  num_workers=self.num_w, persistent_workers=True)\n",
    "    \n",
    "    def test_dataloader(self):\n",
    "        return DataLoader(self.test_dataset, batch_size=self.batch_size, \n",
    "                  num_workers=self.num_w, persistent_workers=True)\n",
    "        "
   ]
  },
  {
   "cell_type": "markdown",
   "metadata": {},
   "source": [
    "### CNN Classifier"
   ]
  },
  {
   "cell_type": "code",
   "execution_count": 19,
   "metadata": {},
   "outputs": [],
   "source": [
    "class ConvolutionalNetwork(pl.LightningModule):\n",
    "    \n",
    "    def __init__(self, class_labels, numChannels:int=3):\n",
    "        super(ConvolutionalNetwork, self).__init__()\n",
    "        \n",
    "        #Initializing variable to collect grad norms \n",
    "        self._grad_norms = {}\n",
    "        \n",
    "        ##Initializing channel sizes for different layers\n",
    "        \n",
    "        self.conv1_out_channels = 16\n",
    "        self.conv2_out_channels = 32\n",
    "        self.conv3_out_channels = 64\n",
    "        self.conv4_out_channels = 96\n",
    "        \n",
    "        self.fc1_out_features = 512\n",
    "        self.fc2_out_features = 256\n",
    "        self.fc3_out_features = 128\n",
    "        self.fc4_out_features = len(class_labels)\n",
    "        \n",
    "        #Initializing lists to store train and val accuracies and losses\n",
    "        self.training_accuracies = []\n",
    "        self.validation_accuracies = []\n",
    "        self.training_losses = []\n",
    "        self.validation_losses = []\n",
    "\n",
    "\n",
    "        #First conv layer block\n",
    "        self.conv1 = nn.Conv2d(in_channels=numChannels, out_channels=self.conv1_out_channels, \n",
    "                               kernel_size=3, stride=1, padding=1)\n",
    "        self.bn1 = nn.BatchNorm2d(self.conv1_out_channels)\n",
    "        self.act1 = nn.LeakyReLU(0.05)          #also try leaky relu\n",
    "        self.pool1 = nn.MaxPool2d(kernel_size=2, stride=2)\n",
    "        \n",
    "        \n",
    "        #Second conv layer block\n",
    "        self.conv2 = nn.Conv2d(in_channels=self.conv1_out_channels, out_channels=self.conv2_out_channels, \n",
    "                               kernel_size=3, stride=1, padding=1)\n",
    "        self.bn2 = nn.BatchNorm2d(self.conv2_out_channels)\n",
    "        self.act2 = nn.LeakyReLU(0.05)\n",
    "        self.pool2 = nn.MaxPool2d(kernel_size=2, stride=2)\n",
    "        \n",
    "        \n",
    "        #Third conv layer block\n",
    "        self.conv3 = nn.Conv2d(in_channels=self.conv2_out_channels, out_channels=self.conv3_out_channels, \n",
    "                               kernel_size=3, stride=1, padding=1)\n",
    "        self.bn3 = nn.BatchNorm2d(self.conv3_out_channels)\n",
    "        self.act3 = nn.LeakyReLU(0.05)\n",
    "        self.pool3 = nn.MaxPool2d(kernel_size=2, stride=2)\n",
    "        \n",
    "        \n",
    "        #Fourth conv layer block\n",
    "        self.conv4 = nn.Conv2d(in_channels=self.conv3_out_channels, out_channels=self.conv4_out_channels, \n",
    "                               kernel_size=3, stride=1, padding=1)\n",
    "        self.bn4 = nn.BatchNorm2d(self.conv4_out_channels)\n",
    "        self.act4 = nn.LeakyReLU(0.05)\n",
    "        self.pool4 = nn.MaxPool2d(kernel_size=2, stride=2)\n",
    "        \n",
    "        \n",
    "        # Flatten\n",
    "        self.flatten = nn.Flatten()\n",
    "        \n",
    "        #Fully connected layers\n",
    "        self.fc1 = nn.LazyLinear(self.fc1_out_features)    #try bias=True ?\n",
    "        self.dropout1 = nn.Dropout(0.5)\n",
    "        self.act_fc1 = nn.LeakyReLU(0.05)\n",
    "        \n",
    "        self.fc2 = nn.Linear(in_features=self.fc1_out_features, out_features=self.fc2_out_features)\n",
    "        self.dropout2 = nn.Dropout(0.3)\n",
    "        self.act_fc2 = nn.LeakyReLU(0.05)\n",
    "        \n",
    "        self.fc3 = nn.Linear(in_features=self.fc2_out_features, out_features=self.fc3_out_features)\n",
    "        self.dropout3 = nn.Dropout(0.3)\n",
    "        self.act_fc3 = nn.LeakyReLU(0.05)\n",
    "        \n",
    "        self.fc4 = nn.Linear(in_features=self.fc3_out_features, out_features=self.fc4_out_features)\n",
    "        self.output_activation  = nn.LogSoftmax(dim=1)\n",
    "        \n",
    "    # convolution output size formula: https://i.sstatic.net/vD1u3.png\n",
    "    \n",
    "    \n",
    "    def forward(self, x):\n",
    "        x = self.act1(self.bn1(self.conv1(x)))\n",
    "        x = self.pool1(x)\n",
    "        x = self.act2(self.bn2(self.conv2(x)))\n",
    "        x = self.pool2(x)\n",
    "        x = self.act3(self.bn3(self.conv3(x)))\n",
    "        x = self.pool3(x)\n",
    "        x = self.act4(self.bn4(self.conv4(x)))\n",
    "        x = self.pool4(x)\n",
    "        \n",
    "        x = self.flatten(x)\n",
    "        \n",
    "        x = self.dropout1(self.act_fc1(self.fc1(x)))\n",
    "        x = self.dropout2(self.act_fc2(self.fc2(x)))\n",
    "        x = self.dropout3(self.act_fc2(self.fc3(x)))\n",
    "        x = self.output_activation(self.fc4(x))\n",
    "        \n",
    "        return x\n",
    "\n",
    "    \n",
    "    def configure_optimizers(self):\n",
    "        optimizer = torch.optim.Adam(self.parameters(), lr=0.001, weight_decay=1e-4)\n",
    "        scheduler = torch.optim.lr_scheduler.CosineAnnealingLR(\n",
    "            optimizer,\n",
    "            T_max=self.trainer.max_epochs,  # or specify manually\n",
    "            eta_min=1e-5                    # minimum LR at end of schedule\n",
    "        )\n",
    "        return {\n",
    "            \"optimizer\": optimizer,\n",
    "            \"lr_scheduler\": {\n",
    "                \"scheduler\": scheduler,\n",
    "                \"interval\": \"epoch\",       # step every epoch\n",
    "                \"monitor\": \"val_loss\",     # not needed for CosineAnnealingLR, but OK to include\n",
    "            },\n",
    "        }\n",
    "    \n",
    "\n",
    "    def training_step(self, train_batch, batch_idx):\n",
    "        X, y = train_batch\n",
    "        y_hat = self(X)\n",
    "        loss = F.cross_entropy(y_hat, y)\n",
    "        pred = y_hat.argmax(dim=1, keepdim=True)\n",
    "        acc = (pred.squeeze() == y).float().mean()\n",
    "        self.log(\"train_loss\", loss, on_step=False, on_epoch=True, prog_bar=False)\n",
    "        self.log(\"train_acc\", acc, on_step=False, on_epoch=True, prog_bar=False)\n",
    "        return loss\n",
    "    \n",
    "    \n",
    "    def validation_step(self, val_batch, batch_idx):\n",
    "        X, y = val_batch\n",
    "        y_hat = self(X)\n",
    "        loss = F.cross_entropy(y_hat, y)\n",
    "        pred = y_hat.argmax(dim=1, keepdim=True)\n",
    "        acc = (pred.squeeze() == y).float().mean()\n",
    "        self.log(\"val_loss\", loss, on_step=False, on_epoch=True, prog_bar=False)\n",
    "        self.log(\"val_acc\", acc, on_step=False, on_epoch=True, prog_bar=False)\n",
    "        \n",
    "\n",
    "    def test_step(self, test_batch, batch_idx):\n",
    "        X, y = test_batch\n",
    "        y_hat = self(X)\n",
    "        loss = F.cross_entropy(y_hat, y)\n",
    "        pred = y_hat.argmax(dim=1, keepdim=True)\n",
    "        acc = pred.eq(y.view_as(pred)).sum().item() / y.shape[0]\n",
    "        self.log(\"test_loss\", loss)\n",
    "        self.log(\"test_acc\", acc)\n",
    "        \n",
    "        \n",
    "    def on_train_epoch_end(self):\n",
    "        train_acc = self.trainer.callback_metrics.get(\"train_acc\")\n",
    "        train_loss = self.trainer.callback_metrics.get(\"train_loss\")\n",
    "        if train_acc is not None:\n",
    "            self.training_accuracies.append(train_acc.item())\n",
    "        if train_loss is not None:\n",
    "            self.training_losses.append(train_loss.item())\n",
    "        print(f\"\\nTrain - After Epoch {self.current_epoch}: loss={train_loss:.3f}, acc={train_acc:.3f}\")\n",
    "        for param_group in self.trainer.optimizers[0].param_groups:\n",
    "            print(f\"Learning rate after epoch {self.current_epoch}: {param_group['lr']}\")\n",
    "        \n",
    "        #Calculating average grad norms\n",
    "        vanished_count = 0\n",
    "        exploded_count = 0\n",
    "        total_layers = len(self._grad_norms)\n",
    "\n",
    "        for name, norms in self._grad_norms.items():\n",
    "            avg_norm = sum(norms) / len(norms)\n",
    "\n",
    "            # Log to TensorBoard\n",
    "            self.logger.experiment.add_scalar(f\"grad_norm_epoch_avg/{name}\", avg_norm, self.current_epoch)\n",
    "\n",
    "            # Stats\n",
    "            if avg_norm < 1e-6:\n",
    "                vanished_count += 1\n",
    "            elif avg_norm > 100:\n",
    "                exploded_count += 1\n",
    "\n",
    "        # Log total stats\n",
    "        self.log(\"grad_stats/total_layers\", total_layers, on_epoch=True)\n",
    "        self.log(\"grad_stats/vanished\", vanished_count, on_epoch=True)\n",
    "        self.log(\"grad_stats/exploded\", exploded_count, on_epoch=True)\n",
    "\n",
    "        print(f\"[Epoch {self.current_epoch}] Grad Norms — Total: {total_layers}, Vanished: {vanished_count}, Exploded: {exploded_count}\")\n",
    "\n",
    "        # Reset buffer\n",
    "        self._grad_norms.clear()\n",
    "    \n",
    "\n",
    "    def on_validation_epoch_end(self):\n",
    "        val_loss = self.trainer.callback_metrics.get(\"val_loss\")\n",
    "        val_acc = self.trainer.callback_metrics.get(\"val_acc\")\n",
    "        if val_acc is not None:\n",
    "            self.validation_accuracies.append(val_acc.item())\n",
    "        if val_loss is not None:\n",
    "            self.validation_losses.append(val_loss.item())\n",
    "        print(f\"\\nVal - After Epoch {self.current_epoch}: loss={val_loss:.3f}, acc={val_acc:.3f}\")\n",
    "    \n",
    "    \n",
    "    def on_train_batch_end(self, outputs, batch, batch_idx, dataloader_idx=0):\n",
    "        for name, param in self.named_parameters():\n",
    "            if param.grad is not None:\n",
    "                norm = param.grad.norm().item()\n",
    "                if name not in self._grad_norms:\n",
    "                    self._grad_norms[name] = []\n",
    "                self._grad_norms[name].append(norm)\n"
   ]
  },
  {
   "cell_type": "code",
   "execution_count": 20,
   "metadata": {},
   "outputs": [],
   "source": [
    "#Removing the Validation DataLoader progress bar between epochs\n",
    "class MinimalProgressBar(TQDMProgressBar):\n",
    "    def init_validation_tqdm(self):\n",
    "        # Return a dummy tqdm with no visible output to disable validation progress bar\n",
    "        # Set total=0 to avoid progress display\n",
    "        return tqdm(disable=True)\n",
    "\n",
    "    def init_test_tqdm(self):\n",
    "        # Same for test dataloader\n",
    "        return tqdm(disable=True)\n",
    "    "
   ]
  },
  {
   "cell_type": "code",
   "execution_count": 21,
   "metadata": {},
   "outputs": [],
   "source": [
    "#Setting seed to fetch the same training data every time\n",
    "timestamp = datetime.now().strftime(format=\"%Y-%m-%d_%H-%M-%S\")"
   ]
  },
  {
   "cell_type": "code",
   "execution_count": 22,
   "metadata": {},
   "outputs": [],
   "source": [
    "#Configuring model checkpointing:\n",
    "checkpoint_callback = ModelCheckpoint(\n",
    "    dirpath=f\"checkpoints\\\\{timestamp}\",                   # Folder to save checkpoints\n",
    "    filename=f\"epoch{{epoch:02d}}-val_loss{{val_loss:.2f}}\", \n",
    "    save_top_k=2,                             \n",
    "    monitor=\"val_loss\",                       # Metric to track best model\n",
    "    mode=\"min\",                               \n",
    "    save_weights_only=False                  # Save full model\n",
    ")"
   ]
  },
  {
   "cell_type": "code",
   "execution_count": 23,
   "metadata": {},
   "outputs": [],
   "source": [
    "#Configuring early stopping callback\n",
    "early_stop_callback = EarlyStopping(\n",
    "    monitor=\"val_loss\",     # or \"val_acc\"\n",
    "    patience=5,             # number of epochs to wait with no improvement\n",
    "    mode=\"min\",             # \"min\" for loss, \"max\" for accuracy\n",
    "    verbose=True\n",
    ")"
   ]
  },
  {
   "cell_type": "code",
   "execution_count": 24,
   "metadata": {},
   "outputs": [],
   "source": [
    "# Create logger\n",
    "logger = TensorBoardLogger(\"tensorboard_logs\", name=\"miniimagenet_cnn\")"
   ]
  },
  {
   "cell_type": "code",
   "execution_count": 25,
   "metadata": {},
   "outputs": [
    {
     "name": "stderr",
     "output_type": "stream",
     "text": [
      "Seed set to 42\n"
     ]
    },
    {
     "data": {
      "text/plain": [
       "42"
      ]
     },
     "execution_count": 25,
     "metadata": {},
     "output_type": "execute_result"
    }
   ],
   "source": [
    "#Setting seed to fetch the same training data every time\n",
    "pl.seed_everything(42, workers=True)  # `workers=True` ensures worker-level reproducibility"
   ]
  },
  {
   "cell_type": "markdown",
   "metadata": {},
   "source": [
    "### Model Training"
   ]
  },
  {
   "cell_type": "code",
   "execution_count": 26,
   "metadata": {},
   "outputs": [
    {
     "name": "stderr",
     "output_type": "stream",
     "text": [
      "GPU available: True (cuda), used: True\n",
      "TPU available: False, using: 0 TPU cores\n",
      "HPU available: False, using: 0 HPUs\n",
      "LOCAL_RANK: 0 - CUDA_VISIBLE_DEVICES: [0]\n",
      "C:\\ProgramData\\Anaconda3\\envs\\torch_gpu_env\\lib\\site-packages\\pytorch_lightning\\utilities\\model_summary\\model_summary.py:477: The total number of parameters detected may be inaccurate because the model contains an instance of `UninitializedParameter`. To get an accurate number, set `self.example_input_array` in your LightningModule.\n",
      "\n",
      "   | Name              | Type        | Params | Mode \n",
      "-----------------------------------------------------------\n",
      "0  | conv1             | Conv2d      | 448    | train\n",
      "1  | bn1               | BatchNorm2d | 32     | train\n",
      "2  | act1              | LeakyReLU   | 0      | train\n",
      "3  | pool1             | MaxPool2d   | 0      | train\n",
      "4  | conv2             | Conv2d      | 4.6 K  | train\n",
      "5  | bn2               | BatchNorm2d | 64     | train\n",
      "6  | act2              | LeakyReLU   | 0      | train\n",
      "7  | pool2             | MaxPool2d   | 0      | train\n",
      "8  | conv3             | Conv2d      | 18.5 K | train\n",
      "9  | bn3               | BatchNorm2d | 128    | train\n",
      "10 | act3              | LeakyReLU   | 0      | train\n",
      "11 | pool3             | MaxPool2d   | 0      | train\n",
      "12 | conv4             | Conv2d      | 55.4 K | train\n",
      "13 | bn4               | BatchNorm2d | 192    | train\n",
      "14 | act4              | LeakyReLU   | 0      | train\n",
      "15 | pool4             | MaxPool2d   | 0      | train\n",
      "16 | flatten           | Flatten     | 0      | train\n",
      "17 | fc1               | LazyLinear  | 0      | train\n",
      "18 | dropout1          | Dropout     | 0      | train\n",
      "19 | act_fc1           | LeakyReLU   | 0      | train\n",
      "20 | fc2               | Linear      | 131 K  | train\n",
      "21 | dropout2          | Dropout     | 0      | train\n",
      "22 | act_fc2           | LeakyReLU   | 0      | train\n",
      "23 | fc3               | Linear      | 32.9 K | train\n",
      "24 | dropout3          | Dropout     | 0      | train\n",
      "25 | act_fc3           | LeakyReLU   | 0      | train\n",
      "26 | fc4               | Linear      | 6.5 K  | train\n",
      "27 | output_activation | LogSoftmax  | 0      | train\n",
      "-----------------------------------------------------------\n",
      "250 K     Trainable params\n",
      "0         Non-trainable params\n",
      "250 K     Total params\n",
      "1.000     Total estimated model params size (MB)\n",
      "28        Modules in train mode\n",
      "0         Modules in eval mode\n"
     ]
    },
    {
     "name": "stdout",
     "output_type": "stream",
     "text": [
      "Sanity Checking DataLoader 0: 100%|██████████████████████████████████████████████████████| 2/2 [00:00<00:00,  2.27it/s]\n",
      "Val - After Epoch 0: loss=3.908, acc=0.031\n",
      "Epoch 0: 100%|██████████████████████████████████████████████████████████████| 165/165 [01:18<00:00,  2.11it/s, v_num=5]\n",
      "Val - After Epoch 0: loss=3.547, acc=0.084\n",
      "Epoch 0: 100%|██████████████████████████████████████████████████████████████| 165/165 [01:39<00:00,  1.66it/s, v_num=5]"
     ]
    },
    {
     "name": "stderr",
     "output_type": "stream",
     "text": [
      "Metric val_loss improved. New best score: 3.547\n"
     ]
    },
    {
     "name": "stdout",
     "output_type": "stream",
     "text": [
      "\n",
      "Train - After Epoch 0: loss=3.782, acc=0.055\n",
      "Learning rate after epoch 0: 0.0009972883382072953\n",
      "[Epoch 0] Grad Norms — Total: 24, Vanished: 4, Exploded: 0\n",
      "Epoch 1: 100%|██████████████████████████████████████████████████████████████| 165/165 [01:21<00:00,  2.02it/s, v_num=5]\n",
      "Val - After Epoch 1: loss=3.422, acc=0.112\n",
      "Epoch 1: 100%|██████████████████████████████████████████████████████████████| 165/165 [01:44<00:00,  1.58it/s, v_num=5]"
     ]
    },
    {
     "name": "stderr",
     "output_type": "stream",
     "text": [
      "Metric val_loss improved by 0.125 >= min_delta = 0.0. New best score: 3.422\n"
     ]
    },
    {
     "name": "stdout",
     "output_type": "stream",
     "text": [
      "\n",
      "Train - After Epoch 1: loss=3.555, acc=0.093\n",
      "Learning rate after epoch 1: 0.0009891830623632338\n",
      "[Epoch 1] Grad Norms — Total: 24, Vanished: 4, Exploded: 0\n",
      "Epoch 2: 100%|██████████████████████████████████████████████████████████████| 165/165 [01:18<00:00,  2.09it/s, v_num=5]\n",
      "Val - After Epoch 2: loss=3.339, acc=0.135\n",
      "Epoch 2: 100%|██████████████████████████████████████████████████████████████| 165/165 [01:39<00:00,  1.65it/s, v_num=5]"
     ]
    },
    {
     "name": "stderr",
     "output_type": "stream",
     "text": [
      "Metric val_loss improved by 0.083 >= min_delta = 0.0. New best score: 3.339\n"
     ]
    },
    {
     "name": "stdout",
     "output_type": "stream",
     "text": [
      "\n",
      "Train - After Epoch 2: loss=3.450, acc=0.110\n",
      "Learning rate after epoch 2: 0.0009757729755661011\n",
      "[Epoch 2] Grad Norms — Total: 24, Vanished: 4, Exploded: 0\n",
      "Epoch 3: 100%|██████████████████████████████████████████████████████████████| 165/165 [01:17<00:00,  2.12it/s, v_num=5]\n",
      "Val - After Epoch 3: loss=3.251, acc=0.155\n",
      "Epoch 3: 100%|██████████████████████████████████████████████████████████████| 165/165 [01:40<00:00,  1.64it/s, v_num=5]"
     ]
    },
    {
     "name": "stderr",
     "output_type": "stream",
     "text": [
      "Metric val_loss improved by 0.089 >= min_delta = 0.0. New best score: 3.251\n"
     ]
    },
    {
     "name": "stdout",
     "output_type": "stream",
     "text": [
      "\n",
      "Train - After Epoch 3: loss=3.381, acc=0.128\n",
      "Learning rate after epoch 3: 0.0009572050015330874\n",
      "[Epoch 3] Grad Norms — Total: 24, Vanished: 4, Exploded: 0\n",
      "Epoch 4: 100%|██████████████████████████████████████████████████████████████| 165/165 [01:13<00:00,  2.26it/s, v_num=5]\n",
      "Val - After Epoch 4: loss=3.175, acc=0.173\n",
      "Epoch 4: 100%|██████████████████████████████████████████████████████████████| 165/165 [01:35<00:00,  1.74it/s, v_num=5]"
     ]
    },
    {
     "name": "stderr",
     "output_type": "stream",
     "text": [
      "Metric val_loss improved by 0.075 >= min_delta = 0.0. New best score: 3.175\n"
     ]
    },
    {
     "name": "stdout",
     "output_type": "stream",
     "text": [
      "\n",
      "Train - After Epoch 4: loss=3.315, acc=0.137\n",
      "Learning rate after epoch 4: 0.0009336825748732973\n",
      "[Epoch 4] Grad Norms — Total: 24, Vanished: 4, Exploded: 0\n",
      "Epoch 5: 100%|██████████████████████████████████████████████████████████████| 165/165 [01:15<00:00,  2.19it/s, v_num=5]\n",
      "Val - After Epoch 5: loss=3.119, acc=0.184\n",
      "Epoch 5: 100%|██████████████████████████████████████████████████████████████| 165/165 [01:36<00:00,  1.71it/s, v_num=5]"
     ]
    },
    {
     "name": "stderr",
     "output_type": "stream",
     "text": [
      "Metric val_loss improved by 0.057 >= min_delta = 0.0. New best score: 3.119\n"
     ]
    },
    {
     "name": "stdout",
     "output_type": "stream",
     "text": [
      "\n",
      "Train - After Epoch 5: loss=3.252, acc=0.151\n",
      "Learning rate after epoch 5: 0.0009054634122155991\n",
      "[Epoch 5] Grad Norms — Total: 24, Vanished: 4, Exploded: 0\n",
      "Epoch 6: 100%|██████████████████████████████████████████████████████████████| 165/165 [01:15<00:00,  2.19it/s, v_num=5]\n",
      "Val - After Epoch 6: loss=3.067, acc=0.196\n",
      "Epoch 6: 100%|██████████████████████████████████████████████████████████████| 165/165 [01:36<00:00,  1.71it/s, v_num=5]"
     ]
    },
    {
     "name": "stderr",
     "output_type": "stream",
     "text": [
      "Metric val_loss improved by 0.052 >= min_delta = 0.0. New best score: 3.067\n"
     ]
    },
    {
     "name": "stdout",
     "output_type": "stream",
     "text": [
      "\n",
      "Train - After Epoch 6: loss=3.191, acc=0.166\n",
      "Learning rate after epoch 6: 0.0008728566886113102\n",
      "[Epoch 6] Grad Norms — Total: 24, Vanished: 4, Exploded: 0\n",
      "Epoch 7: 100%|██████████████████████████████████████████████████████████████| 165/165 [01:21<00:00,  2.01it/s, v_num=5]\n",
      "Val - After Epoch 7: loss=2.999, acc=0.212\n",
      "Epoch 7: 100%|██████████████████████████████████████████████████████████████| 165/165 [01:44<00:00,  1.58it/s, v_num=5]"
     ]
    },
    {
     "name": "stderr",
     "output_type": "stream",
     "text": [
      "Metric val_loss improved by 0.069 >= min_delta = 0.0. New best score: 2.999\n"
     ]
    },
    {
     "name": "stdout",
     "output_type": "stream",
     "text": [
      "\n",
      "Train - After Epoch 7: loss=3.150, acc=0.183\n",
      "Learning rate after epoch 7: 0.0008362196501476349\n",
      "[Epoch 7] Grad Norms — Total: 24, Vanished: 4, Exploded: 0\n",
      "Epoch 8: 100%|██████████████████████████████████████████████████████████████| 165/165 [01:18<00:00,  2.10it/s, v_num=5]\n",
      "Val - After Epoch 8: loss=3.002, acc=0.214\n",
      "Epoch 8: 100%|██████████████████████████████████████████████████████████████| 165/165 [01:41<00:00,  1.63it/s, v_num=5]\n",
      "Train - After Epoch 8: loss=3.079, acc=0.192\n",
      "Learning rate after epoch 8: 0.0007959536998847742\n",
      "[Epoch 8] Grad Norms — Total: 24, Vanished: 3, Exploded: 0\n",
      "Epoch 9: 100%|██████████████████████████████████████████████████████████████| 165/165 [01:20<00:00,  2.06it/s, v_num=5]\n",
      "Val - After Epoch 9: loss=2.909, acc=0.237\n",
      "Epoch 9: 100%|██████████████████████████████████████████████████████████████| 165/165 [01:42<00:00,  1.61it/s, v_num=5]"
     ]
    },
    {
     "name": "stderr",
     "output_type": "stream",
     "text": [
      "Metric val_loss improved by 0.090 >= min_delta = 0.0. New best score: 2.909\n"
     ]
    },
    {
     "name": "stdout",
     "output_type": "stream",
     "text": [
      "\n",
      "Train - After Epoch 9: loss=3.023, acc=0.209\n",
      "Learning rate after epoch 9: 0.0007525\n",
      "[Epoch 9] Grad Norms — Total: 24, Vanished: 3, Exploded: 0\n",
      "Epoch 10: 100%|█████████████████████████████████████████████████████████████| 165/165 [01:18<00:00,  2.10it/s, v_num=5]\n",
      "Val - After Epoch 10: loss=2.853, acc=0.244\n",
      "Epoch 10: 100%|█████████████████████████████████████████████████████████████| 165/165 [01:41<00:00,  1.62it/s, v_num=5]"
     ]
    },
    {
     "name": "stderr",
     "output_type": "stream",
     "text": [
      "Metric val_loss improved by 0.056 >= min_delta = 0.0. New best score: 2.853\n"
     ]
    },
    {
     "name": "stdout",
     "output_type": "stream",
     "text": [
      "\n",
      "Train - After Epoch 10: loss=2.990, acc=0.217\n",
      "Learning rate after epoch 10: 0.0007063346383225212\n",
      "[Epoch 10] Grad Norms — Total: 24, Vanished: 3, Exploded: 0\n",
      "Epoch 11: 100%|█████████████████████████████████████████████████████████████| 165/165 [01:20<00:00,  2.04it/s, v_num=5]\n",
      "Val - After Epoch 11: loss=2.835, acc=0.250\n",
      "Epoch 11: 100%|█████████████████████████████████████████████████████████████| 165/165 [01:42<00:00,  1.60it/s, v_num=5]"
     ]
    },
    {
     "name": "stderr",
     "output_type": "stream",
     "text": [
      "Metric val_loss improved by 0.018 >= min_delta = 0.0. New best score: 2.835\n"
     ]
    },
    {
     "name": "stdout",
     "output_type": "stream",
     "text": [
      "\n",
      "Train - After Epoch 11: loss=2.941, acc=0.225\n",
      "Learning rate after epoch 11: 0.000657963412215599\n",
      "[Epoch 11] Grad Norms — Total: 24, Vanished: 3, Exploded: 0\n",
      "Epoch 12: 100%|█████████████████████████████████████████████████████████████| 165/165 [01:16<00:00,  2.16it/s, v_num=5]\n",
      "Val - After Epoch 12: loss=2.813, acc=0.262\n",
      "Epoch 12: 100%|█████████████████████████████████████████████████████████████| 165/165 [01:38<00:00,  1.68it/s, v_num=5]"
     ]
    },
    {
     "name": "stderr",
     "output_type": "stream",
     "text": [
      "Metric val_loss improved by 0.023 >= min_delta = 0.0. New best score: 2.813\n"
     ]
    },
    {
     "name": "stdout",
     "output_type": "stream",
     "text": [
      "\n",
      "Train - After Epoch 12: loss=2.887, acc=0.235\n",
      "Learning rate after epoch 12: 0.0006079162869547909\n",
      "[Epoch 12] Grad Norms — Total: 24, Vanished: 3, Exploded: 0\n",
      "Epoch 13: 100%|█████████████████████████████████████████████████████████████| 165/165 [01:16<00:00,  2.15it/s, v_num=5]\n",
      "Val - After Epoch 13: loss=2.741, acc=0.276\n",
      "Epoch 13: 100%|█████████████████████████████████████████████████████████████| 165/165 [01:39<00:00,  1.66it/s, v_num=5]"
     ]
    },
    {
     "name": "stderr",
     "output_type": "stream",
     "text": [
      "Metric val_loss improved by 0.072 >= min_delta = 0.0. New best score: 2.741\n"
     ]
    },
    {
     "name": "stdout",
     "output_type": "stream",
     "text": [
      "\n",
      "Train - After Epoch 13: loss=2.848, acc=0.245\n",
      "Learning rate after epoch 13: 0.0005567415893174886\n",
      "[Epoch 13] Grad Norms — Total: 24, Vanished: 3, Exploded: 0\n",
      "Epoch 14: 100%|█████████████████████████████████████████████████████████████| 165/165 [01:14<00:00,  2.22it/s, v_num=5]\n",
      "Val - After Epoch 14: loss=2.731, acc=0.278\n",
      "Epoch 14: 100%|█████████████████████████████████████████████████████████████| 165/165 [01:36<00:00,  1.71it/s, v_num=5]"
     ]
    },
    {
     "name": "stderr",
     "output_type": "stream",
     "text": [
      "Metric val_loss improved by 0.010 >= min_delta = 0.0. New best score: 2.731\n"
     ]
    },
    {
     "name": "stdout",
     "output_type": "stream",
     "text": [
      "\n",
      "Train - After Epoch 14: loss=2.822, acc=0.251\n",
      "Learning rate after epoch 14: 0.0005050000000000002\n",
      "[Epoch 14] Grad Norms — Total: 24, Vanished: 3, Exploded: 0\n",
      "Epoch 15: 100%|█████████████████████████████████████████████████████████████| 165/165 [01:19<00:00,  2.07it/s, v_num=5]\n",
      "Val - After Epoch 15: loss=2.653, acc=0.295\n",
      "Epoch 15: 100%|█████████████████████████████████████████████████████████████| 165/165 [01:42<00:00,  1.61it/s, v_num=5]"
     ]
    },
    {
     "name": "stderr",
     "output_type": "stream",
     "text": [
      "Metric val_loss improved by 0.078 >= min_delta = 0.0. New best score: 2.653\n"
     ]
    },
    {
     "name": "stdout",
     "output_type": "stream",
     "text": [
      "\n",
      "Train - After Epoch 15: loss=2.781, acc=0.261\n",
      "Learning rate after epoch 15: 0.0004532584106825117\n",
      "[Epoch 15] Grad Norms — Total: 24, Vanished: 3, Exploded: 0\n",
      "Epoch 16: 100%|█████████████████████████████████████████████████████████████| 165/165 [01:20<00:00,  2.04it/s, v_num=5]\n",
      "Val - After Epoch 16: loss=2.603, acc=0.306\n",
      "Epoch 16: 100%|█████████████████████████████████████████████████████████████| 165/165 [01:43<00:00,  1.59it/s, v_num=5]"
     ]
    },
    {
     "name": "stderr",
     "output_type": "stream",
     "text": [
      "Metric val_loss improved by 0.050 >= min_delta = 0.0. New best score: 2.603\n"
     ]
    },
    {
     "name": "stdout",
     "output_type": "stream",
     "text": [
      "\n",
      "Train - After Epoch 16: loss=2.746, acc=0.272\n",
      "Learning rate after epoch 16: 0.00040208371304520916\n",
      "[Epoch 16] Grad Norms — Total: 24, Vanished: 3, Exploded: 0\n",
      "Epoch 17: 100%|█████████████████████████████████████████████████████████████| 165/165 [01:19<00:00,  2.06it/s, v_num=5]\n",
      "Val - After Epoch 17: loss=2.579, acc=0.311\n",
      "Epoch 17: 100%|█████████████████████████████████████████████████████████████| 165/165 [01:42<00:00,  1.60it/s, v_num=5]"
     ]
    },
    {
     "name": "stderr",
     "output_type": "stream",
     "text": [
      "Metric val_loss improved by 0.024 >= min_delta = 0.0. New best score: 2.579\n"
     ]
    },
    {
     "name": "stdout",
     "output_type": "stream",
     "text": [
      "\n",
      "Train - After Epoch 17: loss=2.703, acc=0.278\n",
      "Learning rate after epoch 17: 0.00035203658778440114\n",
      "[Epoch 17] Grad Norms — Total: 24, Vanished: 3, Exploded: 0\n",
      "Epoch 18: 100%|█████████████████████████████████████████████████████████████| 165/165 [01:17<00:00,  2.12it/s, v_num=5]\n",
      "Val - After Epoch 18: loss=2.558, acc=0.320\n",
      "Epoch 18: 100%|█████████████████████████████████████████████████████████████| 165/165 [01:40<00:00,  1.64it/s, v_num=5]"
     ]
    },
    {
     "name": "stderr",
     "output_type": "stream",
     "text": [
      "Metric val_loss improved by 0.021 >= min_delta = 0.0. New best score: 2.558\n"
     ]
    },
    {
     "name": "stdout",
     "output_type": "stream",
     "text": [
      "\n",
      "Train - After Epoch 18: loss=2.677, acc=0.284\n",
      "Learning rate after epoch 18: 0.000303665361677479\n",
      "[Epoch 18] Grad Norms — Total: 24, Vanished: 3, Exploded: 0\n",
      "Epoch 19: 100%|█████████████████████████████████████████████████████████████| 165/165 [01:21<00:00,  2.03it/s, v_num=5]\n",
      "Val - After Epoch 19: loss=2.549, acc=0.315\n",
      "Epoch 19: 100%|█████████████████████████████████████████████████████████████| 165/165 [01:44<00:00,  1.58it/s, v_num=5]"
     ]
    },
    {
     "name": "stderr",
     "output_type": "stream",
     "text": [
      "Metric val_loss improved by 0.009 >= min_delta = 0.0. New best score: 2.549\n"
     ]
    },
    {
     "name": "stdout",
     "output_type": "stream",
     "text": [
      "\n",
      "Train - After Epoch 19: loss=2.643, acc=0.292\n",
      "Learning rate after epoch 19: 0.0002575000000000002\n",
      "[Epoch 19] Grad Norms — Total: 24, Vanished: 3, Exploded: 0\n",
      "Epoch 20: 100%|█████████████████████████████████████████████████████████████| 165/165 [01:20<00:00,  2.06it/s, v_num=5]\n",
      "Val - After Epoch 20: loss=2.486, acc=0.331\n",
      "Epoch 20: 100%|█████████████████████████████████████████████████████████████| 165/165 [01:40<00:00,  1.64it/s, v_num=5]"
     ]
    },
    {
     "name": "stderr",
     "output_type": "stream",
     "text": [
      "Metric val_loss improved by 0.063 >= min_delta = 0.0. New best score: 2.486\n"
     ]
    },
    {
     "name": "stdout",
     "output_type": "stream",
     "text": [
      "\n",
      "Train - After Epoch 20: loss=2.602, acc=0.300\n",
      "Learning rate after epoch 20: 0.0002140463001152259\n",
      "[Epoch 20] Grad Norms — Total: 24, Vanished: 3, Exploded: 0\n",
      "Epoch 21: 100%|█████████████████████████████████████████████████████████████| 165/165 [01:16<00:00,  2.15it/s, v_num=5]\n",
      "Val - After Epoch 21: loss=2.461, acc=0.341\n",
      "Epoch 21: 100%|█████████████████████████████████████████████████████████████| 165/165 [01:37<00:00,  1.69it/s, v_num=5]"
     ]
    },
    {
     "name": "stderr",
     "output_type": "stream",
     "text": [
      "Metric val_loss improved by 0.026 >= min_delta = 0.0. New best score: 2.461\n"
     ]
    },
    {
     "name": "stdout",
     "output_type": "stream",
     "text": [
      "\n",
      "Train - After Epoch 21: loss=2.581, acc=0.305\n",
      "Learning rate after epoch 21: 0.00017378034985236537\n",
      "[Epoch 21] Grad Norms — Total: 24, Vanished: 3, Exploded: 0\n",
      "Epoch 22: 100%|█████████████████████████████████████████████████████████████| 165/165 [01:16<00:00,  2.16it/s, v_num=5]\n",
      "Val - After Epoch 22: loss=2.463, acc=0.344\n",
      "Epoch 22: 100%|█████████████████████████████████████████████████████████████| 165/165 [01:38<00:00,  1.67it/s, v_num=5]\n",
      "Train - After Epoch 22: loss=2.556, acc=0.316\n",
      "Learning rate after epoch 22: 0.00013714331138868995\n",
      "[Epoch 22] Grad Norms — Total: 24, Vanished: 3, Exploded: 0\n",
      "Epoch 23: 100%|█████████████████████████████████████████████████████████████| 165/165 [01:14<00:00,  2.21it/s, v_num=5]\n",
      "Val - After Epoch 23: loss=2.435, acc=0.352\n",
      "Epoch 23: 100%|█████████████████████████████████████████████████████████████| 165/165 [01:38<00:00,  1.67it/s, v_num=5]"
     ]
    },
    {
     "name": "stderr",
     "output_type": "stream",
     "text": [
      "Metric val_loss improved by 0.026 >= min_delta = 0.0. New best score: 2.435\n"
     ]
    },
    {
     "name": "stdout",
     "output_type": "stream",
     "text": [
      "\n",
      "Train - After Epoch 23: loss=2.544, acc=0.314\n",
      "Learning rate after epoch 23: 0.00010453658778440111\n",
      "[Epoch 23] Grad Norms — Total: 24, Vanished: 3, Exploded: 0\n",
      "Epoch 24: 100%|█████████████████████████████████████████████████████████████| 165/165 [01:18<00:00,  2.10it/s, v_num=5]\n",
      "Val - After Epoch 24: loss=2.435, acc=0.348\n",
      "Epoch 24: 100%|█████████████████████████████████████████████████████████████| 165/165 [01:42<00:00,  1.61it/s, v_num=5]\n",
      "Train - After Epoch 24: loss=2.520, acc=0.322\n",
      "Learning rate after epoch 24: 7.631742512670288e-05\n",
      "[Epoch 24] Grad Norms — Total: 24, Vanished: 3, Exploded: 0\n",
      "Epoch 25: 100%|█████████████████████████████████████████████████████████████| 165/165 [01:19<00:00,  2.07it/s, v_num=5]\n",
      "Val - After Epoch 25: loss=2.397, acc=0.353\n",
      "Epoch 25: 100%|█████████████████████████████████████████████████████████████| 165/165 [01:45<00:00,  1.57it/s, v_num=5]"
     ]
    },
    {
     "name": "stderr",
     "output_type": "stream",
     "text": [
      "Metric val_loss improved by 0.038 >= min_delta = 0.0. New best score: 2.397\n"
     ]
    },
    {
     "name": "stdout",
     "output_type": "stream",
     "text": [
      "\n",
      "Train - After Epoch 25: loss=2.497, acc=0.324\n",
      "Learning rate after epoch 25: 5.279499846691254e-05\n",
      "[Epoch 25] Grad Norms — Total: 24, Vanished: 3, Exploded: 0\n",
      "Epoch 26: 100%|█████████████████████████████████████████████████████████████| 165/165 [01:18<00:00,  2.10it/s, v_num=5]\n",
      "Val - After Epoch 26: loss=2.396, acc=0.366\n",
      "Epoch 26: 100%|█████████████████████████████████████████████████████████████| 165/165 [01:41<00:00,  1.62it/s, v_num=5]"
     ]
    },
    {
     "name": "stderr",
     "output_type": "stream",
     "text": [
      "Metric val_loss improved by 0.001 >= min_delta = 0.0. New best score: 2.396\n"
     ]
    },
    {
     "name": "stdout",
     "output_type": "stream",
     "text": [
      "\n",
      "Train - After Epoch 26: loss=2.504, acc=0.326\n",
      "Learning rate after epoch 26: 3.422702443389901e-05\n",
      "[Epoch 26] Grad Norms — Total: 24, Vanished: 3, Exploded: 0\n",
      "Epoch 27: 100%|█████████████████████████████████████████████████████████████| 165/165 [01:20<00:00,  2.05it/s, v_num=5]\n",
      "Val - After Epoch 27: loss=2.382, acc=0.358\n",
      "Epoch 27: 100%|█████████████████████████████████████████████████████████████| 165/165 [01:43<00:00,  1.59it/s, v_num=5]"
     ]
    },
    {
     "name": "stderr",
     "output_type": "stream",
     "text": [
      "Metric val_loss improved by 0.014 >= min_delta = 0.0. New best score: 2.382\n"
     ]
    },
    {
     "name": "stdout",
     "output_type": "stream",
     "text": [
      "\n",
      "Train - After Epoch 27: loss=2.478, acc=0.328\n",
      "Learning rate after epoch 27: 2.0816937636766188e-05\n",
      "[Epoch 27] Grad Norms — Total: 24, Vanished: 3, Exploded: 0\n",
      "Epoch 28: 100%|█████████████████████████████████████████████████████████████| 165/165 [01:20<00:00,  2.05it/s, v_num=5]\n",
      "Val - After Epoch 28: loss=2.384, acc=0.362\n",
      "Epoch 28: 100%|█████████████████████████████████████████████████████████████| 165/165 [01:41<00:00,  1.63it/s, v_num=5]\n",
      "Train - After Epoch 28: loss=2.473, acc=0.330\n",
      "Learning rate after epoch 28: 1.2711661792704668e-05\n",
      "[Epoch 28] Grad Norms — Total: 24, Vanished: 3, Exploded: 0\n",
      "Epoch 29: 100%|█████████████████████████████████████████████████████████████| 165/165 [01:10<00:00,  2.35it/s, v_num=5]\n",
      "Val - After Epoch 29: loss=2.373, acc=0.358\n",
      "Epoch 29: 100%|█████████████████████████████████████████████████████████████| 165/165 [01:30<00:00,  1.82it/s, v_num=5]"
     ]
    },
    {
     "name": "stderr",
     "output_type": "stream",
     "text": [
      "Metric val_loss improved by 0.009 >= min_delta = 0.0. New best score: 2.373\n"
     ]
    },
    {
     "name": "stdout",
     "output_type": "stream",
     "text": [
      "\n",
      "Train - After Epoch 29: loss=2.468, acc=0.336\n",
      "Learning rate after epoch 29: 1e-05\n",
      "[Epoch 29] Grad Norms — Total: 24, Vanished: 3, Exploded: 0\n"
     ]
    },
    {
     "name": "stderr",
     "output_type": "stream",
     "text": [
      "`Trainer.fit` stopped: `max_epochs=30` reached.\n"
     ]
    },
    {
     "name": "stdout",
     "output_type": "stream",
     "text": [
      "Epoch 29: 100%|█████████████████████████████████████████████████████████████| 165/165 [01:30<00:00,  1.82it/s, v_num=5]\n"
     ]
    }
   ],
   "source": [
    "datamodule = DataModule(batch_size=128)\n",
    "datamodule.setup()\n",
    "model = ConvolutionalNetwork(class_labels=class_names)\n",
    "trainer = pl.Trainer(logger=logger,\n",
    "                     callbacks=[MinimalProgressBar(), checkpoint_callback, early_stop_callback], \n",
    "                     default_root_dir=\"\\\\training_output\", \n",
    "                     max_epochs=30)\n",
    "trainer.fit(model, datamodule)"
   ]
  },
  {
   "cell_type": "code",
   "execution_count": 27,
   "metadata": {},
   "outputs": [
    {
     "data": {
      "image/png": "[encoded data removed]",
      "text/plain": [
       "<Figure size 1000x500 with 1 Axes>"
      ]
     },
     "metadata": {},
     "output_type": "display_data"
    }
   ],
   "source": [
    "#Plotting train and validation loss\n",
    "epochs = range(1, len(model.training_losses) + 1)\n",
    "plt.figure(figsize=(10, 5))\n",
    "plt.plot(epochs, model.training_losses, label='Training Loss')\n",
    "plt.plot(epochs, model.validation_losses[1:], label='Validation Loss')\n",
    "plt.xlabel('Epoch')\n",
    "plt.ylabel('Loss')\n",
    "plt.title('Training and Validation Loss')\n",
    "plt.legend()\n",
    "plt.grid(True)\n",
    "plt.tight_layout()\n",
    "plt.show()"
   ]
  },
  {
   "cell_type": "code",
   "execution_count": 28,
   "metadata": {},
   "outputs": [
    {
     "data": {
      "image/png": "[encoded data removed]",
      "text/plain": [
       "<Figure size 1000x500 with 1 Axes>"
      ]
     },
     "metadata": {},
     "output_type": "display_data"
    }
   ],
   "source": [
    "#Plotting train and validation accuracy\n",
    "epochs = range(1, len(model.training_accuracies) + 1)\n",
    "plt.figure(figsize=(10, 5))\n",
    "plt.plot(epochs, [a*100 for a in model.training_accuracies], label='Training Accuracy')\n",
    "plt.plot(epochs, [a*100 for a in model.validation_accuracies[1:]], label='Validation Accuracy')\n",
    "plt.xlabel('Epoch')\n",
    "plt.ylabel('Accuracy')\n",
    "plt.title('Training and Validation Accuracies')\n",
    "plt.legend()\n",
    "plt.grid(True)\n",
    "plt.tight_layout()\n",
    "plt.show()"
   ]
  },
  {
   "cell_type": "code",
   "execution_count": null,
   "metadata": {},
   "outputs": [],
   "source": []
  },
  {
   "cell_type": "code",
   "execution_count": null,
   "metadata": {},
   "outputs": [],
   "source": []
  }
 ],
 "metadata": {
  "kernelspec": {
   "display_name": "torch_gpu_env",
   "language": "python",
   "name": "torch_gpu_env"
  },
  "language_info": {
   "codemirror_mode": {
    "name": "ipython",
    "version": 3
   },
   "file_extension": ".py",
   "mimetype": "text/x-python",
   "name": "python",
   "nbconvert_exporter": "python",
   "pygments_lexer": "ipython3",
   "version": "3.10.16"
  }
 },
 "nbformat": 4,
 "nbformat_minor": 5
}
