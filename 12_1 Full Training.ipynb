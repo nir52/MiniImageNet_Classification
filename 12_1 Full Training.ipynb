{
 "cells": [
  {
   "cell_type": "code",
   "execution_count": 1,
   "metadata": {},
   "outputs": [],
   "source": [
    "import os\n",
    "import random\n",
    "import numpy as np\n",
    "import pandas as pd\n",
    "from tqdm import tqdm\n",
    "from datetime import datetime"
   ]
  },
  {
   "cell_type": "code",
   "execution_count": 2,
   "metadata": {},
   "outputs": [],
   "source": [
    "import torch\n",
    "import torch.nn as nn\n",
    "import torch.nn.functional as F\n",
    "from torch.utils.data import random_split, SubsetRandomSampler, DataLoader, Dataset, Subset\n",
    "from torchvision import datasets, transforms, models\n",
    "from torchvision.utils import make_grid\n",
    "from pytorch_lightning.callbacks.progress import TQDMProgressBar\n",
    "from pytorch_lightning.callbacks import ModelCheckpoint, EarlyStopping\n",
    "import pytorch_lightning as pl\n",
    "from pytorch_lightning.loggers import TensorBoardLogger"
   ]
  },
  {
   "cell_type": "code",
   "execution_count": 3,
   "metadata": {},
   "outputs": [],
   "source": [
    "from PIL import Image\n",
    "import matplotlib.pyplot as plt\n",
    "from sklearn.model_selection import train_test_split\n",
    "from sklearn.metrics import classification_report"
   ]
  },
  {
   "cell_type": "code",
   "execution_count": 4,
   "metadata": {},
   "outputs": [
    {
     "data": {
      "text/plain": [
       "'2.5.1'"
      ]
     },
     "execution_count": 4,
     "metadata": {},
     "output_type": "execute_result"
    }
   ],
   "source": [
    "torch.__version__"
   ]
  },
  {
   "cell_type": "code",
   "execution_count": 5,
   "metadata": {},
   "outputs": [
    {
     "data": {
      "text/plain": [
       "'2.5.1.post0'"
      ]
     },
     "execution_count": 5,
     "metadata": {},
     "output_type": "execute_result"
    }
   ],
   "source": [
    "pl.__version__"
   ]
  },
  {
   "cell_type": "code",
   "execution_count": 6,
   "metadata": {},
   "outputs": [],
   "source": [
    "# Setting dataset path\n",
    "path = \"E:\\\\mini_ImageNet\\\\archive\\\\\""
   ]
  },
  {
   "cell_type": "code",
   "execution_count": 7,
   "metadata": {},
   "outputs": [
    {
     "name": "stdout",
     "output_type": "stream",
     "text": [
      "Mean: [0.4764, 0.4491, 0.4001]\n",
      "Std: [0.2264, 0.2224, 0.2212]\n"
     ]
    }
   ],
   "source": [
    "#Using the previously calculated values (first notebook) of mean and std of the images in this dataset\n",
    "mean = [0.4764, 0.4491, 0.4001]\n",
    "std = [0.2264, 0.2224, 0.2212]\n",
    "\n",
    "print(\"Mean:\", mean)\n",
    "print(\"Std:\", std)"
   ]
  },
  {
   "cell_type": "code",
   "execution_count": null,
   "metadata": {},
   "outputs": [],
   "source": []
  },
  {
   "cell_type": "markdown",
   "metadata": {},
   "source": [
    "### Image Transforms"
   ]
  },
  {
   "cell_type": "code",
   "execution_count": 8,
   "metadata": {},
   "outputs": [],
   "source": [
    "transform=transforms.Compose([\n",
    "        transforms.Resize(224),             # resize shortest side to 224 pixels\n",
    "        transforms.CenterCrop(224),         # crop longest side to 224 pixels at center\n",
    "        transforms.ToTensor(),\n",
    "        transforms.Normalize(mean, std),\n",
    "    \n",
    "        transforms.RandomRotation(20),      # rotate +/- 20 degrees\n",
    "        transforms.RandomHorizontalFlip(p=0.25),  # flip 24% of images\n",
    "#         transforms.ColorJitter(brightness=0.2, contrast=0.2, saturation=0.2),  \n",
    "        transforms.RandomAffine(degrees=0, translate=(0.2, 0.2), scale=(0.8, 1.2)),\n",
    "        transforms.RandomApply([transforms.ColorJitter(brightness=0.2, contrast=0.2, \n",
    "                                                       saturation=0.2)], p=0.5), # jitters by +/- given value\n",
    "        transforms.RandomApply([transforms.GaussianBlur(kernel_size=3, sigma=(0.1, 0.7))], p=0.3)\n",
    "    ])\n",
    "#https://docs.pytorch.org/vision/main/transforms.html"
   ]
  },
  {
   "cell_type": "code",
   "execution_count": 9,
   "metadata": {},
   "outputs": [],
   "source": [
    "#Getting class names from the folder names of images\n",
    "class_names=sorted(os.listdir(path))\n",
    "class_names = ['_'.join(c.split('_')[:-1]) for c in class_names]"
   ]
  },
  {
   "cell_type": "markdown",
   "metadata": {},
   "source": [
    "### Data Module"
   ]
  },
  {
   "cell_type": "code",
   "execution_count": 10,
   "metadata": {},
   "outputs": [],
   "source": [
    "class DataModule(pl.LightningDataModule):\n",
    "    \n",
    "    def __init__(self, batch_size:int=32, num_workers:int=4, transform=transform):\n",
    "        super().__init__()\n",
    "        # self.root_dir = \"/kaggle/input/miniimagenet\"\n",
    "        self.root_dir = path\n",
    "        self.transform = transform\n",
    "        self.batch_size = batch_size\n",
    "        self.num_w = num_workers\n",
    "\n",
    "    def setup(self, stage=None):\n",
    "        dataset = datasets.ImageFolder(root=self.root_dir, transform=self.transform)\n",
    "        n_data = len(dataset)\n",
    "        n_train = int(0.7 * n_data)\n",
    "        n_valid = int(0.2 * n_data)\n",
    "        n_test = n_data - n_train - n_valid\n",
    "        \n",
    "        self.train_dataset, self.val_dataset, self.test_dataset = torch.utils.data.random_split(dataset, [n_train, n_valid, n_test])\n",
    "        \n",
    "    \n",
    "    def train_dataloader(self):\n",
    "        return DataLoader(self.train_dataset, batch_size=self.batch_size, shuffle=True, \n",
    "                  num_workers=self.num_w, persistent_workers=True)\n",
    "    \n",
    "    def val_dataloader(self):\n",
    "        return DataLoader(self.val_dataset, batch_size=self.batch_size, \n",
    "                  num_workers=self.num_w, persistent_workers=True)\n",
    "    \n",
    "    def test_dataloader(self):\n",
    "        return DataLoader(self.test_dataset, batch_size=self.batch_size, \n",
    "                  num_workers=self.num_w, persistent_workers=True)\n",
    "        "
   ]
  },
  {
   "cell_type": "markdown",
   "metadata": {},
   "source": [
    "### CNN Classifier"
   ]
  },
  {
   "cell_type": "code",
   "execution_count": 11,
   "metadata": {},
   "outputs": [],
   "source": [
    "class ConvolutionalNetwork(pl.LightningModule):\n",
    "    \n",
    "    def __init__(self, class_labels, numChannels:int=3):\n",
    "        super(ConvolutionalNetwork, self).__init__()\n",
    "        \n",
    "        #Initializing variable to collect grad norms \n",
    "        self._grad_norms = {}\n",
    "        \n",
    "        ##Initializing channel sizes for different layers\n",
    "        \n",
    "        self.conv1_out_channels = 64\n",
    "        self.conv2_out_channels = 96\n",
    "        self.conv3_out_channels = 128\n",
    "        self.conv4_out_channels = 128\n",
    "        \n",
    "        self.fc1_out_features = 512\n",
    "        self.fc2_out_features = 256\n",
    "        self.fc3_out_features = len(class_labels)\n",
    "        \n",
    "        #Initializing lists to store train and val accuracies and losses\n",
    "        self.training_accuracies = []\n",
    "        self.validation_accuracies = []\n",
    "        self.training_losses = []\n",
    "        self.validation_losses = []\n",
    "\n",
    "\n",
    "        #First conv layer block\n",
    "        self.conv1 = nn.Conv2d(in_channels=numChannels, out_channels=self.conv1_out_channels, \n",
    "                               kernel_size=3, stride=1, padding=1)\n",
    "        self.bn1 = nn.BatchNorm2d(self.conv1_out_channels)\n",
    "        self.act1 = nn.LeakyReLU(0.05)          #also try leaky relu\n",
    "        self.pool1 = nn.MaxPool2d(kernel_size=2, stride=2)\n",
    "        \n",
    "        \n",
    "        #Second conv layer block\n",
    "        self.conv2 = nn.Conv2d(in_channels=self.conv1_out_channels, out_channels=self.conv2_out_channels, \n",
    "                               kernel_size=3, stride=1, padding=1)\n",
    "        self.bn2 = nn.BatchNorm2d(self.conv2_out_channels)\n",
    "        self.act2 = nn.LeakyReLU(0.05)\n",
    "        self.pool2 = nn.MaxPool2d(kernel_size=2, stride=2)\n",
    "        \n",
    "        \n",
    "        #Third conv layer block\n",
    "        self.conv3 = nn.Conv2d(in_channels=self.conv2_out_channels, out_channels=self.conv3_out_channels, \n",
    "                               kernel_size=3, stride=1, padding=1)\n",
    "        self.bn3 = nn.BatchNorm2d(self.conv3_out_channels)\n",
    "        self.act3 = nn.LeakyReLU(0.05)\n",
    "        self.pool3 = nn.MaxPool2d(kernel_size=2, stride=2)\n",
    "        \n",
    "        \n",
    "        #Fourth conv layer block\n",
    "        self.conv4 = nn.Conv2d(in_channels=self.conv3_out_channels, out_channels=self.conv4_out_channels, \n",
    "                               kernel_size=3, stride=1, padding=1)\n",
    "        self.bn4 = nn.BatchNorm2d(self.conv4_out_channels)\n",
    "        self.act4 = nn.LeakyReLU(0.05)\n",
    "        self.pool4 = nn.MaxPool2d(kernel_size=2, stride=2)\n",
    "        \n",
    "        \n",
    "        # Flatten\n",
    "        self.flatten = nn.Flatten()\n",
    "        \n",
    "        #Fully connected layers\n",
    "        self.fc1 = nn.LazyLinear(self.fc1_out_features)    #try bias=True ?\n",
    "        self.dropout1 = nn.Dropout(0.291)\n",
    "        self.act_fc1 = nn.LeakyReLU(0.05)\n",
    "        \n",
    "        self.fc2 = nn.Linear(in_features=self.fc1_out_features, out_features=self.fc2_out_features)\n",
    "        self.dropout2 = nn.Dropout(0.334)\n",
    "        self.act_fc2 = nn.LeakyReLU(0.05)\n",
    "        \n",
    "        self.fc3 = nn.Linear(in_features=self.fc2_out_features, out_features=self.fc3_out_features)\n",
    "        self.output_activation  = nn.LogSoftmax(dim=1)\n",
    "        \n",
    "    # convolution output size formula: https://i.sstatic.net/vD1u3.png\n",
    "    \n",
    "    \n",
    "    def forward(self, x):\n",
    "        x = self.act1(self.bn1(self.conv1(x)))\n",
    "        x = self.pool1(x)\n",
    "        x = self.act2(self.bn2(self.conv2(x)))\n",
    "        x = self.pool2(x)\n",
    "        x = self.act3(self.bn3(self.conv3(x)))\n",
    "        x = self.pool3(x)\n",
    "        x = self.act4(self.bn4(self.conv4(x)))\n",
    "        x = self.pool4(x)\n",
    "        \n",
    "        x = self.flatten(x)\n",
    "        \n",
    "        x = self.dropout1(self.act_fc1(self.fc1(x)))\n",
    "        x = self.dropout2(self.act_fc2(self.fc2(x)))\n",
    "        x = self.output_activation(self.fc3(x))\n",
    "        \n",
    "        return x\n",
    "\n",
    "    \n",
    "    def configure_optimizers(self):\n",
    "        optimizer = torch.optim.Adam(self.parameters(), lr=0.00046)\n",
    "        scheduler = {\n",
    "            'scheduler': torch.optim.lr_scheduler.ReduceLROnPlateau(optimizer, mode='min', patience=3, factor=0.5, verbose=True),\n",
    "            'monitor': 'val_loss'\n",
    "        }\n",
    "        return {\"optimizer\": optimizer, \"lr_scheduler\": scheduler}\n",
    "    \n",
    "    \n",
    "    def training_step(self, train_batch, batch_idx):\n",
    "        X, y = train_batch\n",
    "        y_hat = self(X)\n",
    "        loss = F.cross_entropy(y_hat, y)\n",
    "        pred = y_hat.argmax(dim=1, keepdim=True)\n",
    "        acc = (pred.squeeze() == y).float().mean()\n",
    "        self.log(\"train_loss\", loss, on_step=False, on_epoch=True, prog_bar=False)\n",
    "        self.log(\"train_acc\", acc, on_step=False, on_epoch=True, prog_bar=False)\n",
    "        return loss\n",
    "    \n",
    "    \n",
    "    def validation_step(self, val_batch, batch_idx):\n",
    "        X, y = val_batch\n",
    "        y_hat = self(X)\n",
    "        loss = F.cross_entropy(y_hat, y)\n",
    "        pred = y_hat.argmax(dim=1, keepdim=True)\n",
    "        acc = (pred.squeeze() == y).float().mean()\n",
    "        self.log(\"val_loss\", loss, on_step=False, on_epoch=True, prog_bar=False)\n",
    "        self.log(\"val_acc\", acc, on_step=False, on_epoch=True, prog_bar=False)\n",
    "        \n",
    "\n",
    "    def test_step(self, test_batch, batch_idx):\n",
    "        X, y = test_batch\n",
    "        y_hat = self(X)\n",
    "        loss = F.cross_entropy(y_hat, y)\n",
    "        pred = y_hat.argmax(dim=1, keepdim=True)\n",
    "        acc = pred.eq(y.view_as(pred)).sum().item() / y.shape[0]\n",
    "        self.log(\"test_loss\", loss)\n",
    "        self.log(\"test_acc\", acc)\n",
    "        \n",
    "        \n",
    "    def on_train_epoch_end(self):\n",
    "        train_acc = self.trainer.callback_metrics.get(\"train_acc\")\n",
    "        train_loss = self.trainer.callback_metrics.get(\"train_loss\")\n",
    "        if train_acc is not None:\n",
    "            self.training_accuracies.append(train_acc.item())\n",
    "        if train_loss is not None:\n",
    "            self.training_losses.append(train_loss.item())\n",
    "        print(f\"\\nTrain - After Epoch {self.current_epoch}: loss={train_loss:.3f}, acc={train_acc:.3f}\")\n",
    "        for param_group in self.trainer.optimizers[0].param_groups:\n",
    "            print(f\"Learning rate after epoch {self.current_epoch}: {param_group['lr']}\")\n",
    "        \n",
    "        #Calculating average grad norms\n",
    "        vanished_count = 0\n",
    "        exploded_count = 0\n",
    "        total_layers = len(self._grad_norms)\n",
    "\n",
    "        for name, norms in self._grad_norms.items():\n",
    "            avg_norm = sum(norms) / len(norms)\n",
    "\n",
    "            # Log to TensorBoard\n",
    "            self.logger.experiment.add_scalar(f\"grad_norm_epoch_avg/{name}\", avg_norm, self.current_epoch)\n",
    "\n",
    "            # Stats\n",
    "            if avg_norm < 1e-6:\n",
    "                vanished_count += 1\n",
    "            elif avg_norm > 100:\n",
    "                exploded_count += 1\n",
    "\n",
    "        # Log total stats\n",
    "        self.log(\"grad_stats/total_layers\", total_layers, on_epoch=True)\n",
    "        self.log(\"grad_stats/vanished\", vanished_count, on_epoch=True)\n",
    "        self.log(\"grad_stats/exploded\", exploded_count, on_epoch=True)\n",
    "\n",
    "        print(f\"[Epoch {self.current_epoch}] Grad Norms — Total: {total_layers}, Vanished: {vanished_count}, Exploded: {exploded_count}\")\n",
    "\n",
    "        # Reset buffer\n",
    "        self._grad_norms.clear()\n",
    "    \n",
    "\n",
    "    def on_validation_epoch_end(self):\n",
    "        val_loss = self.trainer.callback_metrics.get(\"val_loss\")\n",
    "        val_acc = self.trainer.callback_metrics.get(\"val_acc\")\n",
    "        if val_acc is not None:\n",
    "            self.validation_accuracies.append(val_acc.item())\n",
    "        if val_loss is not None:\n",
    "            self.validation_losses.append(val_loss.item())\n",
    "        print(f\"\\nVal - After Epoch {self.current_epoch}: loss={val_loss:.3f}, acc={val_acc:.3f}\")\n",
    "    \n",
    "    \n",
    "    def on_train_batch_end(self, outputs, batch, batch_idx, dataloader_idx=0):\n",
    "        for name, param in self.named_parameters():\n",
    "            if param.grad is not None:\n",
    "                norm = param.grad.norm().item()\n",
    "                if name not in self._grad_norms:\n",
    "                    self._grad_norms[name] = []\n",
    "                self._grad_norms[name].append(norm)\n"
   ]
  },
  {
   "cell_type": "code",
   "execution_count": 12,
   "metadata": {},
   "outputs": [],
   "source": [
    "#Removing the Validation DataLoader progress bar between epochs\n",
    "class MinimalProgressBar(TQDMProgressBar):\n",
    "    def init_validation_tqdm(self):\n",
    "        # Return a dummy tqdm with no visible output to disable validation progress bar\n",
    "        # Set total=0 to avoid progress display\n",
    "        return tqdm(disable=True)\n",
    "\n",
    "    def init_test_tqdm(self):\n",
    "        # Same for test dataloader\n",
    "        return tqdm(disable=True)\n",
    "    "
   ]
  },
  {
   "cell_type": "code",
   "execution_count": 13,
   "metadata": {},
   "outputs": [],
   "source": [
    "#Setting seed to fetch the same training data every time\n",
    "timestamp = datetime.now().strftime(format=\"%Y-%m-%d_%H-%M-%S\")"
   ]
  },
  {
   "cell_type": "code",
   "execution_count": 14,
   "metadata": {},
   "outputs": [],
   "source": [
    "#Configuring model checkpointing:\n",
    "checkpoint_callback = ModelCheckpoint(\n",
    "    dirpath=f\"checkpoints\\\\{timestamp}\",                   # Folder to save checkpoints\n",
    "    filename=f\"epoch{{epoch:02d}}-val_loss{{val_loss:.2f}}\", \n",
    "    save_top_k=2,                             \n",
    "    monitor=\"val_loss\",                       # Metric to track best model\n",
    "    mode=\"min\",                               \n",
    "    save_weights_only=False                  # Save full model\n",
    ")"
   ]
  },
  {
   "cell_type": "code",
   "execution_count": 15,
   "metadata": {},
   "outputs": [],
   "source": [
    "#Configuring early stopping callback\n",
    "early_stop_callback = EarlyStopping(\n",
    "    monitor=\"val_loss\",     # or \"val_acc\"\n",
    "    patience=9,             # number of epochs to wait with no improvement\n",
    "    mode=\"min\",             # \"min\" for loss, \"max\" for accuracy\n",
    "    verbose=True\n",
    ")"
   ]
  },
  {
   "cell_type": "code",
   "execution_count": 16,
   "metadata": {},
   "outputs": [],
   "source": [
    "# Create logger\n",
    "logger = TensorBoardLogger(\"tensorboard_logs\", name=\"miniimagenet_cnn\")"
   ]
  },
  {
   "cell_type": "code",
   "execution_count": 17,
   "metadata": {},
   "outputs": [
    {
     "name": "stderr",
     "output_type": "stream",
     "text": [
      "Seed set to 42\n"
     ]
    },
    {
     "data": {
      "text/plain": [
       "42"
      ]
     },
     "execution_count": 17,
     "metadata": {},
     "output_type": "execute_result"
    }
   ],
   "source": [
    "#Setting seed to fetch the same training data every time\n",
    "pl.seed_everything(42, workers=True)  # `workers=True` ensures worker-level reproducibility"
   ]
  },
  {
   "cell_type": "markdown",
   "metadata": {},
   "source": [
    "### Model Training"
   ]
  },
  {
   "cell_type": "code",
   "execution_count": 18,
   "metadata": {},
   "outputs": [
    {
     "name": "stderr",
     "output_type": "stream",
     "text": [
      "GPU available: True (cuda), used: True\n",
      "TPU available: False, using: 0 TPU cores\n",
      "HPU available: False, using: 0 HPUs\n",
      "LOCAL_RANK: 0 - CUDA_VISIBLE_DEVICES: [0]\n",
      "C:\\ProgramData\\Anaconda3\\envs\\torch_gpu_env\\lib\\site-packages\\torch\\optim\\lr_scheduler.py:62: UserWarning: The verbose parameter is deprecated. Please use get_last_lr() to access the learning rate.\n",
      "  warnings.warn(\n",
      "C:\\ProgramData\\Anaconda3\\envs\\torch_gpu_env\\lib\\site-packages\\pytorch_lightning\\utilities\\model_summary\\model_summary.py:477: The total number of parameters detected may be inaccurate because the model contains an instance of `UninitializedParameter`. To get an accurate number, set `self.example_input_array` in your LightningModule.\n",
      "\n",
      "   | Name              | Type        | Params | Mode \n",
      "-----------------------------------------------------------\n",
      "0  | conv1             | Conv2d      | 1.8 K  | train\n",
      "1  | bn1               | BatchNorm2d | 128    | train\n",
      "2  | act1              | LeakyReLU   | 0      | train\n",
      "3  | pool1             | MaxPool2d   | 0      | train\n",
      "4  | conv2             | Conv2d      | 55.4 K | train\n",
      "5  | bn2               | BatchNorm2d | 192    | train\n",
      "6  | act2              | LeakyReLU   | 0      | train\n",
      "7  | pool2             | MaxPool2d   | 0      | train\n",
      "8  | conv3             | Conv2d      | 110 K  | train\n",
      "9  | bn3               | BatchNorm2d | 256    | train\n",
      "10 | act3              | LeakyReLU   | 0      | train\n",
      "11 | pool3             | MaxPool2d   | 0      | train\n",
      "12 | conv4             | Conv2d      | 147 K  | train\n",
      "13 | bn4               | BatchNorm2d | 256    | train\n",
      "14 | act4              | LeakyReLU   | 0      | train\n",
      "15 | pool4             | MaxPool2d   | 0      | train\n",
      "16 | flatten           | Flatten     | 0      | train\n",
      "17 | fc1               | LazyLinear  | 0      | train\n",
      "18 | dropout1          | Dropout     | 0      | train\n",
      "19 | act_fc1           | LeakyReLU   | 0      | train\n",
      "20 | fc2               | Linear      | 131 K  | train\n",
      "21 | dropout2          | Dropout     | 0      | train\n",
      "22 | act_fc2           | LeakyReLU   | 0      | train\n",
      "23 | fc3               | Linear      | 12.8 K | train\n",
      "24 | output_activation | LogSoftmax  | 0      | train\n",
      "-----------------------------------------------------------\n",
      "460 K     Trainable params\n",
      "0         Non-trainable params\n",
      "460 K     Total params\n",
      "1.842     Total estimated model params size (MB)\n",
      "25        Modules in train mode\n",
      "0         Modules in eval mode\n"
     ]
    },
    {
     "name": "stdout",
     "output_type": "stream",
     "text": [
      "Sanity Checking DataLoader 0: 100%|██████████████████████████████████████████████████████| 2/2 [00:01<00:00,  1.89it/s]\n",
      "Val - After Epoch 0: loss=3.907, acc=0.023\n",
      "Epoch 0: 100%|█████████████████████████████████████████████████████████████| 329/329 [03:14<00:00,  1.69it/s, v_num=14]\n",
      "Val - After Epoch 0: loss=3.590, acc=0.090\n",
      "Epoch 0: 100%|█████████████████████████████████████████████████████████████| 329/329 [03:53<00:00,  1.41it/s, v_num=14]"
     ]
    },
    {
     "name": "stderr",
     "output_type": "stream",
     "text": [
      "Metric val_loss improved. New best score: 3.590\n"
     ]
    },
    {
     "name": "stdout",
     "output_type": "stream",
     "text": [
      "\n",
      "Train - After Epoch 0: loss=3.706, acc=0.071\n",
      "Learning rate after epoch 0: 0.00046\n",
      "[Epoch 0] Grad Norms — Total: 22, Vanished: 3, Exploded: 0\n",
      "Epoch 1: 100%|█████████████████████████████████████████████████████████████| 329/329 [10:13<00:00,  0.54it/s, v_num=14]\n",
      "Val - After Epoch 1: loss=3.314, acc=0.145\n",
      "Epoch 1: 100%|█████████████████████████████████████████████████████████████| 329/329 [10:52<00:00,  0.50it/s, v_num=14]"
     ]
    },
    {
     "name": "stderr",
     "output_type": "stream",
     "text": [
      "Metric val_loss improved by 0.276 >= min_delta = 0.0. New best score: 3.314\n"
     ]
    },
    {
     "name": "stdout",
     "output_type": "stream",
     "text": [
      "\n",
      "Train - After Epoch 1: loss=3.458, acc=0.113\n",
      "Learning rate after epoch 1: 0.00046\n",
      "[Epoch 1] Grad Norms — Total: 22, Vanished: 3, Exploded: 0\n",
      "Epoch 2: 100%|█████████████████████████████████████████████████████████████| 329/329 [10:06<00:00,  0.54it/s, v_num=14]\n",
      "Val - After Epoch 2: loss=3.301, acc=0.150\n",
      "Epoch 2: 100%|█████████████████████████████████████████████████████████████| 329/329 [10:45<00:00,  0.51it/s, v_num=14]"
     ]
    },
    {
     "name": "stderr",
     "output_type": "stream",
     "text": [
      "Metric val_loss improved by 0.013 >= min_delta = 0.0. New best score: 3.301\n"
     ]
    },
    {
     "name": "stdout",
     "output_type": "stream",
     "text": [
      "\n",
      "Train - After Epoch 2: loss=3.337, acc=0.138\n",
      "Learning rate after epoch 2: 0.00046\n",
      "[Epoch 2] Grad Norms — Total: 22, Vanished: 3, Exploded: 0\n",
      "Epoch 3: 100%|█████████████████████████████████████████████████████████████| 329/329 [10:08<00:00,  0.54it/s, v_num=14]\n",
      "Val - After Epoch 3: loss=3.135, acc=0.183\n",
      "Epoch 3: 100%|█████████████████████████████████████████████████████████████| 329/329 [10:47<00:00,  0.51it/s, v_num=14]"
     ]
    },
    {
     "name": "stderr",
     "output_type": "stream",
     "text": [
      "Metric val_loss improved by 0.166 >= min_delta = 0.0. New best score: 3.135\n"
     ]
    },
    {
     "name": "stdout",
     "output_type": "stream",
     "text": [
      "\n",
      "Train - After Epoch 3: loss=3.237, acc=0.159\n",
      "Learning rate after epoch 3: 0.00046\n",
      "[Epoch 3] Grad Norms — Total: 22, Vanished: 3, Exploded: 0\n",
      "Epoch 4: 100%|█████████████████████████████████████████████████████████████| 329/329 [10:09<00:00,  0.54it/s, v_num=14]\n",
      "Val - After Epoch 4: loss=3.055, acc=0.202\n",
      "Epoch 4: 100%|█████████████████████████████████████████████████████████████| 329/329 [10:48<00:00,  0.51it/s, v_num=14]"
     ]
    },
    {
     "name": "stderr",
     "output_type": "stream",
     "text": [
      "Metric val_loss improved by 0.080 >= min_delta = 0.0. New best score: 3.055\n"
     ]
    },
    {
     "name": "stdout",
     "output_type": "stream",
     "text": [
      "\n",
      "Train - After Epoch 4: loss=3.142, acc=0.180\n",
      "Learning rate after epoch 4: 0.00046\n",
      "[Epoch 4] Grad Norms — Total: 22, Vanished: 3, Exploded: 0\n",
      "Epoch 5: 100%|█████████████████████████████████████████████████████████████| 329/329 [10:12<00:00,  0.54it/s, v_num=14]\n",
      "Val - After Epoch 5: loss=2.961, acc=0.220\n",
      "Epoch 5: 100%|█████████████████████████████████████████████████████████████| 329/329 [10:51<00:00,  0.50it/s, v_num=14]"
     ]
    },
    {
     "name": "stderr",
     "output_type": "stream",
     "text": [
      "Metric val_loss improved by 0.094 >= min_delta = 0.0. New best score: 2.961\n"
     ]
    },
    {
     "name": "stdout",
     "output_type": "stream",
     "text": [
      "\n",
      "Train - After Epoch 5: loss=3.054, acc=0.198\n",
      "Learning rate after epoch 5: 0.00046\n",
      "[Epoch 5] Grad Norms — Total: 22, Vanished: 3, Exploded: 0\n",
      "Epoch 6: 100%|█████████████████████████████████████████████████████████████| 329/329 [10:08<00:00,  0.54it/s, v_num=14]\n",
      "Val - After Epoch 6: loss=2.905, acc=0.251\n",
      "Epoch 6: 100%|█████████████████████████████████████████████████████████████| 329/329 [10:47<00:00,  0.51it/s, v_num=14]"
     ]
    },
    {
     "name": "stderr",
     "output_type": "stream",
     "text": [
      "Metric val_loss improved by 0.057 >= min_delta = 0.0. New best score: 2.905\n"
     ]
    },
    {
     "name": "stdout",
     "output_type": "stream",
     "text": [
      "\n",
      "Train - After Epoch 6: loss=2.979, acc=0.216\n",
      "Learning rate after epoch 6: 0.00046\n",
      "[Epoch 6] Grad Norms — Total: 22, Vanished: 3, Exploded: 0\n",
      "Epoch 7: 100%|█████████████████████████████████████████████████████████████| 329/329 [10:08<00:00,  0.54it/s, v_num=14]\n",
      "Val - After Epoch 7: loss=2.851, acc=0.251\n",
      "Epoch 7: 100%|█████████████████████████████████████████████████████████████| 329/329 [10:47<00:00,  0.51it/s, v_num=14]"
     ]
    },
    {
     "name": "stderr",
     "output_type": "stream",
     "text": [
      "Metric val_loss improved by 0.054 >= min_delta = 0.0. New best score: 2.851\n"
     ]
    },
    {
     "name": "stdout",
     "output_type": "stream",
     "text": [
      "\n",
      "Train - After Epoch 7: loss=2.908, acc=0.236\n",
      "Learning rate after epoch 7: 0.00046\n",
      "[Epoch 7] Grad Norms — Total: 22, Vanished: 3, Exploded: 0\n",
      "Epoch 8: 100%|█████████████████████████████████████████████████████████████| 329/329 [10:09<00:00,  0.54it/s, v_num=14]\n",
      "Val - After Epoch 8: loss=2.708, acc=0.284\n",
      "Epoch 8: 100%|█████████████████████████████████████████████████████████████| 329/329 [10:49<00:00,  0.51it/s, v_num=14]"
     ]
    },
    {
     "name": "stderr",
     "output_type": "stream",
     "text": [
      "Metric val_loss improved by 0.143 >= min_delta = 0.0. New best score: 2.708\n"
     ]
    },
    {
     "name": "stdout",
     "output_type": "stream",
     "text": [
      "\n",
      "Train - After Epoch 8: loss=2.840, acc=0.251\n",
      "Learning rate after epoch 8: 0.00046\n",
      "[Epoch 8] Grad Norms — Total: 22, Vanished: 3, Exploded: 0\n",
      "Epoch 9: 100%|█████████████████████████████████████████████████████████████| 329/329 [10:11<00:00,  0.54it/s, v_num=14]\n",
      "Val - After Epoch 9: loss=2.782, acc=0.267\n",
      "Epoch 9: 100%|█████████████████████████████████████████████████████████████| 329/329 [10:51<00:00,  0.50it/s, v_num=14]\n",
      "Train - After Epoch 9: loss=2.783, acc=0.261\n",
      "Learning rate after epoch 9: 0.00046\n",
      "[Epoch 9] Grad Norms — Total: 22, Vanished: 3, Exploded: 0\n",
      "Epoch 10: 100%|████████████████████████████████████████████████████████████| 329/329 [12:17<00:00,  0.45it/s, v_num=14]\n",
      "Val - After Epoch 10: loss=2.660, acc=0.291\n",
      "Epoch 10: 100%|████████████████████████████████████████████████████████████| 329/329 [12:55<00:00,  0.42it/s, v_num=14]"
     ]
    },
    {
     "name": "stderr",
     "output_type": "stream",
     "text": [
      "Metric val_loss improved by 0.048 >= min_delta = 0.0. New best score: 2.660\n"
     ]
    },
    {
     "name": "stdout",
     "output_type": "stream",
     "text": [
      "\n",
      "Train - After Epoch 10: loss=2.741, acc=0.275\n",
      "Learning rate after epoch 10: 0.00046\n",
      "[Epoch 10] Grad Norms — Total: 22, Vanished: 3, Exploded: 0\n",
      "Epoch 11: 100%|████████████████████████████████████████████████████████████| 329/329 [10:05<00:00,  0.54it/s, v_num=14]\n",
      "Val - After Epoch 11: loss=2.601, acc=0.304\n",
      "Epoch 11: 100%|████████████████████████████████████████████████████████████| 329/329 [10:41<00:00,  0.51it/s, v_num=14]"
     ]
    },
    {
     "name": "stderr",
     "output_type": "stream",
     "text": [
      "Metric val_loss improved by 0.058 >= min_delta = 0.0. New best score: 2.601\n"
     ]
    },
    {
     "name": "stdout",
     "output_type": "stream",
     "text": [
      "\n",
      "Train - After Epoch 11: loss=2.664, acc=0.291\n",
      "Learning rate after epoch 11: 0.00046\n",
      "[Epoch 11] Grad Norms — Total: 22, Vanished: 3, Exploded: 0\n",
      "Epoch 12: 100%|████████████████████████████████████████████████████████████| 329/329 [10:04<00:00,  0.54it/s, v_num=14]\n",
      "Val - After Epoch 12: loss=2.537, acc=0.328\n",
      "Epoch 12: 100%|████████████████████████████████████████████████████████████| 329/329 [10:42<00:00,  0.51it/s, v_num=14]"
     ]
    },
    {
     "name": "stderr",
     "output_type": "stream",
     "text": [
      "Metric val_loss improved by 0.064 >= min_delta = 0.0. New best score: 2.537\n"
     ]
    },
    {
     "name": "stdout",
     "output_type": "stream",
     "text": [
      "\n",
      "Train - After Epoch 12: loss=2.632, acc=0.294\n",
      "Learning rate after epoch 12: 0.00046\n",
      "[Epoch 12] Grad Norms — Total: 22, Vanished: 3, Exploded: 0\n",
      "Epoch 13: 100%|████████████████████████████████████████████████████████████| 329/329 [10:01<00:00,  0.55it/s, v_num=14]\n",
      "Val - After Epoch 13: loss=2.624, acc=0.306\n",
      "Epoch 13: 100%|████████████████████████████████████████████████████████████| 329/329 [10:40<00:00,  0.51it/s, v_num=14]\n",
      "Train - After Epoch 13: loss=2.575, acc=0.309\n",
      "Learning rate after epoch 13: 0.00046\n",
      "[Epoch 13] Grad Norms — Total: 22, Vanished: 3, Exploded: 0\n",
      "Epoch 14: 100%|████████████████████████████████████████████████████████████| 329/329 [10:04<00:00,  0.54it/s, v_num=14]\n",
      "Val - After Epoch 14: loss=2.472, acc=0.350\n",
      "Epoch 14: 100%|████████████████████████████████████████████████████████████| 329/329 [10:44<00:00,  0.51it/s, v_num=14]"
     ]
    },
    {
     "name": "stderr",
     "output_type": "stream",
     "text": [
      "Metric val_loss improved by 0.065 >= min_delta = 0.0. New best score: 2.472\n"
     ]
    },
    {
     "name": "stdout",
     "output_type": "stream",
     "text": [
      "\n",
      "Train - After Epoch 14: loss=2.531, acc=0.323\n",
      "Learning rate after epoch 14: 0.00046\n",
      "[Epoch 14] Grad Norms — Total: 22, Vanished: 3, Exploded: 0\n",
      "Epoch 15: 100%|████████████████████████████████████████████████████████████| 329/329 [10:04<00:00,  0.54it/s, v_num=14]\n",
      "Val - After Epoch 15: loss=2.501, acc=0.336\n",
      "Epoch 15: 100%|████████████████████████████████████████████████████████████| 329/329 [10:43<00:00,  0.51it/s, v_num=14]\n",
      "Train - After Epoch 15: loss=2.508, acc=0.325\n",
      "Learning rate after epoch 15: 0.00046\n",
      "[Epoch 15] Grad Norms — Total: 22, Vanished: 3, Exploded: 0\n",
      "Epoch 16: 100%|████████████████████████████████████████████████████████████| 329/329 [10:01<00:00,  0.55it/s, v_num=14]\n",
      "Val - After Epoch 16: loss=2.373, acc=0.364\n",
      "Epoch 16: 100%|████████████████████████████████████████████████████████████| 329/329 [10:39<00:00,  0.51it/s, v_num=14]"
     ]
    },
    {
     "name": "stderr",
     "output_type": "stream",
     "text": [
      "Metric val_loss improved by 0.099 >= min_delta = 0.0. New best score: 2.373\n"
     ]
    },
    {
     "name": "stdout",
     "output_type": "stream",
     "text": [
      "\n",
      "Train - After Epoch 16: loss=2.461, acc=0.338\n",
      "Learning rate after epoch 16: 0.00046\n",
      "[Epoch 16] Grad Norms — Total: 22, Vanished: 3, Exploded: 0\n",
      "Epoch 17: 100%|████████████████████████████████████████████████████████████| 329/329 [10:35<00:00,  0.52it/s, v_num=14]\n",
      "Val - After Epoch 17: loss=2.400, acc=0.350\n",
      "Epoch 17: 100%|████████████████████████████████████████████████████████████| 329/329 [11:12<00:00,  0.49it/s, v_num=14]\n",
      "Train - After Epoch 17: loss=2.418, acc=0.344\n",
      "Learning rate after epoch 17: 0.00046\n",
      "[Epoch 17] Grad Norms — Total: 22, Vanished: 3, Exploded: 0\n",
      "Epoch 18: 100%|████████████████████████████████████████████████████████████| 329/329 [09:52<00:00,  0.56it/s, v_num=14]\n",
      "Val - After Epoch 18: loss=2.369, acc=0.370\n",
      "Epoch 18: 100%|████████████████████████████████████████████████████████████| 329/329 [10:32<00:00,  0.52it/s, v_num=14]"
     ]
    },
    {
     "name": "stderr",
     "output_type": "stream",
     "text": [
      "Metric val_loss improved by 0.005 >= min_delta = 0.0. New best score: 2.369\n"
     ]
    },
    {
     "name": "stdout",
     "output_type": "stream",
     "text": [
      "\n",
      "Train - After Epoch 18: loss=2.392, acc=0.351\n",
      "Learning rate after epoch 18: 0.00046\n",
      "[Epoch 18] Grad Norms — Total: 22, Vanished: 3, Exploded: 0\n",
      "Epoch 19: 100%|████████████████████████████████████████████████████████████| 329/329 [10:06<00:00,  0.54it/s, v_num=14]\n",
      "Val - After Epoch 19: loss=2.436, acc=0.343\n",
      "Epoch 19: 100%|████████████████████████████████████████████████████████████| 329/329 [10:46<00:00,  0.51it/s, v_num=14]\n",
      "Train - After Epoch 19: loss=2.348, acc=0.361\n",
      "Learning rate after epoch 19: 0.00046\n",
      "[Epoch 19] Grad Norms — Total: 22, Vanished: 3, Exploded: 0\n",
      "Epoch 20: 100%|████████████████████████████████████████████████████████████| 329/329 [09:56<00:00,  0.55it/s, v_num=14]\n",
      "Val - After Epoch 20: loss=2.346, acc=0.368\n",
      "Epoch 20: 100%|████████████████████████████████████████████████████████████| 329/329 [10:34<00:00,  0.52it/s, v_num=14]"
     ]
    },
    {
     "name": "stderr",
     "output_type": "stream",
     "text": [
      "Metric val_loss improved by 0.023 >= min_delta = 0.0. New best score: 2.346\n"
     ]
    },
    {
     "name": "stdout",
     "output_type": "stream",
     "text": [
      "\n",
      "Train - After Epoch 20: loss=2.326, acc=0.368\n",
      "Learning rate after epoch 20: 0.00046\n",
      "[Epoch 20] Grad Norms — Total: 22, Vanished: 3, Exploded: 0\n",
      "Epoch 21: 100%|████████████████████████████████████████████████████████████| 329/329 [09:54<00:00,  0.55it/s, v_num=14]\n",
      "Val - After Epoch 21: loss=2.317, acc=0.374\n",
      "Epoch 21: 100%|████████████████████████████████████████████████████████████| 329/329 [10:34<00:00,  0.52it/s, v_num=14]"
     ]
    },
    {
     "name": "stderr",
     "output_type": "stream",
     "text": [
      "Metric val_loss improved by 0.030 >= min_delta = 0.0. New best score: 2.317\n"
     ]
    },
    {
     "name": "stdout",
     "output_type": "stream",
     "text": [
      "\n",
      "Train - After Epoch 21: loss=2.296, acc=0.375\n",
      "Learning rate after epoch 21: 0.00046\n",
      "[Epoch 21] Grad Norms — Total: 22, Vanished: 3, Exploded: 0\n",
      "Epoch 22: 100%|████████████████████████████████████████████████████████████| 329/329 [09:54<00:00,  0.55it/s, v_num=14]\n",
      "Val - After Epoch 22: loss=2.245, acc=0.391\n",
      "Epoch 22: 100%|████████████████████████████████████████████████████████████| 329/329 [10:32<00:00,  0.52it/s, v_num=14]"
     ]
    },
    {
     "name": "stderr",
     "output_type": "stream",
     "text": [
      "Metric val_loss improved by 0.071 >= min_delta = 0.0. New best score: 2.245\n"
     ]
    },
    {
     "name": "stdout",
     "output_type": "stream",
     "text": [
      "\n",
      "Train - After Epoch 22: loss=2.264, acc=0.386\n",
      "Learning rate after epoch 22: 0.00046\n",
      "[Epoch 22] Grad Norms — Total: 22, Vanished: 3, Exploded: 0\n",
      "Epoch 23: 100%|████████████████████████████████████████████████████████████| 329/329 [09:56<00:00,  0.55it/s, v_num=14]\n",
      "Val - After Epoch 23: loss=2.296, acc=0.378\n",
      "Epoch 23: 100%|████████████████████████████████████████████████████████████| 329/329 [10:36<00:00,  0.52it/s, v_num=14]\n",
      "Train - After Epoch 23: loss=2.232, acc=0.389\n",
      "Learning rate after epoch 23: 0.00046\n",
      "[Epoch 23] Grad Norms — Total: 22, Vanished: 3, Exploded: 0\n",
      "Epoch 24: 100%|████████████████████████████████████████████████████████████| 329/329 [09:50<00:00,  0.56it/s, v_num=14]\n",
      "Val - After Epoch 24: loss=2.256, acc=0.403\n",
      "Epoch 24: 100%|████████████████████████████████████████████████████████████| 329/329 [10:30<00:00,  0.52it/s, v_num=14]\n",
      "Train - After Epoch 24: loss=2.206, acc=0.396\n",
      "Learning rate after epoch 24: 0.00046\n",
      "[Epoch 24] Grad Norms — Total: 22, Vanished: 3, Exploded: 0\n",
      "Epoch 25: 100%|████████████████████████████████████████████████████████████| 329/329 [09:56<00:00,  0.55it/s, v_num=14]\n",
      "Val - After Epoch 25: loss=2.150, acc=0.418\n",
      "Epoch 25: 100%|████████████████████████████████████████████████████████████| 329/329 [10:35<00:00,  0.52it/s, v_num=14]"
     ]
    },
    {
     "name": "stderr",
     "output_type": "stream",
     "text": [
      "Metric val_loss improved by 0.095 >= min_delta = 0.0. New best score: 2.150\n"
     ]
    },
    {
     "name": "stdout",
     "output_type": "stream",
     "text": [
      "\n",
      "Train - After Epoch 25: loss=2.179, acc=0.404\n",
      "Learning rate after epoch 25: 0.00046\n",
      "[Epoch 25] Grad Norms — Total: 22, Vanished: 3, Exploded: 0\n",
      "Epoch 26: 100%|████████████████████████████████████████████████████████████| 329/329 [09:47<00:00,  0.56it/s, v_num=14]\n",
      "Val - After Epoch 26: loss=2.180, acc=0.408\n",
      "Epoch 26: 100%|████████████████████████████████████████████████████████████| 329/329 [10:28<00:00,  0.52it/s, v_num=14]\n",
      "Train - After Epoch 26: loss=2.158, acc=0.407\n",
      "Learning rate after epoch 26: 0.00046\n",
      "[Epoch 26] Grad Norms — Total: 22, Vanished: 3, Exploded: 0\n",
      "Epoch 27: 100%|████████████████████████████████████████████████████████████| 329/329 [10:43<00:00,  0.51it/s, v_num=14]\n",
      "Val - After Epoch 27: loss=2.203, acc=0.411\n",
      "Epoch 27: 100%|████████████████████████████████████████████████████████████| 329/329 [11:25<00:00,  0.48it/s, v_num=14]\n",
      "Train - After Epoch 27: loss=2.131, acc=0.413\n",
      "Learning rate after epoch 27: 0.00046\n",
      "[Epoch 27] Grad Norms — Total: 22, Vanished: 3, Exploded: 0\n",
      "Epoch 28: 100%|████████████████████████████████████████████████████████████| 329/329 [10:17<00:00,  0.53it/s, v_num=14]\n",
      "Val - After Epoch 28: loss=2.208, acc=0.404\n",
      "Epoch 28: 100%|████████████████████████████████████████████████████████████| 329/329 [10:56<00:00,  0.50it/s, v_num=14]\n",
      "Train - After Epoch 28: loss=2.113, acc=0.417\n",
      "Learning rate after epoch 28: 0.00046\n",
      "[Epoch 28] Grad Norms — Total: 22, Vanished: 3, Exploded: 0\n",
      "Epoch 29: 100%|████████████████████████████████████████████████████████████| 329/329 [10:18<00:00,  0.53it/s, v_num=14]\n",
      "Val - After Epoch 29: loss=2.192, acc=0.407\n",
      "Epoch 29: 100%|████████████████████████████████████████████████████████████| 329/329 [11:00<00:00,  0.50it/s, v_num=14]\n",
      "Train - After Epoch 29: loss=2.076, acc=0.427\n",
      "Learning rate after epoch 29: 0.00046\n",
      "[Epoch 29] Grad Norms — Total: 22, Vanished: 3, Exploded: 0\n",
      "Epoch 30: 100%|████████████████████████████████████████████████████████████| 329/329 [10:17<00:00,  0.53it/s, v_num=14]\n",
      "Val - After Epoch 30: loss=2.048, acc=0.448\n",
      "Epoch 30: 100%|████████████████████████████████████████████████████████████| 329/329 [10:58<00:00,  0.50it/s, v_num=14]"
     ]
    },
    {
     "name": "stderr",
     "output_type": "stream",
     "text": [
      "Metric val_loss improved by 0.102 >= min_delta = 0.0. New best score: 2.048\n"
     ]
    },
    {
     "name": "stdout",
     "output_type": "stream",
     "text": [
      "\n",
      "Train - After Epoch 30: loss=1.987, acc=0.448\n",
      "Learning rate after epoch 30: 0.00023\n",
      "[Epoch 30] Grad Norms — Total: 22, Vanished: 3, Exploded: 0\n",
      "Epoch 31: 100%|████████████████████████████████████████████████████████████| 329/329 [10:18<00:00,  0.53it/s, v_num=14]\n",
      "Val - After Epoch 31: loss=1.994, acc=0.454\n",
      "Epoch 31: 100%|████████████████████████████████████████████████████████████| 329/329 [10:59<00:00,  0.50it/s, v_num=14]"
     ]
    },
    {
     "name": "stderr",
     "output_type": "stream",
     "text": [
      "Metric val_loss improved by 0.053 >= min_delta = 0.0. New best score: 1.994\n"
     ]
    },
    {
     "name": "stdout",
     "output_type": "stream",
     "text": [
      "\n",
      "Train - After Epoch 31: loss=1.942, acc=0.462\n",
      "Learning rate after epoch 31: 0.00023\n",
      "[Epoch 31] Grad Norms — Total: 22, Vanished: 3, Exploded: 0\n",
      "Epoch 32: 100%|████████████████████████████████████████████████████████████| 329/329 [10:19<00:00,  0.53it/s, v_num=14]\n",
      "Val - After Epoch 32: loss=2.050, acc=0.445\n",
      "Epoch 32: 100%|████████████████████████████████████████████████████████████| 329/329 [11:01<00:00,  0.50it/s, v_num=14]\n",
      "Train - After Epoch 32: loss=1.929, acc=0.465\n",
      "Learning rate after epoch 32: 0.00023\n",
      "[Epoch 32] Grad Norms — Total: 22, Vanished: 3, Exploded: 0\n",
      "Epoch 33: 100%|████████████████████████████████████████████████████████████| 329/329 [10:18<00:00,  0.53it/s, v_num=14]\n",
      "Val - After Epoch 33: loss=2.082, acc=0.438\n",
      "Epoch 33: 100%|████████████████████████████████████████████████████████████| 329/329 [11:00<00:00,  0.50it/s, v_num=14]\n",
      "Train - After Epoch 33: loss=1.903, acc=0.473\n",
      "Learning rate after epoch 33: 0.00023\n",
      "[Epoch 33] Grad Norms — Total: 22, Vanished: 3, Exploded: 0\n",
      "Epoch 34: 100%|████████████████████████████████████████████████████████████| 329/329 [10:16<00:00,  0.53it/s, v_num=14]\n",
      "Val - After Epoch 34: loss=1.955, acc=0.468\n",
      "Epoch 34: 100%|████████████████████████████████████████████████████████████| 329/329 [10:58<00:00,  0.50it/s, v_num=14]"
     ]
    },
    {
     "name": "stderr",
     "output_type": "stream",
     "text": [
      "Metric val_loss improved by 0.039 >= min_delta = 0.0. New best score: 1.955\n"
     ]
    },
    {
     "name": "stdout",
     "output_type": "stream",
     "text": [
      "\n",
      "Train - After Epoch 34: loss=1.885, acc=0.473\n",
      "Learning rate after epoch 34: 0.00023\n",
      "[Epoch 34] Grad Norms — Total: 22, Vanished: 3, Exploded: 0\n",
      "Epoch 35: 100%|████████████████████████████████████████████████████████████| 329/329 [10:18<00:00,  0.53it/s, v_num=14]\n",
      "Val - After Epoch 35: loss=1.971, acc=0.468\n",
      "Epoch 35: 100%|████████████████████████████████████████████████████████████| 329/329 [11:00<00:00,  0.50it/s, v_num=14]\n",
      "Train - After Epoch 35: loss=1.877, acc=0.475\n",
      "Learning rate after epoch 35: 0.00023\n",
      "[Epoch 35] Grad Norms — Total: 22, Vanished: 3, Exploded: 0\n",
      "Epoch 36: 100%|████████████████████████████████████████████████████████████| 329/329 [10:18<00:00,  0.53it/s, v_num=14]\n",
      "Val - After Epoch 36: loss=1.939, acc=0.465\n",
      "Epoch 36: 100%|████████████████████████████████████████████████████████████| 329/329 [11:00<00:00,  0.50it/s, v_num=14]"
     ]
    },
    {
     "name": "stderr",
     "output_type": "stream",
     "text": [
      "Metric val_loss improved by 0.016 >= min_delta = 0.0. New best score: 1.939\n"
     ]
    },
    {
     "name": "stdout",
     "output_type": "stream",
     "text": [
      "\n",
      "Train - After Epoch 36: loss=1.855, acc=0.478\n",
      "Learning rate after epoch 36: 0.00023\n",
      "[Epoch 36] Grad Norms — Total: 22, Vanished: 3, Exploded: 0\n",
      "Epoch 37: 100%|████████████████████████████████████████████████████████████| 329/329 [10:18<00:00,  0.53it/s, v_num=14]\n",
      "Val - After Epoch 37: loss=1.960, acc=0.471\n",
      "Epoch 37: 100%|████████████████████████████████████████████████████████████| 329/329 [11:00<00:00,  0.50it/s, v_num=14]\n",
      "Train - After Epoch 37: loss=1.845, acc=0.482\n",
      "Learning rate after epoch 37: 0.00023\n",
      "[Epoch 37] Grad Norms — Total: 22, Vanished: 3, Exploded: 0\n",
      "Epoch 38: 100%|████████████████████████████████████████████████████████████| 329/329 [10:19<00:00,  0.53it/s, v_num=14]\n",
      "Val - After Epoch 38: loss=1.948, acc=0.472\n",
      "Epoch 38: 100%|████████████████████████████████████████████████████████████| 329/329 [11:01<00:00,  0.50it/s, v_num=14]\n",
      "Train - After Epoch 38: loss=1.832, acc=0.488\n",
      "Learning rate after epoch 38: 0.00023\n",
      "[Epoch 38] Grad Norms — Total: 22, Vanished: 3, Exploded: 0\n",
      "Epoch 39: 100%|████████████████████████████████████████████████████████████| 329/329 [10:18<00:00,  0.53it/s, v_num=14]\n",
      "Val - After Epoch 39: loss=1.936, acc=0.478\n",
      "Epoch 39: 100%|████████████████████████████████████████████████████████████| 329/329 [10:59<00:00,  0.50it/s, v_num=14]"
     ]
    },
    {
     "name": "stderr",
     "output_type": "stream",
     "text": [
      "Metric val_loss improved by 0.003 >= min_delta = 0.0. New best score: 1.936\n"
     ]
    },
    {
     "name": "stdout",
     "output_type": "stream",
     "text": [
      "\n",
      "Train - After Epoch 39: loss=1.818, acc=0.492\n",
      "Learning rate after epoch 39: 0.00023\n",
      "[Epoch 39] Grad Norms — Total: 22, Vanished: 3, Exploded: 0\n",
      "Epoch 40: 100%|████████████████████████████████████████████████████████████| 329/329 [10:18<00:00,  0.53it/s, v_num=14]\n",
      "Val - After Epoch 40: loss=1.959, acc=0.471\n",
      "Epoch 40: 100%|████████████████████████████████████████████████████████████| 329/329 [11:00<00:00,  0.50it/s, v_num=14]\n",
      "Train - After Epoch 40: loss=1.808, acc=0.493\n",
      "Learning rate after epoch 40: 0.00023\n",
      "[Epoch 40] Grad Norms — Total: 22, Vanished: 3, Exploded: 0\n",
      "Epoch 41: 100%|████████████████████████████████████████████████████████████| 329/329 [10:18<00:00,  0.53it/s, v_num=14]\n",
      "Val - After Epoch 41: loss=1.930, acc=0.477\n",
      "Epoch 41: 100%|████████████████████████████████████████████████████████████| 329/329 [11:00<00:00,  0.50it/s, v_num=14]"
     ]
    },
    {
     "name": "stderr",
     "output_type": "stream",
     "text": [
      "Metric val_loss improved by 0.006 >= min_delta = 0.0. New best score: 1.930\n"
     ]
    },
    {
     "name": "stdout",
     "output_type": "stream",
     "text": [
      "\n",
      "Train - After Epoch 41: loss=1.785, acc=0.499\n",
      "Learning rate after epoch 41: 0.00023\n",
      "[Epoch 41] Grad Norms — Total: 22, Vanished: 3, Exploded: 0\n",
      "Epoch 42: 100%|████████████████████████████████████████████████████████████| 329/329 [10:18<00:00,  0.53it/s, v_num=14]\n",
      "Val - After Epoch 42: loss=1.983, acc=0.463\n",
      "Epoch 42: 100%|████████████████████████████████████████████████████████████| 329/329 [10:59<00:00,  0.50it/s, v_num=14]\n",
      "Train - After Epoch 42: loss=1.775, acc=0.504\n",
      "Learning rate after epoch 42: 0.00023\n",
      "[Epoch 42] Grad Norms — Total: 22, Vanished: 3, Exploded: 0\n",
      "Epoch 43: 100%|████████████████████████████████████████████████████████████| 329/329 [10:19<00:00,  0.53it/s, v_num=14]\n",
      "Val - After Epoch 43: loss=1.933, acc=0.474\n",
      "Epoch 43: 100%|████████████████████████████████████████████████████████████| 329/329 [11:01<00:00,  0.50it/s, v_num=14]\n",
      "Train - After Epoch 43: loss=1.770, acc=0.502\n",
      "Learning rate after epoch 43: 0.00023\n",
      "[Epoch 43] Grad Norms — Total: 22, Vanished: 3, Exploded: 0\n",
      "Epoch 44: 100%|████████████████████████████████████████████████████████████| 329/329 [10:19<00:00,  0.53it/s, v_num=14]\n",
      "Val - After Epoch 44: loss=1.922, acc=0.481\n",
      "Epoch 44: 100%|████████████████████████████████████████████████████████████| 329/329 [11:00<00:00,  0.50it/s, v_num=14]"
     ]
    },
    {
     "name": "stderr",
     "output_type": "stream",
     "text": [
      "Metric val_loss improved by 0.008 >= min_delta = 0.0. New best score: 1.922\n"
     ]
    },
    {
     "name": "stdout",
     "output_type": "stream",
     "text": [
      "\n",
      "Train - After Epoch 44: loss=1.744, acc=0.507\n",
      "Learning rate after epoch 44: 0.00023\n",
      "[Epoch 44] Grad Norms — Total: 22, Vanished: 3, Exploded: 0\n",
      "Epoch 45: 100%|████████████████████████████████████████████████████████████| 329/329 [10:18<00:00,  0.53it/s, v_num=14]\n",
      "Val - After Epoch 45: loss=1.867, acc=0.490\n",
      "Epoch 45: 100%|████████████████████████████████████████████████████████████| 329/329 [10:59<00:00,  0.50it/s, v_num=14]"
     ]
    },
    {
     "name": "stderr",
     "output_type": "stream",
     "text": [
      "Metric val_loss improved by 0.056 >= min_delta = 0.0. New best score: 1.867\n"
     ]
    },
    {
     "name": "stdout",
     "output_type": "stream",
     "text": [
      "\n",
      "Train - After Epoch 45: loss=1.744, acc=0.509\n",
      "Learning rate after epoch 45: 0.00023\n",
      "[Epoch 45] Grad Norms — Total: 22, Vanished: 3, Exploded: 0\n",
      "Epoch 46: 100%|████████████████████████████████████████████████████████████| 329/329 [10:18<00:00,  0.53it/s, v_num=14]\n",
      "Val - After Epoch 46: loss=1.967, acc=0.469\n",
      "Epoch 46: 100%|████████████████████████████████████████████████████████████| 329/329 [11:00<00:00,  0.50it/s, v_num=14]\n",
      "Train - After Epoch 46: loss=1.736, acc=0.513\n",
      "Learning rate after epoch 46: 0.00023\n",
      "[Epoch 46] Grad Norms — Total: 22, Vanished: 3, Exploded: 0\n",
      "Epoch 47: 100%|████████████████████████████████████████████████████████████| 329/329 [10:18<00:00,  0.53it/s, v_num=14]\n",
      "Val - After Epoch 47: loss=1.892, acc=0.486\n",
      "Epoch 47: 100%|████████████████████████████████████████████████████████████| 329/329 [10:59<00:00,  0.50it/s, v_num=14]\n",
      "Train - After Epoch 47: loss=1.734, acc=0.509\n",
      "Learning rate after epoch 47: 0.00023\n",
      "[Epoch 47] Grad Norms — Total: 22, Vanished: 3, Exploded: 0\n",
      "Epoch 48: 100%|████████████████████████████████████████████████████████████| 329/329 [10:19<00:00,  0.53it/s, v_num=14]\n",
      "Val - After Epoch 48: loss=1.881, acc=0.488\n",
      "Epoch 48: 100%|████████████████████████████████████████████████████████████| 329/329 [11:01<00:00,  0.50it/s, v_num=14]\n",
      "Train - After Epoch 48: loss=1.711, acc=0.518\n",
      "Learning rate after epoch 48: 0.00023\n",
      "[Epoch 48] Grad Norms — Total: 22, Vanished: 3, Exploded: 0\n",
      "Epoch 49: 100%|████████████████████████████████████████████████████████████| 329/329 [10:19<00:00,  0.53it/s, v_num=14]\n",
      "Val - After Epoch 49: loss=1.861, acc=0.493\n",
      "Epoch 49: 100%|████████████████████████████████████████████████████████████| 329/329 [11:01<00:00,  0.50it/s, v_num=14]"
     ]
    },
    {
     "name": "stderr",
     "output_type": "stream",
     "text": [
      "Metric val_loss improved by 0.005 >= min_delta = 0.0. New best score: 1.861\n"
     ]
    },
    {
     "name": "stdout",
     "output_type": "stream",
     "text": [
      "\n",
      "Train - After Epoch 49: loss=1.705, acc=0.518\n",
      "Learning rate after epoch 49: 0.00023\n",
      "[Epoch 49] Grad Norms — Total: 22, Vanished: 3, Exploded: 0\n",
      "Epoch 50: 100%|████████████████████████████████████████████████████████████| 329/329 [10:18<00:00,  0.53it/s, v_num=14]\n",
      "Val - After Epoch 50: loss=1.862, acc=0.492\n",
      "Epoch 50: 100%|████████████████████████████████████████████████████████████| 329/329 [11:00<00:00,  0.50it/s, v_num=14]\n",
      "Train - After Epoch 50: loss=1.682, acc=0.523\n",
      "Learning rate after epoch 50: 0.00023\n",
      "[Epoch 50] Grad Norms — Total: 22, Vanished: 3, Exploded: 0\n",
      "Epoch 51: 100%|████████████████████████████████████████████████████████████| 329/329 [10:18<00:00,  0.53it/s, v_num=14]\n",
      "Val - After Epoch 51: loss=1.890, acc=0.489\n",
      "Epoch 51: 100%|████████████████████████████████████████████████████████████| 329/329 [11:00<00:00,  0.50it/s, v_num=14]\n",
      "Train - After Epoch 51: loss=1.676, acc=0.526\n",
      "Learning rate after epoch 51: 0.00023\n",
      "[Epoch 51] Grad Norms — Total: 22, Vanished: 3, Exploded: 0\n",
      "Epoch 52: 100%|████████████████████████████████████████████████████████████| 329/329 [10:18<00:00,  0.53it/s, v_num=14]\n",
      "Val - After Epoch 52: loss=1.902, acc=0.489\n",
      "Epoch 52: 100%|████████████████████████████████████████████████████████████| 329/329 [10:59<00:00,  0.50it/s, v_num=14]\n",
      "Train - After Epoch 52: loss=1.658, acc=0.527\n",
      "Learning rate after epoch 52: 0.00023\n",
      "[Epoch 52] Grad Norms — Total: 22, Vanished: 3, Exploded: 0\n",
      "Epoch 53: 100%|████████████████████████████████████████████████████████████| 329/329 [10:18<00:00,  0.53it/s, v_num=14]\n",
      "Val - After Epoch 53: loss=1.838, acc=0.510\n",
      "Epoch 53: 100%|████████████████████████████████████████████████████████████| 329/329 [10:59<00:00,  0.50it/s, v_num=14]"
     ]
    },
    {
     "name": "stderr",
     "output_type": "stream",
     "text": [
      "Metric val_loss improved by 0.023 >= min_delta = 0.0. New best score: 1.838\n"
     ]
    },
    {
     "name": "stdout",
     "output_type": "stream",
     "text": [
      "\n",
      "Train - After Epoch 53: loss=1.645, acc=0.536\n",
      "Learning rate after epoch 53: 0.00023\n",
      "[Epoch 53] Grad Norms — Total: 22, Vanished: 3, Exploded: 0\n",
      "Epoch 54: 100%|████████████████████████████████████████████████████████████| 329/329 [10:19<00:00,  0.53it/s, v_num=14]\n",
      "Val - After Epoch 54: loss=1.905, acc=0.486\n",
      "Epoch 54: 100%|████████████████████████████████████████████████████████████| 329/329 [11:01<00:00,  0.50it/s, v_num=14]\n",
      "Train - After Epoch 54: loss=1.646, acc=0.534\n",
      "Learning rate after epoch 54: 0.00023\n",
      "[Epoch 54] Grad Norms — Total: 22, Vanished: 3, Exploded: 0\n",
      "Epoch 55: 100%|████████████████████████████████████████████████████████████| 329/329 [10:18<00:00,  0.53it/s, v_num=14]\n",
      "Val - After Epoch 55: loss=1.875, acc=0.491\n",
      "Epoch 55: 100%|████████████████████████████████████████████████████████████| 329/329 [11:00<00:00,  0.50it/s, v_num=14]\n",
      "Train - After Epoch 55: loss=1.620, acc=0.541\n",
      "Learning rate after epoch 55: 0.00023\n",
      "[Epoch 55] Grad Norms — Total: 22, Vanished: 3, Exploded: 0\n",
      "Epoch 56: 100%|████████████████████████████████████████████████████████████| 329/329 [10:18<00:00,  0.53it/s, v_num=14]\n",
      "Val - After Epoch 56: loss=1.823, acc=0.509\n",
      "Epoch 56: 100%|████████████████████████████████████████████████████████████| 329/329 [10:59<00:00,  0.50it/s, v_num=14]"
     ]
    },
    {
     "name": "stderr",
     "output_type": "stream",
     "text": [
      "Metric val_loss improved by 0.015 >= min_delta = 0.0. New best score: 1.823\n"
     ]
    },
    {
     "name": "stdout",
     "output_type": "stream",
     "text": [
      "\n",
      "Train - After Epoch 56: loss=1.625, acc=0.536\n",
      "Learning rate after epoch 56: 0.00023\n",
      "[Epoch 56] Grad Norms — Total: 22, Vanished: 3, Exploded: 0\n",
      "Epoch 57: 100%|████████████████████████████████████████████████████████████| 329/329 [10:18<00:00,  0.53it/s, v_num=14]\n",
      "Val - After Epoch 57: loss=1.859, acc=0.500\n",
      "Epoch 57: 100%|████████████████████████████████████████████████████████████| 329/329 [10:59<00:00,  0.50it/s, v_num=14]\n",
      "Train - After Epoch 57: loss=1.618, acc=0.541\n",
      "Learning rate after epoch 57: 0.00023\n",
      "[Epoch 57] Grad Norms — Total: 22, Vanished: 3, Exploded: 0\n",
      "Epoch 58: 100%|████████████████████████████████████████████████████████████| 329/329 [10:18<00:00,  0.53it/s, v_num=14]\n",
      "Val - After Epoch 58: loss=1.840, acc=0.501\n",
      "Epoch 58: 100%|████████████████████████████████████████████████████████████| 329/329 [10:59<00:00,  0.50it/s, v_num=14]\n",
      "Train - After Epoch 58: loss=1.608, acc=0.542\n",
      "Learning rate after epoch 58: 0.00023\n",
      "[Epoch 58] Grad Norms — Total: 22, Vanished: 3, Exploded: 0\n",
      "Epoch 59: 100%|████████████████████████████████████████████████████████████| 329/329 [10:18<00:00,  0.53it/s, v_num=14]\n",
      "Val - After Epoch 59: loss=1.805, acc=0.511\n",
      "Epoch 59: 100%|████████████████████████████████████████████████████████████| 329/329 [11:00<00:00,  0.50it/s, v_num=14]"
     ]
    },
    {
     "name": "stderr",
     "output_type": "stream",
     "text": [
      "Metric val_loss improved by 0.018 >= min_delta = 0.0. New best score: 1.805\n"
     ]
    },
    {
     "name": "stdout",
     "output_type": "stream",
     "text": [
      "\n",
      "Train - After Epoch 59: loss=1.598, acc=0.549\n",
      "Learning rate after epoch 59: 0.00023\n",
      "[Epoch 59] Grad Norms — Total: 22, Vanished: 3, Exploded: 0\n",
      "Epoch 60: 100%|████████████████████████████████████████████████████████████| 329/329 [10:19<00:00,  0.53it/s, v_num=14]\n",
      "Val - After Epoch 60: loss=1.856, acc=0.500\n",
      "Epoch 60: 100%|████████████████████████████████████████████████████████████| 329/329 [11:00<00:00,  0.50it/s, v_num=14]\n",
      "Train - After Epoch 60: loss=1.594, acc=0.546\n",
      "Learning rate after epoch 60: 0.00023\n",
      "[Epoch 60] Grad Norms — Total: 22, Vanished: 3, Exploded: 0\n",
      "Epoch 61: 100%|████████████████████████████████████████████████████████████| 329/329 [10:18<00:00,  0.53it/s, v_num=14]\n",
      "Val - After Epoch 61: loss=1.847, acc=0.498\n",
      "Epoch 61: 100%|████████████████████████████████████████████████████████████| 329/329 [10:59<00:00,  0.50it/s, v_num=14]\n",
      "Train - After Epoch 61: loss=1.567, acc=0.554\n",
      "Learning rate after epoch 61: 0.00023\n",
      "[Epoch 61] Grad Norms — Total: 22, Vanished: 3, Exploded: 0\n",
      "Epoch 62: 100%|████████████████████████████████████████████████████████████| 329/329 [10:18<00:00,  0.53it/s, v_num=14]\n",
      "Val - After Epoch 62: loss=1.850, acc=0.500\n",
      "Epoch 62: 100%|████████████████████████████████████████████████████████████| 329/329 [10:59<00:00,  0.50it/s, v_num=14]\n",
      "Train - After Epoch 62: loss=1.577, acc=0.549\n",
      "Learning rate after epoch 62: 0.00023\n",
      "[Epoch 62] Grad Norms — Total: 22, Vanished: 3, Exploded: 0\n",
      "Epoch 63: 100%|████████████████████████████████████████████████████████████| 329/329 [10:18<00:00,  0.53it/s, v_num=14]\n",
      "Val - After Epoch 63: loss=1.866, acc=0.502\n",
      "Epoch 63: 100%|████████████████████████████████████████████████████████████| 329/329 [10:59<00:00,  0.50it/s, v_num=14]\n",
      "Train - After Epoch 63: loss=1.564, acc=0.556\n",
      "Learning rate after epoch 63: 0.00023\n",
      "[Epoch 63] Grad Norms — Total: 22, Vanished: 3, Exploded: 0\n",
      "Epoch 64: 100%|████████████████████████████████████████████████████████████| 329/329 [10:17<00:00,  0.53it/s, v_num=14]\n",
      "Val - After Epoch 64: loss=1.791, acc=0.514\n",
      "Epoch 64: 100%|████████████████████████████████████████████████████████████| 329/329 [10:58<00:00,  0.50it/s, v_num=14]"
     ]
    },
    {
     "name": "stderr",
     "output_type": "stream",
     "text": [
      "Metric val_loss improved by 0.015 >= min_delta = 0.0. New best score: 1.791\n"
     ]
    },
    {
     "name": "stdout",
     "output_type": "stream",
     "text": [
      "\n",
      "Train - After Epoch 64: loss=1.518, acc=0.565\n",
      "Learning rate after epoch 64: 0.000115\n",
      "[Epoch 64] Grad Norms — Total: 22, Vanished: 3, Exploded: 0\n",
      "Epoch 65: 100%|████████████████████████████████████████████████████████████| 329/329 [10:18<00:00,  0.53it/s, v_num=14]\n",
      "Val - After Epoch 65: loss=1.774, acc=0.512\n",
      "Epoch 65: 100%|████████████████████████████████████████████████████████████| 329/329 [11:00<00:00,  0.50it/s, v_num=14]"
     ]
    },
    {
     "name": "stderr",
     "output_type": "stream",
     "text": [
      "Metric val_loss improved by 0.017 >= min_delta = 0.0. New best score: 1.774\n"
     ]
    },
    {
     "name": "stdout",
     "output_type": "stream",
     "text": [
      "\n",
      "Train - After Epoch 65: loss=1.479, acc=0.577\n",
      "Learning rate after epoch 65: 0.000115\n",
      "[Epoch 65] Grad Norms — Total: 22, Vanished: 3, Exploded: 0\n",
      "Epoch 66: 100%|████████████████████████████████████████████████████████████| 329/329 [10:18<00:00,  0.53it/s, v_num=14]\n",
      "Val - After Epoch 66: loss=1.748, acc=0.522\n",
      "Epoch 66: 100%|████████████████████████████████████████████████████████████| 329/329 [10:59<00:00,  0.50it/s, v_num=14]"
     ]
    },
    {
     "name": "stderr",
     "output_type": "stream",
     "text": [
      "Metric val_loss improved by 0.027 >= min_delta = 0.0. New best score: 1.748\n"
     ]
    },
    {
     "name": "stdout",
     "output_type": "stream",
     "text": [
      "\n",
      "Train - After Epoch 66: loss=1.493, acc=0.574\n",
      "Learning rate after epoch 66: 0.000115\n",
      "[Epoch 66] Grad Norms — Total: 22, Vanished: 3, Exploded: 0\n",
      "Epoch 67: 100%|████████████████████████████████████████████████████████████| 329/329 [10:18<00:00,  0.53it/s, v_num=14]\n",
      "Val - After Epoch 67: loss=1.746, acc=0.529\n",
      "Epoch 67: 100%|████████████████████████████████████████████████████████████| 329/329 [10:59<00:00,  0.50it/s, v_num=14]"
     ]
    },
    {
     "name": "stderr",
     "output_type": "stream",
     "text": [
      "Metric val_loss improved by 0.002 >= min_delta = 0.0. New best score: 1.746\n"
     ]
    },
    {
     "name": "stdout",
     "output_type": "stream",
     "text": [
      "\n",
      "Train - After Epoch 67: loss=1.463, acc=0.578\n",
      "Learning rate after epoch 67: 0.000115\n",
      "[Epoch 67] Grad Norms — Total: 22, Vanished: 3, Exploded: 0\n",
      "Epoch 68: 100%|████████████████████████████████████████████████████████████| 329/329 [10:16<00:00,  0.53it/s, v_num=14]\n",
      "Val - After Epoch 68: loss=1.746, acc=0.528\n",
      "Epoch 68: 100%|████████████████████████████████████████████████████████████| 329/329 [10:57<00:00,  0.50it/s, v_num=14]"
     ]
    },
    {
     "name": "stderr",
     "output_type": "stream",
     "text": [
      "Metric val_loss improved by 0.000 >= min_delta = 0.0. New best score: 1.746\n"
     ]
    },
    {
     "name": "stdout",
     "output_type": "stream",
     "text": [
      "\n",
      "Train - After Epoch 68: loss=1.471, acc=0.576\n",
      "Learning rate after epoch 68: 0.000115\n",
      "[Epoch 68] Grad Norms — Total: 22, Vanished: 3, Exploded: 0\n",
      "Epoch 69: 100%|████████████████████████████████████████████████████████████| 329/329 [10:18<00:00,  0.53it/s, v_num=14]\n",
      "Val - After Epoch 69: loss=1.748, acc=0.523\n",
      "Epoch 69: 100%|████████████████████████████████████████████████████████████| 329/329 [10:59<00:00,  0.50it/s, v_num=14]\n",
      "Train - After Epoch 69: loss=1.477, acc=0.576\n",
      "Learning rate after epoch 69: 0.000115\n",
      "[Epoch 69] Grad Norms — Total: 22, Vanished: 3, Exploded: 0\n",
      "Epoch 70: 100%|████████████████████████████████████████████████████████████| 329/329 [10:18<00:00,  0.53it/s, v_num=14]\n",
      "Val - After Epoch 70: loss=1.752, acc=0.535\n",
      "Epoch 70: 100%|████████████████████████████████████████████████████████████| 329/329 [11:00<00:00,  0.50it/s, v_num=14]\n",
      "Train - After Epoch 70: loss=1.454, acc=0.582\n",
      "Learning rate after epoch 70: 0.000115\n",
      "[Epoch 70] Grad Norms — Total: 22, Vanished: 3, Exploded: 0\n",
      "Epoch 71: 100%|████████████████████████████████████████████████████████████| 329/329 [10:18<00:00,  0.53it/s, v_num=14]\n",
      "Val - After Epoch 71: loss=1.744, acc=0.522\n",
      "Epoch 71: 100%|████████████████████████████████████████████████████████████| 329/329 [11:00<00:00,  0.50it/s, v_num=14]"
     ]
    },
    {
     "name": "stderr",
     "output_type": "stream",
     "text": [
      "Metric val_loss improved by 0.002 >= min_delta = 0.0. New best score: 1.744\n"
     ]
    },
    {
     "name": "stdout",
     "output_type": "stream",
     "text": [
      "\n",
      "Train - After Epoch 71: loss=1.447, acc=0.583\n",
      "Learning rate after epoch 71: 0.000115\n",
      "[Epoch 71] Grad Norms — Total: 22, Vanished: 3, Exploded: 0\n",
      "Epoch 72: 100%|████████████████████████████████████████████████████████████| 329/329 [10:18<00:00,  0.53it/s, v_num=14]\n",
      "Val - After Epoch 72: loss=1.743, acc=0.518\n",
      "Epoch 72: 100%|████████████████████████████████████████████████████████████| 329/329 [10:59<00:00,  0.50it/s, v_num=14]"
     ]
    },
    {
     "name": "stderr",
     "output_type": "stream",
     "text": [
      "Metric val_loss improved by 0.001 >= min_delta = 0.0. New best score: 1.743\n"
     ]
    },
    {
     "name": "stdout",
     "output_type": "stream",
     "text": [
      "\n",
      "Train - After Epoch 72: loss=1.443, acc=0.583\n",
      "Learning rate after epoch 72: 0.000115\n",
      "[Epoch 72] Grad Norms — Total: 22, Vanished: 3, Exploded: 0\n",
      "Epoch 73: 100%|████████████████████████████████████████████████████████████| 329/329 [10:18<00:00,  0.53it/s, v_num=14]\n",
      "Val - After Epoch 73: loss=1.751, acc=0.525\n",
      "Epoch 73: 100%|████████████████████████████████████████████████████████████| 329/329 [11:00<00:00,  0.50it/s, v_num=14]\n",
      "Train - After Epoch 73: loss=1.441, acc=0.582\n",
      "Learning rate after epoch 73: 0.000115\n",
      "[Epoch 73] Grad Norms — Total: 22, Vanished: 3, Exploded: 0\n",
      "Epoch 74: 100%|████████████████████████████████████████████████████████████| 329/329 [10:18<00:00,  0.53it/s, v_num=14]\n",
      "Val - After Epoch 74: loss=1.762, acc=0.526\n",
      "Epoch 74: 100%|████████████████████████████████████████████████████████████| 329/329 [11:00<00:00,  0.50it/s, v_num=14]\n",
      "Train - After Epoch 74: loss=1.429, acc=0.587\n",
      "Learning rate after epoch 74: 0.000115\n",
      "[Epoch 74] Grad Norms — Total: 22, Vanished: 3, Exploded: 0\n",
      "Epoch 75: 100%|████████████████████████████████████████████████████████████| 329/329 [10:18<00:00,  0.53it/s, v_num=14]\n",
      "Val - After Epoch 75: loss=1.762, acc=0.520\n",
      "Epoch 75: 100%|████████████████████████████████████████████████████████████| 329/329 [11:00<00:00,  0.50it/s, v_num=14]\n",
      "Train - After Epoch 75: loss=1.437, acc=0.588\n",
      "Learning rate after epoch 75: 0.000115\n",
      "[Epoch 75] Grad Norms — Total: 22, Vanished: 3, Exploded: 0\n",
      "Epoch 76: 100%|████████████████████████████████████████████████████████████| 329/329 [10:18<00:00,  0.53it/s, v_num=14]\n",
      "Val - After Epoch 76: loss=1.754, acc=0.529\n",
      "Epoch 76: 100%|████████████████████████████████████████████████████████████| 329/329 [11:00<00:00,  0.50it/s, v_num=14]\n",
      "Train - After Epoch 76: loss=1.424, acc=0.589\n",
      "Learning rate after epoch 76: 0.000115\n",
      "[Epoch 76] Grad Norms — Total: 22, Vanished: 3, Exploded: 0\n",
      "Epoch 77: 100%|████████████████████████████████████████████████████████████| 329/329 [10:18<00:00,  0.53it/s, v_num=14]\n",
      "Val - After Epoch 77: loss=1.722, acc=0.532\n",
      "Epoch 77: 100%|████████████████████████████████████████████████████████████| 329/329 [10:59<00:00,  0.50it/s, v_num=14]"
     ]
    },
    {
     "name": "stderr",
     "output_type": "stream",
     "text": [
      "Metric val_loss improved by 0.021 >= min_delta = 0.0. New best score: 1.722\n"
     ]
    },
    {
     "name": "stdout",
     "output_type": "stream",
     "text": [
      "\n",
      "Train - After Epoch 77: loss=1.386, acc=0.600\n",
      "Learning rate after epoch 77: 5.75e-05\n",
      "[Epoch 77] Grad Norms — Total: 22, Vanished: 3, Exploded: 0\n",
      "Epoch 78: 100%|████████████████████████████████████████████████████████████| 329/329 [10:18<00:00,  0.53it/s, v_num=14]\n",
      "Val - After Epoch 78: loss=1.705, acc=0.535\n",
      "Epoch 78: 100%|████████████████████████████████████████████████████████████| 329/329 [11:00<00:00,  0.50it/s, v_num=14]"
     ]
    },
    {
     "name": "stderr",
     "output_type": "stream",
     "text": [
      "Metric val_loss improved by 0.017 >= min_delta = 0.0. New best score: 1.705\n"
     ]
    },
    {
     "name": "stdout",
     "output_type": "stream",
     "text": [
      "\n",
      "Train - After Epoch 78: loss=1.385, acc=0.601\n",
      "Learning rate after epoch 78: 5.75e-05\n",
      "[Epoch 78] Grad Norms — Total: 22, Vanished: 3, Exploded: 0\n",
      "Epoch 79: 100%|████████████████████████████████████████████████████████████| 329/329 [10:18<00:00,  0.53it/s, v_num=14]\n",
      "Val - After Epoch 79: loss=1.698, acc=0.544\n",
      "Epoch 79: 100%|████████████████████████████████████████████████████████████| 329/329 [10:59<00:00,  0.50it/s, v_num=14]"
     ]
    },
    {
     "name": "stderr",
     "output_type": "stream",
     "text": [
      "Metric val_loss improved by 0.006 >= min_delta = 0.0. New best score: 1.698\n"
     ]
    },
    {
     "name": "stdout",
     "output_type": "stream",
     "text": [
      "\n",
      "Train - After Epoch 79: loss=1.371, acc=0.602\n",
      "Learning rate after epoch 79: 5.75e-05\n",
      "[Epoch 79] Grad Norms — Total: 22, Vanished: 3, Exploded: 0\n",
      "Epoch 80: 100%|████████████████████████████████████████████████████████████| 329/329 [10:18<00:00,  0.53it/s, v_num=14]\n",
      "Val - After Epoch 80: loss=1.695, acc=0.537\n",
      "Epoch 80: 100%|████████████████████████████████████████████████████████████| 329/329 [10:59<00:00,  0.50it/s, v_num=14]"
     ]
    },
    {
     "name": "stderr",
     "output_type": "stream",
     "text": [
      "Metric val_loss improved by 0.003 >= min_delta = 0.0. New best score: 1.695\n"
     ]
    },
    {
     "name": "stdout",
     "output_type": "stream",
     "text": [
      "\n",
      "Train - After Epoch 80: loss=1.382, acc=0.600\n",
      "Learning rate after epoch 80: 5.75e-05\n",
      "[Epoch 80] Grad Norms — Total: 22, Vanished: 3, Exploded: 0\n",
      "Epoch 81: 100%|████████████████████████████████████████████████████████████| 329/329 [10:18<00:00,  0.53it/s, v_num=14]\n",
      "Val - After Epoch 81: loss=1.742, acc=0.527\n",
      "Epoch 81: 100%|████████████████████████████████████████████████████████████| 329/329 [11:00<00:00,  0.50it/s, v_num=14]\n",
      "Train - After Epoch 81: loss=1.368, acc=0.606\n",
      "Learning rate after epoch 81: 5.75e-05\n",
      "[Epoch 81] Grad Norms — Total: 22, Vanished: 3, Exploded: 0\n",
      "Epoch 82: 100%|████████████████████████████████████████████████████████████| 329/329 [10:48<00:00,  0.51it/s, v_num=14]\n",
      "Val - After Epoch 82: loss=1.733, acc=0.534\n",
      "Epoch 82: 100%|████████████████████████████████████████████████████████████| 329/329 [11:30<00:00,  0.48it/s, v_num=14]\n",
      "Train - After Epoch 82: loss=1.362, acc=0.609\n",
      "Learning rate after epoch 82: 5.75e-05\n",
      "[Epoch 82] Grad Norms — Total: 22, Vanished: 3, Exploded: 0\n",
      "Epoch 83: 100%|████████████████████████████████████████████████████████████| 329/329 [10:17<00:00,  0.53it/s, v_num=14]\n",
      "Val - After Epoch 83: loss=1.698, acc=0.541\n",
      "Epoch 83: 100%|████████████████████████████████████████████████████████████| 329/329 [10:57<00:00,  0.50it/s, v_num=14]\n",
      "Train - After Epoch 83: loss=1.360, acc=0.608\n",
      "Learning rate after epoch 83: 5.75e-05\n",
      "[Epoch 83] Grad Norms — Total: 22, Vanished: 3, Exploded: 0\n",
      "Epoch 84: 100%|████████████████████████████████████████████████████████████| 329/329 [10:20<00:00,  0.53it/s, v_num=14]\n",
      "Val - After Epoch 84: loss=1.706, acc=0.534\n",
      "Epoch 84: 100%|████████████████████████████████████████████████████████████| 329/329 [11:03<00:00,  0.50it/s, v_num=14]\n",
      "Train - After Epoch 84: loss=1.363, acc=0.605\n",
      "Learning rate after epoch 84: 5.75e-05\n",
      "[Epoch 84] Grad Norms — Total: 22, Vanished: 3, Exploded: 0\n",
      "Epoch 85: 100%|████████████████████████████████████████████████████████████| 329/329 [10:20<00:00,  0.53it/s, v_num=14]\n",
      "Val - After Epoch 85: loss=1.697, acc=0.550\n",
      "Epoch 85: 100%|████████████████████████████████████████████████████████████| 329/329 [11:02<00:00,  0.50it/s, v_num=14]\n",
      "Train - After Epoch 85: loss=1.346, acc=0.612\n",
      "Learning rate after epoch 85: 2.875e-05\n",
      "[Epoch 85] Grad Norms — Total: 22, Vanished: 3, Exploded: 0\n",
      "Epoch 86: 100%|████████████████████████████████████████████████████████████| 329/329 [10:18<00:00,  0.53it/s, v_num=14]\n",
      "Val - After Epoch 86: loss=1.698, acc=0.543\n",
      "Epoch 86: 100%|████████████████████████████████████████████████████████████| 329/329 [11:00<00:00,  0.50it/s, v_num=14]\n",
      "Train - After Epoch 86: loss=1.341, acc=0.612\n",
      "Learning rate after epoch 86: 2.875e-05\n",
      "[Epoch 86] Grad Norms — Total: 22, Vanished: 3, Exploded: 0\n",
      "Epoch 87: 100%|████████████████████████████████████████████████████████████| 329/329 [10:20<00:00,  0.53it/s, v_num=14]\n",
      "Val - After Epoch 87: loss=1.679, acc=0.549\n",
      "Epoch 87: 100%|████████████████████████████████████████████████████████████| 329/329 [11:02<00:00,  0.50it/s, v_num=14]"
     ]
    },
    {
     "name": "stderr",
     "output_type": "stream",
     "text": [
      "Metric val_loss improved by 0.016 >= min_delta = 0.0. New best score: 1.679\n"
     ]
    },
    {
     "name": "stdout",
     "output_type": "stream",
     "text": [
      "\n",
      "Train - After Epoch 87: loss=1.334, acc=0.613\n",
      "Learning rate after epoch 87: 2.875e-05\n",
      "[Epoch 87] Grad Norms — Total: 22, Vanished: 3, Exploded: 0\n",
      "Epoch 88: 100%|████████████████████████████████████████████████████████████| 329/329 [10:21<00:00,  0.53it/s, v_num=14]\n",
      "Val - After Epoch 88: loss=1.697, acc=0.541\n",
      "Epoch 88: 100%|████████████████████████████████████████████████████████████| 329/329 [11:01<00:00,  0.50it/s, v_num=14]\n",
      "Train - After Epoch 88: loss=1.332, acc=0.613\n",
      "Learning rate after epoch 88: 2.875e-05\n",
      "[Epoch 88] Grad Norms — Total: 22, Vanished: 3, Exploded: 0\n",
      "Epoch 89: 100%|████████████████████████████████████████████████████████████| 329/329 [10:23<00:00,  0.53it/s, v_num=14]\n",
      "Val - After Epoch 89: loss=1.685, acc=0.543\n",
      "Epoch 89: 100%|████████████████████████████████████████████████████████████| 329/329 [11:02<00:00,  0.50it/s, v_num=14]\n",
      "Train - After Epoch 89: loss=1.329, acc=0.611\n",
      "Learning rate after epoch 89: 2.875e-05\n",
      "[Epoch 89] Grad Norms — Total: 22, Vanished: 3, Exploded: 0\n",
      "Epoch 90: 100%|████████████████████████████████████████████████████████████| 329/329 [09:51<00:00,  0.56it/s, v_num=14]\n",
      "Val - After Epoch 90: loss=1.671, acc=0.549\n",
      "Epoch 90: 100%|████████████████████████████████████████████████████████████| 329/329 [10:35<00:00,  0.52it/s, v_num=14]"
     ]
    },
    {
     "name": "stderr",
     "output_type": "stream",
     "text": [
      "Metric val_loss improved by 0.008 >= min_delta = 0.0. New best score: 1.671\n"
     ]
    },
    {
     "name": "stdout",
     "output_type": "stream",
     "text": [
      "\n",
      "Train - After Epoch 90: loss=1.332, acc=0.613\n",
      "Learning rate after epoch 90: 2.875e-05\n",
      "[Epoch 90] Grad Norms — Total: 22, Vanished: 3, Exploded: 0\n",
      "Epoch 91: 100%|████████████████████████████████████████████████████████████| 329/329 [09:50<00:00,  0.56it/s, v_num=14]\n",
      "Val - After Epoch 91: loss=1.686, acc=0.544\n",
      "Epoch 91: 100%|████████████████████████████████████████████████████████████| 329/329 [10:30<00:00,  0.52it/s, v_num=14]\n",
      "Train - After Epoch 91: loss=1.334, acc=0.613\n",
      "Learning rate after epoch 91: 2.875e-05\n",
      "[Epoch 91] Grad Norms — Total: 22, Vanished: 3, Exploded: 0\n",
      "Epoch 92: 100%|████████████████████████████████████████████████████████████| 329/329 [10:23<00:00,  0.53it/s, v_num=14]\n",
      "Val - After Epoch 92: loss=1.691, acc=0.544\n",
      "Epoch 92: 100%|████████████████████████████████████████████████████████████| 329/329 [11:03<00:00,  0.50it/s, v_num=14]\n",
      "Train - After Epoch 92: loss=1.333, acc=0.614\n",
      "Learning rate after epoch 92: 2.875e-05\n",
      "[Epoch 92] Grad Norms — Total: 22, Vanished: 3, Exploded: 0\n",
      "Epoch 93: 100%|████████████████████████████████████████████████████████████| 329/329 [10:20<00:00,  0.53it/s, v_num=14]\n",
      "Val - After Epoch 93: loss=1.690, acc=0.538\n",
      "Epoch 93: 100%|████████████████████████████████████████████████████████████| 329/329 [11:01<00:00,  0.50it/s, v_num=14]\n",
      "Train - After Epoch 93: loss=1.321, acc=0.615\n",
      "Learning rate after epoch 93: 2.875e-05\n",
      "[Epoch 93] Grad Norms — Total: 22, Vanished: 3, Exploded: 0\n",
      "Epoch 94: 100%|████████████████████████████████████████████████████████████| 329/329 [10:20<00:00,  0.53it/s, v_num=14]\n",
      "Val - After Epoch 94: loss=1.679, acc=0.542\n",
      "Epoch 94: 100%|████████████████████████████████████████████████████████████| 329/329 [11:01<00:00,  0.50it/s, v_num=14]\n",
      "Train - After Epoch 94: loss=1.332, acc=0.613\n",
      "Learning rate after epoch 94: 2.875e-05\n",
      "[Epoch 94] Grad Norms — Total: 22, Vanished: 3, Exploded: 0\n",
      "Epoch 95: 100%|████████████████████████████████████████████████████████████| 329/329 [10:17<00:00,  0.53it/s, v_num=14]\n",
      "Val - After Epoch 95: loss=1.699, acc=0.543\n",
      "Epoch 95: 100%|████████████████████████████████████████████████████████████| 329/329 [10:59<00:00,  0.50it/s, v_num=14]\n",
      "Train - After Epoch 95: loss=1.310, acc=0.620\n",
      "Learning rate after epoch 95: 1.4375e-05\n",
      "[Epoch 95] Grad Norms — Total: 22, Vanished: 3, Exploded: 0\n",
      "Epoch 96: 100%|████████████████████████████████████████████████████████████| 329/329 [10:20<00:00,  0.53it/s, v_num=14]\n",
      "Val - After Epoch 96: loss=1.706, acc=0.540\n",
      "Epoch 96: 100%|████████████████████████████████████████████████████████████| 329/329 [11:01<00:00,  0.50it/s, v_num=14]\n",
      "Train - After Epoch 96: loss=1.317, acc=0.616\n",
      "Learning rate after epoch 96: 1.4375e-05\n",
      "[Epoch 96] Grad Norms — Total: 22, Vanished: 3, Exploded: 0\n",
      "Epoch 97: 100%|████████████████████████████████████████████████████████████| 329/329 [10:19<00:00,  0.53it/s, v_num=14]\n",
      "Val - After Epoch 97: loss=1.683, acc=0.539\n",
      "Epoch 97: 100%|████████████████████████████████████████████████████████████| 329/329 [11:01<00:00,  0.50it/s, v_num=14]\n",
      "Train - After Epoch 97: loss=1.320, acc=0.616\n",
      "Learning rate after epoch 97: 1.4375e-05\n",
      "[Epoch 97] Grad Norms — Total: 22, Vanished: 3, Exploded: 0\n",
      "Epoch 98: 100%|████████████████████████████████████████████████████████████| 329/329 [10:19<00:00,  0.53it/s, v_num=14]\n",
      "Val - After Epoch 98: loss=1.688, acc=0.546\n",
      "Epoch 98: 100%|████████████████████████████████████████████████████████████| 329/329 [11:01<00:00,  0.50it/s, v_num=14]\n",
      "Train - After Epoch 98: loss=1.315, acc=0.616\n",
      "Learning rate after epoch 98: 1.4375e-05\n",
      "[Epoch 98] Grad Norms — Total: 22, Vanished: 3, Exploded: 0\n",
      "Epoch 99: 100%|████████████████████████████████████████████████████████████| 329/329 [10:19<00:00,  0.53it/s, v_num=14]\n",
      "Val - After Epoch 99: loss=1.685, acc=0.549\n",
      "Epoch 99: 100%|████████████████████████████████████████████████████████████| 329/329 [11:01<00:00,  0.50it/s, v_num=14]"
     ]
    },
    {
     "name": "stderr",
     "output_type": "stream",
     "text": [
      "Monitored metric val_loss did not improve in the last 9 records. Best score: 1.671. Signaling Trainer to stop.\n",
      "`Trainer.fit` stopped: `max_epochs=100` reached.\n"
     ]
    },
    {
     "name": "stdout",
     "output_type": "stream",
     "text": [
      "\n",
      "Train - After Epoch 99: loss=1.305, acc=0.619\n",
      "Learning rate after epoch 99: 7.1875e-06\n",
      "[Epoch 99] Grad Norms — Total: 22, Vanished: 3, Exploded: 0\n",
      "Epoch 99: 100%|████████████████████████████████████████████████████████████| 329/329 [11:01<00:00,  0.50it/s, v_num=14]\n"
     ]
    }
   ],
   "source": [
    "datamodule = DataModule(batch_size=64, num_workers=8)\n",
    "datamodule.setup()\n",
    "model = ConvolutionalNetwork(class_labels=class_names)\n",
    "trainer = pl.Trainer(logger=logger,\n",
    "                     callbacks=[MinimalProgressBar(), checkpoint_callback, early_stop_callback], \n",
    "                     default_root_dir=\"\\\\training_output\", \n",
    "                     max_epochs=100)\n",
    "trainer.fit(model, datamodule)"
   ]
  },
  {
   "cell_type": "code",
   "execution_count": 19,
   "metadata": {},
   "outputs": [
    {
     "data": {
      "image/png": "[encoded data removed]",
      "text/plain": [
       "<Figure size 1000x500 with 1 Axes>"
      ]
     },
     "metadata": {},
     "output_type": "display_data"
    }
   ],
   "source": [
    "#Plotting train and validation loss\n",
    "epochs = range(1, len(model.training_losses) + 1)\n",
    "plt.figure(figsize=(10, 5))\n",
    "plt.plot(epochs, model.training_losses, label='Training Loss')\n",
    "plt.plot(epochs, model.validation_losses[1:], label='Validation Loss')\n",
    "plt.xlabel('Epoch')\n",
    "plt.ylabel('Loss')\n",
    "plt.title('Training and Validation Loss')\n",
    "plt.legend()\n",
    "plt.grid(True)\n",
    "plt.tight_layout()\n",
    "plt.show()"
   ]
  },
  {
   "cell_type": "code",
   "execution_count": 20,
   "metadata": {},
   "outputs": [
    {
     "data": {
      "image/png": "[encoded data removed]",
      "text/plain": [
       "<Figure size 1000x500 with 1 Axes>"
      ]
     },
     "metadata": {},
     "output_type": "display_data"
    }
   ],
   "source": [
    "#Plotting train and validation accuracy\n",
    "epochs = range(1, len(model.training_accuracies) + 1)\n",
    "plt.figure(figsize=(10, 5))\n",
    "plt.plot(epochs, [a*100 for a in model.training_accuracies], label='Training Accuracy')\n",
    "plt.plot(epochs, [a*100 for a in model.validation_accuracies[1:]], label='Validation Accuracy')\n",
    "plt.xlabel('Epoch')\n",
    "plt.ylabel('Accuracy')\n",
    "plt.title('Training and Validation Accuracies')\n",
    "plt.legend()\n",
    "plt.grid(True)\n",
    "plt.tight_layout()\n",
    "plt.show()"
   ]
  },
  {
   "cell_type": "code",
   "execution_count": 21,
   "metadata": {},
   "outputs": [
    {
     "name": "stdout",
     "output_type": "stream",
     "text": [
      "Total parameters: 13306066\n",
      "Trainable parameters: 13306066\n"
     ]
    }
   ],
   "source": [
    "# Count total parameters\n",
    "total_params = sum(p.numel() for p in model.parameters())\n",
    "\n",
    "# Count only trainable parameters\n",
    "trainable_params = sum(p.numel() for p in model.parameters() if p.requires_grad)\n",
    "\n",
    "print(f\"Total parameters: {total_params}\")\n",
    "print(f\"Trainable parameters: {trainable_params}\")"
   ]
  },
  {
   "cell_type": "markdown",
   "metadata": {},
   "source": [
    "#### Model size: 13.3 million parameters"
   ]
  },
  {
   "cell_type": "code",
   "execution_count": null,
   "metadata": {},
   "outputs": [],
   "source": []
  }
 ],
 "metadata": {
  "kernelspec": {
   "display_name": "torch_gpu_env",
   "language": "python",
   "name": "torch_gpu_env"
  },
  "language_info": {
   "codemirror_mode": {
    "name": "ipython",
    "version": 3
   },
   "file_extension": ".py",
   "mimetype": "text/x-python",
   "name": "python",
   "nbconvert_exporter": "python",
   "pygments_lexer": "ipython3",
   "version": "3.10.16"
  }
 },
 "nbformat": 4,
 "nbformat_minor": 5
}
