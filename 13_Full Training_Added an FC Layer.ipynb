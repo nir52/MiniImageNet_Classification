{
 "cells": [
  {
   "cell_type": "code",
   "execution_count": 1,
   "metadata": {},
   "outputs": [],
   "source": [
    "import os\n",
    "import random\n",
    "import numpy as np\n",
    "import pandas as pd\n",
    "from tqdm import tqdm\n",
    "from datetime import datetime"
   ]
  },
  {
   "cell_type": "code",
   "execution_count": 2,
   "metadata": {},
   "outputs": [],
   "source": [
    "import torch\n",
    "import torch.nn as nn\n",
    "import torch.nn.functional as F\n",
    "from torch.utils.data import random_split, SubsetRandomSampler, DataLoader, Dataset, Subset\n",
    "from torchvision import datasets, transforms, models \n",
    "from torchvision.utils import make_grid\n",
    "from pytorch_lightning.callbacks.progress import TQDMProgressBar\n",
    "from pytorch_lightning.callbacks import ModelCheckpoint, EarlyStopping\n",
    "import pytorch_lightning as pl\n",
    "from pytorch_lightning.loggers import TensorBoardLogger"
   ]
  },
  {
   "cell_type": "code",
   "execution_count": 3,
   "metadata": {},
   "outputs": [],
   "source": [
    "from PIL import Image\n",
    "import matplotlib.pyplot as plt\n",
    "from sklearn.model_selection import train_test_split\n",
    "from sklearn.metrics import classification_report"
   ]
  },
  {
   "cell_type": "code",
   "execution_count": 4,
   "metadata": {},
   "outputs": [
    {
     "data": {
      "text/plain": [
       "'2.5.1'"
      ]
     },
     "execution_count": 4,
     "metadata": {},
     "output_type": "execute_result"
    }
   ],
   "source": [
    "torch.__version__"
   ]
  },
  {
   "cell_type": "code",
   "execution_count": 5,
   "metadata": {},
   "outputs": [
    {
     "data": {
      "text/plain": [
       "'2.5.1.post0'"
      ]
     },
     "execution_count": 5,
     "metadata": {},
     "output_type": "execute_result"
    }
   ],
   "source": [
    "pl.__version__"
   ]
  },
  {
   "cell_type": "code",
   "execution_count": 6,
   "metadata": {},
   "outputs": [],
   "source": [
    "# Setting dataset path\n",
    "path = \"E:\\\\mini_ImageNet\\\\archive\\\\\""
   ]
  },
  {
   "cell_type": "code",
   "execution_count": 7,
   "metadata": {},
   "outputs": [
    {
     "name": "stdout",
     "output_type": "stream",
     "text": [
      "Mean: [0.4764, 0.4491, 0.4001]\n",
      "Std: [0.2264, 0.2224, 0.2212]\n"
     ]
    }
   ],
   "source": [
    "#Using the previously calculated values (first notebook) of mean and std of the images in this dataset\n",
    "mean = [0.4764, 0.4491, 0.4001]\n",
    "std = [0.2264, 0.2224, 0.2212]\n",
    "\n",
    "print(\"Mean:\", mean)\n",
    "print(\"Std:\", std)"
   ]
  },
  {
   "cell_type": "code",
   "execution_count": null,
   "metadata": {},
   "outputs": [],
   "source": []
  },
  {
   "cell_type": "markdown",
   "metadata": {},
   "source": [
    "### Image Transforms"
   ]
  },
  {
   "cell_type": "code",
   "execution_count": 8,
   "metadata": {},
   "outputs": [],
   "source": [
    "transform=transforms.Compose([\n",
    "        transforms.Resize(224),             # resize shortest side to 224 pixels\n",
    "        transforms.CenterCrop(224),         # crop longest side to 224 pixels at center\n",
    "        transforms.ToTensor(),\n",
    "        transforms.Normalize(mean, std),\n",
    "    \n",
    "        transforms.RandomRotation(20),      # rotate +/- 20 degrees\n",
    "        transforms.RandomHorizontalFlip(p=0.25),  # flip 24% of images\n",
    "#         transforms.ColorJitter(brightness=0.2, contrast=0.2, saturation=0.2),  \n",
    "        transforms.RandomAffine(degrees=0, translate=(0.2, 0.2), scale=(0.8, 1.2)),\n",
    "        transforms.RandomApply([transforms.ColorJitter(brightness=0.2, contrast=0.2, \n",
    "                                                       saturation=0.2)], p=0.5), # jitters by +/- given value\n",
    "        transforms.RandomApply([transforms.GaussianBlur(kernel_size=3, sigma=(0.1, 0.7))], p=0.3)\n",
    "    ])\n",
    "#https://docs.pytorch.org/vision/main/transforms.html"
   ]
  },
  {
   "cell_type": "code",
   "execution_count": 9,
   "metadata": {},
   "outputs": [],
   "source": [
    "#Getting class names from the folder names of images\n",
    "class_names=sorted(os.listdir(path))\n",
    "class_names = ['_'.join(c.split('_')[:-1]) for c in class_names]"
   ]
  },
  {
   "cell_type": "markdown",
   "metadata": {},
   "source": [
    "### Data Module"
   ]
  },
  {
   "cell_type": "code",
   "execution_count": 10,
   "metadata": {},
   "outputs": [],
   "source": [
    "class DataModule(pl.LightningDataModule):\n",
    "    \n",
    "    def __init__(self, batch_size:int=32, num_workers:int=4, transform=transform):\n",
    "        super().__init__()\n",
    "        # self.root_dir = \"/kaggle/input/miniimagenet\"\n",
    "        self.root_dir = path\n",
    "        self.transform = transform\n",
    "        self.batch_size = batch_size\n",
    "        self.num_w = num_workers\n",
    "\n",
    "    def setup(self, stage=None):\n",
    "        dataset = datasets.ImageFolder(root=self.root_dir, transform=self.transform)\n",
    "        n_data = len(dataset)\n",
    "        n_train = int(0.7 * n_data)\n",
    "        n_valid = int(0.2 * n_data)\n",
    "        n_test = n_data - n_train - n_valid\n",
    "        \n",
    "        self.train_dataset, self.val_dataset, self.test_dataset = torch.utils.data.random_split(dataset, [n_train, n_valid, n_test])\n",
    "        \n",
    "    \n",
    "    def train_dataloader(self):\n",
    "        return DataLoader(self.train_dataset, batch_size=self.batch_size, shuffle=True, \n",
    "                  num_workers=self.num_w, persistent_workers=True)\n",
    "    \n",
    "    def val_dataloader(self):\n",
    "        return DataLoader(self.val_dataset, batch_size=self.batch_size, \n",
    "                  num_workers=self.num_w, persistent_workers=True)\n",
    "    \n",
    "    def test_dataloader(self):\n",
    "        return DataLoader(self.test_dataset, batch_size=self.batch_size, \n",
    "                  num_workers=self.num_w, persistent_workers=True)\n",
    "        "
   ]
  },
  {
   "cell_type": "markdown",
   "metadata": {},
   "source": [
    "### CNN Classifier"
   ]
  },
  {
   "cell_type": "code",
   "execution_count": 19,
   "metadata": {},
   "outputs": [],
   "source": [
    "class ConvolutionalNetwork(pl.LightningModule):\n",
    "    \n",
    "    def __init__(self, class_labels, numChannels:int=3):\n",
    "        super(ConvolutionalNetwork, self).__init__()\n",
    "        \n",
    "        #Initializing variable to collect grad norms \n",
    "        self._grad_norms = {}\n",
    "        \n",
    "        ##Initializing channel sizes for different layers\n",
    "        \n",
    "        self.conv1_out_channels = 64\n",
    "        self.conv2_out_channels = 96\n",
    "        self.conv3_out_channels = 128\n",
    "        self.conv4_out_channels = 128\n",
    "        \n",
    "        self.fc1_out_features = 512\n",
    "        self.fc2_out_features = 256\n",
    "        self.fc3_out_features = 128\n",
    "        self.fc4_out_features = len(class_labels)\n",
    "        \n",
    "        #Initializing lists to store train and val accuracies and losses\n",
    "        self.training_accuracies = []\n",
    "        self.validation_accuracies = []\n",
    "        self.training_losses = []\n",
    "        self.validation_losses = []\n",
    "\n",
    "\n",
    "        #First conv layer block\n",
    "        self.conv1 = nn.Conv2d(in_channels=numChannels, out_channels=self.conv1_out_channels, \n",
    "                               kernel_size=3, stride=1, padding=1)\n",
    "        self.bn1 = nn.BatchNorm2d(self.conv1_out_channels)\n",
    "        self.act1 = nn.LeakyReLU(0.05)          #also try leaky relu\n",
    "        self.pool1 = nn.MaxPool2d(kernel_size=2, stride=2)\n",
    "        \n",
    "        \n",
    "        #Second conv layer block\n",
    "        self.conv2 = nn.Conv2d(in_channels=self.conv1_out_channels, out_channels=self.conv2_out_channels, \n",
    "                               kernel_size=3, stride=1, padding=1)\n",
    "        self.bn2 = nn.BatchNorm2d(self.conv2_out_channels)\n",
    "        self.act2 = nn.LeakyReLU(0.05)\n",
    "        self.pool2 = nn.MaxPool2d(kernel_size=2, stride=2)\n",
    "        \n",
    "        \n",
    "        #Third conv layer block\n",
    "        self.conv3 = nn.Conv2d(in_channels=self.conv2_out_channels, out_channels=self.conv3_out_channels, \n",
    "                               kernel_size=3, stride=1, padding=1)\n",
    "        self.bn3 = nn.BatchNorm2d(self.conv3_out_channels)\n",
    "        self.act3 = nn.LeakyReLU(0.05)\n",
    "        self.pool3 = nn.MaxPool2d(kernel_size=2, stride=2)\n",
    "        \n",
    "        \n",
    "        #Fourth conv layer block\n",
    "        self.conv4 = nn.Conv2d(in_channels=self.conv3_out_channels, out_channels=self.conv4_out_channels, \n",
    "                               kernel_size=3, stride=1, padding=1)\n",
    "        self.bn4 = nn.BatchNorm2d(self.conv4_out_channels)\n",
    "        self.act4 = nn.LeakyReLU(0.05)\n",
    "        self.pool4 = nn.MaxPool2d(kernel_size=2, stride=2)\n",
    "        \n",
    "        \n",
    "        # Flatten\n",
    "        self.flatten = nn.Flatten()\n",
    "        \n",
    "        #Fully connected layers\n",
    "        self.fc1 = nn.LazyLinear(self.fc1_out_features)    #try bias=True ?\n",
    "        self.dropout1 = nn.Dropout(0.291)\n",
    "        self.act_fc1 = nn.LeakyReLU(0.05)\n",
    "        \n",
    "        self.fc2 = nn.Linear(in_features=self.fc1_out_features, out_features=self.fc2_out_features)\n",
    "        self.dropout2 = nn.Dropout(0.334)\n",
    "        self.act_fc2 = nn.LeakyReLU(0.05)\n",
    "        \n",
    "        self.fc3 = nn.Linear(in_features=self.fc2_out_features, out_features=self.fc3_out_features)\n",
    "        self.dropout3 = nn.Dropout(0.3)\n",
    "        self.act_fc3 = nn.LeakyReLU(0.05)\n",
    "        \n",
    "        self.fc4 = nn.Linear(in_features=self.fc3_out_features, out_features=self.fc4_out_features)\n",
    "        self.output_activation  = nn.LogSoftmax(dim=1)\n",
    "        \n",
    "    # convolution output size formula: https://i.sstatic.net/vD1u3.png\n",
    "    \n",
    "    \n",
    "    def forward(self, x):\n",
    "        x = self.act1(self.bn1(self.conv1(x)))\n",
    "        x = self.pool1(x)\n",
    "        x = self.act2(self.bn2(self.conv2(x)))\n",
    "        x = self.pool2(x)\n",
    "        x = self.act3(self.bn3(self.conv3(x)))\n",
    "        x = self.pool3(x)\n",
    "        x = self.act4(self.bn4(self.conv4(x)))\n",
    "        x = self.pool4(x)\n",
    "        \n",
    "        x = self.flatten(x)\n",
    "        \n",
    "        x = self.dropout1(self.act_fc1(self.fc1(x)))\n",
    "        x = self.dropout2(self.act_fc2(self.fc2(x)))\n",
    "        x = self.dropout3(self.act_fc3(self.fc3(x)))\n",
    "        x = self.output_activation(self.fc4(x))\n",
    "        \n",
    "        return x\n",
    "    \n",
    "    \n",
    "    def configure_optimizers(self):\n",
    "        optimizer = torch.optim.Adam(self.parameters(), lr=0.00046)\n",
    "        scheduler = {\n",
    "            'scheduler': torch.optim.lr_scheduler.ReduceLROnPlateau(optimizer, mode='min', patience=3, factor=0.5, verbose=True),\n",
    "            'monitor': 'val_loss'\n",
    "        }\n",
    "        return {\"optimizer\": optimizer, \"lr_scheduler\": scheduler}\n",
    "    \n",
    "    \n",
    "    def training_step(self, train_batch, batch_idx):\n",
    "        X, y = train_batch\n",
    "        y_hat = self(X)\n",
    "        loss = F.cross_entropy(y_hat, y)\n",
    "        pred = y_hat.argmax(dim=1, keepdim=True)\n",
    "        acc = (pred.squeeze() == y).float().mean()\n",
    "        self.log(\"train_loss\", loss, on_step=False, on_epoch=True, prog_bar=False)\n",
    "        self.log(\"train_acc\", acc, on_step=False, on_epoch=True, prog_bar=False)\n",
    "        return loss\n",
    "    \n",
    "    \n",
    "    def validation_step(self, val_batch, batch_idx):\n",
    "        X, y = val_batch\n",
    "        y_hat = self(X)\n",
    "        loss = F.cross_entropy(y_hat, y)\n",
    "        pred = y_hat.argmax(dim=1, keepdim=True)\n",
    "        acc = (pred.squeeze() == y).float().mean()\n",
    "        self.log(\"val_loss\", loss, on_step=False, on_epoch=True, prog_bar=False)\n",
    "        self.log(\"val_acc\", acc, on_step=False, on_epoch=True, prog_bar=False)\n",
    "        \n",
    "\n",
    "    def test_step(self, test_batch, batch_idx):\n",
    "        X, y = test_batch\n",
    "        y_hat = self(X)\n",
    "        loss = F.cross_entropy(y_hat, y)\n",
    "        pred = y_hat.argmax(dim=1, keepdim=True)\n",
    "        acc = pred.eq(y.view_as(pred)).sum().item() / y.shape[0]\n",
    "        self.log(\"test_loss\", loss)\n",
    "        self.log(\"test_acc\", acc)\n",
    "        \n",
    "        \n",
    "    def on_train_epoch_end(self):\n",
    "        train_acc = self.trainer.callback_metrics.get(\"train_acc\")\n",
    "        train_loss = self.trainer.callback_metrics.get(\"train_loss\")\n",
    "        if train_acc is not None:\n",
    "            self.training_accuracies.append(train_acc.item())\n",
    "        if train_loss is not None:\n",
    "            self.training_losses.append(train_loss.item())\n",
    "        print(f\"\\nTrain - After Epoch {self.current_epoch}: loss={train_loss:.3f}, acc={train_acc:.3f}\")\n",
    "        for param_group in self.trainer.optimizers[0].param_groups:\n",
    "            print(f\"Learning rate after epoch {self.current_epoch}: {param_group['lr']}\")\n",
    "        \n",
    "        #Calculating average grad norms\n",
    "        vanished_count = 0\n",
    "        exploded_count = 0\n",
    "        total_layers = len(self._grad_norms)\n",
    "\n",
    "        for name, norms in self._grad_norms.items():\n",
    "            avg_norm = sum(norms) / len(norms)\n",
    "\n",
    "            # Log to TensorBoard\n",
    "            self.logger.experiment.add_scalar(f\"grad_norm_epoch_avg/{name}\", avg_norm, self.current_epoch)\n",
    "\n",
    "            # Stats\n",
    "            if avg_norm < 1e-6:\n",
    "                vanished_count += 1\n",
    "            elif avg_norm > 100:\n",
    "                exploded_count += 1\n",
    "\n",
    "        # Log total stats\n",
    "        self.log(\"grad_stats/total_layers\", total_layers, on_epoch=True)\n",
    "        self.log(\"grad_stats/vanished\", vanished_count, on_epoch=True)\n",
    "        self.log(\"grad_stats/exploded\", exploded_count, on_epoch=True)\n",
    "\n",
    "        print(f\"[Epoch {self.current_epoch}] Grad Norms — Total: {total_layers}, Vanished: {vanished_count}, Exploded: {exploded_count}\")\n",
    "\n",
    "        # Reset buffer\n",
    "        self._grad_norms.clear()\n",
    "    \n",
    "\n",
    "    def on_validation_epoch_end(self):\n",
    "        val_loss = self.trainer.callback_metrics.get(\"val_loss\")\n",
    "        val_acc = self.trainer.callback_metrics.get(\"val_acc\")\n",
    "        if val_acc is not None:\n",
    "            self.validation_accuracies.append(val_acc.item())\n",
    "        if val_loss is not None:\n",
    "            self.validation_losses.append(val_loss.item())\n",
    "        print(f\"\\nVal - After Epoch {self.current_epoch}: loss={val_loss:.3f}, acc={val_acc:.3f}\")\n",
    "    \n",
    "    \n",
    "    def on_train_batch_end(self, outputs, batch, batch_idx, dataloader_idx=0):\n",
    "        for name, param in self.named_parameters():\n",
    "            if param.grad is not None:\n",
    "                norm = param.grad.norm().item()\n",
    "                if name not in self._grad_norms:\n",
    "                    self._grad_norms[name] = []\n",
    "                self._grad_norms[name].append(norm)\n"
   ]
  },
  {
   "cell_type": "code",
   "execution_count": 20,
   "metadata": {},
   "outputs": [],
   "source": [
    "#Removing the Validation DataLoader progress bar between epochs\n",
    "class MinimalProgressBar(TQDMProgressBar):\n",
    "    def init_validation_tqdm(self):\n",
    "        # Return a dummy tqdm with no visible output to disable validation progress bar\n",
    "        # Set total=0 to avoid progress display\n",
    "        return tqdm(disable=True)\n",
    "\n",
    "    def init_test_tqdm(self):\n",
    "        # Same for test dataloader\n",
    "        return tqdm(disable=True)    "
   ]
  },
  {
   "cell_type": "code",
   "execution_count": 21,
   "metadata": {},
   "outputs": [],
   "source": [
    "#Setting seed to fetch the same training data every time\n",
    "timestamp = datetime.now().strftime(format=\"%Y-%m-%d_%H-%M-%S\")"
   ]
  },
  {
   "cell_type": "code",
   "execution_count": 22,
   "metadata": {},
   "outputs": [],
   "source": [
    "#Configuring model checkpointing:\n",
    "checkpoint_callback = ModelCheckpoint(\n",
    "    dirpath=f\"checkpoints\\\\{timestamp}\",                   # Folder to save checkpoints\n",
    "    filename=f\"epoch{{epoch:02d}}-val_loss{{val_loss:.2f}}\", \n",
    "    save_top_k=2,                             \n",
    "    monitor=\"val_loss\",                       # Metric to track best model\n",
    "    mode=\"min\",                               \n",
    "    save_weights_only=False                  # Save full model\n",
    ")"
   ]
  },
  {
   "cell_type": "code",
   "execution_count": 23,
   "metadata": {},
   "outputs": [],
   "source": [
    "#Configuring early stopping callback\n",
    "early_stop_callback = EarlyStopping(\n",
    "    monitor=\"val_loss\",     # or \"val_acc\"\n",
    "    patience=9,             # number of epochs to wait with no improvement\n",
    "    mode=\"min\",             # \"min\" for loss, \"max\" for accuracy\n",
    "    verbose=True\n",
    ")"
   ]
  },
  {
   "cell_type": "code",
   "execution_count": 24,
   "metadata": {},
   "outputs": [],
   "source": [
    "# Create logger\n",
    "logger = TensorBoardLogger(\"tensorboard_logs\", name=\"miniimagenet_cnn\")"
   ]
  },
  {
   "cell_type": "code",
   "execution_count": 25,
   "metadata": {},
   "outputs": [
    {
     "name": "stderr",
     "output_type": "stream",
     "text": [
      "Seed set to 42\n"
     ]
    },
    {
     "data": {
      "text/plain": [
       "42"
      ]
     },
     "execution_count": 25,
     "metadata": {},
     "output_type": "execute_result"
    }
   ],
   "source": [
    "#Setting seed to fetch the same training data every time\n",
    "pl.seed_everything(42, workers=True)  # `workers=True` ensures worker-level reproducibility"
   ]
  },
  {
   "cell_type": "markdown",
   "metadata": {},
   "source": [
    "### Model Training"
   ]
  },
  {
   "cell_type": "code",
   "execution_count": 26,
   "metadata": {},
   "outputs": [
    {
     "name": "stderr",
     "output_type": "stream",
     "text": [
      "GPU available: True (cuda), used: True\n",
      "TPU available: False, using: 0 TPU cores\n",
      "HPU available: False, using: 0 HPUs\n",
      "LOCAL_RANK: 0 - CUDA_VISIBLE_DEVICES: [0]\n",
      "\n",
      "   | Name              | Type        | Params | Mode \n",
      "-----------------------------------------------------------\n",
      "0  | conv1             | Conv2d      | 1.8 K  | train\n",
      "1  | bn1               | BatchNorm2d | 128    | train\n",
      "2  | act1              | LeakyReLU   | 0      | train\n",
      "3  | pool1             | MaxPool2d   | 0      | train\n",
      "4  | conv2             | Conv2d      | 55.4 K | train\n",
      "5  | bn2               | BatchNorm2d | 192    | train\n",
      "6  | act2              | LeakyReLU   | 0      | train\n",
      "7  | pool2             | MaxPool2d   | 0      | train\n",
      "8  | conv3             | Conv2d      | 110 K  | train\n",
      "9  | bn3               | BatchNorm2d | 256    | train\n",
      "10 | act3              | LeakyReLU   | 0      | train\n",
      "11 | pool3             | MaxPool2d   | 0      | train\n",
      "12 | conv4             | Conv2d      | 147 K  | train\n",
      "13 | bn4               | BatchNorm2d | 256    | train\n",
      "14 | act4              | LeakyReLU   | 0      | train\n",
      "15 | pool4             | MaxPool2d   | 0      | train\n",
      "16 | flatten           | Flatten     | 0      | train\n",
      "17 | fc1               | LazyLinear  | 0      | train\n",
      "18 | dropout1          | Dropout     | 0      | train\n",
      "19 | act_fc1           | LeakyReLU   | 0      | train\n",
      "20 | fc2               | Linear      | 131 K  | train\n",
      "21 | dropout2          | Dropout     | 0      | train\n",
      "22 | act_fc2           | LeakyReLU   | 0      | train\n",
      "23 | fc3               | Linear      | 32.9 K | train\n",
      "24 | dropout3          | Dropout     | 0      | train\n",
      "25 | act_fc3           | LeakyReLU   | 0      | train\n",
      "26 | fc4               | Linear      | 6.5 K  | train\n",
      "27 | output_activation | LogSoftmax  | 0      | train\n",
      "-----------------------------------------------------------\n",
      "486 K     Trainable params\n",
      "0         Non-trainable params\n",
      "486 K     Total params\n",
      "1.948     Total estimated model params size (MB)\n",
      "28        Modules in train mode\n",
      "0         Modules in eval mode\n"
     ]
    },
    {
     "name": "stdout",
     "output_type": "stream",
     "text": [
      "Sanity Checking DataLoader 0: 100%|██████████████████████████████████████████████████████| 2/2 [00:00<00:00,  3.44it/s]\n",
      "Val - After Epoch 0: loss=3.917, acc=0.000\n",
      "Epoch 0: 100%|█████████████████████████████████████████████████████████████| 329/329 [01:36<00:00,  3.41it/s, v_num=13]\n",
      "Val - After Epoch 0: loss=3.583, acc=0.081\n",
      "Epoch 0: 100%|█████████████████████████████████████████████████████████████| 329/329 [01:59<00:00,  2.76it/s, v_num=13]"
     ]
    },
    {
     "name": "stderr",
     "output_type": "stream",
     "text": [
      "Metric val_loss improved. New best score: 3.583\n"
     ]
    },
    {
     "name": "stdout",
     "output_type": "stream",
     "text": [
      "\n",
      "Train - After Epoch 0: loss=3.796, acc=0.048\n",
      "Learning rate after epoch 0: 0.00046\n",
      "[Epoch 0] Grad Norms — Total: 24, Vanished: 4, Exploded: 0\n",
      "Epoch 1: 100%|█████████████████████████████████████████████████████████████| 329/329 [06:29<00:00,  0.84it/s, v_num=13]\n",
      "Val - After Epoch 1: loss=3.425, acc=0.116\n",
      "Epoch 1: 100%|█████████████████████████████████████████████████████████████| 329/329 [06:51<00:00,  0.80it/s, v_num=13]"
     ]
    },
    {
     "name": "stderr",
     "output_type": "stream",
     "text": [
      "Metric val_loss improved by 0.158 >= min_delta = 0.0. New best score: 3.425\n"
     ]
    },
    {
     "name": "stdout",
     "output_type": "stream",
     "text": [
      "\n",
      "Train - After Epoch 1: loss=3.558, acc=0.090\n",
      "Learning rate after epoch 1: 0.00046\n",
      "[Epoch 1] Grad Norms — Total: 24, Vanished: 3, Exploded: 0\n",
      "Epoch 2: 100%|█████████████████████████████████████████████████████████████| 329/329 [06:27<00:00,  0.85it/s, v_num=13]\n",
      "Val - After Epoch 2: loss=3.289, acc=0.154\n",
      "Epoch 2: 100%|█████████████████████████████████████████████████████████████| 329/329 [06:49<00:00,  0.80it/s, v_num=13]"
     ]
    },
    {
     "name": "stderr",
     "output_type": "stream",
     "text": [
      "Metric val_loss improved by 0.137 >= min_delta = 0.0. New best score: 3.289\n"
     ]
    },
    {
     "name": "stdout",
     "output_type": "stream",
     "text": [
      "\n",
      "Train - After Epoch 2: loss=3.407, acc=0.118\n",
      "Learning rate after epoch 2: 0.00046\n",
      "[Epoch 2] Grad Norms — Total: 24, Vanished: 3, Exploded: 0\n",
      "Epoch 3: 100%|█████████████████████████████████████████████████████████████| 329/329 [06:26<00:00,  0.85it/s, v_num=13]\n",
      "Val - After Epoch 3: loss=3.201, acc=0.172\n",
      "Epoch 3: 100%|█████████████████████████████████████████████████████████████| 329/329 [06:47<00:00,  0.81it/s, v_num=13]"
     ]
    },
    {
     "name": "stderr",
     "output_type": "stream",
     "text": [
      "Metric val_loss improved by 0.087 >= min_delta = 0.0. New best score: 3.201\n"
     ]
    },
    {
     "name": "stdout",
     "output_type": "stream",
     "text": [
      "\n",
      "Train - After Epoch 3: loss=3.294, acc=0.145\n",
      "Learning rate after epoch 3: 0.00046\n",
      "[Epoch 3] Grad Norms — Total: 24, Vanished: 3, Exploded: 0\n",
      "Epoch 4: 100%|█████████████████████████████████████████████████████████████| 329/329 [06:26<00:00,  0.85it/s, v_num=13]\n",
      "Val - After Epoch 4: loss=3.043, acc=0.206\n",
      "Epoch 4: 100%|█████████████████████████████████████████████████████████████| 329/329 [06:47<00:00,  0.81it/s, v_num=13]"
     ]
    },
    {
     "name": "stderr",
     "output_type": "stream",
     "text": [
      "Metric val_loss improved by 0.159 >= min_delta = 0.0. New best score: 3.043\n"
     ]
    },
    {
     "name": "stdout",
     "output_type": "stream",
     "text": [
      "\n",
      "Train - After Epoch 4: loss=3.194, acc=0.168\n",
      "Learning rate after epoch 4: 0.00046\n",
      "[Epoch 4] Grad Norms — Total: 24, Vanished: 3, Exploded: 0\n",
      "Epoch 5: 100%|█████████████████████████████████████████████████████████████| 329/329 [06:27<00:00,  0.85it/s, v_num=13]\n",
      "Val - After Epoch 5: loss=3.092, acc=0.198\n",
      "Epoch 5: 100%|█████████████████████████████████████████████████████████████| 329/329 [06:46<00:00,  0.81it/s, v_num=13]\n",
      "Train - After Epoch 5: loss=3.120, acc=0.186\n",
      "Learning rate after epoch 5: 0.00046\n",
      "[Epoch 5] Grad Norms — Total: 24, Vanished: 3, Exploded: 0\n",
      "Epoch 6: 100%|█████████████████████████████████████████████████████████████| 329/329 [06:23<00:00,  0.86it/s, v_num=13]\n",
      "Val - After Epoch 6: loss=2.959, acc=0.222\n",
      "Epoch 6: 100%|█████████████████████████████████████████████████████████████| 329/329 [06:43<00:00,  0.82it/s, v_num=13]"
     ]
    },
    {
     "name": "stderr",
     "output_type": "stream",
     "text": [
      "Metric val_loss improved by 0.084 >= min_delta = 0.0. New best score: 2.959\n"
     ]
    },
    {
     "name": "stdout",
     "output_type": "stream",
     "text": [
      "\n",
      "Train - After Epoch 6: loss=3.047, acc=0.197\n",
      "Learning rate after epoch 6: 0.00046\n",
      "[Epoch 6] Grad Norms — Total: 24, Vanished: 3, Exploded: 0\n",
      "Epoch 7: 100%|█████████████████████████████████████████████████████████████| 329/329 [06:23<00:00,  0.86it/s, v_num=13]\n",
      "Val - After Epoch 7: loss=2.892, acc=0.240\n",
      "Epoch 7: 100%|█████████████████████████████████████████████████████████████| 329/329 [06:43<00:00,  0.82it/s, v_num=13]"
     ]
    },
    {
     "name": "stderr",
     "output_type": "stream",
     "text": [
      "Metric val_loss improved by 0.067 >= min_delta = 0.0. New best score: 2.892\n"
     ]
    },
    {
     "name": "stdout",
     "output_type": "stream",
     "text": [
      "\n",
      "Train - After Epoch 7: loss=2.987, acc=0.213\n",
      "Learning rate after epoch 7: 0.00046\n",
      "[Epoch 7] Grad Norms — Total: 24, Vanished: 3, Exploded: 0\n",
      "Epoch 8: 100%|█████████████████████████████████████████████████████████████| 329/329 [06:25<00:00,  0.85it/s, v_num=13]\n",
      "Val - After Epoch 8: loss=2.809, acc=0.261\n",
      "Epoch 8: 100%|█████████████████████████████████████████████████████████████| 329/329 [06:46<00:00,  0.81it/s, v_num=13]"
     ]
    },
    {
     "name": "stderr",
     "output_type": "stream",
     "text": [
      "Metric val_loss improved by 0.083 >= min_delta = 0.0. New best score: 2.809\n"
     ]
    },
    {
     "name": "stdout",
     "output_type": "stream",
     "text": [
      "\n",
      "Train - After Epoch 8: loss=2.929, acc=0.231\n",
      "Learning rate after epoch 8: 0.00046\n",
      "[Epoch 8] Grad Norms — Total: 24, Vanished: 3, Exploded: 0\n",
      "Epoch 9: 100%|█████████████████████████████████████████████████████████████| 329/329 [06:26<00:00,  0.85it/s, v_num=13]\n",
      "Val - After Epoch 9: loss=2.789, acc=0.270\n",
      "Epoch 9: 100%|█████████████████████████████████████████████████████████████| 329/329 [06:46<00:00,  0.81it/s, v_num=13]"
     ]
    },
    {
     "name": "stderr",
     "output_type": "stream",
     "text": [
      "Metric val_loss improved by 0.020 >= min_delta = 0.0. New best score: 2.789\n"
     ]
    },
    {
     "name": "stdout",
     "output_type": "stream",
     "text": [
      "\n",
      "Train - After Epoch 9: loss=2.870, acc=0.241\n",
      "Learning rate after epoch 9: 0.00046\n",
      "[Epoch 9] Grad Norms — Total: 24, Vanished: 3, Exploded: 0\n",
      "Epoch 10: 100%|████████████████████████████████████████████████████████████| 329/329 [06:26<00:00,  0.85it/s, v_num=13]\n",
      "Val - After Epoch 10: loss=2.737, acc=0.277\n",
      "Epoch 10: 100%|████████████████████████████████████████████████████████████| 329/329 [06:46<00:00,  0.81it/s, v_num=13]"
     ]
    },
    {
     "name": "stderr",
     "output_type": "stream",
     "text": [
      "Metric val_loss improved by 0.051 >= min_delta = 0.0. New best score: 2.737\n"
     ]
    },
    {
     "name": "stdout",
     "output_type": "stream",
     "text": [
      "\n",
      "Train - After Epoch 10: loss=2.818, acc=0.256\n",
      "Learning rate after epoch 10: 0.00046\n",
      "[Epoch 10] Grad Norms — Total: 24, Vanished: 3, Exploded: 0\n",
      "Epoch 11: 100%|████████████████████████████████████████████████████████████| 329/329 [06:22<00:00,  0.86it/s, v_num=13]\n",
      "Val - After Epoch 11: loss=2.631, acc=0.296\n",
      "Epoch 11: 100%|████████████████████████████████████████████████████████████| 329/329 [06:43<00:00,  0.82it/s, v_num=13]"
     ]
    },
    {
     "name": "stderr",
     "output_type": "stream",
     "text": [
      "Metric val_loss improved by 0.107 >= min_delta = 0.0. New best score: 2.631\n"
     ]
    },
    {
     "name": "stdout",
     "output_type": "stream",
     "text": [
      "\n",
      "Train - After Epoch 11: loss=2.764, acc=0.269\n",
      "Learning rate after epoch 11: 0.00046\n",
      "[Epoch 11] Grad Norms — Total: 24, Vanished: 3, Exploded: 0\n",
      "Epoch 12: 100%|████████████████████████████████████████████████████████████| 329/329 [06:26<00:00,  0.85it/s, v_num=13]\n",
      "Val - After Epoch 12: loss=2.617, acc=0.301\n",
      "Epoch 12: 100%|████████████████████████████████████████████████████████████| 329/329 [06:46<00:00,  0.81it/s, v_num=13]"
     ]
    },
    {
     "name": "stderr",
     "output_type": "stream",
     "text": [
      "Metric val_loss improved by 0.014 >= min_delta = 0.0. New best score: 2.617\n"
     ]
    },
    {
     "name": "stdout",
     "output_type": "stream",
     "text": [
      "\n",
      "Train - After Epoch 12: loss=2.726, acc=0.277\n",
      "Learning rate after epoch 12: 0.00046\n",
      "[Epoch 12] Grad Norms — Total: 24, Vanished: 3, Exploded: 0\n",
      "Epoch 13: 100%|████████████████████████████████████████████████████████████| 329/329 [06:25<00:00,  0.85it/s, v_num=13]\n",
      "Val - After Epoch 13: loss=2.574, acc=0.321\n",
      "Epoch 13: 100%|████████████████████████████████████████████████████████████| 329/329 [06:46<00:00,  0.81it/s, v_num=13]"
     ]
    },
    {
     "name": "stderr",
     "output_type": "stream",
     "text": [
      "Metric val_loss improved by 0.043 >= min_delta = 0.0. New best score: 2.574\n"
     ]
    },
    {
     "name": "stdout",
     "output_type": "stream",
     "text": [
      "\n",
      "Train - After Epoch 13: loss=2.678, acc=0.290\n",
      "Learning rate after epoch 13: 0.00046\n",
      "[Epoch 13] Grad Norms — Total: 24, Vanished: 3, Exploded: 0\n",
      "Epoch 14: 100%|████████████████████████████████████████████████████████████| 329/329 [06:25<00:00,  0.85it/s, v_num=13]\n",
      "Val - After Epoch 14: loss=2.592, acc=0.312\n",
      "Epoch 14: 100%|████████████████████████████████████████████████████████████| 329/329 [06:45<00:00,  0.81it/s, v_num=13]\n",
      "Train - After Epoch 14: loss=2.643, acc=0.290\n",
      "Learning rate after epoch 14: 0.00046\n",
      "[Epoch 14] Grad Norms — Total: 24, Vanished: 3, Exploded: 0\n",
      "Epoch 15: 100%|████████████████████████████████████████████████████████████| 329/329 [06:26<00:00,  0.85it/s, v_num=13]\n",
      "Val - After Epoch 15: loss=2.561, acc=0.322\n",
      "Epoch 15: 100%|████████████████████████████████████████████████████████████| 329/329 [06:46<00:00,  0.81it/s, v_num=13]"
     ]
    },
    {
     "name": "stderr",
     "output_type": "stream",
     "text": [
      "Metric val_loss improved by 0.013 >= min_delta = 0.0. New best score: 2.561\n"
     ]
    },
    {
     "name": "stdout",
     "output_type": "stream",
     "text": [
      "\n",
      "Train - After Epoch 15: loss=2.606, acc=0.304\n",
      "Learning rate after epoch 15: 0.00046\n",
      "[Epoch 15] Grad Norms — Total: 24, Vanished: 3, Exploded: 0\n",
      "Epoch 16: 100%|████████████████████████████████████████████████████████████| 329/329 [06:26<00:00,  0.85it/s, v_num=13]\n",
      "Val - After Epoch 16: loss=2.540, acc=0.325\n",
      "Epoch 16: 100%|████████████████████████████████████████████████████████████| 329/329 [06:48<00:00,  0.81it/s, v_num=13]"
     ]
    },
    {
     "name": "stderr",
     "output_type": "stream",
     "text": [
      "Metric val_loss improved by 0.021 >= min_delta = 0.0. New best score: 2.540\n"
     ]
    },
    {
     "name": "stdout",
     "output_type": "stream",
     "text": [
      "\n",
      "Train - After Epoch 16: loss=2.583, acc=0.316\n",
      "Learning rate after epoch 16: 0.00046\n",
      "[Epoch 16] Grad Norms — Total: 24, Vanished: 3, Exploded: 0\n",
      "Epoch 17: 100%|████████████████████████████████████████████████████████████| 329/329 [06:27<00:00,  0.85it/s, v_num=13]\n",
      "Val - After Epoch 17: loss=2.473, acc=0.343\n",
      "Epoch 17: 100%|████████████████████████████████████████████████████████████| 329/329 [06:48<00:00,  0.81it/s, v_num=13]"
     ]
    },
    {
     "name": "stderr",
     "output_type": "stream",
     "text": [
      "Metric val_loss improved by 0.066 >= min_delta = 0.0. New best score: 2.473\n"
     ]
    },
    {
     "name": "stdout",
     "output_type": "stream",
     "text": [
      "\n",
      "Train - After Epoch 17: loss=2.556, acc=0.317\n",
      "Learning rate after epoch 17: 0.00046\n",
      "[Epoch 17] Grad Norms — Total: 24, Vanished: 3, Exploded: 0\n",
      "Epoch 18: 100%|████████████████████████████████████████████████████████████| 329/329 [06:25<00:00,  0.85it/s, v_num=13]\n",
      "Val - After Epoch 18: loss=2.426, acc=0.347\n",
      "Epoch 18: 100%|████████████████████████████████████████████████████████████| 329/329 [06:46<00:00,  0.81it/s, v_num=13]"
     ]
    },
    {
     "name": "stderr",
     "output_type": "stream",
     "text": [
      "Metric val_loss improved by 0.047 >= min_delta = 0.0. New best score: 2.426\n"
     ]
    },
    {
     "name": "stdout",
     "output_type": "stream",
     "text": [
      "\n",
      "Train - After Epoch 18: loss=2.516, acc=0.327\n",
      "Learning rate after epoch 18: 0.00046\n",
      "[Epoch 18] Grad Norms — Total: 24, Vanished: 3, Exploded: 0\n",
      "Epoch 19: 100%|████████████████████████████████████████████████████████████| 329/329 [06:26<00:00,  0.85it/s, v_num=13]\n",
      "Val - After Epoch 19: loss=2.468, acc=0.337\n",
      "Epoch 19: 100%|████████████████████████████████████████████████████████████| 329/329 [06:46<00:00,  0.81it/s, v_num=13]\n",
      "Train - After Epoch 19: loss=2.499, acc=0.330\n",
      "Learning rate after epoch 19: 0.00046\n",
      "[Epoch 19] Grad Norms — Total: 24, Vanished: 3, Exploded: 0\n",
      "Epoch 20: 100%|████████████████████████████████████████████████████████████| 329/329 [06:31<00:00,  0.84it/s, v_num=13]\n",
      "Val - After Epoch 20: loss=2.446, acc=0.347\n",
      "Epoch 20: 100%|████████████████████████████████████████████████████████████| 329/329 [06:51<00:00,  0.80it/s, v_num=13]\n",
      "Train - After Epoch 20: loss=2.462, acc=0.340\n",
      "Learning rate after epoch 20: 0.00046\n",
      "[Epoch 20] Grad Norms — Total: 24, Vanished: 3, Exploded: 0\n",
      "Epoch 21: 100%|████████████████████████████████████████████████████████████| 329/329 [06:51<00:00,  0.80it/s, v_num=13]\n",
      "Val - After Epoch 21: loss=2.537, acc=0.332\n",
      "Epoch 21: 100%|████████████████████████████████████████████████████████████| 329/329 [07:11<00:00,  0.76it/s, v_num=13]\n",
      "Train - After Epoch 21: loss=2.423, acc=0.347\n",
      "Learning rate after epoch 21: 0.00046\n",
      "[Epoch 21] Grad Norms — Total: 24, Vanished: 3, Exploded: 0\n",
      "Epoch 22: 100%|████████████████████████████████████████████████████████████| 329/329 [06:46<00:00,  0.81it/s, v_num=13]\n",
      "Val - After Epoch 22: loss=2.381, acc=0.358\n",
      "Epoch 22: 100%|████████████████████████████████████████████████████████████| 329/329 [07:06<00:00,  0.77it/s, v_num=13]"
     ]
    },
    {
     "name": "stderr",
     "output_type": "stream",
     "text": [
      "Metric val_loss improved by 0.045 >= min_delta = 0.0. New best score: 2.381\n"
     ]
    },
    {
     "name": "stdout",
     "output_type": "stream",
     "text": [
      "\n",
      "Train - After Epoch 22: loss=2.409, acc=0.347\n",
      "Learning rate after epoch 22: 0.00046\n",
      "[Epoch 22] Grad Norms — Total: 24, Vanished: 3, Exploded: 0\n",
      "Epoch 23: 100%|████████████████████████████████████████████████████████████| 329/329 [06:51<00:00,  0.80it/s, v_num=13]\n",
      "Val - After Epoch 23: loss=2.440, acc=0.349\n",
      "Epoch 23: 100%|████████████████████████████████████████████████████████████| 329/329 [07:11<00:00,  0.76it/s, v_num=13]\n",
      "Train - After Epoch 23: loss=2.378, acc=0.354\n",
      "Learning rate after epoch 23: 0.00046\n",
      "[Epoch 23] Grad Norms — Total: 24, Vanished: 3, Exploded: 0\n",
      "Epoch 24: 100%|████████████████████████████████████████████████████████████| 329/329 [06:52<00:00,  0.80it/s, v_num=13]\n",
      "Val - After Epoch 24: loss=2.356, acc=0.367\n",
      "Epoch 24: 100%|████████████████████████████████████████████████████████████| 329/329 [07:12<00:00,  0.76it/s, v_num=13]"
     ]
    },
    {
     "name": "stderr",
     "output_type": "stream",
     "text": [
      "Metric val_loss improved by 0.025 >= min_delta = 0.0. New best score: 2.356\n"
     ]
    },
    {
     "name": "stdout",
     "output_type": "stream",
     "text": [
      "\n",
      "Train - After Epoch 24: loss=2.373, acc=0.362\n",
      "Learning rate after epoch 24: 0.00046\n",
      "[Epoch 24] Grad Norms — Total: 24, Vanished: 3, Exploded: 0\n",
      "Epoch 25: 100%|████████████████████████████████████████████████████████████| 329/329 [06:52<00:00,  0.80it/s, v_num=13]\n",
      "Val - After Epoch 25: loss=2.309, acc=0.379\n",
      "Epoch 25: 100%|████████████████████████████████████████████████████████████| 329/329 [07:12<00:00,  0.76it/s, v_num=13]"
     ]
    },
    {
     "name": "stderr",
     "output_type": "stream",
     "text": [
      "Metric val_loss improved by 0.047 >= min_delta = 0.0. New best score: 2.309\n"
     ]
    },
    {
     "name": "stdout",
     "output_type": "stream",
     "text": [
      "\n",
      "Train - After Epoch 25: loss=2.344, acc=0.367\n",
      "Learning rate after epoch 25: 0.00046\n",
      "[Epoch 25] Grad Norms — Total: 24, Vanished: 3, Exploded: 0\n",
      "Epoch 26: 100%|████████████████████████████████████████████████████████████| 329/329 [06:53<00:00,  0.80it/s, v_num=13]\n",
      "Val - After Epoch 26: loss=2.281, acc=0.385\n",
      "Epoch 26: 100%|████████████████████████████████████████████████████████████| 329/329 [07:13<00:00,  0.76it/s, v_num=13]"
     ]
    },
    {
     "name": "stderr",
     "output_type": "stream",
     "text": [
      "Metric val_loss improved by 0.028 >= min_delta = 0.0. New best score: 2.281\n"
     ]
    },
    {
     "name": "stdout",
     "output_type": "stream",
     "text": [
      "\n",
      "Train - After Epoch 26: loss=2.319, acc=0.365\n",
      "Learning rate after epoch 26: 0.00046\n",
      "[Epoch 26] Grad Norms — Total: 24, Vanished: 3, Exploded: 0\n",
      "Epoch 27: 100%|████████████████████████████████████████████████████████████| 329/329 [06:52<00:00,  0.80it/s, v_num=13]\n",
      "Val - After Epoch 27: loss=2.264, acc=0.385\n",
      "Epoch 27: 100%|████████████████████████████████████████████████████████████| 329/329 [07:12<00:00,  0.76it/s, v_num=13]"
     ]
    },
    {
     "name": "stderr",
     "output_type": "stream",
     "text": [
      "Metric val_loss improved by 0.018 >= min_delta = 0.0. New best score: 2.264\n"
     ]
    },
    {
     "name": "stdout",
     "output_type": "stream",
     "text": [
      "\n",
      "Train - After Epoch 27: loss=2.307, acc=0.374\n",
      "Learning rate after epoch 27: 0.00046\n",
      "[Epoch 27] Grad Norms — Total: 24, Vanished: 3, Exploded: 0\n",
      "Epoch 28: 100%|████████████████████████████████████████████████████████████| 329/329 [06:49<00:00,  0.80it/s, v_num=13]\n",
      "Val - After Epoch 28: loss=2.349, acc=0.374\n",
      "Epoch 28: 100%|████████████████████████████████████████████████████████████| 329/329 [07:09<00:00,  0.77it/s, v_num=13]\n",
      "Train - After Epoch 28: loss=2.270, acc=0.384\n",
      "Learning rate after epoch 28: 0.00046\n",
      "[Epoch 28] Grad Norms — Total: 24, Vanished: 3, Exploded: 0\n",
      "Epoch 29: 100%|████████████████████████████████████████████████████████████| 329/329 [06:54<00:00,  0.79it/s, v_num=13]\n",
      "Val - After Epoch 29: loss=2.272, acc=0.390\n",
      "Epoch 29: 100%|████████████████████████████████████████████████████████████| 329/329 [07:13<00:00,  0.76it/s, v_num=13]\n",
      "Train - After Epoch 29: loss=2.254, acc=0.386\n",
      "Learning rate after epoch 29: 0.00046\n",
      "[Epoch 29] Grad Norms — Total: 24, Vanished: 3, Exploded: 0\n",
      "Epoch 30: 100%|████████████████████████████████████████████████████████████| 329/329 [06:52<00:00,  0.80it/s, v_num=13]\n",
      "Val - After Epoch 30: loss=2.410, acc=0.361\n",
      "Epoch 30: 100%|████████████████████████████████████████████████████████████| 329/329 [07:12<00:00,  0.76it/s, v_num=13]\n",
      "Train - After Epoch 30: loss=2.238, acc=0.390\n",
      "Learning rate after epoch 30: 0.00046\n",
      "[Epoch 30] Grad Norms — Total: 24, Vanished: 3, Exploded: 0\n",
      "Epoch 31: 100%|████████████████████████████████████████████████████████████| 329/329 [06:53<00:00,  0.80it/s, v_num=13]\n",
      "Val - After Epoch 31: loss=2.177, acc=0.405\n",
      "Epoch 31: 100%|████████████████████████████████████████████████████████████| 329/329 [07:13<00:00,  0.76it/s, v_num=13]"
     ]
    },
    {
     "name": "stderr",
     "output_type": "stream",
     "text": [
      "Metric val_loss improved by 0.087 >= min_delta = 0.0. New best score: 2.177\n"
     ]
    },
    {
     "name": "stdout",
     "output_type": "stream",
     "text": [
      "\n",
      "Train - After Epoch 31: loss=2.226, acc=0.394\n",
      "Learning rate after epoch 31: 0.00046\n",
      "[Epoch 31] Grad Norms — Total: 24, Vanished: 3, Exploded: 0\n",
      "Epoch 32: 100%|████████████████████████████████████████████████████████████| 329/329 [06:51<00:00,  0.80it/s, v_num=13]\n",
      "Val - After Epoch 32: loss=2.341, acc=0.383\n",
      "Epoch 32: 100%|████████████████████████████████████████████████████████████| 329/329 [07:11<00:00,  0.76it/s, v_num=13]\n",
      "Train - After Epoch 32: loss=2.205, acc=0.400\n",
      "Learning rate after epoch 32: 0.00046\n",
      "[Epoch 32] Grad Norms — Total: 24, Vanished: 3, Exploded: 0\n",
      "Epoch 33: 100%|████████████████████████████████████████████████████████████| 329/329 [06:53<00:00,  0.80it/s, v_num=13]\n",
      "Val - After Epoch 33: loss=2.310, acc=0.375\n",
      "Epoch 33: 100%|████████████████████████████████████████████████████████████| 329/329 [07:13<00:00,  0.76it/s, v_num=13]\n",
      "Train - After Epoch 33: loss=2.191, acc=0.404\n",
      "Learning rate after epoch 33: 0.00046\n",
      "[Epoch 33] Grad Norms — Total: 24, Vanished: 3, Exploded: 0\n",
      "Epoch 34: 100%|████████████████████████████████████████████████████████████| 329/329 [06:52<00:00,  0.80it/s, v_num=13]\n",
      "Val - After Epoch 34: loss=2.149, acc=0.415\n",
      "Epoch 34: 100%|████████████████████████████████████████████████████████████| 329/329 [07:12<00:00,  0.76it/s, v_num=13]"
     ]
    },
    {
     "name": "stderr",
     "output_type": "stream",
     "text": [
      "Metric val_loss improved by 0.028 >= min_delta = 0.0. New best score: 2.149\n"
     ]
    },
    {
     "name": "stdout",
     "output_type": "stream",
     "text": [
      "\n",
      "Train - After Epoch 34: loss=2.160, acc=0.413\n",
      "Learning rate after epoch 34: 0.00046\n",
      "[Epoch 34] Grad Norms — Total: 24, Vanished: 3, Exploded: 0\n",
      "Epoch 35: 100%|████████████████████████████████████████████████████████████| 329/329 [06:52<00:00,  0.80it/s, v_num=13]\n",
      "Val - After Epoch 35: loss=2.128, acc=0.419\n",
      "Epoch 35: 100%|████████████████████████████████████████████████████████████| 329/329 [07:12<00:00,  0.76it/s, v_num=13]"
     ]
    },
    {
     "name": "stderr",
     "output_type": "stream",
     "text": [
      "Metric val_loss improved by 0.021 >= min_delta = 0.0. New best score: 2.128\n"
     ]
    },
    {
     "name": "stdout",
     "output_type": "stream",
     "text": [
      "\n",
      "Train - After Epoch 35: loss=2.158, acc=0.410\n",
      "Learning rate after epoch 35: 0.00046\n",
      "[Epoch 35] Grad Norms — Total: 24, Vanished: 3, Exploded: 0\n",
      "Epoch 36: 100%|████████████████████████████████████████████████████████████| 329/329 [06:50<00:00,  0.80it/s, v_num=13]\n",
      "Val - After Epoch 36: loss=2.159, acc=0.412\n",
      "Epoch 36: 100%|████████████████████████████████████████████████████████████| 329/329 [07:10<00:00,  0.76it/s, v_num=13]\n",
      "Train - After Epoch 36: loss=2.137, acc=0.414\n",
      "Learning rate after epoch 36: 0.00046\n",
      "[Epoch 36] Grad Norms — Total: 24, Vanished: 3, Exploded: 0\n",
      "Epoch 37: 100%|████████████████████████████████████████████████████████████| 329/329 [06:52<00:00,  0.80it/s, v_num=13]\n",
      "Val - After Epoch 37: loss=2.162, acc=0.417\n",
      "Epoch 37: 100%|████████████████████████████████████████████████████████████| 329/329 [07:12<00:00,  0.76it/s, v_num=13]\n",
      "Train - After Epoch 37: loss=2.136, acc=0.414\n",
      "Learning rate after epoch 37: 0.00046\n",
      "[Epoch 37] Grad Norms — Total: 24, Vanished: 3, Exploded: 0\n",
      "Epoch 38: 100%|████████████████████████████████████████████████████████████| 329/329 [06:52<00:00,  0.80it/s, v_num=13]\n",
      "Val - After Epoch 38: loss=2.093, acc=0.428\n",
      "Epoch 38: 100%|████████████████████████████████████████████████████████████| 329/329 [07:13<00:00,  0.76it/s, v_num=13]"
     ]
    },
    {
     "name": "stderr",
     "output_type": "stream",
     "text": [
      "Metric val_loss improved by 0.035 >= min_delta = 0.0. New best score: 2.093\n"
     ]
    },
    {
     "name": "stdout",
     "output_type": "stream",
     "text": [
      "\n",
      "Train - After Epoch 38: loss=2.106, acc=0.423\n",
      "Learning rate after epoch 38: 0.00046\n",
      "[Epoch 38] Grad Norms — Total: 24, Vanished: 3, Exploded: 0\n",
      "Epoch 39: 100%|████████████████████████████████████████████████████████████| 329/329 [06:53<00:00,  0.80it/s, v_num=13]\n",
      "Val - After Epoch 39: loss=2.071, acc=0.431\n",
      "Epoch 39: 100%|████████████████████████████████████████████████████████████| 329/329 [07:12<00:00,  0.76it/s, v_num=13]"
     ]
    },
    {
     "name": "stderr",
     "output_type": "stream",
     "text": [
      "Metric val_loss improved by 0.022 >= min_delta = 0.0. New best score: 2.071\n"
     ]
    },
    {
     "name": "stdout",
     "output_type": "stream",
     "text": [
      "\n",
      "Train - After Epoch 39: loss=2.089, acc=0.430\n",
      "Learning rate after epoch 39: 0.00046\n",
      "[Epoch 39] Grad Norms — Total: 24, Vanished: 3, Exploded: 0\n",
      "Epoch 40: 100%|████████████████████████████████████████████████████████████| 329/329 [06:50<00:00,  0.80it/s, v_num=13]\n",
      "Val - After Epoch 40: loss=2.108, acc=0.432\n",
      "Epoch 40: 100%|████████████████████████████████████████████████████████████| 329/329 [07:10<00:00,  0.76it/s, v_num=13]\n",
      "Train - After Epoch 40: loss=2.074, acc=0.429\n",
      "Learning rate after epoch 40: 0.00046\n",
      "[Epoch 40] Grad Norms — Total: 24, Vanished: 3, Exploded: 0\n",
      "Epoch 41: 100%|████████████████████████████████████████████████████████████| 329/329 [06:53<00:00,  0.80it/s, v_num=13]\n",
      "Val - After Epoch 41: loss=2.193, acc=0.405\n",
      "Epoch 41: 100%|████████████████████████████████████████████████████████████| 329/329 [07:13<00:00,  0.76it/s, v_num=13]\n",
      "Train - After Epoch 41: loss=2.056, acc=0.437\n",
      "Learning rate after epoch 41: 0.00046\n",
      "[Epoch 41] Grad Norms — Total: 24, Vanished: 3, Exploded: 0\n",
      "Epoch 42: 100%|████████████████████████████████████████████████████████████| 329/329 [06:52<00:00,  0.80it/s, v_num=13]\n",
      "Val - After Epoch 42: loss=2.037, acc=0.450\n",
      "Epoch 42: 100%|████████████████████████████████████████████████████████████| 329/329 [07:13<00:00,  0.76it/s, v_num=13]"
     ]
    },
    {
     "name": "stderr",
     "output_type": "stream",
     "text": [
      "Metric val_loss improved by 0.033 >= min_delta = 0.0. New best score: 2.037\n"
     ]
    },
    {
     "name": "stdout",
     "output_type": "stream",
     "text": [
      "\n",
      "Train - After Epoch 42: loss=2.046, acc=0.440\n",
      "Learning rate after epoch 42: 0.00046\n",
      "[Epoch 42] Grad Norms — Total: 24, Vanished: 3, Exploded: 0\n",
      "Epoch 43: 100%|████████████████████████████████████████████████████████████| 329/329 [06:53<00:00,  0.80it/s, v_num=13]\n",
      "Val - After Epoch 43: loss=2.079, acc=0.440\n",
      "Epoch 43: 100%|████████████████████████████████████████████████████████████| 329/329 [07:14<00:00,  0.76it/s, v_num=13]\n",
      "Train - After Epoch 43: loss=2.029, acc=0.441\n",
      "Learning rate after epoch 43: 0.00046\n",
      "[Epoch 43] Grad Norms — Total: 24, Vanished: 3, Exploded: 0\n",
      "Epoch 44: 100%|████████████████████████████████████████████████████████████| 329/329 [06:53<00:00,  0.80it/s, v_num=13]\n",
      "Val - After Epoch 44: loss=2.005, acc=0.460\n",
      "Epoch 44: 100%|████████████████████████████████████████████████████████████| 329/329 [07:12<00:00,  0.76it/s, v_num=13]"
     ]
    },
    {
     "name": "stderr",
     "output_type": "stream",
     "text": [
      "Metric val_loss improved by 0.032 >= min_delta = 0.0. New best score: 2.005\n"
     ]
    },
    {
     "name": "stdout",
     "output_type": "stream",
     "text": [
      "\n",
      "Train - After Epoch 44: loss=2.021, acc=0.447\n",
      "Learning rate after epoch 44: 0.00046\n",
      "[Epoch 44] Grad Norms — Total: 24, Vanished: 3, Exploded: 0\n",
      "Epoch 45: 100%|████████████████████████████████████████████████████████████| 329/329 [06:52<00:00,  0.80it/s, v_num=13]\n",
      "Val - After Epoch 45: loss=2.047, acc=0.452\n",
      "Epoch 45: 100%|████████████████████████████████████████████████████████████| 329/329 [07:12<00:00,  0.76it/s, v_num=13]\n",
      "Train - After Epoch 45: loss=2.000, acc=0.450\n",
      "Learning rate after epoch 45: 0.00046\n",
      "[Epoch 45] Grad Norms — Total: 24, Vanished: 3, Exploded: 0\n",
      "Epoch 46: 100%|████████████████████████████████████████████████████████████| 329/329 [06:53<00:00,  0.80it/s, v_num=13]\n",
      "Val - After Epoch 46: loss=2.013, acc=0.448\n",
      "Epoch 46: 100%|████████████████████████████████████████████████████████████| 329/329 [07:12<00:00,  0.76it/s, v_num=13]\n",
      "Train - After Epoch 46: loss=2.008, acc=0.452\n",
      "Learning rate after epoch 46: 0.00046\n",
      "[Epoch 46] Grad Norms — Total: 24, Vanished: 3, Exploded: 0\n",
      "Epoch 47: 100%|████████████████████████████████████████████████████████████| 329/329 [06:52<00:00,  0.80it/s, v_num=13]\n",
      "Val - After Epoch 47: loss=2.127, acc=0.424\n",
      "Epoch 47: 100%|████████████████████████████████████████████████████████████| 329/329 [07:12<00:00,  0.76it/s, v_num=13]\n",
      "Train - After Epoch 47: loss=1.965, acc=0.455\n",
      "Learning rate after epoch 47: 0.00046\n",
      "[Epoch 47] Grad Norms — Total: 24, Vanished: 3, Exploded: 0\n",
      "Epoch 48: 100%|████████████████████████████████████████████████████████████| 329/329 [06:52<00:00,  0.80it/s, v_num=13]\n",
      "Val - After Epoch 48: loss=2.086, acc=0.444\n",
      "Epoch 48: 100%|████████████████████████████████████████████████████████████| 329/329 [07:12<00:00,  0.76it/s, v_num=13]\n",
      "Train - After Epoch 48: loss=1.974, acc=0.460\n",
      "Learning rate after epoch 48: 0.00046\n",
      "[Epoch 48] Grad Norms — Total: 24, Vanished: 3, Exploded: 0\n",
      "Epoch 49: 100%|████████████████████████████████████████████████████████████| 329/329 [06:53<00:00,  0.80it/s, v_num=13]\n",
      "Val - After Epoch 49: loss=1.917, acc=0.478\n",
      "Epoch 49: 100%|████████████████████████████████████████████████████████████| 329/329 [07:13<00:00,  0.76it/s, v_num=13]"
     ]
    },
    {
     "name": "stderr",
     "output_type": "stream",
     "text": [
      "Metric val_loss improved by 0.088 >= min_delta = 0.0. New best score: 1.917\n"
     ]
    },
    {
     "name": "stdout",
     "output_type": "stream",
     "text": [
      "\n",
      "Train - After Epoch 49: loss=1.868, acc=0.482\n",
      "Learning rate after epoch 49: 0.00023\n",
      "[Epoch 49] Grad Norms — Total: 24, Vanished: 3, Exploded: 0\n",
      "Epoch 50: 100%|████████████████████████████████████████████████████████████| 329/329 [06:52<00:00,  0.80it/s, v_num=13]\n",
      "Val - After Epoch 50: loss=1.904, acc=0.482\n",
      "Epoch 50: 100%|████████████████████████████████████████████████████████████| 329/329 [07:12<00:00,  0.76it/s, v_num=13]"
     ]
    },
    {
     "name": "stderr",
     "output_type": "stream",
     "text": [
      "Metric val_loss improved by 0.012 >= min_delta = 0.0. New best score: 1.904\n"
     ]
    },
    {
     "name": "stdout",
     "output_type": "stream",
     "text": [
      "\n",
      "Train - After Epoch 50: loss=1.858, acc=0.484\n",
      "Learning rate after epoch 50: 0.00023\n",
      "[Epoch 50] Grad Norms — Total: 24, Vanished: 3, Exploded: 0\n",
      "Epoch 51: 100%|████████████████████████████████████████████████████████████| 329/329 [06:53<00:00,  0.80it/s, v_num=13]\n",
      "Val - After Epoch 51: loss=1.909, acc=0.479\n",
      "Epoch 51: 100%|████████████████████████████████████████████████████████████| 329/329 [07:13<00:00,  0.76it/s, v_num=13]\n",
      "Train - After Epoch 51: loss=1.822, acc=0.492\n",
      "Learning rate after epoch 51: 0.00023\n",
      "[Epoch 51] Grad Norms — Total: 24, Vanished: 3, Exploded: 0\n",
      "Epoch 52: 100%|████████████████████████████████████████████████████████████| 329/329 [06:53<00:00,  0.80it/s, v_num=13]\n",
      "Val - After Epoch 52: loss=1.911, acc=0.479\n",
      "Epoch 52: 100%|████████████████████████████████████████████████████████████| 329/329 [07:12<00:00,  0.76it/s, v_num=13]\n",
      "Train - After Epoch 52: loss=1.840, acc=0.493\n",
      "Learning rate after epoch 52: 0.00023\n",
      "[Epoch 52] Grad Norms — Total: 24, Vanished: 3, Exploded: 0\n",
      "Epoch 53: 100%|████████████████████████████████████████████████████████████| 329/329 [06:52<00:00,  0.80it/s, v_num=13]\n",
      "Val - After Epoch 53: loss=1.896, acc=0.483\n",
      "Epoch 53: 100%|████████████████████████████████████████████████████████████| 329/329 [07:12<00:00,  0.76it/s, v_num=13]"
     ]
    },
    {
     "name": "stderr",
     "output_type": "stream",
     "text": [
      "Metric val_loss improved by 0.008 >= min_delta = 0.0. New best score: 1.896\n"
     ]
    },
    {
     "name": "stdout",
     "output_type": "stream",
     "text": [
      "\n",
      "Train - After Epoch 53: loss=1.810, acc=0.495\n",
      "Learning rate after epoch 53: 0.00023\n",
      "[Epoch 53] Grad Norms — Total: 24, Vanished: 3, Exploded: 0\n",
      "Epoch 54: 100%|████████████████████████████████████████████████████████████| 329/329 [06:53<00:00,  0.80it/s, v_num=13]\n",
      "Val - After Epoch 54: loss=1.884, acc=0.487\n",
      "Epoch 54: 100%|████████████████████████████████████████████████████████████| 329/329 [07:12<00:00,  0.76it/s, v_num=13]"
     ]
    },
    {
     "name": "stderr",
     "output_type": "stream",
     "text": [
      "Metric val_loss improved by 0.011 >= min_delta = 0.0. New best score: 1.884\n"
     ]
    },
    {
     "name": "stdout",
     "output_type": "stream",
     "text": [
      "\n",
      "Train - After Epoch 54: loss=1.799, acc=0.492\n",
      "Learning rate after epoch 54: 0.00023\n",
      "[Epoch 54] Grad Norms — Total: 24, Vanished: 3, Exploded: 0\n",
      "Epoch 55: 100%|████████████████████████████████████████████████████████████| 329/329 [06:50<00:00,  0.80it/s, v_num=13]\n",
      "Val - After Epoch 55: loss=1.897, acc=0.483\n",
      "Epoch 55: 100%|████████████████████████████████████████████████████████████| 329/329 [07:09<00:00,  0.77it/s, v_num=13]\n",
      "Train - After Epoch 55: loss=1.794, acc=0.502\n",
      "Learning rate after epoch 55: 0.00023\n",
      "[Epoch 55] Grad Norms — Total: 24, Vanished: 3, Exploded: 0\n",
      "Epoch 56: 100%|████████████████████████████████████████████████████████████| 329/329 [06:52<00:00,  0.80it/s, v_num=13]\n",
      "Val - After Epoch 56: loss=1.853, acc=0.491\n",
      "Epoch 56: 100%|████████████████████████████████████████████████████████████| 329/329 [07:12<00:00,  0.76it/s, v_num=13]"
     ]
    },
    {
     "name": "stderr",
     "output_type": "stream",
     "text": [
      "Metric val_loss improved by 0.032 >= min_delta = 0.0. New best score: 1.853\n"
     ]
    },
    {
     "name": "stdout",
     "output_type": "stream",
     "text": [
      "\n",
      "Train - After Epoch 56: loss=1.772, acc=0.507\n",
      "Learning rate after epoch 56: 0.00023\n",
      "[Epoch 56] Grad Norms — Total: 24, Vanished: 3, Exploded: 0\n",
      "Epoch 57: 100%|████████████████████████████████████████████████████████████| 329/329 [06:51<00:00,  0.80it/s, v_num=13]\n",
      "Val - After Epoch 57: loss=1.888, acc=0.487\n",
      "Epoch 57: 100%|████████████████████████████████████████████████████████████| 329/329 [07:11<00:00,  0.76it/s, v_num=13]\n",
      "Train - After Epoch 57: loss=1.780, acc=0.501\n",
      "Learning rate after epoch 57: 0.00023\n",
      "[Epoch 57] Grad Norms — Total: 24, Vanished: 3, Exploded: 0\n",
      "Epoch 58: 100%|████████████████████████████████████████████████████████████| 329/329 [06:53<00:00,  0.80it/s, v_num=13]\n",
      "Val - After Epoch 58: loss=1.880, acc=0.484\n",
      "Epoch 58: 100%|████████████████████████████████████████████████████████████| 329/329 [07:12<00:00,  0.76it/s, v_num=13]\n",
      "Train - After Epoch 58: loss=1.772, acc=0.507\n",
      "Learning rate after epoch 58: 0.00023\n",
      "[Epoch 58] Grad Norms — Total: 24, Vanished: 3, Exploded: 0\n",
      "Epoch 59: 100%|████████████████████████████████████████████████████████████| 329/329 [06:49<00:00,  0.80it/s, v_num=13]\n",
      "Val - After Epoch 59: loss=1.842, acc=0.500\n",
      "Epoch 59: 100%|████████████████████████████████████████████████████████████| 329/329 [07:09<00:00,  0.77it/s, v_num=13]"
     ]
    },
    {
     "name": "stderr",
     "output_type": "stream",
     "text": [
      "Metric val_loss improved by 0.011 >= min_delta = 0.0. New best score: 1.842\n"
     ]
    },
    {
     "name": "stdout",
     "output_type": "stream",
     "text": [
      "\n",
      "Train - After Epoch 59: loss=1.756, acc=0.512\n",
      "Learning rate after epoch 59: 0.00023\n",
      "[Epoch 59] Grad Norms — Total: 24, Vanished: 3, Exploded: 0\n",
      "Epoch 60: 100%|████████████████████████████████████████████████████████████| 329/329 [06:52<00:00,  0.80it/s, v_num=13]\n",
      "Val - After Epoch 60: loss=1.860, acc=0.493\n",
      "Epoch 60: 100%|████████████████████████████████████████████████████████████| 329/329 [07:13<00:00,  0.76it/s, v_num=13]\n",
      "Train - After Epoch 60: loss=1.755, acc=0.512\n",
      "Learning rate after epoch 60: 0.00023\n",
      "[Epoch 60] Grad Norms — Total: 24, Vanished: 3, Exploded: 0\n",
      "Epoch 61: 100%|████████████████████████████████████████████████████████████| 329/329 [06:51<00:00,  0.80it/s, v_num=13]\n",
      "Val - After Epoch 61: loss=1.897, acc=0.491\n",
      "Epoch 61: 100%|████████████████████████████████████████████████████████████| 329/329 [07:11<00:00,  0.76it/s, v_num=13]\n",
      "Train - After Epoch 61: loss=1.749, acc=0.513\n",
      "Learning rate after epoch 61: 0.00023\n",
      "[Epoch 61] Grad Norms — Total: 24, Vanished: 3, Exploded: 0\n",
      "Epoch 62: 100%|████████████████████████████████████████████████████████████| 329/329 [06:52<00:00,  0.80it/s, v_num=13]\n",
      "Val - After Epoch 62: loss=1.833, acc=0.504\n",
      "Epoch 62: 100%|████████████████████████████████████████████████████████████| 329/329 [07:12<00:00,  0.76it/s, v_num=13]"
     ]
    },
    {
     "name": "stderr",
     "output_type": "stream",
     "text": [
      "Metric val_loss improved by 0.009 >= min_delta = 0.0. New best score: 1.833\n"
     ]
    },
    {
     "name": "stdout",
     "output_type": "stream",
     "text": [
      "\n",
      "Train - After Epoch 62: loss=1.728, acc=0.513\n",
      "Learning rate after epoch 62: 0.00023\n",
      "[Epoch 62] Grad Norms — Total: 24, Vanished: 3, Exploded: 0\n",
      "Epoch 63: 100%|████████████████████████████████████████████████████████████| 329/329 [06:52<00:00,  0.80it/s, v_num=13]\n",
      "Val - After Epoch 63: loss=1.865, acc=0.494\n",
      "Epoch 63: 100%|████████████████████████████████████████████████████████████| 329/329 [07:13<00:00,  0.76it/s, v_num=13]\n",
      "Train - After Epoch 63: loss=1.724, acc=0.515\n",
      "Learning rate after epoch 63: 0.00023\n",
      "[Epoch 63] Grad Norms — Total: 24, Vanished: 3, Exploded: 0\n",
      "Epoch 64: 100%|████████████████████████████████████████████████████████████| 329/329 [06:52<00:00,  0.80it/s, v_num=13]\n",
      "Val - After Epoch 64: loss=1.876, acc=0.487\n",
      "Epoch 64: 100%|████████████████████████████████████████████████████████████| 329/329 [07:12<00:00,  0.76it/s, v_num=13]\n",
      "Train - After Epoch 64: loss=1.722, acc=0.517\n",
      "Learning rate after epoch 64: 0.00023\n",
      "[Epoch 64] Grad Norms — Total: 24, Vanished: 3, Exploded: 0\n",
      "Epoch 65: 100%|████████████████████████████████████████████████████████████| 329/329 [06:50<00:00,  0.80it/s, v_num=13]\n",
      "Val - After Epoch 65: loss=1.823, acc=0.503\n",
      "Epoch 65: 100%|████████████████████████████████████████████████████████████| 329/329 [07:10<00:00,  0.76it/s, v_num=13]"
     ]
    },
    {
     "name": "stderr",
     "output_type": "stream",
     "text": [
      "Metric val_loss improved by 0.010 >= min_delta = 0.0. New best score: 1.823\n"
     ]
    },
    {
     "name": "stdout",
     "output_type": "stream",
     "text": [
      "\n",
      "Train - After Epoch 65: loss=1.713, acc=0.517\n",
      "Learning rate after epoch 65: 0.00023\n",
      "[Epoch 65] Grad Norms — Total: 24, Vanished: 3, Exploded: 0\n",
      "Epoch 66: 100%|████████████████████████████████████████████████████████████| 329/329 [06:53<00:00,  0.80it/s, v_num=13]\n",
      "Val - After Epoch 66: loss=1.832, acc=0.502\n",
      "Epoch 66: 100%|████████████████████████████████████████████████████████████| 329/329 [07:13<00:00,  0.76it/s, v_num=13]\n",
      "Train - After Epoch 66: loss=1.698, acc=0.522\n",
      "Learning rate after epoch 66: 0.00023\n",
      "[Epoch 66] Grad Norms — Total: 24, Vanished: 3, Exploded: 0\n",
      "Epoch 67: 100%|████████████████████████████████████████████████████████████| 329/329 [06:51<00:00,  0.80it/s, v_num=13]\n",
      "Val - After Epoch 67: loss=1.835, acc=0.499\n",
      "Epoch 67: 100%|████████████████████████████████████████████████████████████| 329/329 [07:10<00:00,  0.76it/s, v_num=13]\n",
      "Train - After Epoch 67: loss=1.694, acc=0.521\n",
      "Learning rate after epoch 67: 0.00023\n",
      "[Epoch 67] Grad Norms — Total: 24, Vanished: 3, Exploded: 0\n",
      "Epoch 68: 100%|████████████████████████████████████████████████████████████| 329/329 [06:53<00:00,  0.80it/s, v_num=13]\n",
      "Val - After Epoch 68: loss=1.831, acc=0.502\n",
      "Epoch 68: 100%|████████████████████████████████████████████████████████████| 329/329 [07:13<00:00,  0.76it/s, v_num=13]\n",
      "Train - After Epoch 68: loss=1.687, acc=0.527\n",
      "Learning rate after epoch 68: 0.00023\n",
      "[Epoch 68] Grad Norms — Total: 24, Vanished: 3, Exploded: 0\n",
      "Epoch 69: 100%|████████████████████████████████████████████████████████████| 329/329 [06:52<00:00,  0.80it/s, v_num=13]\n",
      "Val - After Epoch 69: loss=1.833, acc=0.493\n",
      "Epoch 69: 100%|████████████████████████████████████████████████████████████| 329/329 [07:12<00:00,  0.76it/s, v_num=13]\n",
      "Train - After Epoch 69: loss=1.679, acc=0.530\n",
      "Learning rate after epoch 69: 0.00023\n",
      "[Epoch 69] Grad Norms — Total: 24, Vanished: 3, Exploded: 0\n",
      "Epoch 70: 100%|████████████████████████████████████████████████████████████| 329/329 [06:52<00:00,  0.80it/s, v_num=13]\n",
      "Val - After Epoch 70: loss=1.776, acc=0.515\n",
      "Epoch 70: 100%|████████████████████████████████████████████████████████████| 329/329 [07:12<00:00,  0.76it/s, v_num=13]"
     ]
    },
    {
     "name": "stderr",
     "output_type": "stream",
     "text": [
      "Metric val_loss improved by 0.047 >= min_delta = 0.0. New best score: 1.776\n"
     ]
    },
    {
     "name": "stdout",
     "output_type": "stream",
     "text": [
      "\n",
      "Train - After Epoch 70: loss=1.637, acc=0.536\n",
      "Learning rate after epoch 70: 0.000115\n",
      "[Epoch 70] Grad Norms — Total: 24, Vanished: 3, Exploded: 0\n",
      "Epoch 71: 100%|████████████████████████████████████████████████████████████| 329/329 [06:52<00:00,  0.80it/s, v_num=13]\n",
      "Val - After Epoch 71: loss=1.764, acc=0.520\n",
      "Epoch 71: 100%|████████████████████████████████████████████████████████████| 329/329 [07:12<00:00,  0.76it/s, v_num=13]"
     ]
    },
    {
     "name": "stderr",
     "output_type": "stream",
     "text": [
      "Metric val_loss improved by 0.012 >= min_delta = 0.0. New best score: 1.764\n"
     ]
    },
    {
     "name": "stdout",
     "output_type": "stream",
     "text": [
      "\n",
      "Train - After Epoch 71: loss=1.625, acc=0.541\n",
      "Learning rate after epoch 71: 0.000115\n",
      "[Epoch 71] Grad Norms — Total: 24, Vanished: 3, Exploded: 0\n",
      "Epoch 72: 100%|████████████████████████████████████████████████████████████| 329/329 [06:53<00:00,  0.80it/s, v_num=13]\n",
      "Val - After Epoch 72: loss=1.753, acc=0.516\n",
      "Epoch 72: 100%|████████████████████████████████████████████████████████████| 329/329 [07:13<00:00,  0.76it/s, v_num=13]"
     ]
    },
    {
     "name": "stderr",
     "output_type": "stream",
     "text": [
      "Metric val_loss improved by 0.012 >= min_delta = 0.0. New best score: 1.753\n"
     ]
    },
    {
     "name": "stdout",
     "output_type": "stream",
     "text": [
      "\n",
      "Train - After Epoch 72: loss=1.617, acc=0.546\n",
      "Learning rate after epoch 72: 0.000115\n",
      "[Epoch 72] Grad Norms — Total: 24, Vanished: 3, Exploded: 0\n",
      "Epoch 73: 100%|████████████████████████████████████████████████████████████| 329/329 [06:52<00:00,  0.80it/s, v_num=13]\n",
      "Val - After Epoch 73: loss=1.781, acc=0.512\n",
      "Epoch 73: 100%|████████████████████████████████████████████████████████████| 329/329 [07:12<00:00,  0.76it/s, v_num=13]\n",
      "Train - After Epoch 73: loss=1.609, acc=0.546\n",
      "Learning rate after epoch 73: 0.000115\n",
      "[Epoch 73] Grad Norms — Total: 24, Vanished: 3, Exploded: 0\n",
      "Epoch 74: 100%|████████████████████████████████████████████████████████████| 329/329 [06:52<00:00,  0.80it/s, v_num=13]\n",
      "Val - After Epoch 74: loss=1.760, acc=0.521\n",
      "Epoch 74: 100%|████████████████████████████████████████████████████████████| 329/329 [07:12<00:00,  0.76it/s, v_num=13]\n",
      "Train - After Epoch 74: loss=1.608, acc=0.547\n",
      "Learning rate after epoch 74: 0.000115\n",
      "[Epoch 74] Grad Norms — Total: 24, Vanished: 3, Exploded: 0\n",
      "Epoch 75: 100%|████████████████████████████████████████████████████████████| 329/329 [06:53<00:00,  0.80it/s, v_num=13]\n",
      "Val - After Epoch 75: loss=1.769, acc=0.519\n",
      "Epoch 75: 100%|████████████████████████████████████████████████████████████| 329/329 [07:13<00:00,  0.76it/s, v_num=13]\n",
      "Train - After Epoch 75: loss=1.592, acc=0.550\n",
      "Learning rate after epoch 75: 0.000115\n",
      "[Epoch 75] Grad Norms — Total: 24, Vanished: 3, Exploded: 0\n",
      "Epoch 76: 100%|████████████████████████████████████████████████████████████| 329/329 [06:50<00:00,  0.80it/s, v_num=13]\n",
      "Val - After Epoch 76: loss=1.738, acc=0.523\n",
      "Epoch 76: 100%|████████████████████████████████████████████████████████████| 329/329 [07:10<00:00,  0.76it/s, v_num=13]"
     ]
    },
    {
     "name": "stderr",
     "output_type": "stream",
     "text": [
      "Metric val_loss improved by 0.015 >= min_delta = 0.0. New best score: 1.738\n"
     ]
    },
    {
     "name": "stdout",
     "output_type": "stream",
     "text": [
      "\n",
      "Train - After Epoch 76: loss=1.592, acc=0.549\n",
      "Learning rate after epoch 76: 0.000115\n",
      "[Epoch 76] Grad Norms — Total: 24, Vanished: 3, Exploded: 0\n",
      "Epoch 77: 100%|████████████████████████████████████████████████████████████| 329/329 [06:53<00:00,  0.80it/s, v_num=13]\n",
      "Val - After Epoch 77: loss=1.760, acc=0.520\n",
      "Epoch 77: 100%|████████████████████████████████████████████████████████████| 329/329 [07:13<00:00,  0.76it/s, v_num=13]\n",
      "Train - After Epoch 77: loss=1.587, acc=0.550\n",
      "Learning rate after epoch 77: 0.000115\n",
      "[Epoch 77] Grad Norms — Total: 24, Vanished: 3, Exploded: 0\n",
      "Epoch 78: 100%|████████████████████████████████████████████████████████████| 329/329 [06:52<00:00,  0.80it/s, v_num=13]\n",
      "Val - After Epoch 78: loss=1.751, acc=0.525\n",
      "Epoch 78: 100%|████████████████████████████████████████████████████████████| 329/329 [07:12<00:00,  0.76it/s, v_num=13]\n",
      "Train - After Epoch 78: loss=1.586, acc=0.556\n",
      "Learning rate after epoch 78: 0.000115\n",
      "[Epoch 78] Grad Norms — Total: 24, Vanished: 3, Exploded: 0\n",
      "Epoch 79: 100%|████████████████████████████████████████████████████████████| 329/329 [06:53<00:00,  0.80it/s, v_num=13]\n",
      "Val - After Epoch 79: loss=1.734, acc=0.529\n",
      "Epoch 79: 100%|████████████████████████████████████████████████████████████| 329/329 [07:13<00:00,  0.76it/s, v_num=13]"
     ]
    },
    {
     "name": "stderr",
     "output_type": "stream",
     "text": [
      "Metric val_loss improved by 0.004 >= min_delta = 0.0. New best score: 1.734\n"
     ]
    },
    {
     "name": "stdout",
     "output_type": "stream",
     "text": [
      "\n",
      "Train - After Epoch 79: loss=1.590, acc=0.553\n",
      "Learning rate after epoch 79: 0.000115\n",
      "[Epoch 79] Grad Norms — Total: 24, Vanished: 3, Exploded: 0\n",
      "Epoch 80: 100%|████████████████████████████████████████████████████████████| 329/329 [06:50<00:00,  0.80it/s, v_num=13]\n",
      "Val - After Epoch 80: loss=1.751, acc=0.519\n",
      "Epoch 80: 100%|████████████████████████████████████████████████████████████| 329/329 [07:10<00:00,  0.76it/s, v_num=13]\n",
      "Train - After Epoch 80: loss=1.576, acc=0.557\n",
      "Learning rate after epoch 80: 0.000115\n",
      "[Epoch 80] Grad Norms — Total: 24, Vanished: 3, Exploded: 0\n",
      "Epoch 81: 100%|████████████████████████████████████████████████████████████| 329/329 [06:53<00:00,  0.80it/s, v_num=13]\n",
      "Val - After Epoch 81: loss=1.755, acc=0.523\n",
      "Epoch 81: 100%|████████████████████████████████████████████████████████████| 329/329 [07:12<00:00,  0.76it/s, v_num=13]\n",
      "Train - After Epoch 81: loss=1.566, acc=0.559\n",
      "Learning rate after epoch 81: 0.000115\n",
      "[Epoch 81] Grad Norms — Total: 24, Vanished: 3, Exploded: 0\n",
      "Epoch 82: 100%|████████████████████████████████████████████████████████████| 329/329 [06:53<00:00,  0.80it/s, v_num=13]\n",
      "Val - After Epoch 82: loss=1.785, acc=0.517\n",
      "Epoch 82: 100%|████████████████████████████████████████████████████████████| 329/329 [07:13<00:00,  0.76it/s, v_num=13]\n",
      "Train - After Epoch 82: loss=1.558, acc=0.561\n",
      "Learning rate after epoch 82: 0.000115\n",
      "[Epoch 82] Grad Norms — Total: 24, Vanished: 3, Exploded: 0\n",
      "Epoch 83: 100%|████████████████████████████████████████████████████████████| 329/329 [06:52<00:00,  0.80it/s, v_num=13]\n",
      "Val - After Epoch 83: loss=1.753, acc=0.523\n",
      "Epoch 83: 100%|████████████████████████████████████████████████████████████| 329/329 [07:13<00:00,  0.76it/s, v_num=13]\n",
      "Train - After Epoch 83: loss=1.555, acc=0.561\n",
      "Learning rate after epoch 83: 0.000115\n",
      "[Epoch 83] Grad Norms — Total: 24, Vanished: 3, Exploded: 0\n",
      "Epoch 84: 100%|████████████████████████████████████████████████████████████| 329/329 [06:49<00:00,  0.80it/s, v_num=13]\n",
      "Val - After Epoch 84: loss=1.723, acc=0.530\n",
      "Epoch 84: 100%|████████████████████████████████████████████████████████████| 329/329 [07:10<00:00,  0.77it/s, v_num=13]"
     ]
    },
    {
     "name": "stderr",
     "output_type": "stream",
     "text": [
      "Metric val_loss improved by 0.011 >= min_delta = 0.0. New best score: 1.723\n"
     ]
    },
    {
     "name": "stdout",
     "output_type": "stream",
     "text": [
      "\n",
      "Train - After Epoch 84: loss=1.537, acc=0.566\n",
      "Learning rate after epoch 84: 5.75e-05\n",
      "[Epoch 84] Grad Norms — Total: 24, Vanished: 3, Exploded: 0\n",
      "Epoch 85: 100%|████████████████████████████████████████████████████████████| 329/329 [06:52<00:00,  0.80it/s, v_num=13]\n",
      "Val - After Epoch 85: loss=1.731, acc=0.528\n",
      "Epoch 85: 100%|████████████████████████████████████████████████████████████| 329/329 [07:12<00:00,  0.76it/s, v_num=13]\n",
      "Train - After Epoch 85: loss=1.532, acc=0.568\n",
      "Learning rate after epoch 85: 5.75e-05\n",
      "[Epoch 85] Grad Norms — Total: 24, Vanished: 3, Exploded: 0\n",
      "Epoch 86: 100%|████████████████████████████████████████████████████████████| 329/329 [06:50<00:00,  0.80it/s, v_num=13]\n",
      "Val - After Epoch 86: loss=1.749, acc=0.525\n",
      "Epoch 86: 100%|████████████████████████████████████████████████████████████| 329/329 [07:10<00:00,  0.76it/s, v_num=13]\n",
      "Train - After Epoch 86: loss=1.512, acc=0.572\n",
      "Learning rate after epoch 86: 5.75e-05\n",
      "[Epoch 86] Grad Norms — Total: 24, Vanished: 3, Exploded: 0\n",
      "Epoch 87: 100%|████████████████████████████████████████████████████████████| 329/329 [06:52<00:00,  0.80it/s, v_num=13]\n",
      "Val - After Epoch 87: loss=1.732, acc=0.533\n",
      "Epoch 87: 100%|████████████████████████████████████████████████████████████| 329/329 [07:12<00:00,  0.76it/s, v_num=13]\n",
      "Train - After Epoch 87: loss=1.513, acc=0.573\n",
      "Learning rate after epoch 87: 5.75e-05\n",
      "[Epoch 87] Grad Norms — Total: 24, Vanished: 3, Exploded: 0\n",
      "Epoch 88: 100%|████████████████████████████████████████████████████████████| 329/329 [06:52<00:00,  0.80it/s, v_num=13]\n",
      "Val - After Epoch 88: loss=1.727, acc=0.527\n",
      "Epoch 88: 100%|████████████████████████████████████████████████████████████| 329/329 [07:12<00:00,  0.76it/s, v_num=13]\n",
      "Train - After Epoch 88: loss=1.509, acc=0.569\n",
      "Learning rate after epoch 88: 5.75e-05\n",
      "[Epoch 88] Grad Norms — Total: 24, Vanished: 3, Exploded: 0\n",
      "Epoch 89: 100%|████████████████████████████████████████████████████████████| 329/329 [06:53<00:00,  0.80it/s, v_num=13]\n",
      "Val - After Epoch 89: loss=1.697, acc=0.536\n",
      "Epoch 89: 100%|████████████████████████████████████████████████████████████| 329/329 [07:14<00:00,  0.76it/s, v_num=13]"
     ]
    },
    {
     "name": "stderr",
     "output_type": "stream",
     "text": [
      "Metric val_loss improved by 0.025 >= min_delta = 0.0. New best score: 1.697\n"
     ]
    },
    {
     "name": "stdout",
     "output_type": "stream",
     "text": [
      "\n",
      "Train - After Epoch 89: loss=1.508, acc=0.572\n",
      "Learning rate after epoch 89: 2.875e-05\n",
      "[Epoch 89] Grad Norms — Total: 24, Vanished: 3, Exploded: 0\n",
      "Epoch 90: 100%|████████████████████████████████████████████████████████████| 329/329 [06:53<00:00,  0.80it/s, v_num=13]\n",
      "Val - After Epoch 90: loss=1.714, acc=0.534\n",
      "Epoch 90: 100%|████████████████████████████████████████████████████████████| 329/329 [07:13<00:00,  0.76it/s, v_num=13]\n",
      "Train - After Epoch 90: loss=1.498, acc=0.574\n",
      "Learning rate after epoch 90: 2.875e-05\n",
      "[Epoch 90] Grad Norms — Total: 24, Vanished: 3, Exploded: 0\n",
      "Epoch 91: 100%|████████████████████████████████████████████████████████████| 329/329 [06:53<00:00,  0.80it/s, v_num=13]\n",
      "Val - After Epoch 91: loss=1.707, acc=0.542\n",
      "Epoch 91: 100%|████████████████████████████████████████████████████████████| 329/329 [07:13<00:00,  0.76it/s, v_num=13]\n",
      "Train - After Epoch 91: loss=1.499, acc=0.576\n",
      "Learning rate after epoch 91: 2.875e-05\n",
      "[Epoch 91] Grad Norms — Total: 24, Vanished: 3, Exploded: 0\n",
      "Epoch 92: 100%|████████████████████████████████████████████████████████████| 329/329 [06:52<00:00,  0.80it/s, v_num=13]\n",
      "Val - After Epoch 92: loss=1.718, acc=0.531\n",
      "Epoch 92: 100%|████████████████████████████████████████████████████████████| 329/329 [07:13<00:00,  0.76it/s, v_num=13]\n",
      "Train - After Epoch 92: loss=1.509, acc=0.572\n",
      "Learning rate after epoch 92: 2.875e-05\n",
      "[Epoch 92] Grad Norms — Total: 24, Vanished: 3, Exploded: 0\n",
      "Epoch 93: 100%|████████████████████████████████████████████████████████████| 329/329 [06:53<00:00,  0.80it/s, v_num=13]\n",
      "Val - After Epoch 93: loss=1.713, acc=0.537\n",
      "Epoch 93: 100%|████████████████████████████████████████████████████████████| 329/329 [07:13<00:00,  0.76it/s, v_num=13]\n",
      "Train - After Epoch 93: loss=1.509, acc=0.571\n",
      "Learning rate after epoch 93: 2.875e-05\n",
      "[Epoch 93] Grad Norms — Total: 24, Vanished: 3, Exploded: 0\n",
      "Epoch 94: 100%|████████████████████████████████████████████████████████████| 329/329 [06:52<00:00,  0.80it/s, v_num=13]\n",
      "Val - After Epoch 94: loss=1.704, acc=0.539\n",
      "Epoch 94: 100%|████████████████████████████████████████████████████████████| 329/329 [07:12<00:00,  0.76it/s, v_num=13]\n",
      "Train - After Epoch 94: loss=1.496, acc=0.577\n",
      "Learning rate after epoch 94: 1.4375e-05\n",
      "[Epoch 94] Grad Norms — Total: 24, Vanished: 3, Exploded: 0\n",
      "Epoch 95: 100%|████████████████████████████████████████████████████████████| 329/329 [06:52<00:00,  0.80it/s, v_num=13]\n",
      "Val - After Epoch 95: loss=1.718, acc=0.530\n",
      "Epoch 95: 100%|████████████████████████████████████████████████████████████| 329/329 [07:12<00:00,  0.76it/s, v_num=13]\n",
      "Train - After Epoch 95: loss=1.480, acc=0.577\n",
      "Learning rate after epoch 95: 1.4375e-05\n",
      "[Epoch 95] Grad Norms — Total: 24, Vanished: 3, Exploded: 0\n",
      "Epoch 96: 100%|████████████████████████████████████████████████████████████| 329/329 [06:53<00:00,  0.80it/s, v_num=13]\n",
      "Val - After Epoch 96: loss=1.711, acc=0.532\n",
      "Epoch 96: 100%|████████████████████████████████████████████████████████████| 329/329 [07:13<00:00,  0.76it/s, v_num=13]\n",
      "Train - After Epoch 96: loss=1.489, acc=0.576\n",
      "Learning rate after epoch 96: 1.4375e-05\n",
      "[Epoch 96] Grad Norms — Total: 24, Vanished: 3, Exploded: 0\n",
      "Epoch 97: 100%|████████████████████████████████████████████████████████████| 329/329 [06:53<00:00,  0.80it/s, v_num=13]\n",
      "Val - After Epoch 97: loss=1.696, acc=0.531\n",
      "Epoch 97: 100%|████████████████████████████████████████████████████████████| 329/329 [07:12<00:00,  0.76it/s, v_num=13]"
     ]
    },
    {
     "name": "stderr",
     "output_type": "stream",
     "text": [
      "Metric val_loss improved by 0.001 >= min_delta = 0.0. New best score: 1.696\n"
     ]
    },
    {
     "name": "stdout",
     "output_type": "stream",
     "text": [
      "\n",
      "Train - After Epoch 97: loss=1.487, acc=0.579\n",
      "Learning rate after epoch 97: 1.4375e-05\n",
      "[Epoch 97] Grad Norms — Total: 24, Vanished: 3, Exploded: 0\n",
      "Epoch 98: 100%|████████████████████████████████████████████████████████████| 329/329 [06:53<00:00,  0.80it/s, v_num=13]\n",
      "Val - After Epoch 98: loss=1.722, acc=0.531\n",
      "Epoch 98: 100%|████████████████████████████████████████████████████████████| 329/329 [07:13<00:00,  0.76it/s, v_num=13]\n",
      "Train - After Epoch 98: loss=1.489, acc=0.575\n",
      "Learning rate after epoch 98: 1.4375e-05\n",
      "[Epoch 98] Grad Norms — Total: 24, Vanished: 3, Exploded: 0\n",
      "Epoch 99: 100%|████████████████████████████████████████████████████████████| 329/329 [06:52<00:00,  0.80it/s, v_num=13]\n",
      "Val - After Epoch 99: loss=1.687, acc=0.539\n",
      "Epoch 99: 100%|████████████████████████████████████████████████████████████| 329/329 [07:12<00:00,  0.76it/s, v_num=13]"
     ]
    },
    {
     "name": "stderr",
     "output_type": "stream",
     "text": [
      "Metric val_loss improved by 0.009 >= min_delta = 0.0. New best score: 1.687\n"
     ]
    },
    {
     "name": "stdout",
     "output_type": "stream",
     "text": [
      "\n",
      "Train - After Epoch 99: loss=1.492, acc=0.572\n",
      "Learning rate after epoch 99: 1.4375e-05\n",
      "[Epoch 99] Grad Norms — Total: 24, Vanished: 3, Exploded: 0\n"
     ]
    },
    {
     "name": "stderr",
     "output_type": "stream",
     "text": [
      "`Trainer.fit` stopped: `max_epochs=100` reached.\n"
     ]
    },
    {
     "name": "stdout",
     "output_type": "stream",
     "text": [
      "Epoch 99: 100%|████████████████████████████████████████████████████████████| 329/329 [07:13<00:00,  0.76it/s, v_num=13]\n"
     ]
    }
   ],
   "source": [
    "datamodule = DataModule(batch_size=64, num_workers=8)\n",
    "datamodule.setup()\n",
    "model = ConvolutionalNetwork(class_labels=class_names)\n",
    "trainer = pl.Trainer(logger=logger,\n",
    "                     callbacks=[MinimalProgressBar(), checkpoint_callback, early_stop_callback], \n",
    "                     default_root_dir=\"\\\\training_output\", \n",
    "                     max_epochs=100)\n",
    "trainer.fit(model, datamodule)"
   ]
  },
  {
   "cell_type": "code",
   "execution_count": 27,
   "metadata": {},
   "outputs": [
    {
     "data": {
      "image/png": "[encoded data removed]",
      "text/plain": [
       "<Figure size 1000x500 with 1 Axes>"
      ]
     },
     "metadata": {},
     "output_type": "display_data"
    }
   ],
   "source": [
    "#Plotting train and validation loss\n",
    "epochs = range(1, len(model.training_losses) + 1)\n",
    "plt.figure(figsize=(10, 5))\n",
    "plt.plot(epochs, model.training_losses, label='Training Loss')\n",
    "plt.plot(epochs, model.validation_losses[1:], label='Validation Loss')\n",
    "plt.xlabel('Epoch')\n",
    "plt.ylabel('Loss')\n",
    "plt.title('Training and Validation Loss')\n",
    "plt.legend()\n",
    "plt.grid(True)\n",
    "plt.tight_layout()\n",
    "plt.show()"
   ]
  },
  {
   "cell_type": "code",
   "execution_count": 28,
   "metadata": {},
   "outputs": [
    {
     "data": {
      "image/png": "[encoded data removed]",
      "text/plain": [
       "<Figure size 1000x500 with 1 Axes>"
      ]
     },
     "metadata": {},
     "output_type": "display_data"
    }
   ],
   "source": [
    "#Plotting train and validation accuracy\n",
    "epochs = range(1, len(model.training_accuracies) + 1)\n",
    "plt.figure(figsize=(10, 5))\n",
    "plt.plot(epochs, [a*100 for a in model.training_accuracies], label='Training Accuracy')\n",
    "plt.plot(epochs, [a*100 for a in model.validation_accuracies[1:]], label='Validation Accuracy')\n",
    "plt.xlabel('Epoch')\n",
    "plt.ylabel('Accuracy')\n",
    "plt.title('Training and Validation Accuracies')\n",
    "plt.legend()\n",
    "plt.grid(True)\n",
    "plt.tight_layout()\n",
    "plt.show()"
   ]
  },
  {
   "cell_type": "code",
   "execution_count": null,
   "metadata": {},
   "outputs": [],
   "source": []
  },
  {
   "cell_type": "code",
   "execution_count": null,
   "metadata": {},
   "outputs": [],
   "source": []
  }
 ],
 "metadata": {
  "kernelspec": {
   "display_name": "torch_gpu_env",
   "language": "python",
   "name": "torch_gpu_env"
  },
  "language_info": {
   "codemirror_mode": {
    "name": "ipython",
    "version": 3
   },
   "file_extension": ".py",
   "mimetype": "text/x-python",
   "name": "python",
   "nbconvert_exporter": "python",
   "pygments_lexer": "ipython3",
   "version": "3.10.16"
  }
 },
 "nbformat": 4,
 "nbformat_minor": 5
}
