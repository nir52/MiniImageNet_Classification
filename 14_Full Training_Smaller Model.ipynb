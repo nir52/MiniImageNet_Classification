{
 "cells": [
  {
   "cell_type": "code",
   "execution_count": 1,
   "metadata": {},
   "outputs": [],
   "source": [
    "import os\n",
    "import random\n",
    "import numpy as np\n",
    "import pandas as pd\n",
    "from tqdm import tqdm\n",
    "from datetime import datetime"
   ]
  },
  {
   "cell_type": "code",
   "execution_count": 2,
   "metadata": {},
   "outputs": [],
   "source": [
    "import torch\n",
    "import torch.nn as nn\n",
    "import torch.nn.functional as F\n",
    "from torch.utils.data import random_split, SubsetRandomSampler, DataLoader, Dataset, Subset\n",
    "from torchvision import datasets, transforms, models \n",
    "from torchvision.utils import make_grid\n",
    "from pytorch_lightning.callbacks.progress import TQDMProgressBar\n",
    "from pytorch_lightning.callbacks import ModelCheckpoint, EarlyStopping\n",
    "import pytorch_lightning as pl\n",
    "from pytorch_lightning.loggers import TensorBoardLogger"
   ]
  },
  {
   "cell_type": "code",
   "execution_count": 3,
   "metadata": {},
   "outputs": [],
   "source": [
    "from PIL import Image\n",
    "import matplotlib.pyplot as plt\n",
    "from sklearn.model_selection import train_test_split\n",
    "from sklearn.metrics import classification_report"
   ]
  },
  {
   "cell_type": "code",
   "execution_count": 4,
   "metadata": {},
   "outputs": [
    {
     "data": {
      "text/plain": [
       "'2.5.1'"
      ]
     },
     "execution_count": 4,
     "metadata": {},
     "output_type": "execute_result"
    }
   ],
   "source": [
    "torch.__version__"
   ]
  },
  {
   "cell_type": "code",
   "execution_count": 5,
   "metadata": {},
   "outputs": [
    {
     "data": {
      "text/plain": [
       "'2.5.1.post0'"
      ]
     },
     "execution_count": 5,
     "metadata": {},
     "output_type": "execute_result"
    }
   ],
   "source": [
    "pl.__version__"
   ]
  },
  {
   "cell_type": "code",
   "execution_count": 6,
   "metadata": {},
   "outputs": [],
   "source": [
    "# Setting dataset path\n",
    "path = \"E:\\\\mini_ImageNet\\\\archive\\\\\""
   ]
  },
  {
   "cell_type": "code",
   "execution_count": 7,
   "metadata": {},
   "outputs": [
    {
     "name": "stdout",
     "output_type": "stream",
     "text": [
      "Mean: [0.4764, 0.4491, 0.4001]\n",
      "Std: [0.2264, 0.2224, 0.2212]\n"
     ]
    }
   ],
   "source": [
    "#Using the previously calculated values (first notebook) of mean and std of the images in this dataset\n",
    "mean = [0.4764, 0.4491, 0.4001]\n",
    "std = [0.2264, 0.2224, 0.2212]\n",
    "\n",
    "print(\"Mean:\", mean)\n",
    "print(\"Std:\", std)"
   ]
  },
  {
   "cell_type": "code",
   "execution_count": null,
   "metadata": {},
   "outputs": [],
   "source": []
  },
  {
   "cell_type": "markdown",
   "metadata": {},
   "source": [
    "### Image Transforms"
   ]
  },
  {
   "cell_type": "code",
   "execution_count": 8,
   "metadata": {},
   "outputs": [],
   "source": [
    "transform=transforms.Compose([\n",
    "        transforms.Resize(224),             # resize shortest side to 224 pixels\n",
    "        transforms.CenterCrop(224),         # crop longest side to 224 pixels at center\n",
    "        transforms.ToTensor(),\n",
    "        transforms.Normalize(mean, std),\n",
    "    \n",
    "        transforms.RandomRotation(20),      # rotate +/- 20 degrees\n",
    "        transforms.RandomHorizontalFlip(p=0.25),  # flip 24% of images\n",
    "        transforms.ColorJitter(brightness=0.2, contrast=0.2, saturation=0.2),  \n",
    "        transforms.RandomAffine(degrees=0, translate=(0.2, 0.2), scale=(0.8, 1.2)),\n",
    "        transforms.RandomApply([transforms.ColorJitter(brightness=0.2, contrast=0.2, \n",
    "                                                       saturation=0.2)], p=0.5), # jitters by +/- given value\n",
    "        transforms.RandomApply([transforms.GaussianBlur(kernel_size=3, sigma=(0.1, 0.7))], p=0.3)\n",
    "    ])\n",
    "#https://docs.pytorch.org/vision/main/transforms.html"
   ]
  },
  {
   "cell_type": "code",
   "execution_count": 9,
   "metadata": {},
   "outputs": [],
   "source": [
    "#Getting class names from the folder names of images\n",
    "class_names=sorted(os.listdir(path))\n",
    "class_names = ['_'.join(c.split('_')[:-1]) for c in class_names]"
   ]
  },
  {
   "cell_type": "markdown",
   "metadata": {},
   "source": [
    "### Data Module"
   ]
  },
  {
   "cell_type": "code",
   "execution_count": 10,
   "metadata": {},
   "outputs": [],
   "source": [
    "class DataModule(pl.LightningDataModule):\n",
    "    \n",
    "    def __init__(self, batch_size:int=32, num_workers:int=10, transform=transform):\n",
    "        super().__init__()\n",
    "        # self.root_dir = \"/kaggle/input/miniimagenet\"\n",
    "        self.root_dir = path\n",
    "        self.transform = transform\n",
    "        self.batch_size = batch_size\n",
    "        self.num_w = num_workers\n",
    "\n",
    "    def setup(self, stage=None):\n",
    "        dataset = datasets.ImageFolder(root=self.root_dir, transform=self.transform)\n",
    "        n_data = len(dataset)\n",
    "        n_train = int(0.7 * n_data)\n",
    "        n_valid = int(0.2 * n_data)\n",
    "        n_test = n_data - n_train - n_valid\n",
    "        \n",
    "        self.train_dataset, self.val_dataset, self.test_dataset = torch.utils.data.random_split(dataset, [n_train, n_valid, n_test])\n",
    "        \n",
    "    \n",
    "    def train_dataloader(self):\n",
    "        return DataLoader(self.train_dataset, batch_size=self.batch_size, shuffle=True, \n",
    "                  num_workers=self.num_w, persistent_workers=True)\n",
    "    \n",
    "    def val_dataloader(self):\n",
    "        return DataLoader(self.val_dataset, batch_size=self.batch_size, \n",
    "                  num_workers=self.num_w, persistent_workers=True)\n",
    "    \n",
    "    def test_dataloader(self):\n",
    "        return DataLoader(self.test_dataset, batch_size=self.batch_size, \n",
    "                  num_workers=self.num_w, persistent_workers=True)\n",
    "        "
   ]
  },
  {
   "cell_type": "markdown",
   "metadata": {},
   "source": [
    "### CNN Classifier"
   ]
  },
  {
   "cell_type": "code",
   "execution_count": 11,
   "metadata": {},
   "outputs": [],
   "source": [
    "class ConvolutionalNetwork(pl.LightningModule):\n",
    "    \n",
    "    def __init__(self, class_labels, numChannels:int=3):\n",
    "        super(ConvolutionalNetwork, self).__init__()\n",
    "        \n",
    "        #Initializing variable to collect grad norms \n",
    "        self._grad_norms = {}\n",
    "        \n",
    "        ##Initializing channel sizes for different layers\n",
    "        \n",
    "        self.conv1_out_channels = 16\n",
    "        self.conv2_out_channels = 32\n",
    "        self.conv3_out_channels = 64\n",
    "        self.conv4_out_channels = 96\n",
    "        \n",
    "        self.fc1_out_features = 512\n",
    "        self.fc2_out_features = 256\n",
    "        self.fc3_out_features = 128\n",
    "        self.fc4_out_features = len(class_labels)\n",
    "        \n",
    "        #Initializing lists to store train and val accuracies and losses\n",
    "        self.training_accuracies = []\n",
    "        self.validation_accuracies = []\n",
    "        self.training_losses = []\n",
    "        self.validation_losses = []\n",
    "\n",
    "\n",
    "        #First conv layer block\n",
    "        self.conv1 = nn.Conv2d(in_channels=numChannels, out_channels=self.conv1_out_channels, \n",
    "                               kernel_size=3, stride=1, padding=1)\n",
    "        self.bn1 = nn.BatchNorm2d(self.conv1_out_channels)\n",
    "        self.act1 = nn.LeakyReLU(0.05)          #also try leaky relu\n",
    "        self.pool1 = nn.MaxPool2d(kernel_size=2, stride=2)\n",
    "        \n",
    "        \n",
    "        #Second conv layer block\n",
    "        self.conv2 = nn.Conv2d(in_channels=self.conv1_out_channels, out_channels=self.conv2_out_channels, \n",
    "                               kernel_size=3, stride=1, padding=1)\n",
    "        self.bn2 = nn.BatchNorm2d(self.conv2_out_channels)\n",
    "        self.act2 = nn.LeakyReLU(0.05)\n",
    "        self.pool2 = nn.MaxPool2d(kernel_size=2, stride=2)\n",
    "        \n",
    "        \n",
    "        #Third conv layer block\n",
    "        self.conv3 = nn.Conv2d(in_channels=self.conv2_out_channels, out_channels=self.conv3_out_channels, \n",
    "                               kernel_size=3, stride=1, padding=1)\n",
    "        self.bn3 = nn.BatchNorm2d(self.conv3_out_channels)\n",
    "        self.act3 = nn.LeakyReLU(0.05)\n",
    "        self.pool3 = nn.MaxPool2d(kernel_size=2, stride=2)\n",
    "        \n",
    "        \n",
    "        #Fourth conv layer block\n",
    "        self.conv4 = nn.Conv2d(in_channels=self.conv3_out_channels, out_channels=self.conv4_out_channels, \n",
    "                               kernel_size=3, stride=1, padding=1)\n",
    "        self.bn4 = nn.BatchNorm2d(self.conv4_out_channels)\n",
    "        self.act4 = nn.LeakyReLU(0.05)\n",
    "        self.pool4 = nn.MaxPool2d(kernel_size=2, stride=2)\n",
    "        \n",
    "        \n",
    "        # Flatten\n",
    "        self.flatten = nn.Flatten()\n",
    "        \n",
    "        #Fully connected layers\n",
    "        self.fc1 = nn.LazyLinear(self.fc1_out_features)    #try bias=True ?\n",
    "        self.dropout1 = nn.Dropout(0.5)\n",
    "        self.act_fc1 = nn.LeakyReLU(0.05)\n",
    "        \n",
    "        self.fc2 = nn.Linear(in_features=self.fc1_out_features, out_features=self.fc2_out_features)\n",
    "        self.dropout2 = nn.Dropout(0.3)\n",
    "        self.act_fc2 = nn.LeakyReLU(0.05)\n",
    "        \n",
    "        self.fc3 = nn.Linear(in_features=self.fc2_out_features, out_features=self.fc3_out_features)\n",
    "        self.dropout3 = nn.Dropout(0.3)\n",
    "        self.act_fc3 = nn.LeakyReLU(0.05)\n",
    "        \n",
    "        self.fc4 = nn.Linear(in_features=self.fc3_out_features, out_features=self.fc4_out_features)\n",
    "        self.output_activation  = nn.LogSoftmax(dim=1)\n",
    "        \n",
    "    # convolution output size formula: https://i.sstatic.net/vD1u3.png\n",
    "    \n",
    "    \n",
    "    def forward(self, x):\n",
    "        x = self.act1(self.bn1(self.conv1(x)))\n",
    "        x = self.pool1(x)\n",
    "        x = self.act2(self.bn2(self.conv2(x)))\n",
    "        x = self.pool2(x)\n",
    "        x = self.act3(self.bn3(self.conv3(x)))\n",
    "        x = self.pool3(x)\n",
    "        x = self.act4(self.bn4(self.conv4(x)))\n",
    "        x = self.pool4(x)\n",
    "        \n",
    "        x = self.flatten(x)\n",
    "        \n",
    "        x = self.dropout1(self.act_fc1(self.fc1(x)))\n",
    "        x = self.dropout2(self.act_fc2(self.fc2(x)))\n",
    "        x = self.dropout3(self.act_fc2(self.fc3(x)))\n",
    "        x = self.output_activation(self.fc4(x))\n",
    "        \n",
    "        return x\n",
    "\n",
    "    \n",
    "    def configure_optimizers(self):\n",
    "        optimizer = torch.optim.Adam(self.parameters(), lr=0.001, weight_decay=1e-4)\n",
    "        scheduler = {\n",
    "            'scheduler': torch.optim.lr_scheduler.ReduceLROnPlateau(optimizer, mode='min', patience=3, factor=0.5, verbose=True),\n",
    "            'monitor': 'val_loss'\n",
    "        }\n",
    "        return {\"optimizer\": optimizer, \"lr_scheduler\": scheduler}\n",
    "    \n",
    "\n",
    "    def training_step(self, train_batch, batch_idx):\n",
    "        X, y = train_batch\n",
    "        y_hat = self(X)\n",
    "        loss = F.cross_entropy(y_hat, y)\n",
    "        pred = y_hat.argmax(dim=1, keepdim=True)\n",
    "        acc = (pred.squeeze() == y).float().mean()\n",
    "        self.log(\"train_loss\", loss, on_step=False, on_epoch=True, prog_bar=False)\n",
    "        self.log(\"train_acc\", acc, on_step=False, on_epoch=True, prog_bar=False)\n",
    "        return loss\n",
    "    \n",
    "    \n",
    "    def validation_step(self, val_batch, batch_idx):\n",
    "        X, y = val_batch\n",
    "        y_hat = self(X)\n",
    "        loss = F.cross_entropy(y_hat, y)\n",
    "        pred = y_hat.argmax(dim=1, keepdim=True)\n",
    "        acc = (pred.squeeze() == y).float().mean()\n",
    "        self.log(\"val_loss\", loss, on_step=False, on_epoch=True, prog_bar=False)\n",
    "        self.log(\"val_acc\", acc, on_step=False, on_epoch=True, prog_bar=False)\n",
    "        \n",
    "\n",
    "    def test_step(self, test_batch, batch_idx):\n",
    "        X, y = test_batch\n",
    "        y_hat = self(X)\n",
    "        loss = F.cross_entropy(y_hat, y)\n",
    "        pred = y_hat.argmax(dim=1, keepdim=True)\n",
    "        acc = pred.eq(y.view_as(pred)).sum().item() / y.shape[0]\n",
    "        self.log(\"test_loss\", loss)\n",
    "        self.log(\"test_acc\", acc)\n",
    "        \n",
    "        \n",
    "    def on_train_epoch_end(self):\n",
    "        train_acc = self.trainer.callback_metrics.get(\"train_acc\")\n",
    "        train_loss = self.trainer.callback_metrics.get(\"train_loss\")\n",
    "        if train_acc is not None:\n",
    "            self.training_accuracies.append(train_acc.item())\n",
    "        if train_loss is not None:\n",
    "            self.training_losses.append(train_loss.item())\n",
    "        print(f\"\\nTrain - After Epoch {self.current_epoch}: loss={train_loss:.3f}, acc={train_acc:.3f}\")\n",
    "        for param_group in self.trainer.optimizers[0].param_groups:\n",
    "            print(f\"Learning rate after epoch {self.current_epoch}: {param_group['lr']}\")\n",
    "        \n",
    "        #Calculating average grad norms\n",
    "        vanished_count = 0\n",
    "        exploded_count = 0\n",
    "        total_layers = len(self._grad_norms)\n",
    "\n",
    "        for name, norms in self._grad_norms.items():\n",
    "            avg_norm = sum(norms) / len(norms)\n",
    "\n",
    "            # Log to TensorBoard\n",
    "            self.logger.experiment.add_scalar(f\"grad_norm_epoch_avg/{name}\", avg_norm, self.current_epoch)\n",
    "\n",
    "            # Stats\n",
    "            if avg_norm < 1e-6:\n",
    "                vanished_count += 1\n",
    "            elif avg_norm > 100:\n",
    "                exploded_count += 1\n",
    "\n",
    "        # Log total stats\n",
    "        self.log(\"grad_stats/total_layers\", total_layers, on_epoch=True)\n",
    "        self.log(\"grad_stats/vanished\", vanished_count, on_epoch=True)\n",
    "        self.log(\"grad_stats/exploded\", exploded_count, on_epoch=True)\n",
    "\n",
    "        print(f\"[Epoch {self.current_epoch}] Grad Norms — Total: {total_layers}, Vanished: {vanished_count}, Exploded: {exploded_count}\")\n",
    "\n",
    "        # Reset buffer\n",
    "        self._grad_norms.clear()\n",
    "    \n",
    "\n",
    "    def on_validation_epoch_end(self):\n",
    "        val_loss = self.trainer.callback_metrics.get(\"val_loss\")\n",
    "        val_acc = self.trainer.callback_metrics.get(\"val_acc\")\n",
    "        if val_acc is not None:\n",
    "            self.validation_accuracies.append(val_acc.item())\n",
    "        if val_loss is not None:\n",
    "            self.validation_losses.append(val_loss.item())\n",
    "        print(f\"\\nVal - After Epoch {self.current_epoch}: loss={val_loss:.3f}, acc={val_acc:.3f}\")\n",
    "    \n",
    "    \n",
    "    def on_train_batch_end(self, outputs, batch, batch_idx, dataloader_idx=0):\n",
    "        for name, param in self.named_parameters():\n",
    "            if param.grad is not None:\n",
    "                norm = param.grad.norm().item()\n",
    "                if name not in self._grad_norms:\n",
    "                    self._grad_norms[name] = []\n",
    "                self._grad_norms[name].append(norm)\n"
   ]
  },
  {
   "cell_type": "code",
   "execution_count": 12,
   "metadata": {},
   "outputs": [],
   "source": [
    "#Removing the Validation DataLoader progress bar between epochs\n",
    "class MinimalProgressBar(TQDMProgressBar):\n",
    "    def init_validation_tqdm(self):\n",
    "        # Return a dummy tqdm with no visible output to disable validation progress bar\n",
    "        # Set total=0 to avoid progress display\n",
    "        return tqdm(disable=True)\n",
    "\n",
    "    def init_test_tqdm(self):\n",
    "        # Same for test dataloader\n",
    "        return tqdm(disable=True)\n",
    "    "
   ]
  },
  {
   "cell_type": "code",
   "execution_count": 13,
   "metadata": {},
   "outputs": [],
   "source": [
    "#Setting seed to fetch the same training data every time\n",
    "timestamp = datetime.now().strftime(format=\"%Y-%m-%d_%H-%M-%S\")"
   ]
  },
  {
   "cell_type": "code",
   "execution_count": 14,
   "metadata": {},
   "outputs": [],
   "source": [
    "#Configuring model checkpointing:\n",
    "checkpoint_callback = ModelCheckpoint(\n",
    "    dirpath=f\"checkpoints\\\\{timestamp}\",                   # Folder to save checkpoints\n",
    "    filename=f\"epoch{{epoch:02d}}-val_loss{{val_loss:.2f}}\", \n",
    "    save_top_k=2,                             \n",
    "    monitor=\"val_loss\",                       # Metric to track best model\n",
    "    mode=\"min\",                               # Lower val_loss = better\n",
    "    save_weights_only=False                  # Save full model\n",
    "#     every_n_epochs=5                          # Save every 5 epochs\n",
    ")"
   ]
  },
  {
   "cell_type": "code",
   "execution_count": 15,
   "metadata": {},
   "outputs": [],
   "source": [
    "#Configuring early stopping callback\n",
    "early_stop_callback = EarlyStopping(\n",
    "    monitor=\"val_loss\",     # or \"val_acc\", depending on your goal\n",
    "    patience=9,             # number of epochs to wait with no improvement\n",
    "    mode=\"min\",             # \"min\" for loss, \"max\" for accuracy\n",
    "    verbose=True\n",
    ")"
   ]
  },
  {
   "cell_type": "code",
   "execution_count": 16,
   "metadata": {},
   "outputs": [],
   "source": [
    "# Create logger\n",
    "logger = TensorBoardLogger(\"tensorboard_logs\", name=\"miniimagenet_cnn\")"
   ]
  },
  {
   "cell_type": "code",
   "execution_count": 17,
   "metadata": {},
   "outputs": [
    {
     "name": "stderr",
     "output_type": "stream",
     "text": [
      "Seed set to 42\n"
     ]
    },
    {
     "data": {
      "text/plain": [
       "42"
      ]
     },
     "execution_count": 17,
     "metadata": {},
     "output_type": "execute_result"
    }
   ],
   "source": [
    "#Setting seed to fetch the same training data every time\n",
    "pl.seed_everything(42, workers=True)  # `workers=True` ensures worker-level reproducibility"
   ]
  },
  {
   "cell_type": "markdown",
   "metadata": {},
   "source": [
    "### Model Training"
   ]
  },
  {
   "cell_type": "code",
   "execution_count": 18,
   "metadata": {},
   "outputs": [
    {
     "name": "stderr",
     "output_type": "stream",
     "text": [
      "GPU available: True (cuda), used: True\n",
      "TPU available: False, using: 0 TPU cores\n",
      "HPU available: False, using: 0 HPUs\n",
      "LOCAL_RANK: 0 - CUDA_VISIBLE_DEVICES: [0]\n",
      "C:\\ProgramData\\Anaconda3\\envs\\torch_gpu_env\\lib\\site-packages\\torch\\optim\\lr_scheduler.py:62: UserWarning: The verbose parameter is deprecated. Please use get_last_lr() to access the learning rate.\n",
      "  warnings.warn(\n",
      "C:\\ProgramData\\Anaconda3\\envs\\torch_gpu_env\\lib\\site-packages\\pytorch_lightning\\utilities\\model_summary\\model_summary.py:477: The total number of parameters detected may be inaccurate because the model contains an instance of `UninitializedParameter`. To get an accurate number, set `self.example_input_array` in your LightningModule.\n",
      "\n",
      "   | Name              | Type        | Params | Mode \n",
      "-----------------------------------------------------------\n",
      "0  | conv1             | Conv2d      | 448    | train\n",
      "1  | bn1               | BatchNorm2d | 32     | train\n",
      "2  | act1              | LeakyReLU   | 0      | train\n",
      "3  | pool1             | MaxPool2d   | 0      | train\n",
      "4  | conv2             | Conv2d      | 4.6 K  | train\n",
      "5  | bn2               | BatchNorm2d | 64     | train\n",
      "6  | act2              | LeakyReLU   | 0      | train\n",
      "7  | pool2             | MaxPool2d   | 0      | train\n",
      "8  | conv3             | Conv2d      | 18.5 K | train\n",
      "9  | bn3               | BatchNorm2d | 128    | train\n",
      "10 | act3              | LeakyReLU   | 0      | train\n",
      "11 | pool3             | MaxPool2d   | 0      | train\n",
      "12 | conv4             | Conv2d      | 55.4 K | train\n",
      "13 | bn4               | BatchNorm2d | 192    | train\n",
      "14 | act4              | LeakyReLU   | 0      | train\n",
      "15 | pool4             | MaxPool2d   | 0      | train\n",
      "16 | flatten           | Flatten     | 0      | train\n",
      "17 | fc1               | LazyLinear  | 0      | train\n",
      "18 | dropout1          | Dropout     | 0      | train\n",
      "19 | act_fc1           | LeakyReLU   | 0      | train\n",
      "20 | fc2               | Linear      | 131 K  | train\n",
      "21 | dropout2          | Dropout     | 0      | train\n",
      "22 | act_fc2           | LeakyReLU   | 0      | train\n",
      "23 | fc3               | Linear      | 32.9 K | train\n",
      "24 | dropout3          | Dropout     | 0      | train\n",
      "25 | act_fc3           | LeakyReLU   | 0      | train\n",
      "26 | fc4               | Linear      | 6.5 K  | train\n",
      "27 | output_activation | LogSoftmax  | 0      | train\n",
      "-----------------------------------------------------------\n",
      "250 K     Trainable params\n",
      "0         Non-trainable params\n",
      "250 K     Total params\n",
      "1.000     Total estimated model params size (MB)\n",
      "28        Modules in train mode\n",
      "0         Modules in eval mode\n"
     ]
    },
    {
     "name": "stdout",
     "output_type": "stream",
     "text": [
      "Sanity Checking DataLoader 0: 100%|██████████████████████████████████████████████████████| 2/2 [00:00<00:00,  2.23it/s]\n",
      "Val - After Epoch 0: loss=3.908, acc=0.031\n",
      "Epoch 0: 100%|█████████████████████████████████████████████████████████████| 165/165 [01:17<00:00,  2.12it/s, v_num=10]\n",
      "Val - After Epoch 0: loss=3.617, acc=0.075\n",
      "Epoch 0: 100%|█████████████████████████████████████████████████████████████| 165/165 [01:39<00:00,  1.67it/s, v_num=10]"
     ]
    },
    {
     "name": "stderr",
     "output_type": "stream",
     "text": [
      "Metric val_loss improved. New best score: 3.617\n"
     ]
    },
    {
     "name": "stdout",
     "output_type": "stream",
     "text": [
      "\n",
      "Train - After Epoch 0: loss=3.785, acc=0.056\n",
      "Learning rate after epoch 0: 0.001\n",
      "[Epoch 0] Grad Norms — Total: 24, Vanished: 4, Exploded: 0\n",
      "Epoch 1: 100%|█████████████████████████████████████████████████████████████| 165/165 [01:11<00:00,  2.31it/s, v_num=10]\n",
      "Val - After Epoch 1: loss=3.392, acc=0.112\n",
      "Epoch 1: 100%|█████████████████████████████████████████████████████████████| 165/165 [01:31<00:00,  1.80it/s, v_num=10]"
     ]
    },
    {
     "name": "stderr",
     "output_type": "stream",
     "text": [
      "Metric val_loss improved by 0.226 >= min_delta = 0.0. New best score: 3.392\n"
     ]
    },
    {
     "name": "stdout",
     "output_type": "stream",
     "text": [
      "\n",
      "Train - After Epoch 1: loss=3.555, acc=0.088\n",
      "Learning rate after epoch 1: 0.001\n",
      "[Epoch 1] Grad Norms — Total: 24, Vanished: 4, Exploded: 0\n",
      "Epoch 2: 100%|█████████████████████████████████████████████████████████████| 165/165 [01:13<00:00,  2.26it/s, v_num=10]\n",
      "Val - After Epoch 2: loss=3.360, acc=0.134\n",
      "Epoch 2: 100%|█████████████████████████████████████████████████████████████| 165/165 [01:33<00:00,  1.76it/s, v_num=10]"
     ]
    },
    {
     "name": "stderr",
     "output_type": "stream",
     "text": [
      "Metric val_loss improved by 0.032 >= min_delta = 0.0. New best score: 3.360\n"
     ]
    },
    {
     "name": "stdout",
     "output_type": "stream",
     "text": [
      "\n",
      "Train - After Epoch 2: loss=3.444, acc=0.112\n",
      "Learning rate after epoch 2: 0.001\n",
      "[Epoch 2] Grad Norms — Total: 24, Vanished: 4, Exploded: 0\n",
      "Epoch 3: 100%|█████████████████████████████████████████████████████████████| 165/165 [01:12<00:00,  2.29it/s, v_num=10]\n",
      "Val - After Epoch 3: loss=3.193, acc=0.161\n",
      "Epoch 3: 100%|█████████████████████████████████████████████████████████████| 165/165 [01:33<00:00,  1.77it/s, v_num=10]"
     ]
    },
    {
     "name": "stderr",
     "output_type": "stream",
     "text": [
      "Metric val_loss improved by 0.167 >= min_delta = 0.0. New best score: 3.193\n"
     ]
    },
    {
     "name": "stdout",
     "output_type": "stream",
     "text": [
      "\n",
      "Train - After Epoch 3: loss=3.371, acc=0.128\n",
      "Learning rate after epoch 3: 0.001\n",
      "[Epoch 3] Grad Norms — Total: 24, Vanished: 4, Exploded: 0\n",
      "Epoch 4: 100%|█████████████████████████████████████████████████████████████| 165/165 [01:12<00:00,  2.28it/s, v_num=10]\n",
      "Val - After Epoch 4: loss=3.172, acc=0.167\n",
      "Epoch 4: 100%|█████████████████████████████████████████████████████████████| 165/165 [01:33<00:00,  1.77it/s, v_num=10]"
     ]
    },
    {
     "name": "stderr",
     "output_type": "stream",
     "text": [
      "Metric val_loss improved by 0.022 >= min_delta = 0.0. New best score: 3.172\n"
     ]
    },
    {
     "name": "stdout",
     "output_type": "stream",
     "text": [
      "\n",
      "Train - After Epoch 4: loss=3.313, acc=0.139\n",
      "Learning rate after epoch 4: 0.001\n",
      "[Epoch 4] Grad Norms — Total: 24, Vanished: 4, Exploded: 0\n",
      "Epoch 5: 100%|█████████████████████████████████████████████████████████████| 165/165 [01:14<00:00,  2.21it/s, v_num=10]\n",
      "Val - After Epoch 5: loss=3.235, acc=0.150\n",
      "Epoch 5: 100%|█████████████████████████████████████████████████████████████| 165/165 [01:35<00:00,  1.73it/s, v_num=10]\n",
      "Train - After Epoch 5: loss=3.255, acc=0.153\n",
      "Learning rate after epoch 5: 0.001\n",
      "[Epoch 5] Grad Norms — Total: 24, Vanished: 4, Exploded: 0\n",
      "Epoch 6: 100%|█████████████████████████████████████████████████████████████| 165/165 [01:13<00:00,  2.25it/s, v_num=10]\n",
      "Val - After Epoch 6: loss=3.094, acc=0.182\n",
      "Epoch 6: 100%|█████████████████████████████████████████████████████████████| 165/165 [01:33<00:00,  1.76it/s, v_num=10]"
     ]
    },
    {
     "name": "stderr",
     "output_type": "stream",
     "text": [
      "Metric val_loss improved by 0.078 >= min_delta = 0.0. New best score: 3.094\n"
     ]
    },
    {
     "name": "stdout",
     "output_type": "stream",
     "text": [
      "\n",
      "Train - After Epoch 6: loss=3.199, acc=0.164\n",
      "Learning rate after epoch 6: 0.001\n",
      "[Epoch 6] Grad Norms — Total: 24, Vanished: 4, Exploded: 0\n",
      "Epoch 7: 100%|█████████████████████████████████████████████████████████████| 165/165 [01:12<00:00,  2.27it/s, v_num=10]\n",
      "Val - After Epoch 7: loss=3.030, acc=0.197\n",
      "Epoch 7: 100%|█████████████████████████████████████████████████████████████| 165/165 [01:33<00:00,  1.77it/s, v_num=10]"
     ]
    },
    {
     "name": "stderr",
     "output_type": "stream",
     "text": [
      "Metric val_loss improved by 0.064 >= min_delta = 0.0. New best score: 3.030\n"
     ]
    },
    {
     "name": "stdout",
     "output_type": "stream",
     "text": [
      "\n",
      "Train - After Epoch 7: loss=3.144, acc=0.179\n",
      "Learning rate after epoch 7: 0.001\n",
      "[Epoch 7] Grad Norms — Total: 24, Vanished: 4, Exploded: 0\n",
      "Epoch 8: 100%|█████████████████████████████████████████████████████████████| 165/165 [01:12<00:00,  2.28it/s, v_num=10]\n",
      "Val - After Epoch 8: loss=2.988, acc=0.214\n",
      "Epoch 8: 100%|█████████████████████████████████████████████████████████████| 165/165 [01:32<00:00,  1.79it/s, v_num=10]"
     ]
    },
    {
     "name": "stderr",
     "output_type": "stream",
     "text": [
      "Metric val_loss improved by 0.042 >= min_delta = 0.0. New best score: 2.988\n"
     ]
    },
    {
     "name": "stdout",
     "output_type": "stream",
     "text": [
      "\n",
      "Train - After Epoch 8: loss=3.086, acc=0.193\n",
      "Learning rate after epoch 8: 0.001\n",
      "[Epoch 8] Grad Norms — Total: 24, Vanished: 4, Exploded: 0\n",
      "Epoch 9: 100%|█████████████████████████████████████████████████████████████| 165/165 [01:12<00:00,  2.28it/s, v_num=10]\n",
      "Val - After Epoch 9: loss=3.044, acc=0.208\n",
      "Epoch 9: 100%|█████████████████████████████████████████████████████████████| 165/165 [01:32<00:00,  1.78it/s, v_num=10]\n",
      "Train - After Epoch 9: loss=3.042, acc=0.200\n",
      "Learning rate after epoch 9: 0.001\n",
      "[Epoch 9] Grad Norms — Total: 24, Vanished: 3, Exploded: 0\n",
      "Epoch 10: 100%|████████████████████████████████████████████████████████████| 165/165 [01:14<00:00,  2.23it/s, v_num=10]\n",
      "Val - After Epoch 10: loss=2.939, acc=0.222\n",
      "Epoch 10: 100%|████████████████████████████████████████████████████████████| 165/165 [01:34<00:00,  1.75it/s, v_num=10]"
     ]
    },
    {
     "name": "stderr",
     "output_type": "stream",
     "text": [
      "Metric val_loss improved by 0.048 >= min_delta = 0.0. New best score: 2.939\n"
     ]
    },
    {
     "name": "stdout",
     "output_type": "stream",
     "text": [
      "\n",
      "Train - After Epoch 10: loss=3.018, acc=0.211\n",
      "Learning rate after epoch 10: 0.001\n",
      "[Epoch 10] Grad Norms — Total: 24, Vanished: 3, Exploded: 0\n",
      "Epoch 11: 100%|████████████████████████████████████████████████████████████| 165/165 [01:10<00:00,  2.32it/s, v_num=10]\n",
      "Val - After Epoch 11: loss=2.912, acc=0.233\n",
      "Epoch 11: 100%|████████████████████████████████████████████████████████████| 165/165 [01:30<00:00,  1.81it/s, v_num=10]"
     ]
    },
    {
     "name": "stderr",
     "output_type": "stream",
     "text": [
      "Metric val_loss improved by 0.027 >= min_delta = 0.0. New best score: 2.912\n"
     ]
    },
    {
     "name": "stdout",
     "output_type": "stream",
     "text": [
      "\n",
      "Train - After Epoch 11: loss=2.957, acc=0.220\n",
      "Learning rate after epoch 11: 0.001\n",
      "[Epoch 11] Grad Norms — Total: 24, Vanished: 3, Exploded: 0\n",
      "Epoch 12: 100%|████████████████████████████████████████████████████████████| 165/165 [01:10<00:00,  2.35it/s, v_num=10]\n",
      "Val - After Epoch 12: loss=2.865, acc=0.251\n",
      "Epoch 12: 100%|████████████████████████████████████████████████████████████| 165/165 [01:30<00:00,  1.82it/s, v_num=10]"
     ]
    },
    {
     "name": "stderr",
     "output_type": "stream",
     "text": [
      "Metric val_loss improved by 0.047 >= min_delta = 0.0. New best score: 2.865\n"
     ]
    },
    {
     "name": "stdout",
     "output_type": "stream",
     "text": [
      "\n",
      "Train - After Epoch 12: loss=2.933, acc=0.227\n",
      "Learning rate after epoch 12: 0.001\n",
      "[Epoch 12] Grad Norms — Total: 24, Vanished: 3, Exploded: 0\n",
      "Epoch 13: 100%|████████████████████████████████████████████████████████████| 165/165 [01:13<00:00,  2.24it/s, v_num=10]\n",
      "Val - After Epoch 13: loss=2.806, acc=0.261\n",
      "Epoch 13: 100%|████████████████████████████████████████████████████████████| 165/165 [01:34<00:00,  1.75it/s, v_num=10]"
     ]
    },
    {
     "name": "stderr",
     "output_type": "stream",
     "text": [
      "Metric val_loss improved by 0.059 >= min_delta = 0.0. New best score: 2.806\n"
     ]
    },
    {
     "name": "stdout",
     "output_type": "stream",
     "text": [
      "\n",
      "Train - After Epoch 13: loss=2.890, acc=0.237\n",
      "Learning rate after epoch 13: 0.001\n",
      "[Epoch 13] Grad Norms — Total: 24, Vanished: 3, Exploded: 0\n",
      "Epoch 14: 100%|████████████████████████████████████████████████████████████| 165/165 [01:12<00:00,  2.29it/s, v_num=10]\n",
      "Val - After Epoch 14: loss=2.764, acc=0.266\n",
      "Epoch 14: 100%|████████████████████████████████████████████████████████████| 165/165 [01:32<00:00,  1.79it/s, v_num=10]"
     ]
    },
    {
     "name": "stderr",
     "output_type": "stream",
     "text": [
      "Metric val_loss improved by 0.042 >= min_delta = 0.0. New best score: 2.764\n"
     ]
    },
    {
     "name": "stdout",
     "output_type": "stream",
     "text": [
      "\n",
      "Train - After Epoch 14: loss=2.868, acc=0.239\n",
      "Learning rate after epoch 14: 0.001\n",
      "[Epoch 14] Grad Norms — Total: 24, Vanished: 3, Exploded: 0\n",
      "Epoch 15: 100%|████████████████████████████████████████████████████████████| 165/165 [01:10<00:00,  2.32it/s, v_num=10]\n",
      "Val - After Epoch 15: loss=2.799, acc=0.259\n",
      "Epoch 15: 100%|████████████████████████████████████████████████████████████| 165/165 [01:31<00:00,  1.81it/s, v_num=10]\n",
      "Train - After Epoch 15: loss=2.832, acc=0.250\n",
      "Learning rate after epoch 15: 0.001\n",
      "[Epoch 15] Grad Norms — Total: 24, Vanished: 3, Exploded: 0\n",
      "Epoch 16: 100%|████████████████████████████████████████████████████████████| 165/165 [01:11<00:00,  2.31it/s, v_num=10]\n",
      "Val - After Epoch 16: loss=3.083, acc=0.226\n",
      "Epoch 16: 100%|████████████████████████████████████████████████████████████| 165/165 [01:32<00:00,  1.78it/s, v_num=10]\n",
      "Train - After Epoch 16: loss=2.825, acc=0.251\n",
      "Learning rate after epoch 16: 0.001\n",
      "[Epoch 16] Grad Norms — Total: 24, Vanished: 3, Exploded: 0\n",
      "Epoch 17: 100%|████████████████████████████████████████████████████████████| 165/165 [01:11<00:00,  2.31it/s, v_num=10]\n",
      "Val - After Epoch 17: loss=2.633, acc=0.293\n",
      "Epoch 17: 100%|████████████████████████████████████████████████████████████| 165/165 [01:31<00:00,  1.80it/s, v_num=10]"
     ]
    },
    {
     "name": "stderr",
     "output_type": "stream",
     "text": [
      "Metric val_loss improved by 0.131 >= min_delta = 0.0. New best score: 2.633\n"
     ]
    },
    {
     "name": "stdout",
     "output_type": "stream",
     "text": [
      "\n",
      "Train - After Epoch 17: loss=2.773, acc=0.264\n",
      "Learning rate after epoch 17: 0.001\n",
      "[Epoch 17] Grad Norms — Total: 24, Vanished: 3, Exploded: 0\n",
      "Epoch 18: 100%|████████████████████████████████████████████████████████████| 165/165 [01:10<00:00,  2.35it/s, v_num=10]\n",
      "Val - After Epoch 18: loss=2.674, acc=0.284\n",
      "Epoch 18: 100%|████████████████████████████████████████████████████████████| 165/165 [01:30<00:00,  1.82it/s, v_num=10]\n",
      "Train - After Epoch 18: loss=2.750, acc=0.268\n",
      "Learning rate after epoch 18: 0.001\n",
      "[Epoch 18] Grad Norms — Total: 24, Vanished: 3, Exploded: 0\n",
      "Epoch 19: 100%|████████████████████████████████████████████████████████████| 165/165 [01:12<00:00,  2.29it/s, v_num=10]\n",
      "Val - After Epoch 19: loss=2.616, acc=0.300\n",
      "Epoch 19: 100%|████████████████████████████████████████████████████████████| 165/165 [01:32<00:00,  1.79it/s, v_num=10]"
     ]
    },
    {
     "name": "stderr",
     "output_type": "stream",
     "text": [
      "Metric val_loss improved by 0.017 >= min_delta = 0.0. New best score: 2.616\n"
     ]
    },
    {
     "name": "stdout",
     "output_type": "stream",
     "text": [
      "\n",
      "Train - After Epoch 19: loss=2.736, acc=0.270\n",
      "Learning rate after epoch 19: 0.001\n",
      "[Epoch 19] Grad Norms — Total: 24, Vanished: 3, Exploded: 0\n",
      "Epoch 20: 100%|████████████████████████████████████████████████████████████| 165/165 [01:11<00:00,  2.31it/s, v_num=10]\n",
      "Val - After Epoch 20: loss=2.605, acc=0.304\n",
      "Epoch 20: 100%|████████████████████████████████████████████████████████████| 165/165 [01:31<00:00,  1.81it/s, v_num=10]"
     ]
    },
    {
     "name": "stderr",
     "output_type": "stream",
     "text": [
      "Metric val_loss improved by 0.010 >= min_delta = 0.0. New best score: 2.605\n"
     ]
    },
    {
     "name": "stdout",
     "output_type": "stream",
     "text": [
      "\n",
      "Train - After Epoch 20: loss=2.695, acc=0.282\n",
      "Learning rate after epoch 20: 0.001\n",
      "[Epoch 20] Grad Norms — Total: 24, Vanished: 3, Exploded: 0\n",
      "Epoch 21: 100%|████████████████████████████████████████████████████████████| 165/165 [01:11<00:00,  2.32it/s, v_num=10]\n",
      "Val - After Epoch 21: loss=2.522, acc=0.317\n",
      "Epoch 21: 100%|████████████████████████████████████████████████████████████| 165/165 [01:31<00:00,  1.81it/s, v_num=10]"
     ]
    },
    {
     "name": "stderr",
     "output_type": "stream",
     "text": [
      "Metric val_loss improved by 0.083 >= min_delta = 0.0. New best score: 2.522\n"
     ]
    },
    {
     "name": "stdout",
     "output_type": "stream",
     "text": [
      "\n",
      "Train - After Epoch 21: loss=2.661, acc=0.286\n",
      "Learning rate after epoch 21: 0.001\n",
      "[Epoch 21] Grad Norms — Total: 24, Vanished: 3, Exploded: 0\n",
      "Epoch 22: 100%|████████████████████████████████████████████████████████████| 165/165 [01:11<00:00,  2.32it/s, v_num=10]\n",
      "Val - After Epoch 22: loss=2.757, acc=0.278\n",
      "Epoch 22: 100%|████████████████████████████████████████████████████████████| 165/165 [01:31<00:00,  1.81it/s, v_num=10]\n",
      "Train - After Epoch 22: loss=2.643, acc=0.293\n",
      "Learning rate after epoch 22: 0.001\n",
      "[Epoch 22] Grad Norms — Total: 24, Vanished: 3, Exploded: 0\n",
      "Epoch 23: 100%|████████████████████████████████████████████████████████████| 165/165 [01:11<00:00,  2.30it/s, v_num=10]\n",
      "Val - After Epoch 23: loss=2.580, acc=0.315\n",
      "Epoch 23: 100%|████████████████████████████████████████████████████████████| 165/165 [01:32<00:00,  1.78it/s, v_num=10]\n",
      "Train - After Epoch 23: loss=2.629, acc=0.298\n",
      "Learning rate after epoch 23: 0.001\n",
      "[Epoch 23] Grad Norms — Total: 24, Vanished: 3, Exploded: 0\n",
      "Epoch 24: 100%|████████████████████████████████████████████████████████████| 165/165 [01:12<00:00,  2.28it/s, v_num=10]\n",
      "Val - After Epoch 24: loss=2.542, acc=0.317\n",
      "Epoch 24: 100%|████████████████████████████████████████████████████████████| 165/165 [01:32<00:00,  1.79it/s, v_num=10]\n",
      "Train - After Epoch 24: loss=2.611, acc=0.303\n",
      "Learning rate after epoch 24: 0.001\n",
      "[Epoch 24] Grad Norms — Total: 24, Vanished: 3, Exploded: 0\n",
      "Epoch 25: 100%|████████████████████████████████████████████████████████████| 165/165 [01:11<00:00,  2.32it/s, v_num=10]\n",
      "Val - After Epoch 25: loss=2.484, acc=0.331\n",
      "Epoch 25: 100%|████████████████████████████████████████████████████████████| 165/165 [01:30<00:00,  1.81it/s, v_num=10]"
     ]
    },
    {
     "name": "stderr",
     "output_type": "stream",
     "text": [
      "Metric val_loss improved by 0.038 >= min_delta = 0.0. New best score: 2.484\n"
     ]
    },
    {
     "name": "stdout",
     "output_type": "stream",
     "text": [
      "\n",
      "Train - After Epoch 25: loss=2.617, acc=0.299\n",
      "Learning rate after epoch 25: 0.001\n",
      "[Epoch 25] Grad Norms — Total: 24, Vanished: 3, Exploded: 0\n",
      "Epoch 26: 100%|████████████████████████████████████████████████████████████| 165/165 [01:13<00:00,  2.25it/s, v_num=10]\n",
      "Val - After Epoch 26: loss=2.700, acc=0.292\n",
      "Epoch 26: 100%|████████████████████████████████████████████████████████████| 165/165 [01:33<00:00,  1.76it/s, v_num=10]\n",
      "Train - After Epoch 26: loss=2.581, acc=0.308\n",
      "Learning rate after epoch 26: 0.001\n",
      "[Epoch 26] Grad Norms — Total: 24, Vanished: 3, Exploded: 0\n",
      "Epoch 27: 100%|████████████████████████████████████████████████████████████| 165/165 [01:12<00:00,  2.29it/s, v_num=10]\n",
      "Val - After Epoch 27: loss=2.488, acc=0.328\n",
      "Epoch 27: 100%|████████████████████████████████████████████████████████████| 165/165 [01:32<00:00,  1.79it/s, v_num=10]\n",
      "Train - After Epoch 27: loss=2.563, acc=0.311\n",
      "Learning rate after epoch 27: 0.001\n",
      "[Epoch 27] Grad Norms — Total: 24, Vanished: 3, Exploded: 0\n",
      "Epoch 28: 100%|████████████████████████████████████████████████████████████| 165/165 [01:12<00:00,  2.29it/s, v_num=10]\n",
      "Val - After Epoch 28: loss=2.479, acc=0.335\n",
      "Epoch 28: 100%|████████████████████████████████████████████████████████████| 165/165 [01:32<00:00,  1.79it/s, v_num=10]"
     ]
    },
    {
     "name": "stderr",
     "output_type": "stream",
     "text": [
      "Metric val_loss improved by 0.004 >= min_delta = 0.0. New best score: 2.479\n"
     ]
    },
    {
     "name": "stdout",
     "output_type": "stream",
     "text": [
      "\n",
      "Train - After Epoch 28: loss=2.565, acc=0.314\n",
      "Learning rate after epoch 28: 0.001\n",
      "[Epoch 28] Grad Norms — Total: 24, Vanished: 3, Exploded: 0\n",
      "Epoch 29: 100%|████████████████████████████████████████████████████████████| 165/165 [01:11<00:00,  2.32it/s, v_num=10]\n",
      "Val - After Epoch 29: loss=2.469, acc=0.338\n",
      "Epoch 29: 100%|████████████████████████████████████████████████████████████| 165/165 [01:31<00:00,  1.81it/s, v_num=10]"
     ]
    },
    {
     "name": "stderr",
     "output_type": "stream",
     "text": [
      "Metric val_loss improved by 0.010 >= min_delta = 0.0. New best score: 2.469\n"
     ]
    },
    {
     "name": "stdout",
     "output_type": "stream",
     "text": [
      "\n",
      "Train - After Epoch 29: loss=2.528, acc=0.320\n",
      "Learning rate after epoch 29: 0.001\n",
      "[Epoch 29] Grad Norms — Total: 24, Vanished: 3, Exploded: 0\n",
      "Epoch 30: 100%|████████████████████████████████████████████████████████████| 165/165 [01:11<00:00,  2.30it/s, v_num=10]\n",
      "Val - After Epoch 30: loss=2.402, acc=0.359\n",
      "Epoch 30: 100%|████████████████████████████████████████████████████████████| 165/165 [01:32<00:00,  1.79it/s, v_num=10]"
     ]
    },
    {
     "name": "stderr",
     "output_type": "stream",
     "text": [
      "Metric val_loss improved by 0.067 >= min_delta = 0.0. New best score: 2.402\n"
     ]
    },
    {
     "name": "stdout",
     "output_type": "stream",
     "text": [
      "\n",
      "Train - After Epoch 30: loss=2.505, acc=0.322\n",
      "Learning rate after epoch 30: 0.001\n",
      "[Epoch 30] Grad Norms — Total: 24, Vanished: 3, Exploded: 0\n",
      "Epoch 31: 100%|████████████████████████████████████████████████████████████| 165/165 [01:13<00:00,  2.25it/s, v_num=10]\n",
      "Val - After Epoch 31: loss=2.413, acc=0.334\n",
      "Epoch 31: 100%|████████████████████████████████████████████████████████████| 165/165 [01:33<00:00,  1.76it/s, v_num=10]\n",
      "Train - After Epoch 31: loss=2.488, acc=0.328\n",
      "Learning rate after epoch 31: 0.001\n",
      "[Epoch 31] Grad Norms — Total: 24, Vanished: 3, Exploded: 0\n",
      "Epoch 32: 100%|████████████████████████████████████████████████████████████| 165/165 [01:14<00:00,  2.20it/s, v_num=10]\n",
      "Val - After Epoch 32: loss=2.505, acc=0.325\n",
      "Epoch 32: 100%|████████████████████████████████████████████████████████████| 165/165 [01:35<00:00,  1.74it/s, v_num=10]\n",
      "Train - After Epoch 32: loss=2.501, acc=0.326\n",
      "Learning rate after epoch 32: 0.001\n",
      "[Epoch 32] Grad Norms — Total: 24, Vanished: 3, Exploded: 0\n",
      "Epoch 33: 100%|████████████████████████████████████████████████████████████| 165/165 [01:11<00:00,  2.30it/s, v_num=10]\n",
      "Val - After Epoch 33: loss=2.345, acc=0.367\n",
      "Epoch 33: 100%|████████████████████████████████████████████████████████████| 165/165 [01:31<00:00,  1.79it/s, v_num=10]"
     ]
    },
    {
     "name": "stderr",
     "output_type": "stream",
     "text": [
      "Metric val_loss improved by 0.057 >= min_delta = 0.0. New best score: 2.345\n"
     ]
    },
    {
     "name": "stdout",
     "output_type": "stream",
     "text": [
      "\n",
      "Train - After Epoch 33: loss=2.461, acc=0.334\n",
      "Learning rate after epoch 33: 0.001\n",
      "[Epoch 33] Grad Norms — Total: 24, Vanished: 3, Exploded: 0\n",
      "Epoch 34: 100%|████████████████████████████████████████████████████████████| 165/165 [01:11<00:00,  2.30it/s, v_num=10]\n",
      "Val - After Epoch 34: loss=2.436, acc=0.345\n",
      "Epoch 34: 100%|████████████████████████████████████████████████████████████| 165/165 [01:31<00:00,  1.80it/s, v_num=10]\n",
      "Train - After Epoch 34: loss=2.460, acc=0.334\n",
      "Learning rate after epoch 34: 0.001\n",
      "[Epoch 34] Grad Norms — Total: 24, Vanished: 3, Exploded: 0\n",
      "Epoch 35: 100%|████████████████████████████████████████████████████████████| 165/165 [01:12<00:00,  2.27it/s, v_num=10]\n",
      "Val - After Epoch 35: loss=2.337, acc=0.361\n",
      "Epoch 35: 100%|████████████████████████████████████████████████████████████| 165/165 [01:32<00:00,  1.78it/s, v_num=10]"
     ]
    },
    {
     "name": "stderr",
     "output_type": "stream",
     "text": [
      "Metric val_loss improved by 0.009 >= min_delta = 0.0. New best score: 2.337\n"
     ]
    },
    {
     "name": "stdout",
     "output_type": "stream",
     "text": [
      "\n",
      "Train - After Epoch 35: loss=2.461, acc=0.338\n",
      "Learning rate after epoch 35: 0.001\n",
      "[Epoch 35] Grad Norms — Total: 24, Vanished: 3, Exploded: 0\n",
      "Epoch 36: 100%|████████████████████████████████████████████████████████████| 165/165 [01:12<00:00,  2.28it/s, v_num=10]\n",
      "Val - After Epoch 36: loss=2.380, acc=0.357\n",
      "Epoch 36: 100%|████████████████████████████████████████████████████████████| 165/165 [01:32<00:00,  1.79it/s, v_num=10]\n",
      "Train - After Epoch 36: loss=2.436, acc=0.343\n",
      "Learning rate after epoch 36: 0.001\n",
      "[Epoch 36] Grad Norms — Total: 24, Vanished: 3, Exploded: 0\n",
      "Epoch 37: 100%|████████████████████████████████████████████████████████████| 165/165 [01:11<00:00,  2.32it/s, v_num=10]\n",
      "Val - After Epoch 37: loss=2.448, acc=0.344\n",
      "Epoch 37: 100%|████████████████████████████████████████████████████████████| 165/165 [01:31<00:00,  1.81it/s, v_num=10]\n",
      "Train - After Epoch 37: loss=2.433, acc=0.342\n",
      "Learning rate after epoch 37: 0.001\n",
      "[Epoch 37] Grad Norms — Total: 24, Vanished: 3, Exploded: 0\n",
      "Epoch 38: 100%|████████████████████████████████████████████████████████████| 165/165 [01:10<00:00,  2.33it/s, v_num=10]\n",
      "Val - After Epoch 38: loss=2.371, acc=0.354\n",
      "Epoch 38: 100%|████████████████████████████████████████████████████████████| 165/165 [01:30<00:00,  1.82it/s, v_num=10]\n",
      "Train - After Epoch 38: loss=2.398, acc=0.348\n",
      "Learning rate after epoch 38: 0.001\n",
      "[Epoch 38] Grad Norms — Total: 24, Vanished: 3, Exploded: 0\n",
      "Epoch 39: 100%|████████████████████████████████████████████████████████████| 165/165 [01:11<00:00,  2.29it/s, v_num=10]\n",
      "Val - After Epoch 39: loss=2.313, acc=0.370\n",
      "Epoch 39: 100%|████████████████████████████████████████████████████████████| 165/165 [01:32<00:00,  1.78it/s, v_num=10]"
     ]
    },
    {
     "name": "stderr",
     "output_type": "stream",
     "text": [
      "Metric val_loss improved by 0.024 >= min_delta = 0.0. New best score: 2.313\n"
     ]
    },
    {
     "name": "stdout",
     "output_type": "stream",
     "text": [
      "\n",
      "Train - After Epoch 39: loss=2.390, acc=0.353\n",
      "Learning rate after epoch 39: 0.001\n",
      "[Epoch 39] Grad Norms — Total: 24, Vanished: 3, Exploded: 0\n",
      "Epoch 40: 100%|████████████████████████████████████████████████████████████| 165/165 [01:12<00:00,  2.29it/s, v_num=10]\n",
      "Val - After Epoch 40: loss=2.316, acc=0.374\n",
      "Epoch 40: 100%|████████████████████████████████████████████████████████████| 165/165 [01:32<00:00,  1.79it/s, v_num=10]\n",
      "Train - After Epoch 40: loss=2.370, acc=0.360\n",
      "Learning rate after epoch 40: 0.001\n",
      "[Epoch 40] Grad Norms — Total: 24, Vanished: 3, Exploded: 0\n",
      "Epoch 41: 100%|████████████████████████████████████████████████████████████| 165/165 [01:12<00:00,  2.28it/s, v_num=10]\n",
      "Val - After Epoch 41: loss=2.328, acc=0.370\n",
      "Epoch 41: 100%|████████████████████████████████████████████████████████████| 165/165 [01:32<00:00,  1.78it/s, v_num=10]\n",
      "Train - After Epoch 41: loss=2.371, acc=0.361\n",
      "Learning rate after epoch 41: 0.001\n",
      "[Epoch 41] Grad Norms — Total: 24, Vanished: 3, Exploded: 0\n",
      "Epoch 42: 100%|████████████████████████████████████████████████████████████| 165/165 [01:10<00:00,  2.33it/s, v_num=10]\n",
      "Val - After Epoch 42: loss=2.441, acc=0.350\n",
      "Epoch 42: 100%|████████████████████████████████████████████████████████████| 165/165 [01:31<00:00,  1.81it/s, v_num=10]\n",
      "Train - After Epoch 42: loss=2.348, acc=0.358\n",
      "Learning rate after epoch 42: 0.001\n",
      "[Epoch 42] Grad Norms — Total: 24, Vanished: 3, Exploded: 0\n",
      "Epoch 43: 100%|████████████████████████████████████████████████████████████| 165/165 [01:11<00:00,  2.30it/s, v_num=10]\n",
      "Val - After Epoch 43: loss=2.277, acc=0.383\n",
      "Epoch 43: 100%|████████████████████████████████████████████████████████████| 165/165 [01:31<00:00,  1.79it/s, v_num=10]"
     ]
    },
    {
     "name": "stderr",
     "output_type": "stream",
     "text": [
      "Metric val_loss improved by 0.036 >= min_delta = 0.0. New best score: 2.277\n"
     ]
    },
    {
     "name": "stdout",
     "output_type": "stream",
     "text": [
      "\n",
      "Train - After Epoch 43: loss=2.339, acc=0.366\n",
      "Learning rate after epoch 43: 0.001\n",
      "[Epoch 43] Grad Norms — Total: 24, Vanished: 3, Exploded: 0\n",
      "Epoch 44: 100%|████████████████████████████████████████████████████████████| 165/165 [01:11<00:00,  2.30it/s, v_num=10]\n",
      "Val - After Epoch 44: loss=2.303, acc=0.387\n",
      "Epoch 44: 100%|████████████████████████████████████████████████████████████| 165/165 [01:32<00:00,  1.79it/s, v_num=10]\n",
      "Train - After Epoch 44: loss=2.334, acc=0.366\n",
      "Learning rate after epoch 44: 0.001\n",
      "[Epoch 44] Grad Norms — Total: 24, Vanished: 3, Exploded: 0\n",
      "Epoch 45: 100%|████████████████████████████████████████████████████████████| 165/165 [01:11<00:00,  2.30it/s, v_num=10]\n",
      "Val - After Epoch 45: loss=2.429, acc=0.367\n",
      "Epoch 45: 100%|████████████████████████████████████████████████████████████| 165/165 [01:31<00:00,  1.80it/s, v_num=10]\n",
      "Train - After Epoch 45: loss=2.324, acc=0.371\n",
      "Learning rate after epoch 45: 0.001\n",
      "[Epoch 45] Grad Norms — Total: 24, Vanished: 3, Exploded: 0\n",
      "Epoch 46: 100%|████████████████████████████████████████████████████████████| 165/165 [01:10<00:00,  2.34it/s, v_num=10]\n",
      "Val - After Epoch 46: loss=2.226, acc=0.401\n",
      "Epoch 46: 100%|████████████████████████████████████████████████████████████| 165/165 [01:30<00:00,  1.82it/s, v_num=10]"
     ]
    },
    {
     "name": "stderr",
     "output_type": "stream",
     "text": [
      "Metric val_loss improved by 0.050 >= min_delta = 0.0. New best score: 2.226\n"
     ]
    },
    {
     "name": "stdout",
     "output_type": "stream",
     "text": [
      "\n",
      "Train - After Epoch 46: loss=2.342, acc=0.366\n",
      "Learning rate after epoch 46: 0.001\n",
      "[Epoch 46] Grad Norms — Total: 24, Vanished: 3, Exploded: 0\n",
      "Epoch 47: 100%|████████████████████████████████████████████████████████████| 165/165 [01:12<00:00,  2.28it/s, v_num=10]\n",
      "Val - After Epoch 47: loss=2.225, acc=0.388\n",
      "Epoch 47: 100%|████████████████████████████████████████████████████████████| 165/165 [01:32<00:00,  1.78it/s, v_num=10]"
     ]
    },
    {
     "name": "stderr",
     "output_type": "stream",
     "text": [
      "Metric val_loss improved by 0.001 >= min_delta = 0.0. New best score: 2.225\n"
     ]
    },
    {
     "name": "stdout",
     "output_type": "stream",
     "text": [
      "\n",
      "Train - After Epoch 47: loss=2.300, acc=0.375\n",
      "Learning rate after epoch 47: 0.001\n",
      "[Epoch 47] Grad Norms — Total: 24, Vanished: 3, Exploded: 0\n",
      "Epoch 48: 100%|████████████████████████████████████████████████████████████| 165/165 [01:11<00:00,  2.31it/s, v_num=10]\n",
      "Val - After Epoch 48: loss=2.241, acc=0.395\n",
      "Epoch 48: 100%|████████████████████████████████████████████████████████████| 165/165 [01:31<00:00,  1.81it/s, v_num=10]\n",
      "Train - After Epoch 48: loss=2.313, acc=0.372\n",
      "Learning rate after epoch 48: 0.001\n",
      "[Epoch 48] Grad Norms — Total: 24, Vanished: 3, Exploded: 0\n",
      "Epoch 49: 100%|████████████████████████████████████████████████████████████| 165/165 [01:11<00:00,  2.31it/s, v_num=10]\n",
      "Val - After Epoch 49: loss=2.325, acc=0.367\n",
      "Epoch 49: 100%|████████████████████████████████████████████████████████████| 165/165 [01:32<00:00,  1.79it/s, v_num=10]"
     ]
    },
    {
     "name": "stderr",
     "output_type": "stream",
     "text": [
      "`Trainer.fit` stopped: `max_epochs=50` reached.\n"
     ]
    },
    {
     "name": "stdout",
     "output_type": "stream",
     "text": [
      "\n",
      "Train - After Epoch 49: loss=2.296, acc=0.373\n",
      "Learning rate after epoch 49: 0.001\n",
      "[Epoch 49] Grad Norms — Total: 24, Vanished: 3, Exploded: 0\n",
      "Epoch 49: 100%|████████████████████████████████████████████████████████████| 165/165 [01:32<00:00,  1.79it/s, v_num=10]\n"
     ]
    }
   ],
   "source": [
    "datamodule = DataModule(batch_size=128, num_workers=8)\n",
    "datamodule.setup()\n",
    "model = ConvolutionalNetwork(class_labels=class_names)\n",
    "trainer = pl.Trainer(logger=logger,\n",
    "                     callbacks=[MinimalProgressBar(), checkpoint_callback, early_stop_callback], \n",
    "                     default_root_dir=\"\\\\training_output\", \n",
    "                     max_epochs=50)\n",
    "trainer.fit(model, datamodule)"
   ]
  },
  {
   "cell_type": "code",
   "execution_count": 19,
   "metadata": {},
   "outputs": [
    {
     "data": {
      "image/png": "[encoded data removed]",
      "text/plain": [
       "<Figure size 1000x500 with 1 Axes>"
      ]
     },
     "metadata": {},
     "output_type": "display_data"
    }
   ],
   "source": [
    "#Plotting train and validation loss\n",
    "epochs = range(1, len(model.training_losses) + 1)\n",
    "plt.figure(figsize=(10, 5))\n",
    "plt.plot(epochs, model.training_losses, label='Training Loss')\n",
    "plt.plot(epochs, model.validation_losses[1:], label='Validation Loss')\n",
    "plt.xlabel('Epoch')\n",
    "plt.ylabel('Loss')\n",
    "plt.title('Training and Validation Loss')\n",
    "plt.legend()\n",
    "plt.grid(True)\n",
    "plt.tight_layout()\n",
    "plt.show()"
   ]
  },
  {
   "cell_type": "code",
   "execution_count": 20,
   "metadata": {},
   "outputs": [
    {
     "data": {
      "image/png": "[encoded data removed]",
      "text/plain": [
       "<Figure size 1000x500 with 1 Axes>"
      ]
     },
     "metadata": {},
     "output_type": "display_data"
    }
   ],
   "source": [
    "#Plotting train and validation accuracy\n",
    "epochs = range(1, len(model.training_accuracies) + 1)\n",
    "plt.figure(figsize=(10, 5))\n",
    "plt.plot(epochs, [a*100 for a in model.training_accuracies], label='Training Accuracy')\n",
    "plt.plot(epochs, [a*100 for a in model.validation_accuracies[1:]], label='Validation Accuracy')\n",
    "plt.xlabel('Epoch')\n",
    "plt.ylabel('Accuracy')\n",
    "plt.title('Training and Validation Accuracies')\n",
    "plt.legend()\n",
    "plt.grid(True)\n",
    "plt.tight_layout()\n",
    "plt.show()"
   ]
  },
  {
   "cell_type": "code",
   "execution_count": 23,
   "metadata": {},
   "outputs": [
    {
     "name": "stderr",
     "output_type": "stream",
     "text": [
      "GPU available: True (cuda), used: True\n",
      "TPU available: False, using: 0 TPU cores\n",
      "HPU available: False, using: 0 HPUs\n",
      "LOCAL_RANK: 0 - CUDA_VISIBLE_DEVICES: [0]\n",
      "\n",
      "   | Name              | Type        | Params | Mode \n",
      "-----------------------------------------------------------\n",
      "0  | conv1             | Conv2d      | 448    | train\n",
      "1  | bn1               | BatchNorm2d | 32     | train\n",
      "2  | act1              | LeakyReLU   | 0      | train\n",
      "3  | pool1             | MaxPool2d   | 0      | train\n",
      "4  | conv2             | Conv2d      | 4.6 K  | train\n",
      "5  | bn2               | BatchNorm2d | 64     | train\n",
      "6  | act2              | LeakyReLU   | 0      | train\n",
      "7  | pool2             | MaxPool2d   | 0      | train\n",
      "8  | conv3             | Conv2d      | 18.5 K | train\n",
      "9  | bn3               | BatchNorm2d | 128    | train\n",
      "10 | act3              | LeakyReLU   | 0      | train\n",
      "11 | pool3             | MaxPool2d   | 0      | train\n",
      "12 | conv4             | Conv2d      | 55.4 K | train\n",
      "13 | bn4               | BatchNorm2d | 192    | train\n",
      "14 | act4              | LeakyReLU   | 0      | train\n",
      "15 | pool4             | MaxPool2d   | 0      | train\n",
      "16 | flatten           | Flatten     | 0      | train\n",
      "17 | fc1               | Linear      | 9.6 M  | train\n",
      "18 | dropout1          | Dropout     | 0      | train\n",
      "19 | act_fc1           | LeakyReLU   | 0      | train\n",
      "20 | fc2               | Linear      | 131 K  | train\n",
      "21 | dropout2          | Dropout     | 0      | train\n",
      "22 | act_fc2           | LeakyReLU   | 0      | train\n",
      "23 | fc3               | Linear      | 32.9 K | train\n",
      "24 | dropout3          | Dropout     | 0      | train\n",
      "25 | act_fc3           | LeakyReLU   | 0      | train\n",
      "26 | fc4               | Linear      | 6.5 K  | train\n",
      "27 | output_activation | LogSoftmax  | 0      | train\n",
      "-----------------------------------------------------------\n",
      "9.9 M     Trainable params\n",
      "0         Non-trainable params\n",
      "9.9 M     Total params\n",
      "39.537    Total estimated model params size (MB)\n",
      "28        Modules in train mode\n",
      "0         Modules in eval mode\n"
     ]
    },
    {
     "name": "stdout",
     "output_type": "stream",
     "text": [
      "Sanity Checking DataLoader 0: 100%|██████████████████████████████████████████████████████| 2/2 [00:00<00:00,  6.39it/s]\n",
      "Val - After Epoch 0: loss=2.150, acc=0.434\n",
      "Epoch 0: 100%|█████████████████████████████████████████████████████████████| 165/165 [01:15<00:00,  2.18it/s, v_num=10]\n",
      "Val - After Epoch 0: loss=2.175, acc=0.408\n",
      "Epoch 0: 100%|█████████████████████████████████████████████████████████████| 165/165 [01:37<00:00,  1.70it/s, v_num=10]"
     ]
    },
    {
     "name": "stderr",
     "output_type": "stream",
     "text": [
      "Metric val_loss improved by 0.050 >= min_delta = 0.0. New best score: 2.175\n"
     ]
    },
    {
     "name": "stdout",
     "output_type": "stream",
     "text": [
      "\n",
      "Train - After Epoch 0: loss=2.314, acc=0.370\n",
      "Learning rate after epoch 0: 0.001\n",
      "[Epoch 0] Grad Norms — Total: 24, Vanished: 3, Exploded: 0\n",
      "Epoch 1: 100%|█████████████████████████████████████████████████████████████| 165/165 [01:15<00:00,  2.18it/s, v_num=10]\n",
      "Val - After Epoch 1: loss=2.184, acc=0.403\n",
      "Epoch 1: 100%|█████████████████████████████████████████████████████████████| 165/165 [01:37<00:00,  1.70it/s, v_num=10]\n",
      "Train - After Epoch 1: loss=2.300, acc=0.376\n",
      "Learning rate after epoch 1: 0.001\n",
      "[Epoch 1] Grad Norms — Total: 24, Vanished: 3, Exploded: 0\n",
      "Epoch 2: 100%|█████████████████████████████████████████████████████████████| 165/165 [01:13<00:00,  2.25it/s, v_num=10]\n",
      "Val - After Epoch 2: loss=2.173, acc=0.398\n",
      "Epoch 2: 100%|█████████████████████████████████████████████████████████████| 165/165 [01:34<00:00,  1.74it/s, v_num=10]"
     ]
    },
    {
     "name": "stderr",
     "output_type": "stream",
     "text": [
      "Metric val_loss improved by 0.002 >= min_delta = 0.0. New best score: 2.173\n"
     ]
    },
    {
     "name": "stdout",
     "output_type": "stream",
     "text": [
      "\n",
      "Train - After Epoch 2: loss=2.280, acc=0.378\n",
      "Learning rate after epoch 2: 0.001\n",
      "[Epoch 2] Grad Norms — Total: 24, Vanished: 3, Exploded: 0\n",
      "Epoch 3: 100%|█████████████████████████████████████████████████████████████| 165/165 [01:13<00:00,  2.23it/s, v_num=10]\n",
      "Val - After Epoch 3: loss=2.055, acc=0.440\n",
      "Epoch 3: 100%|█████████████████████████████████████████████████████████████| 165/165 [01:35<00:00,  1.73it/s, v_num=10]"
     ]
    },
    {
     "name": "stderr",
     "output_type": "stream",
     "text": [
      "Metric val_loss improved by 0.118 >= min_delta = 0.0. New best score: 2.055\n"
     ]
    },
    {
     "name": "stdout",
     "output_type": "stream",
     "text": [
      "\n",
      "Train - After Epoch 3: loss=2.279, acc=0.380\n",
      "Learning rate after epoch 3: 0.001\n",
      "[Epoch 3] Grad Norms — Total: 24, Vanished: 3, Exploded: 0\n",
      "Epoch 4: 100%|█████████████████████████████████████████████████████████████| 165/165 [01:14<00:00,  2.21it/s, v_num=10]\n",
      "Val - After Epoch 4: loss=2.145, acc=0.417\n",
      "Epoch 4: 100%|█████████████████████████████████████████████████████████████| 165/165 [01:36<00:00,  1.71it/s, v_num=10]\n",
      "Train - After Epoch 4: loss=2.248, acc=0.388\n",
      "Learning rate after epoch 4: 0.001\n",
      "[Epoch 4] Grad Norms — Total: 24, Vanished: 3, Exploded: 0\n",
      "Epoch 5: 100%|█████████████████████████████████████████████████████████████| 165/165 [01:15<00:00,  2.18it/s, v_num=10]\n",
      "Val - After Epoch 5: loss=2.119, acc=0.418\n",
      "Epoch 5: 100%|█████████████████████████████████████████████████████████████| 165/165 [01:37<00:00,  1.70it/s, v_num=10]\n",
      "Train - After Epoch 5: loss=2.245, acc=0.388\n",
      "Learning rate after epoch 5: 0.001\n",
      "[Epoch 5] Grad Norms — Total: 24, Vanished: 3, Exploded: 0\n",
      "Epoch 6: 100%|█████████████████████████████████████████████████████████████| 165/165 [01:13<00:00,  2.24it/s, v_num=10]\n",
      "Val - After Epoch 6: loss=2.086, acc=0.436\n",
      "Epoch 6: 100%|█████████████████████████████████████████████████████████████| 165/165 [01:34<00:00,  1.74it/s, v_num=10]\n",
      "Train - After Epoch 6: loss=2.241, acc=0.387\n",
      "Learning rate after epoch 6: 0.001\n",
      "[Epoch 6] Grad Norms — Total: 24, Vanished: 3, Exploded: 0\n",
      "Epoch 7: 100%|█████████████████████████████████████████████████████████████| 165/165 [01:11<00:00,  2.30it/s, v_num=10]\n",
      "Val - After Epoch 7: loss=2.435, acc=0.379\n",
      "Epoch 7: 100%|█████████████████████████████████████████████████████████████| 165/165 [01:32<00:00,  1.79it/s, v_num=10]\n",
      "Train - After Epoch 7: loss=2.247, acc=0.386\n",
      "Learning rate after epoch 7: 0.001\n",
      "[Epoch 7] Grad Norms — Total: 24, Vanished: 3, Exploded: 0\n",
      "Epoch 8: 100%|█████████████████████████████████████████████████████████████| 165/165 [01:11<00:00,  2.32it/s, v_num=10]\n",
      "Val - After Epoch 8: loss=2.028, acc=0.444\n",
      "Epoch 8: 100%|█████████████████████████████████████████████████████████████| 165/165 [01:31<00:00,  1.80it/s, v_num=10]"
     ]
    },
    {
     "name": "stderr",
     "output_type": "stream",
     "text": [
      "Metric val_loss improved by 0.027 >= min_delta = 0.0. New best score: 2.028\n"
     ]
    },
    {
     "name": "stdout",
     "output_type": "stream",
     "text": [
      "\n",
      "Train - After Epoch 8: loss=2.168, acc=0.405\n",
      "Learning rate after epoch 8: 0.0005\n",
      "[Epoch 8] Grad Norms — Total: 24, Vanished: 3, Exploded: 0\n",
      "Epoch 9: 100%|█████████████████████████████████████████████████████████████| 165/165 [01:10<00:00,  2.34it/s, v_num=10]\n",
      "Val - After Epoch 9: loss=2.049, acc=0.432\n",
      "Epoch 9: 100%|█████████████████████████████████████████████████████████████| 165/165 [01:30<00:00,  1.81it/s, v_num=10]\n",
      "Train - After Epoch 9: loss=2.145, acc=0.411\n",
      "Learning rate after epoch 9: 0.0005\n",
      "[Epoch 9] Grad Norms — Total: 24, Vanished: 3, Exploded: 0\n",
      "Epoch 10: 100%|████████████████████████████████████████████████████████████| 165/165 [01:13<00:00,  2.25it/s, v_num=10]\n",
      "Val - After Epoch 10: loss=1.987, acc=0.460\n",
      "Epoch 10: 100%|████████████████████████████████████████████████████████████| 165/165 [01:34<00:00,  1.75it/s, v_num=10]"
     ]
    },
    {
     "name": "stderr",
     "output_type": "stream",
     "text": [
      "Metric val_loss improved by 0.041 >= min_delta = 0.0. New best score: 1.987\n"
     ]
    },
    {
     "name": "stdout",
     "output_type": "stream",
     "text": [
      "\n",
      "Train - After Epoch 10: loss=2.106, acc=0.424\n",
      "Learning rate after epoch 10: 0.0005\n",
      "[Epoch 10] Grad Norms — Total: 24, Vanished: 3, Exploded: 0\n",
      "Epoch 11: 100%|████████████████████████████████████████████████████████████| 165/165 [01:11<00:00,  2.31it/s, v_num=10]\n",
      "Val - After Epoch 11: loss=1.976, acc=0.453\n",
      "Epoch 11: 100%|████████████████████████████████████████████████████████████| 165/165 [01:31<00:00,  1.80it/s, v_num=10]"
     ]
    },
    {
     "name": "stderr",
     "output_type": "stream",
     "text": [
      "Metric val_loss improved by 0.011 >= min_delta = 0.0. New best score: 1.976\n"
     ]
    },
    {
     "name": "stdout",
     "output_type": "stream",
     "text": [
      "\n",
      "Train - After Epoch 11: loss=2.109, acc=0.418\n",
      "Learning rate after epoch 11: 0.0005\n",
      "[Epoch 11] Grad Norms — Total: 24, Vanished: 3, Exploded: 0\n",
      "Epoch 12: 100%|████████████████████████████████████████████████████████████| 165/165 [01:15<00:00,  2.18it/s, v_num=10]\n",
      "Val - After Epoch 12: loss=1.954, acc=0.458\n",
      "Epoch 12: 100%|████████████████████████████████████████████████████████████| 165/165 [01:37<00:00,  1.70it/s, v_num=10]"
     ]
    },
    {
     "name": "stderr",
     "output_type": "stream",
     "text": [
      "Metric val_loss improved by 0.022 >= min_delta = 0.0. New best score: 1.954\n"
     ]
    },
    {
     "name": "stdout",
     "output_type": "stream",
     "text": [
      "\n",
      "Train - After Epoch 12: loss=2.092, acc=0.425\n",
      "Learning rate after epoch 12: 0.0005\n",
      "[Epoch 12] Grad Norms — Total: 24, Vanished: 3, Exploded: 0\n",
      "Epoch 13: 100%|████████████████████████████████████████████████████████████| 165/165 [01:12<00:00,  2.28it/s, v_num=10]\n",
      "Val - After Epoch 13: loss=2.013, acc=0.451\n",
      "Epoch 13: 100%|████████████████████████████████████████████████████████████| 165/165 [01:33<00:00,  1.77it/s, v_num=10]\n",
      "Train - After Epoch 13: loss=2.078, acc=0.425\n",
      "Learning rate after epoch 13: 0.0005\n",
      "[Epoch 13] Grad Norms — Total: 24, Vanished: 3, Exploded: 0\n",
      "Epoch 14: 100%|████████████████████████████████████████████████████████████| 165/165 [01:12<00:00,  2.27it/s, v_num=10]\n",
      "Val - After Epoch 14: loss=1.995, acc=0.454\n",
      "Epoch 14: 100%|████████████████████████████████████████████████████████████| 165/165 [01:33<00:00,  1.76it/s, v_num=10]\n",
      "Train - After Epoch 14: loss=2.044, acc=0.436\n",
      "Learning rate after epoch 14: 0.0005\n",
      "[Epoch 14] Grad Norms — Total: 24, Vanished: 3, Exploded: 0\n",
      "Epoch 15: 100%|████████████████████████████████████████████████████████████| 165/165 [01:13<00:00,  2.25it/s, v_num=10]\n",
      "Val - After Epoch 15: loss=1.970, acc=0.461\n",
      "Epoch 15: 100%|████████████████████████████████████████████████████████████| 165/165 [01:34<00:00,  1.74it/s, v_num=10]\n",
      "Train - After Epoch 15: loss=2.069, acc=0.434\n",
      "Learning rate after epoch 15: 0.0005\n",
      "[Epoch 15] Grad Norms — Total: 24, Vanished: 3, Exploded: 0\n",
      "Epoch 16: 100%|████████████████████████████████████████████████████████████| 165/165 [01:12<00:00,  2.27it/s, v_num=10]\n",
      "Val - After Epoch 16: loss=1.971, acc=0.460\n",
      "Epoch 16: 100%|████████████████████████████████████████████████████████████| 165/165 [01:33<00:00,  1.76it/s, v_num=10]\n",
      "Train - After Epoch 16: loss=2.056, acc=0.436\n",
      "Learning rate after epoch 16: 0.0005\n",
      "[Epoch 16] Grad Norms — Total: 24, Vanished: 3, Exploded: 0\n",
      "Epoch 17: 100%|████████████████████████████████████████████████████████████| 165/165 [01:15<00:00,  2.17it/s, v_num=10]\n",
      "Val - After Epoch 17: loss=1.913, acc=0.468\n",
      "Epoch 17: 100%|████████████████████████████████████████████████████████████| 165/165 [01:37<00:00,  1.70it/s, v_num=10]"
     ]
    },
    {
     "name": "stderr",
     "output_type": "stream",
     "text": [
      "Metric val_loss improved by 0.040 >= min_delta = 0.0. New best score: 1.913\n"
     ]
    },
    {
     "name": "stdout",
     "output_type": "stream",
     "text": [
      "\n",
      "Train - After Epoch 17: loss=2.008, acc=0.449\n",
      "Learning rate after epoch 17: 0.00025\n",
      "[Epoch 17] Grad Norms — Total: 24, Vanished: 3, Exploded: 0\n",
      "Epoch 18: 100%|████████████████████████████████████████████████████████████| 165/165 [01:10<00:00,  2.33it/s, v_num=10]\n",
      "Val - After Epoch 18: loss=1.902, acc=0.472\n",
      "Epoch 18: 100%|████████████████████████████████████████████████████████████| 165/165 [01:30<00:00,  1.81it/s, v_num=10]"
     ]
    },
    {
     "name": "stderr",
     "output_type": "stream",
     "text": [
      "Metric val_loss improved by 0.012 >= min_delta = 0.0. New best score: 1.902\n"
     ]
    },
    {
     "name": "stdout",
     "output_type": "stream",
     "text": [
      "\n",
      "Train - After Epoch 18: loss=1.984, acc=0.450\n",
      "Learning rate after epoch 18: 0.00025\n",
      "[Epoch 18] Grad Norms — Total: 24, Vanished: 3, Exploded: 0\n",
      "Epoch 19: 100%|████████████████████████████████████████████████████████████| 165/165 [01:09<00:00,  2.37it/s, v_num=10]\n",
      "Val - After Epoch 19: loss=1.888, acc=0.479\n",
      "Epoch 19: 100%|████████████████████████████████████████████████████████████| 165/165 [01:29<00:00,  1.84it/s, v_num=10]"
     ]
    },
    {
     "name": "stderr",
     "output_type": "stream",
     "text": [
      "Metric val_loss improved by 0.014 >= min_delta = 0.0. New best score: 1.888\n"
     ]
    },
    {
     "name": "stdout",
     "output_type": "stream",
     "text": [
      "\n",
      "Train - After Epoch 19: loss=1.976, acc=0.452\n",
      "Learning rate after epoch 19: 0.00025\n",
      "[Epoch 19] Grad Norms — Total: 24, Vanished: 3, Exploded: 0\n",
      "Epoch 20: 100%|████████████████████████████████████████████████████████████| 165/165 [01:09<00:00,  2.38it/s, v_num=10]\n",
      "Val - After Epoch 20: loss=1.884, acc=0.472\n",
      "Epoch 20: 100%|████████████████████████████████████████████████████████████| 165/165 [01:31<00:00,  1.81it/s, v_num=10]"
     ]
    },
    {
     "name": "stderr",
     "output_type": "stream",
     "text": [
      "Metric val_loss improved by 0.004 >= min_delta = 0.0. New best score: 1.884\n"
     ]
    },
    {
     "name": "stdout",
     "output_type": "stream",
     "text": [
      "\n",
      "Train - After Epoch 20: loss=1.964, acc=0.455\n",
      "Learning rate after epoch 20: 0.00025\n",
      "[Epoch 20] Grad Norms — Total: 24, Vanished: 3, Exploded: 0\n",
      "Epoch 21: 100%|████████████████████████████████████████████████████████████| 165/165 [01:12<00:00,  2.28it/s, v_num=10]\n",
      "Val - After Epoch 21: loss=1.877, acc=0.484\n",
      "Epoch 21: 100%|████████████████████████████████████████████████████████████| 165/165 [01:33<00:00,  1.77it/s, v_num=10]"
     ]
    },
    {
     "name": "stderr",
     "output_type": "stream",
     "text": [
      "Metric val_loss improved by 0.007 >= min_delta = 0.0. New best score: 1.877\n"
     ]
    },
    {
     "name": "stdout",
     "output_type": "stream",
     "text": [
      "\n",
      "Train - After Epoch 21: loss=1.955, acc=0.460\n",
      "Learning rate after epoch 21: 0.00025\n",
      "[Epoch 21] Grad Norms — Total: 24, Vanished: 3, Exploded: 0\n",
      "Epoch 22: 100%|████████████████████████████████████████████████████████████| 165/165 [01:12<00:00,  2.27it/s, v_num=10]\n",
      "Val - After Epoch 22: loss=1.899, acc=0.474\n",
      "Epoch 22: 100%|████████████████████████████████████████████████████████████| 165/165 [01:34<00:00,  1.75it/s, v_num=10]\n",
      "Train - After Epoch 22: loss=1.959, acc=0.459\n",
      "Learning rate after epoch 22: 0.00025\n",
      "[Epoch 22] Grad Norms — Total: 24, Vanished: 3, Exploded: 0\n",
      "Epoch 23: 100%|████████████████████████████████████████████████████████████| 165/165 [01:10<00:00,  2.32it/s, v_num=10]\n",
      "Val - After Epoch 23: loss=1.882, acc=0.474\n",
      "Epoch 23: 100%|████████████████████████████████████████████████████████████| 165/165 [01:31<00:00,  1.80it/s, v_num=10]\n",
      "Train - After Epoch 23: loss=1.944, acc=0.461\n",
      "Learning rate after epoch 23: 0.00025\n",
      "[Epoch 23] Grad Norms — Total: 24, Vanished: 3, Exploded: 0\n",
      "Epoch 24: 100%|████████████████████████████████████████████████████████████| 165/165 [01:11<00:00,  2.32it/s, v_num=10]\n",
      "Val - After Epoch 24: loss=1.879, acc=0.478\n",
      "Epoch 24: 100%|████████████████████████████████████████████████████████████| 165/165 [01:31<00:00,  1.80it/s, v_num=10]\n",
      "Train - After Epoch 24: loss=1.935, acc=0.466\n",
      "Learning rate after epoch 24: 0.00025\n",
      "[Epoch 24] Grad Norms — Total: 24, Vanished: 3, Exploded: 0\n",
      "Epoch 25: 100%|████████████████████████████████████████████████████████████| 165/165 [01:12<00:00,  2.29it/s, v_num=10]\n",
      "Val - After Epoch 25: loss=1.869, acc=0.479\n",
      "Epoch 25: 100%|████████████████████████████████████████████████████████████| 165/165 [01:33<00:00,  1.77it/s, v_num=10]"
     ]
    },
    {
     "name": "stderr",
     "output_type": "stream",
     "text": [
      "Metric val_loss improved by 0.008 >= min_delta = 0.0. New best score: 1.869\n"
     ]
    },
    {
     "name": "stdout",
     "output_type": "stream",
     "text": [
      "\n",
      "Train - After Epoch 25: loss=1.926, acc=0.465\n",
      "Learning rate after epoch 25: 0.00025\n",
      "[Epoch 25] Grad Norms — Total: 24, Vanished: 3, Exploded: 0\n",
      "Epoch 26: 100%|████████████████████████████████████████████████████████████| 165/165 [01:13<00:00,  2.25it/s, v_num=10]\n",
      "Val - After Epoch 26: loss=1.877, acc=0.491\n",
      "Epoch 26: 100%|████████████████████████████████████████████████████████████| 165/165 [01:34<00:00,  1.75it/s, v_num=10]\n",
      "Train - After Epoch 26: loss=1.933, acc=0.468\n",
      "Learning rate after epoch 26: 0.00025\n",
      "[Epoch 26] Grad Norms — Total: 24, Vanished: 3, Exploded: 0\n",
      "Epoch 27: 100%|████████████████████████████████████████████████████████████| 165/165 [01:12<00:00,  2.29it/s, v_num=10]\n",
      "Val - After Epoch 27: loss=1.880, acc=0.481\n",
      "Epoch 27: 100%|████████████████████████████████████████████████████████████| 165/165 [01:32<00:00,  1.78it/s, v_num=10]\n",
      "Train - After Epoch 27: loss=1.931, acc=0.464\n",
      "Learning rate after epoch 27: 0.00025\n",
      "[Epoch 27] Grad Norms — Total: 24, Vanished: 3, Exploded: 0\n",
      "Epoch 28: 100%|████████████████████████████████████████████████████████████| 165/165 [01:12<00:00,  2.27it/s, v_num=10]\n",
      "Val - After Epoch 28: loss=1.867, acc=0.483\n",
      "Epoch 28: 100%|████████████████████████████████████████████████████████████| 165/165 [01:33<00:00,  1.77it/s, v_num=10]"
     ]
    },
    {
     "name": "stderr",
     "output_type": "stream",
     "text": [
      "Metric val_loss improved by 0.002 >= min_delta = 0.0. New best score: 1.867\n"
     ]
    },
    {
     "name": "stdout",
     "output_type": "stream",
     "text": [
      "\n",
      "Train - After Epoch 28: loss=1.916, acc=0.472\n",
      "Learning rate after epoch 28: 0.00025\n",
      "[Epoch 28] Grad Norms — Total: 24, Vanished: 3, Exploded: 0\n",
      "Epoch 29: 100%|████████████████████████████████████████████████████████████| 165/165 [01:12<00:00,  2.26it/s, v_num=10]\n",
      "Val - After Epoch 29: loss=1.905, acc=0.481\n",
      "Epoch 29: 100%|████████████████████████████████████████████████████████████| 165/165 [01:34<00:00,  1.75it/s, v_num=10]\n",
      "Train - After Epoch 29: loss=1.907, acc=0.471\n",
      "Learning rate after epoch 29: 0.00025\n",
      "[Epoch 29] Grad Norms — Total: 24, Vanished: 3, Exploded: 0\n",
      "Epoch 30: 100%|████████████████████████████████████████████████████████████| 165/165 [01:11<00:00,  2.31it/s, v_num=10]\n",
      "Val - After Epoch 30: loss=1.864, acc=0.492\n",
      "Epoch 30: 100%|████████████████████████████████████████████████████████████| 165/165 [01:31<00:00,  1.80it/s, v_num=10]"
     ]
    },
    {
     "name": "stderr",
     "output_type": "stream",
     "text": [
      "Metric val_loss improved by 0.003 >= min_delta = 0.0. New best score: 1.864\n"
     ]
    },
    {
     "name": "stdout",
     "output_type": "stream",
     "text": [
      "\n",
      "Train - After Epoch 30: loss=1.902, acc=0.470\n",
      "Learning rate after epoch 30: 0.00025\n",
      "[Epoch 30] Grad Norms — Total: 24, Vanished: 3, Exploded: 0\n",
      "Epoch 31: 100%|████████████████████████████████████████████████████████████| 165/165 [01:14<00:00,  2.22it/s, v_num=10]\n",
      "Val - After Epoch 31: loss=1.873, acc=0.481\n",
      "Epoch 31: 100%|████████████████████████████████████████████████████████████| 165/165 [01:35<00:00,  1.74it/s, v_num=10]\n",
      "Train - After Epoch 31: loss=1.901, acc=0.478\n",
      "Learning rate after epoch 31: 0.00025\n",
      "[Epoch 31] Grad Norms — Total: 24, Vanished: 3, Exploded: 0\n",
      "Epoch 32: 100%|████████████████████████████████████████████████████████████| 165/165 [01:11<00:00,  2.31it/s, v_num=10]\n",
      "Val - After Epoch 32: loss=1.862, acc=0.480\n",
      "Epoch 32: 100%|████████████████████████████████████████████████████████████| 165/165 [01:31<00:00,  1.80it/s, v_num=10]"
     ]
    },
    {
     "name": "stderr",
     "output_type": "stream",
     "text": [
      "Metric val_loss improved by 0.002 >= min_delta = 0.0. New best score: 1.862\n"
     ]
    },
    {
     "name": "stdout",
     "output_type": "stream",
     "text": [
      "\n",
      "Train - After Epoch 32: loss=1.894, acc=0.472\n",
      "Learning rate after epoch 32: 0.00025\n",
      "[Epoch 32] Grad Norms — Total: 24, Vanished: 3, Exploded: 0\n",
      "Epoch 33: 100%|████████████████████████████████████████████████████████████| 165/165 [01:12<00:00,  2.28it/s, v_num=10]\n",
      "Val - After Epoch 33: loss=1.852, acc=0.489\n",
      "Epoch 33: 100%|████████████████████████████████████████████████████████████| 165/165 [01:33<00:00,  1.76it/s, v_num=10]"
     ]
    },
    {
     "name": "stderr",
     "output_type": "stream",
     "text": [
      "Metric val_loss improved by 0.009 >= min_delta = 0.0. New best score: 1.852\n"
     ]
    },
    {
     "name": "stdout",
     "output_type": "stream",
     "text": [
      "\n",
      "Train - After Epoch 33: loss=1.882, acc=0.475\n",
      "Learning rate after epoch 33: 0.00025\n",
      "[Epoch 33] Grad Norms — Total: 24, Vanished: 3, Exploded: 0\n",
      "Epoch 34: 100%|████████████████████████████████████████████████████████████| 165/165 [01:10<00:00,  2.34it/s, v_num=10]\n",
      "Val - After Epoch 34: loss=1.857, acc=0.489\n",
      "Epoch 34: 100%|████████████████████████████████████████████████████████████| 165/165 [01:30<00:00,  1.82it/s, v_num=10]\n",
      "Train - After Epoch 34: loss=1.880, acc=0.473\n",
      "Learning rate after epoch 34: 0.00025\n",
      "[Epoch 34] Grad Norms — Total: 24, Vanished: 3, Exploded: 0\n",
      "Epoch 35: 100%|████████████████████████████████████████████████████████████| 165/165 [01:10<00:00,  2.33it/s, v_num=10]\n",
      "Val - After Epoch 35: loss=1.861, acc=0.486\n",
      "Epoch 35: 100%|████████████████████████████████████████████████████████████| 165/165 [01:30<00:00,  1.81it/s, v_num=10]\n",
      "Train - After Epoch 35: loss=1.871, acc=0.484\n",
      "Learning rate after epoch 35: 0.00025\n",
      "[Epoch 35] Grad Norms — Total: 24, Vanished: 3, Exploded: 0\n",
      "Epoch 36: 100%|████████████████████████████████████████████████████████████| 165/165 [01:09<00:00,  2.37it/s, v_num=10]\n",
      "Val - After Epoch 36: loss=1.844, acc=0.490\n",
      "Epoch 36: 100%|████████████████████████████████████████████████████████████| 165/165 [01:29<00:00,  1.84it/s, v_num=10]"
     ]
    },
    {
     "name": "stderr",
     "output_type": "stream",
     "text": [
      "Metric val_loss improved by 0.008 >= min_delta = 0.0. New best score: 1.844\n"
     ]
    },
    {
     "name": "stdout",
     "output_type": "stream",
     "text": [
      "\n",
      "Train - After Epoch 36: loss=1.884, acc=0.476\n",
      "Learning rate after epoch 36: 0.00025\n",
      "[Epoch 36] Grad Norms — Total: 24, Vanished: 3, Exploded: 0\n",
      "Epoch 37: 100%|████████████████████████████████████████████████████████████| 165/165 [01:10<00:00,  2.34it/s, v_num=10]\n",
      "Val - After Epoch 37: loss=1.842, acc=0.499\n",
      "Epoch 37: 100%|████████████████████████████████████████████████████████████| 165/165 [01:30<00:00,  1.82it/s, v_num=10]"
     ]
    },
    {
     "name": "stderr",
     "output_type": "stream",
     "text": [
      "Metric val_loss improved by 0.002 >= min_delta = 0.0. New best score: 1.842\n"
     ]
    },
    {
     "name": "stdout",
     "output_type": "stream",
     "text": [
      "\n",
      "Train - After Epoch 37: loss=1.863, acc=0.482\n",
      "Learning rate after epoch 37: 0.00025\n",
      "[Epoch 37] Grad Norms — Total: 24, Vanished: 3, Exploded: 0\n",
      "Epoch 38: 100%|████████████████████████████████████████████████████████████| 165/165 [01:09<00:00,  2.36it/s, v_num=10]\n",
      "Val - After Epoch 38: loss=1.833, acc=0.493\n",
      "Epoch 38: 100%|████████████████████████████████████████████████████████████| 165/165 [01:30<00:00,  1.83it/s, v_num=10]"
     ]
    },
    {
     "name": "stderr",
     "output_type": "stream",
     "text": [
      "Metric val_loss improved by 0.009 >= min_delta = 0.0. New best score: 1.833\n"
     ]
    },
    {
     "name": "stdout",
     "output_type": "stream",
     "text": [
      "\n",
      "Train - After Epoch 38: loss=1.864, acc=0.485\n",
      "Learning rate after epoch 38: 0.00025\n",
      "[Epoch 38] Grad Norms — Total: 24, Vanished: 3, Exploded: 0\n",
      "Epoch 39: 100%|████████████████████████████████████████████████████████████| 165/165 [01:11<00:00,  2.31it/s, v_num=10]\n",
      "Val - After Epoch 39: loss=1.836, acc=0.490\n",
      "Epoch 39: 100%|████████████████████████████████████████████████████████████| 165/165 [01:31<00:00,  1.80it/s, v_num=10]\n",
      "Train - After Epoch 39: loss=1.861, acc=0.484\n",
      "Learning rate after epoch 39: 0.00025\n",
      "[Epoch 39] Grad Norms — Total: 24, Vanished: 3, Exploded: 0\n",
      "Epoch 40: 100%|████████████████████████████████████████████████████████████| 165/165 [01:10<00:00,  2.33it/s, v_num=10]\n",
      "Val - After Epoch 40: loss=1.830, acc=0.490\n",
      "Epoch 40: 100%|████████████████████████████████████████████████████████████| 165/165 [01:31<00:00,  1.81it/s, v_num=10]"
     ]
    },
    {
     "name": "stderr",
     "output_type": "stream",
     "text": [
      "Metric val_loss improved by 0.003 >= min_delta = 0.0. New best score: 1.830\n"
     ]
    },
    {
     "name": "stdout",
     "output_type": "stream",
     "text": [
      "\n",
      "Train - After Epoch 40: loss=1.857, acc=0.483\n",
      "Learning rate after epoch 40: 0.00025\n",
      "[Epoch 40] Grad Norms — Total: 24, Vanished: 3, Exploded: 0\n",
      "Epoch 41: 100%|████████████████████████████████████████████████████████████| 165/165 [01:10<00:00,  2.35it/s, v_num=10]\n",
      "Val - After Epoch 41: loss=1.833, acc=0.490\n",
      "Epoch 41: 100%|████████████████████████████████████████████████████████████| 165/165 [01:30<00:00,  1.83it/s, v_num=10]\n",
      "Train - After Epoch 41: loss=1.848, acc=0.483\n",
      "Learning rate after epoch 41: 0.00025\n",
      "[Epoch 41] Grad Norms — Total: 24, Vanished: 3, Exploded: 0\n",
      "Epoch 42: 100%|████████████████████████████████████████████████████████████| 165/165 [01:10<00:00,  2.35it/s, v_num=10]\n",
      "Val - After Epoch 42: loss=1.852, acc=0.495\n",
      "Epoch 42: 100%|████████████████████████████████████████████████████████████| 165/165 [01:30<00:00,  1.83it/s, v_num=10]\n",
      "Train - After Epoch 42: loss=1.834, acc=0.489\n",
      "Learning rate after epoch 42: 0.00025\n",
      "[Epoch 42] Grad Norms — Total: 24, Vanished: 3, Exploded: 0\n",
      "Epoch 43: 100%|████████████████████████████████████████████████████████████| 165/165 [01:11<00:00,  2.32it/s, v_num=10]\n",
      "Val - After Epoch 43: loss=1.833, acc=0.495\n",
      "Epoch 43: 100%|████████████████████████████████████████████████████████████| 165/165 [01:31<00:00,  1.80it/s, v_num=10]\n",
      "Train - After Epoch 43: loss=1.837, acc=0.490\n",
      "Learning rate after epoch 43: 0.00025\n",
      "[Epoch 43] Grad Norms — Total: 24, Vanished: 3, Exploded: 0\n",
      "Epoch 44: 100%|████████████████████████████████████████████████████████████| 165/165 [01:10<00:00,  2.33it/s, v_num=10]\n",
      "Val - After Epoch 44: loss=1.834, acc=0.489\n",
      "Epoch 44: 100%|████████████████████████████████████████████████████████████| 165/165 [01:31<00:00,  1.81it/s, v_num=10]\n",
      "Train - After Epoch 44: loss=1.842, acc=0.491\n",
      "Learning rate after epoch 44: 0.00025\n",
      "[Epoch 44] Grad Norms — Total: 24, Vanished: 3, Exploded: 0\n",
      "Epoch 45: 100%|████████████████████████████████████████████████████████████| 165/165 [01:10<00:00,  2.34it/s, v_num=10]\n",
      "Val - After Epoch 45: loss=1.800, acc=0.503\n",
      "Epoch 45: 100%|████████████████████████████████████████████████████████████| 165/165 [01:30<00:00,  1.82it/s, v_num=10]"
     ]
    },
    {
     "name": "stderr",
     "output_type": "stream",
     "text": [
      "Metric val_loss improved by 0.030 >= min_delta = 0.0. New best score: 1.800\n"
     ]
    },
    {
     "name": "stdout",
     "output_type": "stream",
     "text": [
      "\n",
      "Train - After Epoch 45: loss=1.816, acc=0.492\n",
      "Learning rate after epoch 45: 0.000125\n",
      "[Epoch 45] Grad Norms — Total: 24, Vanished: 3, Exploded: 0\n",
      "Epoch 46: 100%|████████████████████████████████████████████████████████████| 165/165 [01:11<00:00,  2.30it/s, v_num=10]\n",
      "Val - After Epoch 46: loss=1.816, acc=0.500\n",
      "Epoch 46: 100%|████████████████████████████████████████████████████████████| 165/165 [01:32<00:00,  1.79it/s, v_num=10]\n",
      "Train - After Epoch 46: loss=1.815, acc=0.494\n",
      "Learning rate after epoch 46: 0.000125\n",
      "[Epoch 46] Grad Norms — Total: 24, Vanished: 3, Exploded: 0\n",
      "Epoch 47: 100%|████████████████████████████████████████████████████████████| 165/165 [01:10<00:00,  2.35it/s, v_num=10]\n",
      "Val - After Epoch 47: loss=1.792, acc=0.501\n",
      "Epoch 47: 100%|████████████████████████████████████████████████████████████| 165/165 [01:30<00:00,  1.82it/s, v_num=10]"
     ]
    },
    {
     "name": "stderr",
     "output_type": "stream",
     "text": [
      "Metric val_loss improved by 0.008 >= min_delta = 0.0. New best score: 1.792\n"
     ]
    },
    {
     "name": "stdout",
     "output_type": "stream",
     "text": [
      "\n",
      "Train - After Epoch 47: loss=1.793, acc=0.500\n",
      "Learning rate after epoch 47: 0.000125\n",
      "[Epoch 47] Grad Norms — Total: 24, Vanished: 3, Exploded: 0\n",
      "Epoch 48: 100%|████████████████████████████████████████████████████████████| 165/165 [01:10<00:00,  2.35it/s, v_num=10]\n",
      "Val - After Epoch 48: loss=1.798, acc=0.500\n",
      "Epoch 48: 100%|████████████████████████████████████████████████████████████| 165/165 [01:30<00:00,  1.82it/s, v_num=10]\n",
      "Train - After Epoch 48: loss=1.795, acc=0.501\n",
      "Learning rate after epoch 48: 0.000125\n",
      "[Epoch 48] Grad Norms — Total: 24, Vanished: 3, Exploded: 0\n",
      "Epoch 49: 100%|████████████████████████████████████████████████████████████| 165/165 [01:12<00:00,  2.27it/s, v_num=10]\n",
      "Val - After Epoch 49: loss=1.796, acc=0.511\n",
      "Epoch 49: 100%|████████████████████████████████████████████████████████████| 165/165 [01:34<00:00,  1.75it/s, v_num=10]\n",
      "Train - After Epoch 49: loss=1.795, acc=0.499\n",
      "Learning rate after epoch 49: 0.000125\n",
      "[Epoch 49] Grad Norms — Total: 24, Vanished: 3, Exploded: 0\n",
      "Epoch 50: 100%|████████████████████████████████████████████████████████████| 165/165 [01:11<00:00,  2.31it/s, v_num=10]\n",
      "Val - After Epoch 50: loss=1.797, acc=0.495\n",
      "Epoch 50: 100%|████████████████████████████████████████████████████████████| 165/165 [01:32<00:00,  1.79it/s, v_num=10]\n",
      "Train - After Epoch 50: loss=1.787, acc=0.506\n",
      "Learning rate after epoch 50: 0.000125\n",
      "[Epoch 50] Grad Norms — Total: 24, Vanished: 3, Exploded: 0\n",
      "Epoch 51: 100%|████████████████████████████████████████████████████████████| 165/165 [01:10<00:00,  2.35it/s, v_num=10]\n",
      "Val - After Epoch 51: loss=1.786, acc=0.502\n",
      "Epoch 51: 100%|████████████████████████████████████████████████████████████| 165/165 [01:30<00:00,  1.82it/s, v_num=10]"
     ]
    },
    {
     "name": "stderr",
     "output_type": "stream",
     "text": [
      "Metric val_loss improved by 0.006 >= min_delta = 0.0. New best score: 1.786\n"
     ]
    },
    {
     "name": "stdout",
     "output_type": "stream",
     "text": [
      "\n",
      "Train - After Epoch 51: loss=1.785, acc=0.502\n",
      "Learning rate after epoch 51: 0.000125\n",
      "[Epoch 51] Grad Norms — Total: 24, Vanished: 3, Exploded: 0\n",
      "Epoch 52: 100%|████████████████████████████████████████████████████████████| 165/165 [01:12<00:00,  2.26it/s, v_num=10]\n",
      "Val - After Epoch 52: loss=1.794, acc=0.501\n",
      "Epoch 52: 100%|████████████████████████████████████████████████████████████| 165/165 [01:33<00:00,  1.76it/s, v_num=10]\n",
      "Train - After Epoch 52: loss=1.777, acc=0.507\n",
      "Learning rate after epoch 52: 0.000125\n",
      "[Epoch 52] Grad Norms — Total: 24, Vanished: 3, Exploded: 0\n",
      "Epoch 53: 100%|████████████████████████████████████████████████████████████| 165/165 [01:12<00:00,  2.28it/s, v_num=10]\n",
      "Val - After Epoch 53: loss=1.785, acc=0.509\n",
      "Epoch 53: 100%|████████████████████████████████████████████████████████████| 165/165 [01:32<00:00,  1.78it/s, v_num=10]"
     ]
    },
    {
     "name": "stderr",
     "output_type": "stream",
     "text": [
      "Metric val_loss improved by 0.002 >= min_delta = 0.0. New best score: 1.785\n"
     ]
    },
    {
     "name": "stdout",
     "output_type": "stream",
     "text": [
      "\n",
      "Train - After Epoch 53: loss=1.780, acc=0.504\n",
      "Learning rate after epoch 53: 0.000125\n",
      "[Epoch 53] Grad Norms — Total: 24, Vanished: 3, Exploded: 0\n",
      "Epoch 54: 100%|████████████████████████████████████████████████████████████| 165/165 [01:10<00:00,  2.34it/s, v_num=10]\n",
      "Val - After Epoch 54: loss=1.794, acc=0.506\n",
      "Epoch 54: 100%|████████████████████████████████████████████████████████████| 165/165 [01:30<00:00,  1.82it/s, v_num=10]\n",
      "Train - After Epoch 54: loss=1.776, acc=0.503\n",
      "Learning rate after epoch 54: 0.000125\n",
      "[Epoch 54] Grad Norms — Total: 24, Vanished: 3, Exploded: 0\n",
      "Epoch 55: 100%|████████████████████████████████████████████████████████████| 165/165 [01:12<00:00,  2.29it/s, v_num=10]\n",
      "Val - After Epoch 55: loss=1.785, acc=0.507\n",
      "Epoch 55: 100%|████████████████████████████████████████████████████████████| 165/165 [01:33<00:00,  1.76it/s, v_num=10]\n",
      "Train - After Epoch 55: loss=1.770, acc=0.509\n",
      "Learning rate after epoch 55: 0.000125\n",
      "[Epoch 55] Grad Norms — Total: 24, Vanished: 3, Exploded: 0\n",
      "Epoch 56: 100%|████████████████████████████████████████████████████████████| 165/165 [01:12<00:00,  2.27it/s, v_num=10]\n",
      "Val - After Epoch 56: loss=1.772, acc=0.507\n",
      "Epoch 56: 100%|████████████████████████████████████████████████████████████| 165/165 [01:33<00:00,  1.76it/s, v_num=10]"
     ]
    },
    {
     "name": "stderr",
     "output_type": "stream",
     "text": [
      "Metric val_loss improved by 0.012 >= min_delta = 0.0. New best score: 1.772\n"
     ]
    },
    {
     "name": "stdout",
     "output_type": "stream",
     "text": [
      "\n",
      "Train - After Epoch 56: loss=1.765, acc=0.508\n",
      "Learning rate after epoch 56: 0.000125\n",
      "[Epoch 56] Grad Norms — Total: 24, Vanished: 3, Exploded: 0\n",
      "Epoch 57: 100%|████████████████████████████████████████████████████████████| 165/165 [01:12<00:00,  2.28it/s, v_num=10]\n",
      "Val - After Epoch 57: loss=1.794, acc=0.505\n",
      "Epoch 57: 100%|████████████████████████████████████████████████████████████| 165/165 [01:32<00:00,  1.78it/s, v_num=10]\n",
      "Train - After Epoch 57: loss=1.775, acc=0.505\n",
      "Learning rate after epoch 57: 0.000125\n",
      "[Epoch 57] Grad Norms — Total: 24, Vanished: 3, Exploded: 0\n",
      "Epoch 58: 100%|████████████████████████████████████████████████████████████| 165/165 [01:12<00:00,  2.27it/s, v_num=10]\n",
      "Val - After Epoch 58: loss=1.788, acc=0.504\n",
      "Epoch 58: 100%|████████████████████████████████████████████████████████████| 165/165 [01:33<00:00,  1.76it/s, v_num=10]\n",
      "Train - After Epoch 58: loss=1.744, acc=0.513\n",
      "Learning rate after epoch 58: 0.000125\n",
      "[Epoch 58] Grad Norms — Total: 24, Vanished: 3, Exploded: 0\n",
      "Epoch 59: 100%|████████████████████████████████████████████████████████████| 165/165 [01:12<00:00,  2.29it/s, v_num=10]\n",
      "Val - After Epoch 59: loss=1.773, acc=0.514\n",
      "Epoch 59: 100%|████████████████████████████████████████████████████████████| 165/165 [01:32<00:00,  1.78it/s, v_num=10]\n",
      "Train - After Epoch 59: loss=1.754, acc=0.512\n",
      "Learning rate after epoch 59: 0.000125\n",
      "[Epoch 59] Grad Norms — Total: 24, Vanished: 3, Exploded: 0\n",
      "Epoch 60: 100%|████████████████████████████████████████████████████████████| 165/165 [01:11<00:00,  2.31it/s, v_num=10]\n",
      "Val - After Epoch 60: loss=1.767, acc=0.510\n",
      "Epoch 60: 100%|████████████████████████████████████████████████████████████| 165/165 [01:32<00:00,  1.79it/s, v_num=10]"
     ]
    },
    {
     "name": "stderr",
     "output_type": "stream",
     "text": [
      "Metric val_loss improved by 0.005 >= min_delta = 0.0. New best score: 1.767\n"
     ]
    },
    {
     "name": "stdout",
     "output_type": "stream",
     "text": [
      "\n",
      "Train - After Epoch 60: loss=1.760, acc=0.510\n",
      "Learning rate after epoch 60: 0.000125\n",
      "[Epoch 60] Grad Norms — Total: 24, Vanished: 3, Exploded: 0\n",
      "Epoch 61: 100%|████████████████████████████████████████████████████████████| 165/165 [01:11<00:00,  2.30it/s, v_num=10]\n",
      "Val - After Epoch 61: loss=1.784, acc=0.510\n",
      "Epoch 61: 100%|████████████████████████████████████████████████████████████| 165/165 [01:32<00:00,  1.79it/s, v_num=10]\n",
      "Train - After Epoch 61: loss=1.750, acc=0.510\n",
      "Learning rate after epoch 61: 0.000125\n",
      "[Epoch 61] Grad Norms — Total: 24, Vanished: 3, Exploded: 0\n",
      "Epoch 62: 100%|████████████████████████████████████████████████████████████| 165/165 [01:11<00:00,  2.32it/s, v_num=10]\n",
      "Val - After Epoch 62: loss=1.792, acc=0.507\n",
      "Epoch 62: 100%|████████████████████████████████████████████████████████████| 165/165 [01:31<00:00,  1.81it/s, v_num=10]\n",
      "Train - After Epoch 62: loss=1.744, acc=0.512\n",
      "Learning rate after epoch 62: 0.000125\n",
      "[Epoch 62] Grad Norms — Total: 24, Vanished: 3, Exploded: 0\n",
      "Epoch 63: 100%|████████████████████████████████████████████████████████████| 165/165 [01:09<00:00,  2.38it/s, v_num=10]\n",
      "Val - After Epoch 63: loss=1.773, acc=0.506\n",
      "Epoch 63: 100%|████████████████████████████████████████████████████████████| 165/165 [01:29<00:00,  1.84it/s, v_num=10]\n",
      "Train - After Epoch 63: loss=1.737, acc=0.515\n",
      "Learning rate after epoch 63: 0.000125\n",
      "[Epoch 63] Grad Norms — Total: 24, Vanished: 3, Exploded: 0\n",
      "Epoch 64: 100%|████████████████████████████████████████████████████████████| 165/165 [01:09<00:00,  2.37it/s, v_num=10]\n",
      "Val - After Epoch 64: loss=1.773, acc=0.512\n",
      "Epoch 64: 100%|████████████████████████████████████████████████████████████| 165/165 [01:29<00:00,  1.84it/s, v_num=10]\n",
      "Train - After Epoch 64: loss=1.736, acc=0.512\n",
      "Learning rate after epoch 64: 0.000125\n",
      "[Epoch 64] Grad Norms — Total: 24, Vanished: 3, Exploded: 0\n",
      "Epoch 65: 100%|████████████████████████████████████████████████████████████| 165/165 [01:09<00:00,  2.38it/s, v_num=10]\n",
      "Val - After Epoch 65: loss=1.763, acc=0.516\n",
      "Epoch 65: 100%|████████████████████████████████████████████████████████████| 165/165 [01:29<00:00,  1.85it/s, v_num=10]"
     ]
    },
    {
     "name": "stderr",
     "output_type": "stream",
     "text": [
      "Metric val_loss improved by 0.004 >= min_delta = 0.0. New best score: 1.763\n"
     ]
    },
    {
     "name": "stdout",
     "output_type": "stream",
     "text": [
      "\n",
      "Train - After Epoch 65: loss=1.728, acc=0.514\n",
      "Learning rate after epoch 65: 6.25e-05\n",
      "[Epoch 65] Grad Norms — Total: 24, Vanished: 3, Exploded: 0\n",
      "Epoch 66: 100%|████████████████████████████████████████████████████████████| 165/165 [01:09<00:00,  2.38it/s, v_num=10]\n",
      "Val - After Epoch 66: loss=1.744, acc=0.518\n",
      "Epoch 66: 100%|████████████████████████████████████████████████████████████| 165/165 [01:29<00:00,  1.84it/s, v_num=10]"
     ]
    },
    {
     "name": "stderr",
     "output_type": "stream",
     "text": [
      "Metric val_loss improved by 0.019 >= min_delta = 0.0. New best score: 1.744\n"
     ]
    },
    {
     "name": "stdout",
     "output_type": "stream",
     "text": [
      "\n",
      "Train - After Epoch 66: loss=1.732, acc=0.513\n",
      "Learning rate after epoch 66: 6.25e-05\n",
      "[Epoch 66] Grad Norms — Total: 24, Vanished: 3, Exploded: 0\n",
      "Epoch 67: 100%|████████████████████████████████████████████████████████████| 165/165 [01:10<00:00,  2.35it/s, v_num=10]\n",
      "Val - After Epoch 67: loss=1.754, acc=0.510\n",
      "Epoch 67: 100%|████████████████████████████████████████████████████████████| 165/165 [01:30<00:00,  1.82it/s, v_num=10]\n",
      "Train - After Epoch 67: loss=1.718, acc=0.518\n",
      "Learning rate after epoch 67: 6.25e-05\n",
      "[Epoch 67] Grad Norms — Total: 24, Vanished: 3, Exploded: 0\n",
      "Epoch 68: 100%|████████████████████████████████████████████████████████████| 165/165 [01:10<00:00,  2.34it/s, v_num=10]\n",
      "Val - After Epoch 68: loss=1.763, acc=0.509\n",
      "Epoch 68: 100%|████████████████████████████████████████████████████████████| 165/165 [01:31<00:00,  1.81it/s, v_num=10]\n",
      "Train - After Epoch 68: loss=1.719, acc=0.518\n",
      "Learning rate after epoch 68: 6.25e-05\n",
      "[Epoch 68] Grad Norms — Total: 24, Vanished: 3, Exploded: 0\n",
      "Epoch 69: 100%|████████████████████████████████████████████████████████████| 165/165 [01:10<00:00,  2.33it/s, v_num=10]\n",
      "Val - After Epoch 69: loss=1.768, acc=0.510\n",
      "Epoch 69: 100%|████████████████████████████████████████████████████████████| 165/165 [01:33<00:00,  1.77it/s, v_num=10]\n",
      "Train - After Epoch 69: loss=1.718, acc=0.516\n",
      "Learning rate after epoch 69: 6.25e-05\n",
      "[Epoch 69] Grad Norms — Total: 24, Vanished: 3, Exploded: 0\n",
      "Epoch 70: 100%|████████████████████████████████████████████████████████████| 165/165 [01:13<00:00,  2.25it/s, v_num=10]\n",
      "Val - After Epoch 70: loss=1.754, acc=0.512\n",
      "Epoch 70: 100%|████████████████████████████████████████████████████████████| 165/165 [01:36<00:00,  1.71it/s, v_num=10]\n",
      "Train - After Epoch 70: loss=1.701, acc=0.524\n",
      "Learning rate after epoch 70: 6.25e-05\n",
      "[Epoch 70] Grad Norms — Total: 24, Vanished: 3, Exploded: 0\n",
      "Epoch 71: 100%|████████████████████████████████████████████████████████████| 165/165 [01:14<00:00,  2.22it/s, v_num=10]\n",
      "Val - After Epoch 71: loss=1.757, acc=0.516\n",
      "Epoch 71: 100%|████████████████████████████████████████████████████████████| 165/165 [01:35<00:00,  1.72it/s, v_num=10]\n",
      "Train - After Epoch 71: loss=1.701, acc=0.522\n",
      "Learning rate after epoch 71: 3.125e-05\n",
      "[Epoch 71] Grad Norms — Total: 24, Vanished: 3, Exploded: 0\n",
      "Epoch 72: 100%|████████████████████████████████████████████████████████████| 165/165 [01:13<00:00,  2.24it/s, v_num=10]\n",
      "Val - After Epoch 72: loss=1.758, acc=0.515\n",
      "Epoch 72: 100%|████████████████████████████████████████████████████████████| 165/165 [01:36<00:00,  1.72it/s, v_num=10]\n",
      "Train - After Epoch 72: loss=1.715, acc=0.518\n",
      "Learning rate after epoch 72: 3.125e-05\n",
      "[Epoch 72] Grad Norms — Total: 24, Vanished: 3, Exploded: 0\n",
      "Epoch 73: 100%|████████████████████████████████████████████████████████████| 165/165 [01:13<00:00,  2.24it/s, v_num=10]\n",
      "Val - After Epoch 73: loss=1.754, acc=0.515\n",
      "Epoch 73: 100%|████████████████████████████████████████████████████████████| 165/165 [01:34<00:00,  1.74it/s, v_num=10]\n",
      "Train - After Epoch 73: loss=1.700, acc=0.526\n",
      "Learning rate after epoch 73: 3.125e-05\n",
      "[Epoch 73] Grad Norms — Total: 24, Vanished: 3, Exploded: 0\n",
      "Epoch 74: 100%|████████████████████████████████████████████████████████████| 165/165 [01:13<00:00,  2.24it/s, v_num=10]\n",
      "Val - After Epoch 74: loss=1.737, acc=0.518\n",
      "Epoch 74: 100%|████████████████████████████████████████████████████████████| 165/165 [01:34<00:00,  1.75it/s, v_num=10]"
     ]
    },
    {
     "name": "stderr",
     "output_type": "stream",
     "text": [
      "Metric val_loss improved by 0.007 >= min_delta = 0.0. New best score: 1.737\n"
     ]
    },
    {
     "name": "stdout",
     "output_type": "stream",
     "text": [
      "\n",
      "Train - After Epoch 74: loss=1.702, acc=0.523\n",
      "Learning rate after epoch 74: 3.125e-05\n",
      "[Epoch 74] Grad Norms — Total: 24, Vanished: 3, Exploded: 0\n",
      "Epoch 75: 100%|████████████████████████████████████████████████████████████| 165/165 [01:10<00:00,  2.33it/s, v_num=10]\n",
      "Val - After Epoch 75: loss=1.739, acc=0.524\n",
      "Epoch 75: 100%|████████████████████████████████████████████████████████████| 165/165 [01:31<00:00,  1.80it/s, v_num=10]\n",
      "Train - After Epoch 75: loss=1.695, acc=0.525\n",
      "Learning rate after epoch 75: 3.125e-05\n",
      "[Epoch 75] Grad Norms — Total: 24, Vanished: 3, Exploded: 0\n",
      "Epoch 76: 100%|████████████████████████████████████████████████████████████| 165/165 [01:11<00:00,  2.31it/s, v_num=10]\n",
      "Val - After Epoch 76: loss=1.758, acc=0.512\n",
      "Epoch 76: 100%|████████████████████████████████████████████████████████████| 165/165 [01:31<00:00,  1.80it/s, v_num=10]\n",
      "Train - After Epoch 76: loss=1.684, acc=0.526\n",
      "Learning rate after epoch 76: 3.125e-05\n",
      "[Epoch 76] Grad Norms — Total: 24, Vanished: 3, Exploded: 0\n",
      "Epoch 77: 100%|████████████████████████████████████████████████████████████| 165/165 [01:11<00:00,  2.32it/s, v_num=10]\n",
      "Val - After Epoch 77: loss=1.749, acc=0.519\n",
      "Epoch 77: 100%|████████████████████████████████████████████████████████████| 165/165 [01:31<00:00,  1.80it/s, v_num=10]\n",
      "Train - After Epoch 77: loss=1.701, acc=0.527\n",
      "Learning rate after epoch 77: 3.125e-05\n",
      "[Epoch 77] Grad Norms — Total: 24, Vanished: 3, Exploded: 0\n",
      "Epoch 78: 100%|████████████████████████████████████████████████████████████| 165/165 [01:12<00:00,  2.29it/s, v_num=10]\n",
      "Val - After Epoch 78: loss=1.728, acc=0.516\n",
      "Epoch 78: 100%|████████████████████████████████████████████████████████████| 165/165 [01:32<00:00,  1.78it/s, v_num=10]"
     ]
    },
    {
     "name": "stderr",
     "output_type": "stream",
     "text": [
      "Metric val_loss improved by 0.009 >= min_delta = 0.0. New best score: 1.728\n"
     ]
    },
    {
     "name": "stdout",
     "output_type": "stream",
     "text": [
      "\n",
      "Train - After Epoch 78: loss=1.697, acc=0.522\n",
      "Learning rate after epoch 78: 3.125e-05\n",
      "[Epoch 78] Grad Norms — Total: 24, Vanished: 3, Exploded: 0\n",
      "Epoch 79: 100%|████████████████████████████████████████████████████████████| 165/165 [01:10<00:00,  2.35it/s, v_num=10]\n",
      "Val - After Epoch 79: loss=1.755, acc=0.511\n",
      "Epoch 79: 100%|████████████████████████████████████████████████████████████| 165/165 [01:31<00:00,  1.81it/s, v_num=10]\n",
      "Train - After Epoch 79: loss=1.685, acc=0.525\n",
      "Learning rate after epoch 79: 3.125e-05\n",
      "[Epoch 79] Grad Norms — Total: 24, Vanished: 3, Exploded: 0\n",
      "Epoch 80: 100%|████████████████████████████████████████████████████████████| 165/165 [01:11<00:00,  2.30it/s, v_num=10]\n",
      "Val - After Epoch 80: loss=1.735, acc=0.523\n",
      "Epoch 80: 100%|████████████████████████████████████████████████████████████| 165/165 [01:32<00:00,  1.78it/s, v_num=10]\n",
      "Train - After Epoch 80: loss=1.692, acc=0.527\n",
      "Learning rate after epoch 80: 3.125e-05\n",
      "[Epoch 80] Grad Norms — Total: 24, Vanished: 3, Exploded: 0\n",
      "Epoch 81: 100%|████████████████████████████████████████████████████████████| 165/165 [01:11<00:00,  2.30it/s, v_num=10]\n",
      "Val - After Epoch 81: loss=1.746, acc=0.507\n",
      "Epoch 81: 100%|████████████████████████████████████████████████████████████| 165/165 [01:32<00:00,  1.78it/s, v_num=10]\n",
      "Train - After Epoch 81: loss=1.690, acc=0.527\n",
      "Learning rate after epoch 81: 3.125e-05\n",
      "[Epoch 81] Grad Norms — Total: 24, Vanished: 3, Exploded: 0\n",
      "Epoch 82: 100%|████████████████████████████████████████████████████████████| 165/165 [01:11<00:00,  2.30it/s, v_num=10]\n",
      "Val - After Epoch 82: loss=1.740, acc=0.515\n",
      "Epoch 82: 100%|████████████████████████████████████████████████████████████| 165/165 [01:32<00:00,  1.79it/s, v_num=10]\n",
      "Train - After Epoch 82: loss=1.692, acc=0.520\n",
      "Learning rate after epoch 82: 3.125e-05\n",
      "[Epoch 82] Grad Norms — Total: 24, Vanished: 3, Exploded: 0\n",
      "Epoch 83: 100%|████████████████████████████████████████████████████████████| 165/165 [01:13<00:00,  2.25it/s, v_num=10]\n",
      "Val - After Epoch 83: loss=1.727, acc=0.523\n",
      "Epoch 83: 100%|████████████████████████████████████████████████████████████| 165/165 [01:34<00:00,  1.74it/s, v_num=10]"
     ]
    },
    {
     "name": "stderr",
     "output_type": "stream",
     "text": [
      "Metric val_loss improved by 0.001 >= min_delta = 0.0. New best score: 1.727\n"
     ]
    },
    {
     "name": "stdout",
     "output_type": "stream",
     "text": [
      "\n",
      "Train - After Epoch 83: loss=1.685, acc=0.528\n",
      "Learning rate after epoch 83: 1.5625e-05\n",
      "[Epoch 83] Grad Norms — Total: 24, Vanished: 3, Exploded: 0\n",
      "Epoch 84: 100%|████████████████████████████████████████████████████████████| 165/165 [01:15<00:00,  2.19it/s, v_num=10]\n",
      "Val - After Epoch 84: loss=1.746, acc=0.517\n",
      "Epoch 84: 100%|████████████████████████████████████████████████████████████| 165/165 [01:36<00:00,  1.71it/s, v_num=10]\n",
      "Train - After Epoch 84: loss=1.690, acc=0.527\n",
      "Learning rate after epoch 84: 1.5625e-05\n",
      "[Epoch 84] Grad Norms — Total: 24, Vanished: 3, Exploded: 0\n",
      "Epoch 85: 100%|████████████████████████████████████████████████████████████| 165/165 [01:12<00:00,  2.26it/s, v_num=10]\n",
      "Val - After Epoch 85: loss=1.737, acc=0.518\n",
      "Epoch 85: 100%|████████████████████████████████████████████████████████████| 165/165 [01:33<00:00,  1.76it/s, v_num=10]\n",
      "Train - After Epoch 85: loss=1.686, acc=0.531\n",
      "Learning rate after epoch 85: 1.5625e-05\n",
      "[Epoch 85] Grad Norms — Total: 24, Vanished: 3, Exploded: 0\n",
      "Epoch 86: 100%|████████████████████████████████████████████████████████████| 165/165 [01:11<00:00,  2.31it/s, v_num=10]\n",
      "Val - After Epoch 86: loss=1.737, acc=0.520\n",
      "Epoch 86: 100%|████████████████████████████████████████████████████████████| 165/165 [01:32<00:00,  1.79it/s, v_num=10]\n",
      "Train - After Epoch 86: loss=1.685, acc=0.524\n",
      "Learning rate after epoch 86: 1.5625e-05\n",
      "[Epoch 86] Grad Norms — Total: 24, Vanished: 3, Exploded: 0\n",
      "Epoch 87: 100%|████████████████████████████████████████████████████████████| 165/165 [01:10<00:00,  2.33it/s, v_num=10]\n",
      "Val - After Epoch 87: loss=1.738, acc=0.523\n",
      "Epoch 87: 100%|████████████████████████████████████████████████████████████| 165/165 [01:32<00:00,  1.78it/s, v_num=10]\n",
      "Train - After Epoch 87: loss=1.679, acc=0.529\n",
      "Learning rate after epoch 87: 1.5625e-05\n",
      "[Epoch 87] Grad Norms — Total: 24, Vanished: 3, Exploded: 0\n",
      "Epoch 88: 100%|████████████████████████████████████████████████████████████| 165/165 [01:13<00:00,  2.25it/s, v_num=10]\n",
      "Val - After Epoch 88: loss=1.747, acc=0.517\n",
      "Epoch 88: 100%|████████████████████████████████████████████████████████████| 165/165 [01:34<00:00,  1.74it/s, v_num=10]\n",
      "Train - After Epoch 88: loss=1.686, acc=0.527\n",
      "Learning rate after epoch 88: 7.8125e-06\n",
      "[Epoch 88] Grad Norms — Total: 24, Vanished: 3, Exploded: 0\n",
      "Epoch 89: 100%|████████████████████████████████████████████████████████████| 165/165 [01:11<00:00,  2.32it/s, v_num=10]\n",
      "Val - After Epoch 89: loss=1.762, acc=0.508\n",
      "Epoch 89: 100%|████████████████████████████████████████████████████████████| 165/165 [01:31<00:00,  1.80it/s, v_num=10]\n",
      "Train - After Epoch 89: loss=1.678, acc=0.531\n",
      "Learning rate after epoch 89: 7.8125e-06\n",
      "[Epoch 89] Grad Norms — Total: 24, Vanished: 3, Exploded: 0\n",
      "Epoch 90: 100%|████████████████████████████████████████████████████████████| 165/165 [01:12<00:00,  2.27it/s, v_num=10]\n",
      "Val - After Epoch 90: loss=1.736, acc=0.518\n",
      "Epoch 90: 100%|████████████████████████████████████████████████████████████| 165/165 [01:33<00:00,  1.77it/s, v_num=10]\n",
      "Train - After Epoch 90: loss=1.684, acc=0.529\n",
      "Learning rate after epoch 90: 7.8125e-06\n",
      "[Epoch 90] Grad Norms — Total: 24, Vanished: 3, Exploded: 0\n",
      "Epoch 91: 100%|████████████████████████████████████████████████████████████| 165/165 [01:11<00:00,  2.29it/s, v_num=10]\n",
      "Val - After Epoch 91: loss=1.739, acc=0.520\n",
      "Epoch 91: 100%|████████████████████████████████████████████████████████████| 165/165 [01:32<00:00,  1.78it/s, v_num=10]\n",
      "Train - After Epoch 91: loss=1.676, acc=0.530\n",
      "Learning rate after epoch 91: 7.8125e-06\n",
      "[Epoch 91] Grad Norms — Total: 24, Vanished: 3, Exploded: 0\n",
      "Epoch 92: 100%|████████████████████████████████████████████████████████████| 165/165 [01:11<00:00,  2.29it/s, v_num=10]\n",
      "Val - After Epoch 92: loss=1.737, acc=0.521\n",
      "Epoch 92: 100%|████████████████████████████████████████████████████████████| 165/165 [01:32<00:00,  1.79it/s, v_num=10]"
     ]
    },
    {
     "name": "stderr",
     "output_type": "stream",
     "text": [
      "Monitored metric val_loss did not improve in the last 9 records. Best score: 1.727. Signaling Trainer to stop.\n"
     ]
    },
    {
     "name": "stdout",
     "output_type": "stream",
     "text": [
      "\n",
      "Train - After Epoch 92: loss=1.681, acc=0.526\n",
      "Learning rate after epoch 92: 3.90625e-06\n",
      "[Epoch 92] Grad Norms — Total: 24, Vanished: 3, Exploded: 0\n",
      "Epoch 92: 100%|████████████████████████████████████████████████████████████| 165/165 [01:32<00:00,  1.79it/s, v_num=10]\n"
     ]
    }
   ],
   "source": [
    "#Training for another 50 epochs\n",
    "trainer = pl.Trainer(logger=logger,\n",
    "                     callbacks=[MinimalProgressBar(), checkpoint_callback, early_stop_callback], \n",
    "                     default_root_dir=\"\\\\training_output\", \n",
    "                     max_epochs=100)\n",
    "trainer.fit(model, datamodule)"
   ]
  },
  {
   "cell_type": "code",
   "execution_count": 25,
   "metadata": {},
   "outputs": [
    {
     "data": {
      "image/png": "[encoded data removed]",
      "text/plain": [
       "<Figure size 1000x500 with 1 Axes>"
      ]
     },
     "metadata": {},
     "output_type": "display_data"
    }
   ],
   "source": [
    "#Plotting train and validation loss\n",
    "epochs = range(1, len(model.training_losses) + 1)\n",
    "plt.figure(figsize=(10, 5))\n",
    "plt.plot(epochs, model.training_losses, label='Training Loss')\n",
    "plt.plot(epochs, model.validation_losses[3:], label='Validation Loss')\n",
    "plt.xlabel('Epoch')\n",
    "plt.ylabel('Loss')\n",
    "plt.title('Training and Validation Loss')\n",
    "plt.legend()\n",
    "plt.grid(True)\n",
    "plt.tight_layout()\n",
    "plt.show()"
   ]
  },
  {
   "cell_type": "code",
   "execution_count": 26,
   "metadata": {},
   "outputs": [
    {
     "data": {
      "image/png": "[encoded data removed]",
      "text/plain": [
       "<Figure size 1000x500 with 1 Axes>"
      ]
     },
     "metadata": {},
     "output_type": "display_data"
    }
   ],
   "source": [
    "#Plotting train and validation accuracy\n",
    "epochs = range(1, len(model.training_accuracies) + 1)\n",
    "plt.figure(figsize=(10, 5))\n",
    "plt.plot(epochs, [a*100 for a in model.training_accuracies], label='Training Accuracy')\n",
    "plt.plot(epochs, [a*100 for a in model.validation_accuracies[3:]], label='Validation Accuracy')\n",
    "plt.xlabel('Epoch')\n",
    "plt.ylabel('Accuracy')\n",
    "plt.title('Training and Validation Accuracies')\n",
    "plt.legend()\n",
    "plt.grid(True)\n",
    "plt.tight_layout()\n",
    "plt.show()"
   ]
  },
  {
   "cell_type": "code",
   "execution_count": null,
   "metadata": {},
   "outputs": [],
   "source": []
  },
  {
   "cell_type": "code",
   "execution_count": null,
   "metadata": {},
   "outputs": [],
   "source": []
  }
 ],
 "metadata": {
  "kernelspec": {
   "display_name": "torch_gpu_env",
   "language": "python",
   "name": "torch_gpu_env"
  },
  "language_info": {
   "codemirror_mode": {
    "name": "ipython",
    "version": 3
   },
   "file_extension": ".py",
   "mimetype": "text/x-python",
   "name": "python",
   "nbconvert_exporter": "python",
   "pygments_lexer": "ipython3",
   "version": "3.10.16"
  }
 },
 "nbformat": 4,
 "nbformat_minor": 5
}
