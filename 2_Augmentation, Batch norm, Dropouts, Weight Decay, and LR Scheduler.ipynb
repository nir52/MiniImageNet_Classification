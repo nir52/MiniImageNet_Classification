{
 "cells": [
  {
   "cell_type": "code",
   "execution_count": 1,
   "metadata": {},
   "outputs": [],
   "source": [
    "import os\n",
    "import random\n",
    "import numpy as np\n",
    "import pandas as pd\n",
    "from tqdm import tqdm\n",
    "from datetime import datetime"
   ]
  },
  {
   "cell_type": "code",
   "execution_count": 2,
   "metadata": {},
   "outputs": [],
   "source": [
    "import torch\n",
    "import torch.nn as nn\n",
    "import torch.nn.functional as F\n",
    "from torch.utils.data import random_split, SubsetRandomSampler, DataLoader, Dataset, Subset\n",
    "from torchvision import datasets, transforms, models \n",
    "from torchvision.utils import make_grid\n",
    "from pytorch_lightning.callbacks.progress import TQDMProgressBar\n",
    "from pytorch_lightning.callbacks import ModelCheckpoint, EarlyStopping\n",
    "import pytorch_lightning as pl"
   ]
  },
  {
   "cell_type": "code",
   "execution_count": 3,
   "metadata": {},
   "outputs": [],
   "source": [
    "from PIL import Image\n",
    "import matplotlib.pyplot as plt\n",
    "from sklearn.model_selection import train_test_split\n",
    "from sklearn.metrics import classification_report"
   ]
  },
  {
   "cell_type": "code",
   "execution_count": 4,
   "metadata": {},
   "outputs": [
    {
     "data": {
      "text/plain": [
       "'2.5.1'"
      ]
     },
     "execution_count": 4,
     "metadata": {},
     "output_type": "execute_result"
    }
   ],
   "source": [
    "torch.__version__"
   ]
  },
  {
   "cell_type": "code",
   "execution_count": 5,
   "metadata": {},
   "outputs": [
    {
     "data": {
      "text/plain": [
       "'2.5.1.post0'"
      ]
     },
     "execution_count": 5,
     "metadata": {},
     "output_type": "execute_result"
    }
   ],
   "source": [
    "pl.__version__"
   ]
  },
  {
   "cell_type": "code",
   "execution_count": 6,
   "metadata": {},
   "outputs": [],
   "source": [
    "# Setting dataset path\n",
    "path = \"E:\\\\mini_ImageNet\\\\archive\\\\\""
   ]
  },
  {
   "cell_type": "code",
   "execution_count": 7,
   "metadata": {},
   "outputs": [
    {
     "name": "stdout",
     "output_type": "stream",
     "text": [
      "Mean: [0.4764, 0.4491, 0.4001]\n",
      "Std: [0.2264, 0.2224, 0.2212]\n"
     ]
    }
   ],
   "source": [
    "#Using the previously calculated values (first notebook) of mean and std of the images in this dataset\n",
    "mean = [0.4764, 0.4491, 0.4001]\n",
    "std = [0.2264, 0.2224, 0.2212]\n",
    "\n",
    "print(\"Mean:\", mean)\n",
    "print(\"Std:\", std)"
   ]
  },
  {
   "cell_type": "code",
   "execution_count": null,
   "metadata": {},
   "outputs": [],
   "source": []
  },
  {
   "cell_type": "markdown",
   "metadata": {},
   "source": [
    "### Image Transforms"
   ]
  },
  {
   "cell_type": "code",
   "execution_count": 8,
   "metadata": {},
   "outputs": [],
   "source": [
    "transform=transforms.Compose([\n",
    "        transforms.Resize(224),             # resize shortest side to 224 pixels\n",
    "        transforms.CenterCrop(224),         # crop longest side to 224 pixels at center\n",
    "        transforms.ToTensor(),\n",
    "        transforms.Normalize(mean, std),\n",
    "        \n",
    "        #Adding data augmentation steps\n",
    "        transforms.RandomRotation(20),      # rotate +/- 20 degrees\n",
    "        transforms.RandomHorizontalFlip(p=0.25),  # flip 24% of images\n",
    "        transforms.ColorJitter(brightness=0.2, contrast=0.2, saturation=0.2),  \n",
    "        transforms.RandomAffine(degrees=0, translate=(0.2, 0.2), scale=(0.8, 1.2)),\n",
    "        transforms.RandomApply([transforms.ColorJitter(brightness=0.2, contrast=0.2, \n",
    "                                                       saturation=0.2)], p=0.5), # jitters by +/- given value\n",
    "        transforms.RandomApply([transforms.GaussianBlur(kernel_size=3, sigma=(0.1, 0.7))], p=0.3)\n",
    "    ])\n",
    "#https://docs.pytorch.org/vision/main/transforms.html"
   ]
  },
  {
   "cell_type": "code",
   "execution_count": 9,
   "metadata": {},
   "outputs": [],
   "source": [
    "#Getting class names from the folder names of images\n",
    "class_names=sorted(os.listdir(path))\n",
    "class_names = ['_'.join(c.split('_')[:-1]) for c in class_names]"
   ]
  },
  {
   "cell_type": "markdown",
   "metadata": {},
   "source": [
    "### Data Module"
   ]
  },
  {
   "cell_type": "code",
   "execution_count": 10,
   "metadata": {},
   "outputs": [],
   "source": [
    "class DataModule(pl.LightningDataModule):\n",
    "    \n",
    "    def __init__(self, batch_size:int=32, num_workers:int=10, transform=transform):\n",
    "        super().__init__()\n",
    "        # self.root_dir = \"/kaggle/input/miniimagenet\"\n",
    "        self.root_dir = path\n",
    "        self.transform = transform\n",
    "        self.batch_size = batch_size\n",
    "        self.num_w = num_workers\n",
    "\n",
    "    def setup(self, stage=None):\n",
    "        dataset = datasets.ImageFolder(root=self.root_dir, transform=self.transform)\n",
    "        n_data = len(dataset)\n",
    "        n_train = int(0.7 * n_data)\n",
    "        n_valid = int(0.2 * n_data)\n",
    "        n_test = n_data - n_train - n_valid\n",
    "        \n",
    "        self.train_dataset, self.val_dataset, self.test_dataset = torch.utils.data.random_split(dataset, [n_train, n_valid, n_test])\n",
    "        \n",
    "    \n",
    "    def train_dataloader(self):\n",
    "        return DataLoader(self.train_dataset, batch_size=self.batch_size, shuffle=True, \n",
    "                  num_workers=self.num_w, persistent_workers=True)\n",
    "    \n",
    "    def val_dataloader(self):\n",
    "        return DataLoader(self.val_dataset, batch_size=self.batch_size, \n",
    "                  num_workers=self.num_w, persistent_workers=True)\n",
    "    \n",
    "    def test_dataloader(self):\n",
    "        return DataLoader(self.test_dataset, batch_size=self.batch_size, \n",
    "                  num_workers=self.num_w, persistent_workers=True)\n",
    "        "
   ]
  },
  {
   "cell_type": "markdown",
   "metadata": {},
   "source": [
    "### CNN Classifier"
   ]
  },
  {
   "cell_type": "code",
   "execution_count": 11,
   "metadata": {},
   "outputs": [],
   "source": [
    "class ConvolutionalNetwork(pl.LightningModule):\n",
    "    \n",
    "    def __init__(self, class_labels, numChannels:int=3):\n",
    "        super(ConvolutionalNetwork, self).__init__()\n",
    "        \n",
    "        ##Initializing channel sizes for different layers\n",
    "        \n",
    "        self.conv1_out_channels = 16\n",
    "        self.conv2_out_channels = 32\n",
    "        self.conv3_out_channels = 64\n",
    "        \n",
    "        self.fc1_out_features = 512\n",
    "        self.fc2_out_features = 256\n",
    "        self.fc3_out_features = len(class_labels)\n",
    "        \n",
    "        #Initializing lists to store train and val accuracies and losses\n",
    "        self.training_accuracies = []\n",
    "        self.validation_accuracies = []\n",
    "        self.training_losses = []\n",
    "        self.validation_losses = []\n",
    "\n",
    "\n",
    "        #First conv layer block\n",
    "        self.conv1 = nn.Conv2d(in_channels=numChannels, out_channels=self.conv1_out_channels, \n",
    "                               kernel_size=3, stride=1, padding=1)\n",
    "        self.bn1 = nn.BatchNorm2d(self.conv1_out_channels)\n",
    "        self.act1 = nn.ReLU()          #also try leaky relu\n",
    "        self.pool1 = nn.MaxPool2d(kernel_size=2, stride=2)\n",
    "        \n",
    "        \n",
    "        #Second conv layer block\n",
    "        self.conv2 = nn.Conv2d(in_channels=self.conv1_out_channels, out_channels=self.conv2_out_channels, \n",
    "                               kernel_size=3, stride=1, padding=1)\n",
    "        self.bn2 = nn.BatchNorm2d(self.conv2_out_channels)\n",
    "        self.act2 = nn.ReLU()\n",
    "        self.pool2 = nn.MaxPool2d(kernel_size=2, stride=2)\n",
    "        \n",
    "        \n",
    "        #Third conv layer block\n",
    "        self.conv3 = nn.Conv2d(in_channels=self.conv2_out_channels, out_channels=self.conv3_out_channels, \n",
    "                               kernel_size=3, stride=1, padding=1)\n",
    "        self.bn3 = nn.BatchNorm2d(self.conv3_out_channels)\n",
    "        self.act3 = nn.ReLU()\n",
    "        self.pool3 = nn.MaxPool2d(kernel_size=2, stride=2)\n",
    "               \n",
    "        \n",
    "        # Flatten\n",
    "        self.flatten = nn.Flatten()\n",
    "        \n",
    "        #Fully connected layers\n",
    "        self.fc1 = nn.LazyLinear(self.fc1_out_features)    #try bias=True ?\n",
    "        self.dropout1 = nn.Dropout(0.5)\n",
    "        self.act_fc1 = nn.ReLU()\n",
    "        \n",
    "        self.fc2 = nn.Linear(in_features=self.fc1_out_features, out_features=self.fc2_out_features)\n",
    "        self.dropout2 = nn.Dropout(0.3)\n",
    "        self.act_fc2 = nn.ReLU()\n",
    "        \n",
    "        self.fc3 = nn.Linear(in_features=self.fc2_out_features, out_features=self.fc3_out_features)\n",
    "        self.output_activation  = nn.LogSoftmax(dim=1)\n",
    "        \n",
    "    # convolution output size formula: https://i.sstatic.net/vD1u3.png\n",
    "    \n",
    "    \n",
    "    def forward(self, x):\n",
    "        x = self.act1(self.bn1(self.conv1(x)))\n",
    "        x = self.pool1(x)\n",
    "        x = self.act2(self.bn2(self.conv2(x)))\n",
    "        x = self.pool2(x)\n",
    "        x = self.act3(self.bn3(self.conv3(x)))\n",
    "        x = self.pool3(x)\n",
    "        \n",
    "        x = self.flatten(x)\n",
    "        \n",
    "        x = self.dropout1(self.act_fc1(self.fc1(x)))\n",
    "        x = self.dropout2(self.act_fc2(self.fc2(x)))\n",
    "        x = self.output_activation(self.fc3(x))\n",
    "        \n",
    "        return x\n",
    "\n",
    "    def configure_optimizers(self):\n",
    "        optimizer = torch.optim.Adam(self.parameters(), lr=0.001, weight_decay=1e-4)\n",
    "        scheduler = {\n",
    "            'scheduler': torch.optim.lr_scheduler.ReduceLROnPlateau(optimizer, mode='min', patience=3, factor=0.5, verbose=True),\n",
    "            'monitor': 'val_loss'\n",
    "        }\n",
    "        return {\"optimizer\": optimizer, \"lr_scheduler\": scheduler}\n",
    "    \n",
    "    \n",
    "    def training_step(self, train_batch, batch_idx):\n",
    "        X, y = train_batch\n",
    "        y_hat = self(X)\n",
    "        loss = F.cross_entropy(y_hat, y)\n",
    "        pred = y_hat.argmax(dim=1, keepdim=True)\n",
    "        acc = (pred.squeeze() == y).float().mean()\n",
    "        self.log(\"train_loss\", loss, on_step=False, on_epoch=True, prog_bar=False)\n",
    "        self.log(\"train_acc\", acc, on_step=False, on_epoch=True, prog_bar=False)\n",
    "        return loss\n",
    "\n",
    "    def validation_step(self, val_batch, batch_idx):\n",
    "        X, y = val_batch\n",
    "        y_hat = self(X)\n",
    "        loss = F.cross_entropy(y_hat, y)\n",
    "        pred = y_hat.argmax(dim=1, keepdim=True)\n",
    "        acc = (pred.squeeze() == y).float().mean()\n",
    "        self.log(\"val_loss\", loss, on_step=False, on_epoch=True, prog_bar=False)\n",
    "        self.log(\"val_acc\", acc, on_step=False, on_epoch=True, prog_bar=False)\n",
    "        \n",
    "\n",
    "    def test_step(self, test_batch, batch_idx):\n",
    "        X, y = test_batch\n",
    "        y_hat = self(X)\n",
    "        loss = F.cross_entropy(y_hat, y)\n",
    "        pred = y_hat.argmax(dim=1, keepdim=True)\n",
    "        acc = pred.eq(y.view_as(pred)).sum().item() / y.shape[0]\n",
    "        self.log(\"test_loss\", loss)\n",
    "        self.log(\"test_acc\", acc)\n",
    "        \n",
    "        \n",
    "    def on_train_epoch_end(self):\n",
    "        train_acc = self.trainer.callback_metrics.get(\"train_acc\")\n",
    "        train_loss = self.trainer.callback_metrics.get(\"train_loss\")\n",
    "        if train_acc is not None:\n",
    "            self.training_accuracies.append(train_acc.item())\n",
    "        if train_loss is not None:\n",
    "            self.training_losses.append(train_loss.item())\n",
    "        print(f\"\\nTrain - After Epoch {self.current_epoch}: loss={train_loss:.3f}, acc={train_acc:.3f}\")\n",
    "\n",
    "    def on_validation_epoch_end(self):\n",
    "        val_loss = self.trainer.callback_metrics.get(\"val_loss\")\n",
    "        val_acc = self.trainer.callback_metrics.get(\"val_acc\")\n",
    "        if val_acc is not None:\n",
    "            self.validation_accuracies.append(val_acc.item())\n",
    "        if val_loss is not None:\n",
    "            self.validation_losses.append(val_loss.item())\n",
    "        print(f\"\\nVal - After Epoch {self.current_epoch}: loss={val_loss:.3f}, acc={val_acc:.3f}\")\n"
   ]
  },
  {
   "cell_type": "code",
   "execution_count": 12,
   "metadata": {},
   "outputs": [],
   "source": [
    "#Removing the Validation DataLoader progress bar between epochs\n",
    "class MinimalProgressBar(TQDMProgressBar):\n",
    "    def init_validation_tqdm(self):\n",
    "        # Return a dummy tqdm with no visible output to disable validation progress bar\n",
    "        # Set total=0 to avoid progress display\n",
    "        return tqdm(disable=True)\n",
    "\n",
    "    def init_test_tqdm(self):\n",
    "        # Same for test dataloader\n",
    "        return tqdm(disable=True)\n",
    "    "
   ]
  },
  {
   "cell_type": "code",
   "execution_count": 13,
   "metadata": {},
   "outputs": [],
   "source": [
    "#Getting current timestamp to use in model checkpoints\n",
    "timestamp = datetime.now().strftime(format=\"%Y-%m-%d_%H-%M-%S\")"
   ]
  },
  {
   "cell_type": "code",
   "execution_count": 14,
   "metadata": {},
   "outputs": [],
   "source": [
    "#Configuring model checkpointing:\n",
    "checkpoint_callback = ModelCheckpoint(\n",
    "    dirpath=f\"checkpoints\\\\{timestamp}\",                   # Folder to save checkpoints\n",
    "    filename=f\"epoch{{epoch:02d}}-val_loss{{val_loss:.2f}}\", \n",
    "    save_top_k=2,                             \n",
    "    monitor=\"val_loss\",                       # Metric to track best model\n",
    "    mode=\"min\",                               \n",
    "    save_weights_only=False                  # Save full model\n",
    "#     every_n_epochs=5                          # Save every n epochs\n",
    ")"
   ]
  },
  {
   "cell_type": "code",
   "execution_count": 15,
   "metadata": {},
   "outputs": [],
   "source": [
    "#Configuring early stopping callback\n",
    "early_stop_callback = EarlyStopping(\n",
    "    monitor=\"val_loss\",     # or \"val_acc\"\n",
    "    patience=5,             # number of epochs to wait with no improvement\n",
    "    mode=\"min\",             # \"min\" for loss, \"max\" for accuracy\n",
    "    verbose=True\n",
    ")"
   ]
  },
  {
   "cell_type": "code",
   "execution_count": 16,
   "metadata": {},
   "outputs": [
    {
     "name": "stderr",
     "output_type": "stream",
     "text": [
      "Seed set to 42\n"
     ]
    },
    {
     "data": {
      "text/plain": [
       "42"
      ]
     },
     "execution_count": 16,
     "metadata": {},
     "output_type": "execute_result"
    }
   ],
   "source": [
    "#Setting seed to fetch the same training data every time\n",
    "pl.seed_everything(42, workers=True)  # `workers=True` ensures worker-level reproducibility"
   ]
  },
  {
   "cell_type": "markdown",
   "metadata": {},
   "source": [
    "### Model Training"
   ]
  },
  {
   "cell_type": "code",
   "execution_count": 17,
   "metadata": {},
   "outputs": [
    {
     "name": "stderr",
     "output_type": "stream",
     "text": [
      "GPU available: True (cuda), used: True\n",
      "TPU available: False, using: 0 TPU cores\n",
      "HPU available: False, using: 0 HPUs\n",
      "C:\\ProgramData\\Anaconda3\\envs\\torch_gpu_env\\lib\\site-packages\\pytorch_lightning\\trainer\\connectors\\logger_connector\\logger_connector.py:76: Starting from v1.9.0, `tensorboardX` has been removed as a dependency of the `pytorch_lightning` package, due to potential conflicts with other packages in the ML ecosystem. For this reason, `logger=True` will use `CSVLogger` as the default logger, unless the `tensorboard` or `tensorboardX` packages are found. Please `pip install lightning[extra]` or one of them to enable TensorBoard support by default\n",
      "LOCAL_RANK: 0 - CUDA_VISIBLE_DEVICES: [0]\n",
      "C:\\ProgramData\\Anaconda3\\envs\\torch_gpu_env\\lib\\site-packages\\torch\\optim\\lr_scheduler.py:62: UserWarning: The verbose parameter is deprecated. Please use get_last_lr() to access the learning rate.\n",
      "  warnings.warn(\n",
      "C:\\ProgramData\\Anaconda3\\envs\\torch_gpu_env\\lib\\site-packages\\pytorch_lightning\\utilities\\model_summary\\model_summary.py:477: The total number of parameters detected may be inaccurate because the model contains an instance of `UninitializedParameter`. To get an accurate number, set `self.example_input_array` in your LightningModule.\n",
      "\n",
      "   | Name              | Type        | Params | Mode \n",
      "-----------------------------------------------------------\n",
      "0  | conv1             | Conv2d      | 448    | train\n",
      "1  | bn1               | BatchNorm2d | 32     | train\n",
      "2  | act1              | ReLU        | 0      | train\n",
      "3  | pool1             | MaxPool2d   | 0      | train\n",
      "4  | conv2             | Conv2d      | 4.6 K  | train\n",
      "5  | bn2               | BatchNorm2d | 64     | train\n",
      "6  | act2              | ReLU        | 0      | train\n",
      "7  | pool2             | MaxPool2d   | 0      | train\n",
      "8  | conv3             | Conv2d      | 18.5 K | train\n",
      "9  | bn3               | BatchNorm2d | 128    | train\n",
      "10 | act3              | ReLU        | 0      | train\n",
      "11 | pool3             | MaxPool2d   | 0      | train\n",
      "12 | flatten           | Flatten     | 0      | train\n",
      "13 | fc1               | LazyLinear  | 0      | train\n",
      "14 | dropout1          | Dropout     | 0      | train\n",
      "15 | act_fc1           | ReLU        | 0      | train\n",
      "16 | fc2               | Linear      | 131 K  | train\n",
      "17 | dropout2          | Dropout     | 0      | train\n",
      "18 | act_fc2           | ReLU        | 0      | train\n",
      "19 | fc3               | Linear      | 12.8 K | train\n",
      "20 | output_activation | LogSoftmax  | 0      | train\n",
      "-----------------------------------------------------------\n",
      "167 K     Trainable params\n",
      "0         Non-trainable params\n",
      "167 K     Total params\n",
      "0.672     Total estimated model params size (MB)\n",
      "21        Modules in train mode\n",
      "0         Modules in eval mode\n"
     ]
    },
    {
     "name": "stdout",
     "output_type": "stream",
     "text": [
      "Sanity Checking DataLoader 0: 100%|██████████████████████████████████████████████████████| 2/2 [00:01<00:00,  1.63it/s]\n",
      "Val - After Epoch 0: loss=3.913, acc=0.043\n",
      "Epoch 0: 100%|█████████████████████████████████████████████████████████████| 165/165 [01:17<00:00,  2.13it/s, v_num=17]\n",
      "Val - After Epoch 0: loss=3.716, acc=0.067\n",
      "Epoch 0: 100%|█████████████████████████████████████████████████████████████| 165/165 [01:39<00:00,  1.66it/s, v_num=17]"
     ]
    },
    {
     "name": "stderr",
     "output_type": "stream",
     "text": [
      "Metric val_loss improved. New best score: 3.716\n"
     ]
    },
    {
     "name": "stdout",
     "output_type": "stream",
     "text": [
      "\n",
      "Train - After Epoch 0: loss=3.956, acc=0.041\n",
      "Epoch 1: 100%|█████████████████████████████████████████████████████████████| 165/165 [01:15<00:00,  2.19it/s, v_num=17]\n",
      "Val - After Epoch 1: loss=3.678, acc=0.082\n",
      "Epoch 1: 100%|█████████████████████████████████████████████████████████████| 165/165 [01:36<00:00,  1.70it/s, v_num=17]"
     ]
    },
    {
     "name": "stderr",
     "output_type": "stream",
     "text": [
      "Metric val_loss improved by 0.038 >= min_delta = 0.0. New best score: 3.678\n"
     ]
    },
    {
     "name": "stdout",
     "output_type": "stream",
     "text": [
      "\n",
      "Train - After Epoch 1: loss=3.752, acc=0.051\n",
      "Epoch 2: 100%|█████████████████████████████████████████████████████████████| 165/165 [01:15<00:00,  2.19it/s, v_num=17]\n",
      "Val - After Epoch 2: loss=3.631, acc=0.079\n",
      "Epoch 2: 100%|█████████████████████████████████████████████████████████████| 165/165 [01:37<00:00,  1.69it/s, v_num=17]"
     ]
    },
    {
     "name": "stderr",
     "output_type": "stream",
     "text": [
      "Metric val_loss improved by 0.047 >= min_delta = 0.0. New best score: 3.631\n"
     ]
    },
    {
     "name": "stdout",
     "output_type": "stream",
     "text": [
      "\n",
      "Train - After Epoch 2: loss=3.706, acc=0.061\n",
      "Epoch 3: 100%|█████████████████████████████████████████████████████████████| 165/165 [01:15<00:00,  2.20it/s, v_num=17]\n",
      "Val - After Epoch 3: loss=3.615, acc=0.086\n",
      "Epoch 3: 100%|█████████████████████████████████████████████████████████████| 165/165 [01:36<00:00,  1.70it/s, v_num=17]"
     ]
    },
    {
     "name": "stderr",
     "output_type": "stream",
     "text": [
      "Metric val_loss improved by 0.015 >= min_delta = 0.0. New best score: 3.615\n"
     ]
    },
    {
     "name": "stdout",
     "output_type": "stream",
     "text": [
      "\n",
      "Train - After Epoch 3: loss=3.653, acc=0.070\n",
      "Epoch 4: 100%|█████████████████████████████████████████████████████████████| 165/165 [01:13<00:00,  2.25it/s, v_num=17]\n",
      "Val - After Epoch 4: loss=3.546, acc=0.095\n",
      "Epoch 4: 100%|█████████████████████████████████████████████████████████████| 165/165 [01:34<00:00,  1.74it/s, v_num=17]"
     ]
    },
    {
     "name": "stderr",
     "output_type": "stream",
     "text": [
      "Metric val_loss improved by 0.069 >= min_delta = 0.0. New best score: 3.546\n"
     ]
    },
    {
     "name": "stdout",
     "output_type": "stream",
     "text": [
      "\n",
      "Train - After Epoch 4: loss=3.629, acc=0.072\n",
      "Epoch 5: 100%|█████████████████████████████████████████████████████████████| 165/165 [01:12<00:00,  2.27it/s, v_num=17]\n",
      "Val - After Epoch 5: loss=3.538, acc=0.111\n",
      "Epoch 5: 100%|█████████████████████████████████████████████████████████████| 165/165 [01:33<00:00,  1.76it/s, v_num=17]"
     ]
    },
    {
     "name": "stderr",
     "output_type": "stream",
     "text": [
      "Metric val_loss improved by 0.008 >= min_delta = 0.0. New best score: 3.538\n"
     ]
    },
    {
     "name": "stdout",
     "output_type": "stream",
     "text": [
      "\n",
      "Train - After Epoch 5: loss=3.604, acc=0.077\n",
      "Epoch 6: 100%|█████████████████████████████████████████████████████████████| 165/165 [01:12<00:00,  2.27it/s, v_num=17]\n",
      "Val - After Epoch 6: loss=3.502, acc=0.110\n",
      "Epoch 6: 100%|█████████████████████████████████████████████████████████████| 165/165 [01:33<00:00,  1.76it/s, v_num=17]"
     ]
    },
    {
     "name": "stderr",
     "output_type": "stream",
     "text": [
      "Metric val_loss improved by 0.036 >= min_delta = 0.0. New best score: 3.502\n"
     ]
    },
    {
     "name": "stdout",
     "output_type": "stream",
     "text": [
      "\n",
      "Train - After Epoch 6: loss=3.591, acc=0.078\n",
      "Epoch 7: 100%|█████████████████████████████████████████████████████████████| 165/165 [01:12<00:00,  2.28it/s, v_num=17]\n",
      "Val - After Epoch 7: loss=3.520, acc=0.102\n",
      "Epoch 7: 100%|█████████████████████████████████████████████████████████████| 165/165 [01:33<00:00,  1.76it/s, v_num=17]\n",
      "Train - After Epoch 7: loss=3.568, acc=0.081\n",
      "Epoch 8: 100%|█████████████████████████████████████████████████████████████| 165/165 [01:13<00:00,  2.26it/s, v_num=17]\n",
      "Val - After Epoch 8: loss=3.492, acc=0.104\n",
      "Epoch 8: 100%|█████████████████████████████████████████████████████████████| 165/165 [01:34<00:00,  1.75it/s, v_num=17]"
     ]
    },
    {
     "name": "stderr",
     "output_type": "stream",
     "text": [
      "Metric val_loss improved by 0.010 >= min_delta = 0.0. New best score: 3.492\n"
     ]
    },
    {
     "name": "stdout",
     "output_type": "stream",
     "text": [
      "\n",
      "Train - After Epoch 8: loss=3.558, acc=0.081\n",
      "Epoch 9: 100%|█████████████████████████████████████████████████████████████| 165/165 [01:13<00:00,  2.24it/s, v_num=17]\n",
      "Val - After Epoch 9: loss=3.430, acc=0.117\n",
      "Epoch 9: 100%|█████████████████████████████████████████████████████████████| 165/165 [01:34<00:00,  1.74it/s, v_num=17]"
     ]
    },
    {
     "name": "stderr",
     "output_type": "stream",
     "text": [
      "Metric val_loss improved by 0.061 >= min_delta = 0.0. New best score: 3.430\n"
     ]
    },
    {
     "name": "stdout",
     "output_type": "stream",
     "text": [
      "\n",
      "Train - After Epoch 9: loss=3.547, acc=0.085\n",
      "Epoch 10: 100%|████████████████████████████████████████████████████████████| 165/165 [01:13<00:00,  2.23it/s, v_num=17]\n",
      "Val - After Epoch 10: loss=3.465, acc=0.115\n",
      "Epoch 10: 100%|████████████████████████████████████████████████████████████| 165/165 [01:35<00:00,  1.74it/s, v_num=17]\n",
      "Train - After Epoch 10: loss=3.525, acc=0.088\n",
      "Epoch 11: 100%|████████████████████████████████████████████████████████████| 165/165 [01:14<00:00,  2.23it/s, v_num=17]\n",
      "Val - After Epoch 11: loss=3.459, acc=0.118\n",
      "Epoch 11: 100%|████████████████████████████████████████████████████████████| 165/165 [01:36<00:00,  1.72it/s, v_num=17]\n",
      "Train - After Epoch 11: loss=3.519, acc=0.092\n",
      "Epoch 12: 100%|████████████████████████████████████████████████████████████| 165/165 [01:16<00:00,  2.16it/s, v_num=17]\n",
      "Val - After Epoch 12: loss=3.388, acc=0.130\n",
      "Epoch 12: 100%|████████████████████████████████████████████████████████████| 165/165 [01:38<00:00,  1.67it/s, v_num=17]"
     ]
    },
    {
     "name": "stderr",
     "output_type": "stream",
     "text": [
      "Metric val_loss improved by 0.042 >= min_delta = 0.0. New best score: 3.388\n"
     ]
    },
    {
     "name": "stdout",
     "output_type": "stream",
     "text": [
      "\n",
      "Train - After Epoch 12: loss=3.503, acc=0.093\n",
      "Epoch 13: 100%|████████████████████████████████████████████████████████████| 165/165 [01:13<00:00,  2.25it/s, v_num=17]\n",
      "Val - After Epoch 13: loss=3.408, acc=0.131\n",
      "Epoch 13: 100%|████████████████████████████████████████████████████████████| 165/165 [01:34<00:00,  1.74it/s, v_num=17]\n",
      "Train - After Epoch 13: loss=3.468, acc=0.099\n",
      "Epoch 14: 100%|████████████████████████████████████████████████████████████| 165/165 [01:13<00:00,  2.23it/s, v_num=17]\n",
      "Val - After Epoch 14: loss=3.394, acc=0.147\n",
      "Epoch 14: 100%|████████████████████████████████████████████████████████████| 165/165 [01:35<00:00,  1.73it/s, v_num=17]\n",
      "Train - After Epoch 14: loss=3.456, acc=0.101\n",
      "Epoch 15: 100%|████████████████████████████████████████████████████████████| 165/165 [01:13<00:00,  2.25it/s, v_num=17]\n",
      "Val - After Epoch 15: loss=3.342, acc=0.149\n",
      "Epoch 15: 100%|████████████████████████████████████████████████████████████| 165/165 [01:34<00:00,  1.74it/s, v_num=17]"
     ]
    },
    {
     "name": "stderr",
     "output_type": "stream",
     "text": [
      "Metric val_loss improved by 0.046 >= min_delta = 0.0. New best score: 3.342\n"
     ]
    },
    {
     "name": "stdout",
     "output_type": "stream",
     "text": [
      "\n",
      "Train - After Epoch 15: loss=3.429, acc=0.108\n",
      "Epoch 16: 100%|████████████████████████████████████████████████████████████| 165/165 [01:15<00:00,  2.19it/s, v_num=17]\n",
      "Val - After Epoch 16: loss=3.395, acc=0.129\n",
      "Epoch 16: 100%|████████████████████████████████████████████████████████████| 165/165 [01:35<00:00,  1.72it/s, v_num=17]\n",
      "Train - After Epoch 16: loss=3.422, acc=0.113\n",
      "Epoch 17: 100%|████████████████████████████████████████████████████████████| 165/165 [01:15<00:00,  2.18it/s, v_num=17]\n",
      "Val - After Epoch 17: loss=3.330, acc=0.147\n",
      "Epoch 17: 100%|████████████████████████████████████████████████████████████| 165/165 [01:37<00:00,  1.69it/s, v_num=17]"
     ]
    },
    {
     "name": "stderr",
     "output_type": "stream",
     "text": [
      "Metric val_loss improved by 0.012 >= min_delta = 0.0. New best score: 3.330\n"
     ]
    },
    {
     "name": "stdout",
     "output_type": "stream",
     "text": [
      "\n",
      "Train - After Epoch 17: loss=3.390, acc=0.114\n",
      "Epoch 18: 100%|████████████████████████████████████████████████████████████| 165/165 [01:13<00:00,  2.24it/s, v_num=17]\n",
      "Val - After Epoch 18: loss=3.303, acc=0.148\n",
      "Epoch 18: 100%|████████████████████████████████████████████████████████████| 165/165 [01:34<00:00,  1.74it/s, v_num=17]"
     ]
    },
    {
     "name": "stderr",
     "output_type": "stream",
     "text": [
      "Metric val_loss improved by 0.027 >= min_delta = 0.0. New best score: 3.303\n"
     ]
    },
    {
     "name": "stdout",
     "output_type": "stream",
     "text": [
      "\n",
      "Train - After Epoch 18: loss=3.378, acc=0.118\n",
      "Epoch 19: 100%|████████████████████████████████████████████████████████████| 165/165 [01:12<00:00,  2.27it/s, v_num=17]\n",
      "Val - After Epoch 19: loss=3.322, acc=0.145\n",
      "Epoch 19: 100%|████████████████████████████████████████████████████████████| 165/165 [01:33<00:00,  1.76it/s, v_num=17]\n",
      "Train - After Epoch 19: loss=3.363, acc=0.123\n",
      "Epoch 20: 100%|████████████████████████████████████████████████████████████| 165/165 [01:12<00:00,  2.28it/s, v_num=17]\n",
      "Val - After Epoch 20: loss=3.266, acc=0.145\n",
      "Epoch 20: 100%|████████████████████████████████████████████████████████████| 165/165 [01:33<00:00,  1.77it/s, v_num=17]"
     ]
    },
    {
     "name": "stderr",
     "output_type": "stream",
     "text": [
      "Metric val_loss improved by 0.037 >= min_delta = 0.0. New best score: 3.266\n"
     ]
    },
    {
     "name": "stdout",
     "output_type": "stream",
     "text": [
      "\n",
      "Train - After Epoch 20: loss=3.341, acc=0.126\n",
      "Epoch 21: 100%|████████████████████████████████████████████████████████████| 165/165 [01:16<00:00,  2.16it/s, v_num=17]\n",
      "Val - After Epoch 21: loss=3.270, acc=0.158\n",
      "Epoch 21: 100%|████████████████████████████████████████████████████████████| 165/165 [01:37<00:00,  1.69it/s, v_num=17]\n",
      "Train - After Epoch 21: loss=3.321, acc=0.128\n",
      "Epoch 22: 100%|████████████████████████████████████████████████████████████| 165/165 [01:17<00:00,  2.12it/s, v_num=17]\n",
      "Val - After Epoch 22: loss=3.323, acc=0.144\n",
      "Epoch 22: 100%|████████████████████████████████████████████████████████████| 165/165 [01:38<00:00,  1.68it/s, v_num=17]\n",
      "Train - After Epoch 22: loss=3.296, acc=0.136\n",
      "Epoch 23: 100%|████████████████████████████████████████████████████████████| 165/165 [01:11<00:00,  2.29it/s, v_num=17]\n",
      "Val - After Epoch 23: loss=3.257, acc=0.168\n",
      "Epoch 23: 100%|████████████████████████████████████████████████████████████| 165/165 [01:33<00:00,  1.77it/s, v_num=17]"
     ]
    },
    {
     "name": "stderr",
     "output_type": "stream",
     "text": [
      "Metric val_loss improved by 0.008 >= min_delta = 0.0. New best score: 3.257\n"
     ]
    },
    {
     "name": "stdout",
     "output_type": "stream",
     "text": [
      "\n",
      "Train - After Epoch 23: loss=3.275, acc=0.142\n",
      "Epoch 24: 100%|████████████████████████████████████████████████████████████| 165/165 [01:12<00:00,  2.27it/s, v_num=17]\n",
      "Val - After Epoch 24: loss=3.182, acc=0.182\n",
      "Epoch 24: 100%|████████████████████████████████████████████████████████████| 165/165 [01:33<00:00,  1.77it/s, v_num=17]"
     ]
    },
    {
     "name": "stderr",
     "output_type": "stream",
     "text": [
      "Metric val_loss improved by 0.076 >= min_delta = 0.0. New best score: 3.182\n"
     ]
    },
    {
     "name": "stdout",
     "output_type": "stream",
     "text": [
      "\n",
      "Train - After Epoch 24: loss=3.254, acc=0.151\n",
      "Epoch 25: 100%|████████████████████████████████████████████████████████████| 165/165 [01:12<00:00,  2.28it/s, v_num=17]\n",
      "Val - After Epoch 25: loss=3.162, acc=0.192\n",
      "Epoch 25: 100%|████████████████████████████████████████████████████████████| 165/165 [01:33<00:00,  1.77it/s, v_num=17]"
     ]
    },
    {
     "name": "stderr",
     "output_type": "stream",
     "text": [
      "Metric val_loss improved by 0.019 >= min_delta = 0.0. New best score: 3.162\n"
     ]
    },
    {
     "name": "stdout",
     "output_type": "stream",
     "text": [
      "\n",
      "Train - After Epoch 25: loss=3.231, acc=0.155\n",
      "Epoch 26: 100%|████████████████████████████████████████████████████████████| 165/165 [01:12<00:00,  2.27it/s, v_num=17]\n",
      "Val - After Epoch 26: loss=3.132, acc=0.194\n",
      "Epoch 26: 100%|████████████████████████████████████████████████████████████| 165/165 [01:33<00:00,  1.77it/s, v_num=17]"
     ]
    },
    {
     "name": "stderr",
     "output_type": "stream",
     "text": [
      "Metric val_loss improved by 0.031 >= min_delta = 0.0. New best score: 3.132\n"
     ]
    },
    {
     "name": "stdout",
     "output_type": "stream",
     "text": [
      "\n",
      "Train - After Epoch 26: loss=3.200, acc=0.159\n",
      "Epoch 27: 100%|████████████████████████████████████████████████████████████| 165/165 [01:11<00:00,  2.31it/s, v_num=17]\n",
      "Val - After Epoch 27: loss=3.127, acc=0.189\n",
      "Epoch 27: 100%|████████████████████████████████████████████████████████████| 165/165 [01:31<00:00,  1.80it/s, v_num=17]"
     ]
    },
    {
     "name": "stderr",
     "output_type": "stream",
     "text": [
      "Metric val_loss improved by 0.004 >= min_delta = 0.0. New best score: 3.127\n"
     ]
    },
    {
     "name": "stdout",
     "output_type": "stream",
     "text": [
      "\n",
      "Train - After Epoch 27: loss=3.177, acc=0.166\n",
      "Epoch 28: 100%|████████████████████████████████████████████████████████████| 165/165 [01:11<00:00,  2.31it/s, v_num=17]\n",
      "Val - After Epoch 28: loss=3.105, acc=0.207\n",
      "Epoch 28: 100%|████████████████████████████████████████████████████████████| 165/165 [01:32<00:00,  1.79it/s, v_num=17]"
     ]
    },
    {
     "name": "stderr",
     "output_type": "stream",
     "text": [
      "Metric val_loss improved by 0.022 >= min_delta = 0.0. New best score: 3.105\n"
     ]
    },
    {
     "name": "stdout",
     "output_type": "stream",
     "text": [
      "\n",
      "Train - After Epoch 28: loss=3.162, acc=0.169\n",
      "Epoch 29: 100%|████████████████████████████████████████████████████████████| 165/165 [01:12<00:00,  2.27it/s, v_num=17]\n",
      "Val - After Epoch 29: loss=3.093, acc=0.204\n",
      "Epoch 29: 100%|████████████████████████████████████████████████████████████| 165/165 [01:34<00:00,  1.75it/s, v_num=17]"
     ]
    },
    {
     "name": "stderr",
     "output_type": "stream",
     "text": [
      "Metric val_loss improved by 0.013 >= min_delta = 0.0. New best score: 3.093\n"
     ]
    },
    {
     "name": "stdout",
     "output_type": "stream",
     "text": [
      "\n",
      "Train - After Epoch 29: loss=3.131, acc=0.175\n"
     ]
    },
    {
     "name": "stderr",
     "output_type": "stream",
     "text": [
      "`Trainer.fit` stopped: `max_epochs=30` reached.\n"
     ]
    },
    {
     "name": "stdout",
     "output_type": "stream",
     "text": [
      "Epoch 29: 100%|████████████████████████████████████████████████████████████| 165/165 [01:35<00:00,  1.72it/s, v_num=17]\n"
     ]
    }
   ],
   "source": [
    "datamodule = DataModule(batch_size=128)\n",
    "datamodule.setup()\n",
    "model = ConvolutionalNetwork(class_labels=class_names)\n",
    "trainer = pl.Trainer(callbacks=[MinimalProgressBar(), checkpoint_callback, early_stop_callback], \n",
    "                     default_root_dir=\"\\\\training_output\", \n",
    "                     max_epochs=30)\n",
    "trainer.fit(model, datamodule)"
   ]
  },
  {
   "cell_type": "code",
   "execution_count": 22,
   "metadata": {},
   "outputs": [
    {
     "data": {
      "image/png": "[encoded data removed]",
      "text/plain": [
       "<Figure size 1000x500 with 1 Axes>"
      ]
     },
     "metadata": {},
     "output_type": "display_data"
    }
   ],
   "source": [
    "#Plotting train and validation loss\n",
    "epochs = range(1, len(model.training_losses) + 1)\n",
    "plt.figure(figsize=(10, 5))\n",
    "plt.plot(epochs, model.training_losses, label='Training Loss')\n",
    "plt.plot(epochs, model.validation_losses[1:], label='Validation Loss')\n",
    "plt.xlabel('Epoch')\n",
    "plt.ylabel('Loss')\n",
    "plt.title('Training and Validation Loss')\n",
    "plt.legend()\n",
    "plt.grid(True)\n",
    "plt.tight_layout()\n",
    "plt.show()"
   ]
  },
  {
   "cell_type": "code",
   "execution_count": 24,
   "metadata": {},
   "outputs": [
    {
     "data": {
      "image/png": "[encoded data removed]",
      "text/plain": [
       "<Figure size 1000x500 with 1 Axes>"
      ]
     },
     "metadata": {},
     "output_type": "display_data"
    }
   ],
   "source": [
    "#Plotting train and validation accuracy\n",
    "epochs = range(1, len(model.training_accuracies) + 1)\n",
    "plt.figure(figsize=(10, 5))\n",
    "plt.plot(epochs, [a*100 for a in model.training_accuracies], label='Training Accuracy')\n",
    "plt.plot(epochs, [a*100 for a in model.validation_accuracies[1:]], label='Validation Accuracy')\n",
    "plt.xlabel('Epoch')\n",
    "plt.ylabel('Accuracy')\n",
    "plt.title('Training and Validation Accuracies')\n",
    "plt.legend()\n",
    "plt.grid(True)\n",
    "plt.tight_layout()\n",
    "plt.show()"
   ]
  },
  {
   "cell_type": "code",
   "execution_count": null,
   "metadata": {},
   "outputs": [],
   "source": []
  },
  {
   "cell_type": "code",
   "execution_count": null,
   "metadata": {},
   "outputs": [],
   "source": []
  }
 ],
 "metadata": {
  "kernelspec": {
   "display_name": "torch_gpu_env",
   "language": "python",
   "name": "torch_gpu_env"
  },
  "language_info": {
   "codemirror_mode": {
    "name": "ipython",
    "version": 3
   },
   "file_extension": ".py",
   "mimetype": "text/x-python",
   "name": "python",
   "nbconvert_exporter": "python",
   "pygments_lexer": "ipython3",
   "version": "3.10.16"
  }
 },
 "nbformat": 4,
 "nbformat_minor": 5
}
